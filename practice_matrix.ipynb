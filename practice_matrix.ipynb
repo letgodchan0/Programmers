{
 "cells": [
  {
   "cell_type": "markdown",
   "id": "1e2554cf",
   "metadata": {},
   "source": [
    "- 2021년 12월 15일\n",
    "- 프로그래머스 행렬의 곱셈\n",
    "- https://programmers.co.kr/learn/courses/30/lessons/12949"
   ]
  },
  {
   "cell_type": "code",
   "execution_count": 1,
   "id": "115ac75e",
   "metadata": {},
   "outputs": [],
   "source": [
    "arr1=[[2, 3, 2], [4, 2, 4], [3, 1, 4]]\n",
    "arr2= [[5, 4, 3], [2, 4, 1], [3, 1, 1]]"
   ]
  },
  {
   "cell_type": "code",
   "execution_count": null,
   "id": "9987d0ef",
   "metadata": {},
   "outputs": [],
   "source": []
  }
 ],
 "metadata": {
  "kernelspec": {
   "display_name": "Python 3",
   "language": "python",
   "name": "python3"
  },
  "language_info": {
   "codemirror_mode": {
    "name": "ipython",
    "version": 3
   },
   "file_extension": ".py",
   "mimetype": "text/x-python",
   "name": "python",
   "nbconvert_exporter": "python",
   "pygments_lexer": "ipython3",
   "version": "3.8.8"
  }
 },
 "nbformat": 4,
 "nbformat_minor": 5
}
