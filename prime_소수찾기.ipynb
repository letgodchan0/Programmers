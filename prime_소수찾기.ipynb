{
 "cells": [
  {
   "cell_type": "markdown",
   "id": "aa2775e1",
   "metadata": {},
   "source": [
    "- 2021년 12월 16일\n",
    "- 프로그래머스 소수 찾기\n",
    "- https://programmers.co.kr/learn/courses/30/lessons/42839"
   ]
  },
  {
   "cell_type": "code",
   "execution_count": 21,
   "id": "1a5d4eab",
   "metadata": {},
   "outputs": [],
   "source": [
    "numbers=\"011\""
   ]
  },
  {
   "cell_type": "code",
   "execution_count": 6,
   "id": "9e19a07e",
   "metadata": {},
   "outputs": [
    {
     "data": {
      "text/plain": [
       "['0', '1', '1']"
      ]
     },
     "execution_count": 6,
     "metadata": {},
     "output_type": "execute_result"
    }
   ],
   "source": [
    "list(numbers)"
   ]
  },
  {
   "cell_type": "code",
   "execution_count": 24,
   "id": "93215e7e",
   "metadata": {},
   "outputs": [
    {
     "data": {
      "text/plain": [
       "[('1', '0'), ('1', '1'), ('0', '1')]"
      ]
     },
     "execution_count": 24,
     "metadata": {},
     "output_type": "execute_result"
    }
   ],
   "source": [
    "from itertools import permutations\n",
    "list(set(permutations(numbers, 2)))"
   ]
  },
  {
   "cell_type": "code",
   "execution_count": null,
   "id": "80a3db34",
   "metadata": {},
   "outputs": [],
   "source": []
  },
  {
   "cell_type": "code",
   "execution_count": 30,
   "id": "f7436579",
   "metadata": {},
   "outputs": [],
   "source": [
    "prime=[]\n",
    "for i in range(1,len(numbers)+1):\n",
    "    for j in list(set(permutations(numbers, i))):\n",
    "        if ''.join(j)[0]!='0':\n",
    "            prime.append(''.join(j))"
   ]
  },
  {
   "cell_type": "code",
   "execution_count": 46,
   "id": "536271bf",
   "metadata": {},
   "outputs": [
    {
     "data": {
      "text/plain": [
       "[1, 10, 11, 101, 110]"
      ]
     },
     "execution_count": 46,
     "metadata": {},
     "output_type": "execute_result"
    }
   ],
   "source": [
    "prime=list(map(int, prime))\n",
    "prime"
   ]
  },
  {
   "cell_type": "code",
   "execution_count": 48,
   "id": "f785eb7e",
   "metadata": {},
   "outputs": [
    {
     "name": "stdout",
     "output_type": "stream",
     "text": [
      "10 2\n"
     ]
    },
    {
     "data": {
      "text/plain": [
       "1"
      ]
     },
     "execution_count": 48,
     "metadata": {},
     "output_type": "execute_result"
    }
   ],
   "source": [
    "cnt=0\n",
    "for i in prime:\n",
    "    if i>1:\n",
    "        for j in range(2, int(i**0.5)+1):\n",
    "            if i%j==0:\n",
    "                continue\n",
    "            else:\n",
    "        cnt+=1\n",
    "        break\n",
    "cnt"
   ]
  },
  {
   "cell_type": "code",
   "execution_count": null,
   "id": "383820bf",
   "metadata": {},
   "outputs": [],
   "source": []
  }
 ],
 "metadata": {
  "kernelspec": {
   "display_name": "Python 3",
   "language": "python",
   "name": "python3"
  },
  "language_info": {
   "codemirror_mode": {
    "name": "ipython",
    "version": 3
   },
   "file_extension": ".py",
   "mimetype": "text/x-python",
   "name": "python",
   "nbconvert_exporter": "python",
   "pygments_lexer": "ipython3",
   "version": "3.8.8"
  }
 },
 "nbformat": 4,
 "nbformat_minor": 5
}
