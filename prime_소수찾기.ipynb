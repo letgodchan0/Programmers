{
 "cells": [
  {
   "cell_type": "markdown",
   "id": "8f6aac26",
   "metadata": {},
   "source": [
    "- 2021년 12월 16일\n",
    "- 프로그래머스 소수 찾기\n",
    "- https://programmers.co.kr/learn/courses/30/lessons/42839"
   ]
  },
  {
   "cell_type": "code",
   "execution_count": 1,
   "id": "2ab7e953",
   "metadata": {},
   "outputs": [],
   "source": [
    "numbers=\"011\""
   ]
  },
  {
   "cell_type": "code",
   "execution_count": 2,
   "id": "9986f32a",
   "metadata": {},
   "outputs": [],
   "source": [
    "from itertools import permutations\n",
    "def solution(numbers):\n",
    "    prime=[]\n",
    "    for i in range(1,len(numbers)+1):\n",
    "        for j in list(set(permutations(numbers, i))):\n",
    "            if ''.join(j)[0]!='0':\n",
    "                prime.append(int(''.join(j)))\n",
    "    answer=[]\n",
    "    for i in prime:\n",
    "        if i<2:\n",
    "            continue\n",
    "        check = True\n",
    "        for j in range(2, int(i**0.5)+1):\n",
    "            if i%j==0:\n",
    "                check=False\n",
    "                break\n",
    "        if check:\n",
    "            answer.append(i)\n",
    "    return len(set(answer))"
   ]
  },
  {
   "cell_type": "code",
   "execution_count": 3,
   "id": "90924990",
   "metadata": {},
   "outputs": [
    {
     "data": {
      "text/plain": [
       "1"
      ]
     },
     "execution_count": 3,
     "metadata": {},
     "output_type": "execute_result"
    }
   ],
   "source": [
    "solution('2')"
   ]
  },
  {
   "cell_type": "markdown",
   "id": "c5e64355",
   "metadata": {},
   "source": [
    "- 다른풀이1(재귀함수 이용)"
   ]
  },
  {
   "cell_type": "code",
   "execution_count": 4,
   "id": "9104a8b7",
   "metadata": {},
   "outputs": [],
   "source": [
    "primeSet = set()\n",
    "\n",
    "\n",
    "def isPrime(number):\n",
    "    if number in (0, 1):\n",
    "        return False\n",
    "    for i in range(2, number):\n",
    "        if number % i == 0:\n",
    "            return False\n",
    "\n",
    "    return True\n",
    "\n",
    "\n",
    "def makeCombinations(str1, str2):\n",
    "    if str1 != \"\":\n",
    "        if isPrime(int(str1)):\n",
    "            primeSet.add(int(str1))\n",
    "\n",
    "    for i in range(len(str2)):\n",
    "        makeCombinations(str1 + str2[i], str2[:i] + str2[i + 1:])\n",
    "\n",
    "\n",
    "def solution(numbers):\n",
    "    makeCombinations(\"\", numbers)\n",
    "\n",
    "    answer = len(primeSet)\n",
    "\n",
    "    return answer"
   ]
  },
  {
   "cell_type": "code",
   "execution_count": null,
   "id": "3b4ab170",
   "metadata": {},
   "outputs": [],
   "source": []
  },
  {
   "cell_type": "markdown",
   "id": "77d2fab9",
   "metadata": {},
   "source": [
    "다른풀이2 (set 이용)"
   ]
  },
  {
   "cell_type": "code",
   "execution_count": 5,
   "id": "77a4fa7d",
   "metadata": {},
   "outputs": [],
   "source": [
    "from itertools import permutations\n",
    "def solution(n):\n",
    "    a = set()\n",
    "    for i in range(len(n)):\n",
    "        a |= set(map(int, map(\"\".join, permutations(list(n), i + 1))))\n",
    "    a -= set(range(0, 2))\n",
    "    for i in range(2, int(max(a) ** 0.5) + 1):\n",
    "        a -= set(range(i * 2, max(a) + 1, i))\n",
    "    return len(a)"
   ]
  },
  {
   "cell_type": "code",
   "execution_count": null,
   "id": "3753fba6",
   "metadata": {},
   "outputs": [],
   "source": []
  }
 ],
 "metadata": {
  "kernelspec": {
   "display_name": "Python 3",
   "language": "python",
   "name": "python3"
  },
  "language_info": {
   "codemirror_mode": {
    "name": "ipython",
    "version": 3
   },
   "file_extension": ".py",
   "mimetype": "text/x-python",
   "name": "python",
   "nbconvert_exporter": "python",
   "pygments_lexer": "ipython3",
   "version": "3.8.8"
  }
 },
 "nbformat": 4,
 "nbformat_minor": 5
}
