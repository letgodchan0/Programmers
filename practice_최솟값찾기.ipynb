{
 "cells": [
  {
   "cell_type": "markdown",
   "id": "3a3c23b4",
   "metadata": {},
   "source": [
    "- 2021년 12월 3일\n",
    "- 프로그래머스 최솟값 만들기\n",
    "- https://programmers.co.kr/learn/courses/30/lessons/12941"
   ]
  },
  {
   "cell_type": "code",
   "execution_count": 2,
   "id": "32ca95b8",
   "metadata": {},
   "outputs": [],
   "source": [
    "A=[1,4,2]\n",
    "B=[5,4,4]"
   ]
  },
  {
   "cell_type": "code",
   "execution_count": 3,
   "id": "265ed698",
   "metadata": {},
   "outputs": [],
   "source": [
    "def solution(A,B):\n",
    "    A.sort()\n",
    "    B.sort(reverse=True)\n",
    "    answer = 0\n",
    "    for i in range(len(A)):\n",
    "        answer+=A[i]*B[i]\n",
    "    return answer"
   ]
  },
  {
   "cell_type": "code",
   "execution_count": 4,
   "id": "6e7719c2",
   "metadata": {},
   "outputs": [
    {
     "data": {
      "text/plain": [
       "29"
      ]
     },
     "execution_count": 4,
     "metadata": {},
     "output_type": "execute_result"
    }
   ],
   "source": [
    "solution(A,B)"
   ]
  },
  {
   "cell_type": "code",
   "execution_count": null,
   "id": "e2d14f1d",
   "metadata": {},
   "outputs": [],
   "source": []
  }
 ],
 "metadata": {
  "kernelspec": {
   "display_name": "Python 3",
   "language": "python",
   "name": "python3"
  },
  "language_info": {
   "codemirror_mode": {
    "name": "ipython",
    "version": 3
   },
   "file_extension": ".py",
   "mimetype": "text/x-python",
   "name": "python",
   "nbconvert_exporter": "python",
   "pygments_lexer": "ipython3",
   "version": "3.8.8"
  }
 },
 "nbformat": 4,
 "nbformat_minor": 5
}
