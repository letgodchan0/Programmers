{
 "cells": [
  {
   "cell_type": "markdown",
   "id": "a7a9a0c5",
   "metadata": {},
   "source": [
    "- 2021년 12월 24일(이브)\n",
    "- 프로그래머스 후보키\n",
    "- https://programmers.co.kr/learn/courses/30/lessons/42890"
   ]
  },
  {
   "cell_type": "code",
   "execution_count": null,
   "id": "7c59daae",
   "metadata": {},
   "outputs": [],
   "source": []
  }
 ],
 "metadata": {
  "kernelspec": {
   "display_name": "Python 3",
   "language": "python",
   "name": "python3"
  },
  "language_info": {
   "codemirror_mode": {
    "name": "ipython",
    "version": 3
   },
   "file_extension": ".py",
   "mimetype": "text/x-python",
   "name": "python",
   "nbconvert_exporter": "python",
   "pygments_lexer": "ipython3",
   "version": "3.8.8"
  }
 },
 "nbformat": 4,
 "nbformat_minor": 5
}
