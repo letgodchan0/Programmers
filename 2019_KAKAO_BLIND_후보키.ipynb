{
 "cells": [
  {
   "cell_type": "markdown",
   "id": "2ed03900",
   "metadata": {},
   "source": [
    "- 2021년 12월 24일(이브)\n",
    "- 프로그래머스 후보키\n",
    "- https://programmers.co.kr/learn/courses/30/lessons/42890"
   ]
  },
  {
   "cell_type": "code",
   "execution_count": 244,
   "id": "93d0b973",
   "metadata": {},
   "outputs": [],
   "source": [
    "relation=[[\"100\",\"ryan\",\"music\",\"2\"],[\"200\",\"apeach\",\"math\",\"2\"],[\"300\",\"tube\",\"computer\",\"3\"],[\"400\",\"con\",\"computer\",\"4\"],[\"500\",\"muzi\",\"music\",\"3\"],[\"600\",\"apeach\",\"music\",\"2\"]]"
   ]
  },
  {
   "cell_type": "code",
   "execution_count": 245,
   "id": "bc44fdd8",
   "metadata": {},
   "outputs": [
    {
     "data": {
      "text/plain": [
       "[['100', 'ryan', 'music', '2'],\n",
       " ['200', 'apeach', 'math', '2'],\n",
       " ['300', 'tube', 'computer', '3'],\n",
       " ['400', 'con', 'computer', '4'],\n",
       " ['500', 'muzi', 'music', '3'],\n",
       " ['600', 'apeach', 'music', '2']]"
      ]
     },
     "execution_count": 245,
     "metadata": {},
     "output_type": "execute_result"
    }
   ],
   "source": [
    "relation"
   ]
  },
  {
   "cell_type": "code",
   "execution_count": 252,
   "id": "23d094cb",
   "metadata": {},
   "outputs": [
    {
     "data": {
      "text/plain": [
       "[['ryan', 'music', '2'],\n",
       " ['apeach', 'math', '2'],\n",
       " ['tube', 'computer', '3'],\n",
       " ['con', 'computer', '4'],\n",
       " ['muzi', 'music', '3'],\n",
       " ['apeach', 'music', '2']]"
      ]
     },
     "execution_count": 252,
     "metadata": {},
     "output_type": "execute_result"
    }
   ],
   "source": [
    "check=list(map(list,zip(*relation)))\n",
    "answer=[]\n",
    "tmp=[]\n",
    "cnt=0\n",
    "for i in range(len(check)):\n",
    "    if len(check[i])!=len(set(check[i])):\n",
    "        tmp.append(i)\n",
    "    else:\n",
    "        answer.append(check[i])\n",
    "new_relation=[]\n",
    "for i in tmp:\n",
    "    new_relation.append(check[i])\n",
    "new_relation=list(map(list,zip(*new_relation)))\n",
    "new_relation"
   ]
  },
  {
   "cell_type": "code",
   "execution_count": 253,
   "id": "5f0d67b4",
   "metadata": {},
   "outputs": [
    {
     "data": {
      "text/plain": [
       "[['100', '200', '300', '400', '500', '600']]"
      ]
     },
     "execution_count": 253,
     "metadata": {},
     "output_type": "execute_result"
    }
   ],
   "source": [
    "answer"
   ]
  },
  {
   "cell_type": "code",
   "execution_count": 263,
   "id": "1395952a",
   "metadata": {},
   "outputs": [],
   "source": [
    "a=[1]\n",
    "for i in range(2,len(a)+1):\n",
    "    print(i)"
   ]
  },
  {
   "cell_type": "code",
   "execution_count": 265,
   "id": "1fe6027c",
   "metadata": {},
   "outputs": [
    {
     "data": {
      "text/plain": [
       "[()]"
      ]
     },
     "execution_count": 265,
     "metadata": {},
     "output_type": "execute_result"
    }
   ],
   "source": [
    "list(combinations(answer[0],0))"
   ]
  },
  {
   "cell_type": "code",
   "execution_count": 254,
   "id": "980b1cba",
   "metadata": {},
   "outputs": [],
   "source": [
    "check=['']\n",
    "for j in range(2,len(new_relation[0])+1):\n",
    "    result=[]\n",
    "    for i in new_relation:\n",
    "        result.append(list(combinations(i,j)))\n",
    "    result=list(map(list,zip(*result)))\n",
    "\n",
    "    for k in result:\n",
    "        if len(k)==len(set(k)) :\n",
    "            cnt+=1\n",
    "            z=list(zip(*k))\n",
    "            if check[-1] not in z:\n",
    "                check.extend(z)\n",
    "                answer.append(k)"
   ]
  },
  {
   "cell_type": "code",
   "execution_count": 255,
   "id": "cfd7e945",
   "metadata": {},
   "outputs": [
    {
     "data": {
      "text/plain": [
       "3"
      ]
     },
     "execution_count": 255,
     "metadata": {},
     "output_type": "execute_result"
    }
   ],
   "source": [
    "len(check)"
   ]
  },
  {
   "cell_type": "code",
   "execution_count": 256,
   "id": "a589928f",
   "metadata": {},
   "outputs": [
    {
     "data": {
      "text/plain": [
       "['',\n",
       " ('ryan', 'apeach', 'tube', 'con', 'muzi', 'apeach'),\n",
       " ('music', 'math', 'computer', 'computer', 'music', 'music')]"
      ]
     },
     "execution_count": 256,
     "metadata": {},
     "output_type": "execute_result"
    }
   ],
   "source": [
    "check"
   ]
  },
  {
   "cell_type": "code",
   "execution_count": 257,
   "id": "b0020ef1",
   "metadata": {},
   "outputs": [
    {
     "data": {
      "text/plain": [
       "[['100', '200', '300', '400', '500', '600'],\n",
       " [('ryan', 'music'),\n",
       "  ('apeach', 'math'),\n",
       "  ('tube', 'computer'),\n",
       "  ('con', 'computer'),\n",
       "  ('muzi', 'music'),\n",
       "  ('apeach', 'music')]]"
      ]
     },
     "execution_count": 257,
     "metadata": {},
     "output_type": "execute_result"
    }
   ],
   "source": [
    "answer"
   ]
  },
  {
   "cell_type": "code",
   "execution_count": 258,
   "id": "fd1ee641",
   "metadata": {},
   "outputs": [
    {
     "data": {
      "text/plain": [
       "2"
      ]
     },
     "execution_count": 258,
     "metadata": {},
     "output_type": "execute_result"
    }
   ],
   "source": [
    "len(answer)"
   ]
  },
  {
   "cell_type": "code",
   "execution_count": 261,
   "id": "3fe29c3e",
   "metadata": {},
   "outputs": [],
   "source": [
    "from itertools import combinations\n",
    "def solution(relation):\n",
    "    check=list(map(list,zip(*relation)))\n",
    "    answer=[]\n",
    "    tmp=[]\n",
    "    cnt=0\n",
    "    for i in range(len(check)):\n",
    "        if len(check[i])!=len(set(check[i])):\n",
    "            tmp.append(i)\n",
    "        else:\n",
    "            answer.append(check[i])\n",
    "    new_relation=[]\n",
    "    for i in tmp:\n",
    "        new_relation.append(check[i])\n",
    "    new_relation=list(map(list,zip(*new_relation)))\n",
    "    \n",
    "    check=['']\n",
    "    for j in range(2,len(new_relation[0])+1):\n",
    "        result=[]\n",
    "        for i in new_relation:\n",
    "            result.append(list(combinations(i,j)))\n",
    "        result=list(map(list,zip(*result)))\n",
    "\n",
    "        for k in result:\n",
    "            if len(k)==len(set(k)) :\n",
    "                cnt+=1\n",
    "                z=list(zip(*k))\n",
    "                if check[-1] not in z:\n",
    "                    check.extend(z)\n",
    "                    answer.append(k)\n",
    "\n",
    "    return len(answer)"
   ]
  },
  {
   "cell_type": "code",
   "execution_count": 262,
   "id": "46ae7500",
   "metadata": {},
   "outputs": [
    {
     "data": {
      "text/plain": [
       "2"
      ]
     },
     "execution_count": 262,
     "metadata": {},
     "output_type": "execute_result"
    }
   ],
   "source": [
    "solution(relation)"
   ]
  },
  {
   "cell_type": "code",
   "execution_count": null,
   "id": "9e4e6de2",
   "metadata": {},
   "outputs": [],
   "source": []
  },
  {
   "cell_type": "code",
   "execution_count": null,
   "id": "2e1d408c",
   "metadata": {},
   "outputs": [],
   "source": []
  },
  {
   "cell_type": "code",
   "execution_count": null,
   "id": "4f90ad12",
   "metadata": {},
   "outputs": [],
   "source": []
  },
  {
   "cell_type": "code",
   "execution_count": null,
   "id": "8748d7f8",
   "metadata": {},
   "outputs": [],
   "source": []
  },
  {
   "cell_type": "code",
   "execution_count": null,
   "id": "cec594f2",
   "metadata": {},
   "outputs": [],
   "source": [
    "for j in range(2,len(tmp)+1):\n",
    "    result=[]\n",
    "    for i in new_relation:\n",
    "        result.append(list(combinations(i,j)))\n",
    "    result=list(zip(*result))\n",
    "\n",
    "    for k in result:\n",
    "        if len(k)==len(set(k)):\n",
    "            cnt+=1\n",
    "            print(k)\n",
    "            print('*******************')\n",
    "# result"
   ]
  },
  {
   "cell_type": "code",
   "execution_count": 226,
   "id": "d7ac5ebe",
   "metadata": {},
   "outputs": [
    {
     "data": {
      "text/plain": [
       "[[('100', '200', '300', '400', '500', '600')],\n",
       " [('ryan', 'apeach', 'tube', 'con', 'muzi', 'apeach'),\n",
       "  ('music', 'math', 'computer', 'computer', 'music', 'music')],\n",
       " [('100', '200', '300', '400', '500', '600'),\n",
       "  ('ryan', 'apeach', 'tube', 'con', 'muzi', 'apeach'),\n",
       "  ('2', '2', '3', '4', '3', '2')]]"
      ]
     },
     "execution_count": 226,
     "metadata": {},
     "output_type": "execute_result"
    }
   ],
   "source": [
    "tmp=answer[0]\n",
    "for i in answer:\n",
    "    tmp.append(list(zip(*i)))\n",
    "tmp"
   ]
  },
  {
   "cell_type": "code",
   "execution_count": 230,
   "id": "74bd8cb5",
   "metadata": {},
   "outputs": [
    {
     "data": {
      "text/plain": [
       "[('ryan', 'music'),\n",
       " ('apeach', 'math'),\n",
       " ('tube', 'computer'),\n",
       " ('con', 'computer'),\n",
       " ('muzi', 'music'),\n",
       " ('apeach', 'music')]"
      ]
     },
     "execution_count": 230,
     "metadata": {},
     "output_type": "execute_result"
    }
   ],
   "source": [
    "answer[1]"
   ]
  },
  {
   "cell_type": "code",
   "execution_count": 228,
   "id": "0c247d64",
   "metadata": {},
   "outputs": [
    {
     "data": {
      "text/plain": [
       "[('ryan', 'apeach', 'tube', 'con', 'muzi', 'apeach'),\n",
       " ('music', 'math', 'computer', 'computer', 'music', 'music')]"
      ]
     },
     "execution_count": 228,
     "metadata": {},
     "output_type": "execute_result"
    }
   ],
   "source": [
    "tmp[1]"
   ]
  },
  {
   "cell_type": "code",
   "execution_count": 219,
   "id": "801a0a77",
   "metadata": {},
   "outputs": [
    {
     "data": {
      "text/plain": [
       "[('100', '200', '300', '400', '500', '600'),\n",
       " ('ryan', 'apeach', 'tube', 'con', 'muzi', 'apeach'),\n",
       " ('2', '2', '3', '4', '3', '2')]"
      ]
     },
     "execution_count": 219,
     "metadata": {},
     "output_type": "execute_result"
    }
   ],
   "source": [
    "a=list(zip(*answer[-1]))\n",
    "a"
   ]
  },
  {
   "cell_type": "code",
   "execution_count": 74,
   "id": "1683f4c6",
   "metadata": {},
   "outputs": [
    {
     "name": "stdout",
     "output_type": "stream",
     "text": [
      "[('ryan', 'music', '2'), ('apeach', 'math', '2'), ('tube', 'computer', '3'), ('con', 'computer', '4'), ('muzi', 'music', '3'), ('apeach', 'music', '2')]\n"
     ]
    },
    {
     "data": {
      "text/plain": [
       "4"
      ]
     },
     "execution_count": 74,
     "metadata": {},
     "output_type": "execute_result"
    }
   ],
   "source": [
    "for i in result:\n",
    "    if len(i)==len(set(i)):\n",
    "        print(i)\n",
    "        cnt+=1\n",
    "cnt"
   ]
  },
  {
   "cell_type": "code",
   "execution_count": 119,
   "id": "2fd79cf9",
   "metadata": {},
   "outputs": [
    {
     "data": {
      "text/plain": [
       "[['100', 'ryan', 'music', '2'],\n",
       " ['200', 'apeach', 'math', '2'],\n",
       " ['300', 'tube', 'computer', '3'],\n",
       " ['400', 'con', 'computer', '4'],\n",
       " ['500', 'muzi', 'music', '3'],\n",
       " ['600', 'apeach', 'music', '2']]"
      ]
     },
     "execution_count": 119,
     "metadata": {},
     "output_type": "execute_result"
    }
   ],
   "source": [
    "relation"
   ]
  },
  {
   "cell_type": "code",
   "execution_count": 120,
   "id": "d020e6fb",
   "metadata": {},
   "outputs": [
    {
     "data": {
      "text/plain": [
       "[['100', '200', '300', '400', '500', '600'],\n",
       " ['ryan', 'apeach', 'tube', 'con', 'muzi', 'apeach'],\n",
       " ['music', 'math', 'computer', 'computer', 'music', 'music'],\n",
       " ['2', '2', '3', '4', '3', '2']]"
      ]
     },
     "execution_count": 120,
     "metadata": {},
     "output_type": "execute_result"
    }
   ],
   "source": [
    "relation2=list(map(list,zip(*relation)))\n",
    "relation2"
   ]
  },
  {
   "cell_type": "code",
   "execution_count": 115,
   "id": "1661d624",
   "metadata": {},
   "outputs": [
    {
     "data": {
      "text/plain": [
       "[('100',), ('200',), ('300',), ('400',), ('500',), ('600',)]"
      ]
     },
     "execution_count": 115,
     "metadata": {},
     "output_type": "execute_result"
    }
   ],
   "source": [
    "list(combinations(relation[0],1))"
   ]
  },
  {
   "cell_type": "code",
   "execution_count": null,
   "id": "e66b204d",
   "metadata": {},
   "outputs": [],
   "source": []
  },
  {
   "cell_type": "code",
   "execution_count": null,
   "id": "e3babc5f",
   "metadata": {},
   "outputs": [],
   "source": []
  },
  {
   "cell_type": "code",
   "execution_count": null,
   "id": "bf3e60ba",
   "metadata": {},
   "outputs": [],
   "source": []
  },
  {
   "cell_type": "code",
   "execution_count": null,
   "id": "7cf28de4",
   "metadata": {},
   "outputs": [],
   "source": []
  },
  {
   "cell_type": "code",
   "execution_count": null,
   "id": "4eda5a29",
   "metadata": {},
   "outputs": [],
   "source": []
  },
  {
   "cell_type": "code",
   "execution_count": null,
   "id": "eec5026f",
   "metadata": {},
   "outputs": [],
   "source": []
  },
  {
   "cell_type": "code",
   "execution_count": null,
   "id": "6385f61e",
   "metadata": {},
   "outputs": [],
   "source": []
  },
  {
   "cell_type": "code",
   "execution_count": null,
   "id": "26ab5087",
   "metadata": {},
   "outputs": [],
   "source": []
  },
  {
   "cell_type": "code",
   "execution_count": null,
   "id": "a4a7705a",
   "metadata": {},
   "outputs": [],
   "source": []
  },
  {
   "cell_type": "code",
   "execution_count": null,
   "id": "38464167",
   "metadata": {},
   "outputs": [],
   "source": []
  },
  {
   "cell_type": "code",
   "execution_count": null,
   "id": "0ec5e0da",
   "metadata": {},
   "outputs": [],
   "source": []
  },
  {
   "cell_type": "code",
   "execution_count": null,
   "id": "4e2651cc",
   "metadata": {},
   "outputs": [],
   "source": []
  },
  {
   "cell_type": "code",
   "execution_count": null,
   "id": "3292d91e",
   "metadata": {},
   "outputs": [],
   "source": []
  },
  {
   "cell_type": "code",
   "execution_count": 96,
   "id": "a93a4304",
   "metadata": {},
   "outputs": [],
   "source": [
    "from itertools import combinations\n",
    "def solution(relation):\n",
    "    cnt=0\n",
    "    check=list(map(list,zip(*relation)))\n",
    "    tmp=[]\n",
    "    for i in range(len(check)):\n",
    "        if len(check[i])!=len(set(check[i])):\n",
    "            tmp.append(i)\n",
    "        else:\n",
    "            cnt+=1\n",
    "\n",
    "    new_relation=[]\n",
    "    for i in tmp:\n",
    "        new_relation.append(check[i])\n",
    "    new_relation=list(map(list,zip(*new_relation)))\n",
    "            \n",
    "    result=[]\n",
    "    for i in new_relation:\n",
    "        result.append(list(combinations(i,1)))\n",
    "    result=list(map(list,zip(*result)))\n",
    "   \n",
    "\n",
    "    for i in result:\n",
    "        if len(i)==len(set(i)):\n",
    "            print(i)\n",
    "            cnt+=1\n",
    "               \n",
    "    return cnt"
   ]
  },
  {
   "cell_type": "code",
   "execution_count": 97,
   "id": "51dcabda",
   "metadata": {},
   "outputs": [],
   "source": [
    "relation=[[\"100\",\"ryan\",\"music\",\"2\"],[\"200\",\"apeach\",\"math\",\"2\"],[\"300\",\"tube\",\"computer\",\"3\"],[\"400\",\"con\",\"computer\",\"4\"],[\"500\",\"muzi\",\"music\",\"3\"],[\"600\",\"apeach\",\"music\",\"2\"]]"
   ]
  },
  {
   "cell_type": "code",
   "execution_count": 99,
   "id": "22952e6a",
   "metadata": {},
   "outputs": [
    {
     "data": {
      "text/plain": [
       "1"
      ]
     },
     "execution_count": 99,
     "metadata": {},
     "output_type": "execute_result"
    }
   ],
   "source": [
    "solution(relation)"
   ]
  },
  {
   "cell_type": "code",
   "execution_count": 98,
   "id": "9ece22be",
   "metadata": {},
   "outputs": [
    {
     "data": {
      "text/plain": [
       "(['300', 'tube', 'computer', '3'],\n",
       " ['400', 'con', 'computer', '4'],\n",
       " ['500', 'muzi', 'music', '3'],\n",
       " ['600', 'apeach', 'music', '2'])"
      ]
     },
     "execution_count": 98,
     "metadata": {},
     "output_type": "execute_result"
    }
   ],
   "source": [
    "list(combinations(relation,4))[-1]"
   ]
  },
  {
   "cell_type": "code",
   "execution_count": 84,
   "id": "c37a0835",
   "metadata": {},
   "outputs": [
    {
     "data": {
      "text/plain": [
       "(['100', 'ryan', 'music', '2'],\n",
       " ['200', 'apeach', 'math', '2'],\n",
       " ['300', 'tube', 'computer', '3'],\n",
       " ['400', 'con', 'computer', '4'])"
      ]
     },
     "execution_count": 84,
     "metadata": {},
     "output_type": "execute_result"
    }
   ],
   "source": [
    "list(combinations(relation,4))[0]"
   ]
  },
  {
   "cell_type": "code",
   "execution_count": 71,
   "id": "17bb72b7",
   "metadata": {},
   "outputs": [
    {
     "name": "stdout",
     "output_type": "stream",
     "text": [
      "[[(['100', 'ryan', 'music', '2'],)], [(['200', 'apeach', 'math', '2'],)], [(['300', 'tube', 'computer', '3'],)], [(['400', 'con', 'computer', '4'],)], [(['500', 'muzi', 'music', '3'],)], [(['600', 'apeach', 'music', '2'],)]]\n"
     ]
    },
    {
     "ename": "TypeError",
     "evalue": "unhashable type: 'list'",
     "output_type": "error",
     "traceback": [
      "\u001b[1;31m---------------------------------------------------------------------------\u001b[0m",
      "\u001b[1;31mTypeError\u001b[0m                                 Traceback (most recent call last)",
      "\u001b[1;32m<ipython-input-71-5b5ad3a3c3ee>\u001b[0m in \u001b[0;36m<module>\u001b[1;34m\u001b[0m\n\u001b[1;32m----> 1\u001b[1;33m \u001b[0msolution\u001b[0m\u001b[1;33m(\u001b[0m\u001b[0mrelation\u001b[0m\u001b[1;33m)\u001b[0m\u001b[1;33m\u001b[0m\u001b[1;33m\u001b[0m\u001b[0m\n\u001b[0m",
      "\u001b[1;32m<ipython-input-69-5bf5cc1f0793>\u001b[0m in \u001b[0;36msolution\u001b[1;34m(relation)\u001b[0m\n\u001b[0;32m      8\u001b[0m         \u001b[0mprint\u001b[0m\u001b[1;33m(\u001b[0m\u001b[0mcheck\u001b[0m\u001b[1;33m)\u001b[0m\u001b[1;33m\u001b[0m\u001b[1;33m\u001b[0m\u001b[0m\n\u001b[0;32m      9\u001b[0m         \u001b[1;32mfor\u001b[0m \u001b[0mj\u001b[0m \u001b[1;32min\u001b[0m \u001b[0mcheck\u001b[0m\u001b[1;33m:\u001b[0m\u001b[1;33m\u001b[0m\u001b[1;33m\u001b[0m\u001b[0m\n\u001b[1;32m---> 10\u001b[1;33m             \u001b[1;32mif\u001b[0m \u001b[0mlen\u001b[0m\u001b[1;33m(\u001b[0m\u001b[0mj\u001b[0m\u001b[1;33m)\u001b[0m\u001b[1;33m==\u001b[0m\u001b[0mlen\u001b[0m\u001b[1;33m(\u001b[0m\u001b[0mset\u001b[0m\u001b[1;33m(\u001b[0m\u001b[0mj\u001b[0m\u001b[1;33m)\u001b[0m\u001b[1;33m)\u001b[0m\u001b[1;33m:\u001b[0m\u001b[1;33m\u001b[0m\u001b[1;33m\u001b[0m\u001b[0m\n\u001b[0m\u001b[0;32m     11\u001b[0m                 \u001b[0mcnt\u001b[0m\u001b[1;33m+=\u001b[0m\u001b[1;36m1\u001b[0m\u001b[1;33m\u001b[0m\u001b[1;33m\u001b[0m\u001b[0m\n\u001b[0;32m     12\u001b[0m     \u001b[1;32mreturn\u001b[0m \u001b[0mcnt\u001b[0m\u001b[1;33m\u001b[0m\u001b[1;33m\u001b[0m\u001b[0m\n",
      "\u001b[1;31mTypeError\u001b[0m: unhashable type: 'list'"
     ]
    }
   ],
   "source": [
    "solution(relation)"
   ]
  },
  {
   "cell_type": "code",
   "execution_count": null,
   "id": "f71957e4",
   "metadata": {},
   "outputs": [],
   "source": []
  }
 ],
 "metadata": {
  "kernelspec": {
   "display_name": "Python 3",
   "language": "python",
   "name": "python3"
  },
  "language_info": {
   "codemirror_mode": {
    "name": "ipython",
    "version": 3
   },
   "file_extension": ".py",
   "mimetype": "text/x-python",
   "name": "python",
   "nbconvert_exporter": "python",
   "pygments_lexer": "ipython3",
   "version": "3.8.8"
  }
 },
 "nbformat": 4,
 "nbformat_minor": 5
}
