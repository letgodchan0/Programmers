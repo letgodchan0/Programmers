{
 "cells": [
  {
   "cell_type": "markdown",
   "id": "e32e0f32",
   "metadata": {},
   "source": [
    "- 2021년 12월 24일(이브)\n",
    "- 프로그래머스 후보키\n",
    "- https://programmers.co.kr/learn/courses/30/lessons/42890"
   ]
  },
  {
   "cell_type": "code",
   "execution_count": 1,
   "id": "276bcbf2",
   "metadata": {},
   "outputs": [],
   "source": [
    "relation=[[\"100\",\"ryan\",\"music\",\"2\"],[\"200\",\"apeach\",\"math\",\"2\"],[\"300\",\"tube\",\"computer\",\"3\"],[\"400\",\"con\",\"computer\",\"4\"],[\"500\",\"muzi\",\"music\",\"3\"],[\"600\",\"apeach\",\"music\",\"2\"]]"
   ]
  },
  {
   "cell_type": "code",
   "execution_count": 2,
   "id": "8b46b5dd",
   "metadata": {},
   "outputs": [],
   "source": [
    "from itertools import combinations\n",
    "# 유일성 확인\n",
    "def unique (tmp):\n",
    "    if len(tmp)==len(set(tmp)):\n",
    "        return True\n",
    "    else:\n",
    "        return False\n",
    "\n",
    "# 최소성 확인 해주는 함수\n",
    "def minimum(result):\n",
    "    tmp=[]\n",
    "    for i in range(2, len(result)):\n",
    "        tmp.extend(list(combinations(result,i)))\n",
    "    \n",
    "    if all(unique(list(zip(*i)))==False for i in tmp) and unique(list(zip(*result))):\n",
    "        return True\n",
    "    else:\n",
    "        return False\n",
    "\n",
    "def solution(relation):\n",
    "    check=[]\n",
    "    # 혼자 유일성을 가진 애들이 answer에 담김\n",
    "    answer=[]\n",
    "    for i in list(zip(*relation)):\n",
    "        if unique(i):\n",
    "            answer.append(i)\n",
    "        else:\n",
    "            check.append(i)\n",
    "    # 혼자 유일성을 갖지 못하는 애들을 조합해서 comp에 담음\n",
    "    comp=[]\n",
    "    for i in range(2,len(check)+1):\n",
    "        comp.extend(list(combinations(check,i)))\n",
    "    # comp에 있는 애들 중 유일성을 만족하는 애들만 result에 저장\n",
    "    result=[]\n",
    "    for i in comp:\n",
    "        if unique(list(zip(*i))):\n",
    "            result.append(i)\n",
    "    # result에 있는 애들 중 최소성을 만족하는 애들만 answer에 담음\n",
    "    for i in result:\n",
    "        if minimum(i):\n",
    "            answer.append(i)\n",
    "    return len(answer)"
   ]
  },
  {
   "cell_type": "code",
   "execution_count": 3,
   "id": "2fc2827e",
   "metadata": {},
   "outputs": [
    {
     "data": {
      "text/plain": [
       "2"
      ]
     },
     "execution_count": 3,
     "metadata": {},
     "output_type": "execute_result"
    }
   ],
   "source": [
    "solution(relation)"
   ]
  },
  {
   "cell_type": "code",
   "execution_count": null,
   "id": "32f0b730",
   "metadata": {},
   "outputs": [],
   "source": []
  }
 ],
 "metadata": {
  "kernelspec": {
   "display_name": "Python 3",
   "language": "python",
   "name": "python3"
  },
  "language_info": {
   "codemirror_mode": {
    "name": "ipython",
    "version": 3
   },
   "file_extension": ".py",
   "mimetype": "text/x-python",
   "name": "python",
   "nbconvert_exporter": "python",
   "pygments_lexer": "ipython3",
   "version": "3.8.8"
  }
 },
 "nbformat": 4,
 "nbformat_minor": 5
}
