{
 "cells": [
  {
   "cell_type": "markdown",
   "id": "4cd8e20f",
   "metadata": {},
   "source": [
    "- 2021년 12월 24일(이브)\n",
    "- 프로그래머스 후보키\n",
    "- https://programmers.co.kr/learn/courses/30/lessons/42890"
   ]
  },
  {
   "cell_type": "code",
   "execution_count": 24,
   "id": "af0608b9",
   "metadata": {},
   "outputs": [],
   "source": [
    "relation=[[\"100\",\"ryan\",\"music\",\"2\"],[\"200\",\"apeach\",\"math\",\"2\"],[\"300\",\"tube\",\"computer\",\"3\"],[\"400\",\"con\",\"computer\",\"4\"],[\"500\",\"muzi\",\"music\",\"3\"],[\"600\",\"apeach\",\"music\",\"2\"]]"
   ]
  },
  {
   "cell_type": "code",
   "execution_count": 25,
   "id": "ec9c5604",
   "metadata": {},
   "outputs": [
    {
     "data": {
      "text/plain": [
       "[['100', 'ryan', 'music', '2'],\n",
       " ['200', 'apeach', 'math', '2'],\n",
       " ['300', 'tube', 'computer', '3'],\n",
       " ['400', 'con', 'computer', '4'],\n",
       " ['500', 'muzi', 'music', '3'],\n",
       " ['600', 'apeach', 'music', '2']]"
      ]
     },
     "execution_count": 25,
     "metadata": {},
     "output_type": "execute_result"
    }
   ],
   "source": [
    "relation"
   ]
  },
  {
   "cell_type": "code",
   "execution_count": 8,
   "id": "39f55271",
   "metadata": {},
   "outputs": [
    {
     "data": {
      "text/plain": [
       "[['100', '200', '300', '400', '500', '600'],\n",
       " ['ryan', 'apeach', 'tube', 'con', 'muzi', 'apeach'],\n",
       " ['music', 'math', 'computer', 'computer', 'music', 'music'],\n",
       " ['2', '2', '3', '4', '3', '2']]"
      ]
     },
     "execution_count": 8,
     "metadata": {},
     "output_type": "execute_result"
    }
   ],
   "source": [
    "check=list(map(list,zip(*relation)))\n",
    "check"
   ]
  },
  {
   "cell_type": "code",
   "execution_count": 29,
   "id": "fedf00bc",
   "metadata": {},
   "outputs": [
    {
     "data": {
      "text/plain": [
       "[1, 2, 3]"
      ]
     },
     "execution_count": 29,
     "metadata": {},
     "output_type": "execute_result"
    }
   ],
   "source": [
    "tmp=[]\n",
    "for i in range(len(check)):\n",
    "    if len(check[i])!=len(set(check[i])):\n",
    "        tmp.append(i)\n",
    "tmp"
   ]
  },
  {
   "cell_type": "code",
   "execution_count": 33,
   "id": "2726c7c5",
   "metadata": {},
   "outputs": [
    {
     "data": {
      "text/plain": [
       "[['ryan', 'music', '2'],\n",
       " ['apeach', 'math', '2'],\n",
       " ['tube', 'computer', '3'],\n",
       " ['con', 'computer', '4'],\n",
       " ['muzi', 'music', '3'],\n",
       " ['apeach', 'music', '2']]"
      ]
     },
     "execution_count": 33,
     "metadata": {},
     "output_type": "execute_result"
    }
   ],
   "source": [
    "new_relation=[]\n",
    "for i in tmp:\n",
    "    new_relation.append(check[i])\n",
    "new_relation=list(map(list,zip(*new_relation)))\n",
    "new_relation"
   ]
  },
  {
   "cell_type": "code",
   "execution_count": 32,
   "id": "7c518cd7",
   "metadata": {},
   "outputs": [],
   "source": [
    "from itertools import combinations"
   ]
  },
  {
   "cell_type": "code",
   "execution_count": 48,
   "id": "5169e2d2",
   "metadata": {},
   "outputs": [
    {
     "data": {
      "text/plain": [
       "[[('ryan', 'music'),\n",
       "  ('ryan', 'music', '2'),\n",
       "  ('apeach', 'math'),\n",
       "  ('apeach', 'math', '2'),\n",
       "  ('tube', 'computer'),\n",
       "  ('tube', 'computer', '3'),\n",
       "  ('con', 'computer'),\n",
       "  ('con', 'computer', '4'),\n",
       "  ('muzi', 'music'),\n",
       "  ('muzi', 'music', '3'),\n",
       "  ('apeach', 'music'),\n",
       "  ('apeach', 'music', '2')]]"
      ]
     },
     "execution_count": 48,
     "metadata": {},
     "output_type": "execute_result"
    }
   ],
   "source": [
    "result=[]\n",
    "for i in new_relation:\n",
    "    for j in range(2,len(i)+1):\n",
    "        result.append(list(combinations(i,j)))\n",
    "result=list(map(list,zip(*result)))\n",
    "result"
   ]
  },
  {
   "cell_type": "code",
   "execution_count": null,
   "id": "775096ab",
   "metadata": {},
   "outputs": [],
   "source": [
    "for i in result:"
   ]
  },
  {
   "cell_type": "code",
   "execution_count": 36,
   "id": "e1409a04",
   "metadata": {},
   "outputs": [
    {
     "data": {
      "text/plain": [
       "('ryan', 'music')"
      ]
     },
     "execution_count": 36,
     "metadata": {},
     "output_type": "execute_result"
    }
   ],
   "source": [
    "list(combinations(new_relation[0],2))[0]"
   ]
  },
  {
   "cell_type": "code",
   "execution_count": null,
   "id": "d30c4ea6",
   "metadata": {},
   "outputs": [],
   "source": []
  },
  {
   "cell_type": "code",
   "execution_count": null,
   "id": "9fbd53e8",
   "metadata": {},
   "outputs": [],
   "source": []
  },
  {
   "cell_type": "code",
   "execution_count": null,
   "id": "b98d5a6f",
   "metadata": {},
   "outputs": [],
   "source": [
    "def solution(relation):\n",
    "    answer = 0\n",
    "    return answer"
   ]
  }
 ],
 "metadata": {
  "kernelspec": {
   "display_name": "Python 3",
   "language": "python",
   "name": "python3"
  },
  "language_info": {
   "codemirror_mode": {
    "name": "ipython",
    "version": 3
   },
   "file_extension": ".py",
   "mimetype": "text/x-python",
   "name": "python",
   "nbconvert_exporter": "python",
   "pygments_lexer": "ipython3",
   "version": "3.8.8"
  }
 },
 "nbformat": 4,
 "nbformat_minor": 5
}
