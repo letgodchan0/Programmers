{
 "cells": [
  {
   "cell_type": "markdown",
   "id": "2963f081",
   "metadata": {},
   "source": [
    "- 2021년 12월 28일\n",
    "- 프로그래머스 다리를 지나는 트럭\n",
    "- https://programmers.co.kr/learn/courses/30/lessons/42583"
   ]
  },
  {
   "cell_type": "code",
   "execution_count": 1,
   "id": "349177d4",
   "metadata": {},
   "outputs": [],
   "source": [
    "from collections import deque\n",
    "def solution(bridge_length, weight, truck_weights):\n",
    "    answer = 0\n",
    "    return answer"
   ]
  },
  {
   "cell_type": "code",
   "execution_count": 21,
   "id": "35cf737e",
   "metadata": {},
   "outputs": [],
   "source": [
    "bridge_length=2\n",
    "weight=10\n",
    "truck_weights=[7,4,5,6]"
   ]
  },
  {
   "cell_type": "code",
   "execution_count": 11,
   "id": "c1806559",
   "metadata": {},
   "outputs": [
    {
     "data": {
      "text/plain": [
       "deque([7, 4, 5, 6])"
      ]
     },
     "execution_count": 11,
     "metadata": {},
     "output_type": "execute_result"
    }
   ],
   "source": [
    "truck_weights=deque(truck_weights)\n",
    "truck_weights"
   ]
  },
  {
   "cell_type": "code",
   "execution_count": 12,
   "id": "66bb4dc5",
   "metadata": {},
   "outputs": [
    {
     "data": {
      "text/plain": [
       "deque([])"
      ]
     },
     "execution_count": 12,
     "metadata": {},
     "output_type": "execute_result"
    }
   ],
   "source": [
    "onbridge=deque([])\n",
    "onbridge"
   ]
  },
  {
   "cell_type": "code",
   "execution_count": 16,
   "id": "b0144d65",
   "metadata": {},
   "outputs": [
    {
     "data": {
      "text/plain": [
       "[[7, 1]]"
      ]
     },
     "execution_count": 16,
     "metadata": {},
     "output_type": "execute_result"
    }
   ],
   "source": [
    "a=[]\n",
    "a.append([truck_weights[0],1])\n",
    "a"
   ]
  },
  {
   "cell_type": "code",
   "execution_count": 106,
   "id": "40c5082e",
   "metadata": {},
   "outputs": [],
   "source": [
    "bridge_length=2\n",
    "weight=10\n",
    "truck_weights=[7,4,5,6]"
   ]
  },
  {
   "cell_type": "code",
   "execution_count": 107,
   "id": "d39c1789",
   "metadata": {},
   "outputs": [
    {
     "name": "stdout",
     "output_type": "stream",
     "text": [
      "7\n",
      "count: 1\n",
      "**************\n",
      "count: 2\n",
      "**************\n",
      "count: 3\n",
      "time: 3\n",
      "**************\n",
      "4\n",
      "count: 1\n",
      "**************\n",
      "5\n",
      "count: 2\n",
      "**************\n",
      "count: 3\n",
      "time: 6\n",
      "**************\n",
      "count: 1\n",
      "**************\n",
      "count: 2\n",
      "**************\n",
      "count: 3\n",
      "time: 9\n",
      "**************\n",
      "6\n",
      "count: 2\n",
      "**************\n"
     ]
    }
   ],
   "source": [
    "truck_weights=deque(truck_weights)\n",
    "onbridge=deque([])\n",
    "count=0\n",
    "time=0\n",
    "while truck_weights:\n",
    "    if sum(onbridge)+truck_weights[0] <=weight:\n",
    "        check=truck_weights.popleft()\n",
    "        print(check)\n",
    "        # 다리를 건너는 트럭\n",
    "        onbridge.append(check)\n",
    "        count+=1\n",
    "    else:\n",
    "        count+=1\n",
    "        \n",
    "    if len(truck_weights)==0:\n",
    "        count=bridge_length\n",
    "\n",
    "    # weight 지난 트럭 다리 통과\n",
    "    print('count:',count)\n",
    "    if count==bridge_length+1:\n",
    "        time+=count\n",
    "        print('time:',time)\n",
    "        onbridge.popleft()\n",
    "        count=0\n",
    "    print('**************')"
   ]
  },
  {
   "cell_type": "code",
   "execution_count": 103,
   "id": "b8894879",
   "metadata": {},
   "outputs": [
    {
     "data": {
      "text/plain": [
       "9"
      ]
     },
     "execution_count": 103,
     "metadata": {},
     "output_type": "execute_result"
    }
   ],
   "source": [
    "time"
   ]
  },
  {
   "cell_type": "code",
   "execution_count": null,
   "id": "9050dada",
   "metadata": {},
   "outputs": [],
   "source": []
  }
 ],
 "metadata": {
  "kernelspec": {
   "display_name": "Python 3",
   "language": "python",
   "name": "python3"
  },
  "language_info": {
   "codemirror_mode": {
    "name": "ipython",
    "version": 3
   },
   "file_extension": ".py",
   "mimetype": "text/x-python",
   "name": "python",
   "nbconvert_exporter": "python",
   "pygments_lexer": "ipython3",
   "version": "3.6.13"
  }
 },
 "nbformat": 4,
 "nbformat_minor": 5
}
