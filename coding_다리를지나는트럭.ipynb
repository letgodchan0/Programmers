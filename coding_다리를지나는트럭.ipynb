{
 "cells": [
  {
   "cell_type": "markdown",
   "id": "74e63b54",
   "metadata": {},
   "source": [
    "- 2021년 12월 28일\n",
    "- 프로그래머스 다리를 지나는 트럭\n",
    "- https://programmers.co.kr/learn/courses/30/lessons/42583"
   ]
  },
  {
   "cell_type": "code",
   "execution_count": 1,
   "id": "b9e045a1",
   "metadata": {},
   "outputs": [],
   "source": [
    "from collections import deque\n",
    "def solution(bridge_length, weight, truck_weights):\n",
    "    answer = 0\n",
    "    return answer"
   ]
  },
  {
   "cell_type": "code",
   "execution_count": 2,
   "id": "fa5dab75",
   "metadata": {},
   "outputs": [],
   "source": [
    "bridge_length=2\n",
    "weight=10\n",
    "truck_weights=[7,4,5,6]"
   ]
  },
  {
   "cell_type": "code",
   "execution_count": 3,
   "id": "4fed1beb",
   "metadata": {},
   "outputs": [
    {
     "data": {
      "text/plain": [
       "deque([7, 4, 5, 6])"
      ]
     },
     "execution_count": 3,
     "metadata": {},
     "output_type": "execute_result"
    }
   ],
   "source": [
    "truck_weights=deque(truck_weights)\n",
    "truck_weights"
   ]
  },
  {
   "cell_type": "code",
   "execution_count": 4,
   "id": "9f9b8e6d",
   "metadata": {},
   "outputs": [
    {
     "data": {
      "text/plain": [
       "deque([])"
      ]
     },
     "execution_count": 4,
     "metadata": {},
     "output_type": "execute_result"
    }
   ],
   "source": [
    "onbridge=deque([])\n",
    "onbridge"
   ]
  },
  {
   "cell_type": "code",
   "execution_count": 294,
   "id": "3b3213f0",
   "metadata": {},
   "outputs": [],
   "source": [
    "bridge_length=100\n",
    "weight=100\n",
    "truck_weights=[10]"
   ]
  },
  {
   "cell_type": "code",
   "execution_count": 298,
   "id": "a15b8383",
   "metadata": {},
   "outputs": [],
   "source": [
    "bridge_length=100\n",
    "weight=100\n",
    "truck_weights=[10,10,10,10,10,10,10,10,10,10]"
   ]
  },
  {
   "cell_type": "code",
   "execution_count": 319,
   "id": "14be5ef4",
   "metadata": {},
   "outputs": [],
   "source": [
    "bridge_length=2\n",
    "weight=10\n",
    "truck_weights=[7,4,5,6]"
   ]
  },
  {
   "cell_type": "code",
   "execution_count": 342,
   "id": "dcad4326",
   "metadata": {},
   "outputs": [],
   "source": [
    "bridge_length=5\n",
    "weight=5\n",
    "truck_weights=[2,2,2,2,1,1,1,1,1]"
   ]
  },
  {
   "cell_type": "code",
   "execution_count": 343,
   "id": "ce167785",
   "metadata": {},
   "outputs": [
    {
     "name": "stdout",
     "output_type": "stream",
     "text": [
      "다리를 건너는 트럭(onbridge):  deque([2, 2])\n",
      "대기 트럭(truck_weights):  deque([2, 2, 1, 1, 1, 1, 1])\n",
      "다리를 지난 트럭(afterbridge):  deque([])\n",
      "time: 1\n",
      "count:  0\n",
      "********************************\n",
      "다리를 건너는 트럭(onbridge):  deque([2, 2])\n",
      "대기 트럭(truck_weights):  deque([2, 2, 1, 1, 1, 1, 1])\n",
      "다리를 지난 트럭(afterbridge):  deque([])\n",
      "time: 2\n",
      "count:  1\n",
      "********************************\n",
      "다리를 건너는 트럭(onbridge):  deque([2, 2])\n",
      "대기 트럭(truck_weights):  deque([2, 2, 1, 1, 1, 1, 1])\n",
      "다리를 지난 트럭(afterbridge):  deque([])\n",
      "time: 3\n",
      "count:  2\n",
      "********************************\n",
      "다리를 건너는 트럭(onbridge):  deque([2, 2])\n",
      "대기 트럭(truck_weights):  deque([2, 2, 1, 1, 1, 1, 1])\n",
      "다리를 지난 트럭(afterbridge):  deque([])\n",
      "time: 4\n",
      "count:  3\n",
      "********************************\n",
      "다리를 건너는 트럭(onbridge):  deque([2, 2])\n",
      "대기 트럭(truck_weights):  deque([2, 2, 1, 1, 1, 1, 1])\n",
      "다리를 지난 트럭(afterbridge):  deque([])\n",
      "time: 5\n",
      "count:  4\n",
      "********************************\n",
      "다리를 건너는 트럭(onbridge):  deque([2, 2])\n",
      "대기 트럭(truck_weights):  deque([2, 1, 1, 1, 1, 1])\n",
      "다리를 지난 트럭(afterbridge):  deque([[2, 1]])\n",
      "time: 6\n",
      "count:  4\n",
      "********************************\n",
      "다리를 건너는 트럭(onbridge):  deque([2, 2])\n",
      "대기 트럭(truck_weights):  deque([1, 1, 1, 1, 1])\n",
      "다리를 지난 트럭(afterbridge):  deque([[2, 1], [2, 2]])\n",
      "time: 7\n",
      "count:  4\n",
      "********************************\n",
      "다리를 건너는 트럭(onbridge):  deque([2, 1])\n",
      "대기 트럭(truck_weights):  deque([1, 1, 1, 1])\n",
      "다리를 지난 트럭(afterbridge):  deque([[2, 1], [2, 2], [2, 3]])\n",
      "time: 8\n",
      "count:  4\n",
      "********************************\n",
      "다리를 건너는 트럭(onbridge):  deque([1, 1])\n",
      "대기 트럭(truck_weights):  deque([1, 1, 1])\n",
      "다리를 지난 트럭(afterbridge):  deque([[2, 1], [2, 2], [2, 3], [2, 4]])\n",
      "time: 9\n",
      "count:  4\n",
      "********************************\n",
      "다리를 건너는 트럭(onbridge):  deque([1, 1])\n",
      "대기 트럭(truck_weights):  deque([1, 1])\n",
      "다리를 지난 트럭(afterbridge):  deque([[2, 1], [2, 2], [2, 3], [2, 4], [1, 5]])\n",
      "time: 10\n",
      "count:  4\n",
      "********************************\n",
      "다리를 건너는 트럭(onbridge):  deque([1, 1])\n",
      "대기 트럭(truck_weights):  deque([1])\n",
      "다리를 지난 트럭(afterbridge):  deque([[2, 1], [2, 2], [2, 3], [2, 4], [1, 5], [1, 6]])\n",
      "time: 11\n",
      "count:  4\n",
      "********************************\n",
      "다리를 건너는 트럭(onbridge):  deque([1, 1])\n",
      "대기 트럭(truck_weights):  deque([])\n",
      "다리를 지난 트럭(afterbridge):  deque([[2, 1], [2, 2], [2, 3], [2, 4], [1, 5], [1, 6], [1, 7]])\n",
      "time: 12\n",
      "count:  4\n",
      "********************************\n",
      "다리를 건너는 트럭(onbridge):  deque([1])\n",
      "대기 트럭(truck_weights):  deque([])\n",
      "다리를 지난 트럭(afterbridge):  deque([[2, 1], [2, 2], [2, 3], [2, 4], [1, 5], [1, 6], [1, 7], [1, 8]])\n",
      "time: 13\n",
      "count:  4\n",
      "********************************\n"
     ]
    }
   ],
   "source": [
    "truck_weights=deque(truck_weights)\n",
    "# 다리 건너는 트럭\n",
    "onbridge=deque([])\n",
    "onbridge.append(truck_weights.popleft())\n",
    "# 다리를 지난 트럭\n",
    "afterbridge=deque([])\n",
    "count=0\n",
    "time=1\n",
    "# while 문 나오게 하기 위한 조건\n",
    "check=True\n",
    "while check:\n",
    "    # 다리 위 트럭의 무게합이 weight보다 작으면, onbridge에 트럭 추가, 마지막 truck_weight는 없어져서 길이 조건 추가\n",
    "    if len(truck_weights)!=0 and sum(onbridge)+truck_weights[0] <= weight:\n",
    "        onbridge.append(truck_weights.popleft())\n",
    "         \n",
    "\n",
    "    print('다리를 건너는 트럭(onbridge): ',onbridge)\n",
    "    print('대기 트럭(truck_weights): ',truck_weights)\n",
    "    print('다리를 지난 트럭(afterbridge): ',afterbridge)\n",
    "    print('time:', time)\n",
    "    print('count: ',count)\n",
    "    print('********************************')   \n",
    "    \n",
    "    \n",
    "    time+=1\n",
    "    count+=1\n",
    "\n",
    "    \n",
    "    if count==bridge_length:\n",
    "        afterbridge.append([onbridge.popleft(),time-bridge_length])\n",
    "        if len(onbridge)>=1:\n",
    "            count=bridge_length-1\n",
    "        else:\n",
    "            count=0\n",
    "\n",
    "    \n",
    "    if len(onbridge)==0 and len(truck_weights)==0 and len(afterbridge)!=0:\n",
    "        check=False"
   ]
  },
  {
   "cell_type": "code",
   "execution_count": 303,
   "id": "28bd9c2e",
   "metadata": {},
   "outputs": [],
   "source": [
    "bridge_length=5\n",
    "weight=5\n",
    "truck_weights=[2,2,2,2,1,1,1,1,1]"
   ]
  },
  {
   "cell_type": "code",
   "execution_count": 304,
   "id": "9bbf14ad",
   "metadata": {},
   "outputs": [],
   "source": [
    "from collections import deque\n",
    "def solution(bridge_length, weight, truck_weights):\n",
    "    truck_weights=deque(truck_weights)\n",
    "    # 다리 건너는 트럭\n",
    "    onbridge=deque([])\n",
    "    # 다리를 지난 트럭\n",
    "    afterbridge=deque([])\n",
    "    count=0\n",
    "    time=0\n",
    "    # while 문 나오게 하기 위한 조건\n",
    "    check=True\n",
    "    while check:\n",
    "        # 다리 위 트럭의 무게합이 weight보다 작으면, onbridge에 트럭 추가, 마지막 truck_weight는 없어져서 길이 조건 추가\n",
    "        if len(truck_weights)!=0 and sum(onbridge)+truck_weights[0] <= weight:\n",
    "            onbridge.append(truck_weights.popleft())\n",
    "            time+=1\n",
    "            count+=1\n",
    "        else:\n",
    "            time+=1\n",
    "            count+=1\n",
    "        # 다리를 통과하는 조건\n",
    "        if count==bridge_length:\n",
    "            afterbridge.append([onbridge.popleft(),time+1])\n",
    "            if len(onbridge)>=1:\n",
    "                count=bridge_length-1\n",
    "            else:\n",
    "                count=0\n",
    "        # while 문 빠져나오는 조건\n",
    "        if len(onbridge)==0 and len(truck_weights)==0 and len(afterbridge)!=0:\n",
    "            check=False\n",
    "    return time+1"
   ]
  },
  {
   "cell_type": "code",
   "execution_count": 305,
   "id": "33f2f295",
   "metadata": {},
   "outputs": [
    {
     "data": {
      "text/plain": [
       "14"
      ]
     },
     "execution_count": 305,
     "metadata": {},
     "output_type": "execute_result"
    }
   ],
   "source": [
    "solution(bridge_length, weight, truck_weights)"
   ]
  },
  {
   "cell_type": "code",
   "execution_count": 310,
   "id": "350bb300",
   "metadata": {},
   "outputs": [
    {
     "data": {
      "text/plain": [
       "{'1': 0, '2': 0}"
      ]
     },
     "execution_count": 310,
     "metadata": {},
     "output_type": "execute_result"
    }
   ],
   "source": [
    "count=0\n",
    "a={'1':count,'2':count}\n",
    "a"
   ]
  },
  {
   "cell_type": "code",
   "execution_count": 311,
   "id": "bdabb218",
   "metadata": {},
   "outputs": [
    {
     "data": {
      "text/plain": [
       "{'1': 0, '2': 0}"
      ]
     },
     "execution_count": 311,
     "metadata": {},
     "output_type": "execute_result"
    }
   ],
   "source": [
    "count=3\n",
    "a"
   ]
  },
  {
   "cell_type": "code",
   "execution_count": null,
   "id": "f87af304",
   "metadata": {},
   "outputs": [],
   "source": [
    "while True:\n",
    "    for i in rage(len*bridge_length):\n",
    "        "
   ]
  }
 ],
 "metadata": {
  "kernelspec": {
   "display_name": "Python 3",
   "language": "python",
   "name": "python3"
  },
  "language_info": {
   "codemirror_mode": {
    "name": "ipython",
    "version": 3
   },
   "file_extension": ".py",
   "mimetype": "text/x-python",
   "name": "python",
   "nbconvert_exporter": "python",
   "pygments_lexer": "ipython3",
   "version": "3.6.13"
  }
 },
 "nbformat": 4,
 "nbformat_minor": 5
}
