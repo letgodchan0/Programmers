{
 "cells": [
  {
   "cell_type": "markdown",
   "id": "3accea1d",
   "metadata": {},
   "source": [
    "- 2021년 12월 28일\n",
    "- 프로그래머스 다리를 지나는 트럭\n",
    "- https://programmers.co.kr/learn/courses/30/lessons/42583"
   ]
  },
  {
   "cell_type": "markdown",
   "id": "4095044b",
   "metadata": {},
   "source": [
    "- 바로 아래꺼 안되는 애"
   ]
  },
  {
   "cell_type": "code",
   "execution_count": 1,
   "id": "4edf9c44",
   "metadata": {},
   "outputs": [],
   "source": [
    "bridge_length=5\n",
    "weight=5\n",
    "truck_weights=[2,2,2,2,1,1,1,1,1]"
   ]
  },
  {
   "cell_type": "code",
   "execution_count": 2,
   "id": "e300bf3e",
   "metadata": {},
   "outputs": [],
   "source": [
    "from collections import deque\n",
    "def solution(bridge_length, weight, truck_weights):\n",
    "    truck_weights=deque(truck_weights)\n",
    "    # 다리 건너는 트럭\n",
    "    onbridge=deque([])\n",
    "    # 다리를 지난 트럭\n",
    "    afterbridge=deque([])\n",
    "    count=0\n",
    "    time=0\n",
    "    # while 문 나오게 하기 위한 조건\n",
    "    check=True\n",
    "    while check:\n",
    "        # 다리 위 트럭의 무게합이 weight보다 작으면, onbridge에 트럭 추가, 마지막 truck_weight는 없어져서 길이 조건 추가\n",
    "        if len(truck_weights)!=0 and sum(onbridge)+truck_weights[0] <= weight:\n",
    "            onbridge.append(truck_weights.popleft())\n",
    "            \n",
    "        time+=1\n",
    "        count+=1\n",
    "\n",
    "        # 다리를 통과하는 조건\n",
    "        if count==bridge_length:\n",
    "            afterbridge.append([onbridge.popleft(),time+1])\n",
    "            if len(onbridge)>=1:\n",
    "                count=bridge_length-1\n",
    "            else:\n",
    "                count=0\n",
    "        # while 문 빠져나오는 조건\n",
    "        if len(onbridge)==0 and len(truck_weights)==0 and len(afterbridge)!=0:\n",
    "            check=False\n",
    "    return time+1"
   ]
  },
  {
   "cell_type": "code",
   "execution_count": 3,
   "id": "4ae2d2b4",
   "metadata": {},
   "outputs": [
    {
     "data": {
      "text/plain": [
       "14"
      ]
     },
     "execution_count": 3,
     "metadata": {},
     "output_type": "execute_result"
    }
   ],
   "source": [
    "solution(bridge_length, weight, truck_weights)"
   ]
  },
  {
   "cell_type": "code",
   "execution_count": null,
   "id": "7322d173",
   "metadata": {},
   "outputs": [],
   "source": []
  },
  {
   "cell_type": "markdown",
   "id": "e5260dfc",
   "metadata": {},
   "source": [
    "- 5번 시간초과"
   ]
  },
  {
   "cell_type": "code",
   "execution_count": 4,
   "id": "b4b93d5b",
   "metadata": {},
   "outputs": [],
   "source": [
    "from collections import deque\n",
    "def solution(bridge_length, weight, truck_weights):\n",
    "    truck_weights=deque(truck_weights)\n",
    "    good=len(truck_weights)\n",
    "    # 다리 건너는 트럭\n",
    "    onbridge=deque([])\n",
    "    # 다리를 지난 트럭\n",
    "    afterbridge=deque([])\n",
    "    time=0\n",
    "    # while 문 나오게 하기 위한 조건\n",
    "    check=True\n",
    "    while check:\n",
    "        # 다리 위 트럭의 무게합이 weight보다 작으면, onbridge에 트럭 추가, 마지막 truck_weight는 없어져서 길이 조건 추가\n",
    "        if len(truck_weights)!=0 and sum(onbridge)+truck_weights[0] <= weight:\n",
    "            onbridge.append(truck_weights.popleft())\n",
    "        else:\n",
    "            onbridge.append(0)  \n",
    "        time+=1\n",
    "\n",
    "        if time>=bridge_length:\n",
    "            if onbridge[0]!=0:\n",
    "                afterbridge.append(onbridge.popleft())\n",
    "            else:\n",
    "                onbridge.popleft()\n",
    "\n",
    "        if len(afterbridge)==good:\n",
    "            check=False\n",
    "    return time+1"
   ]
  },
  {
   "cell_type": "code",
   "execution_count": 5,
   "id": "d5c796f8",
   "metadata": {},
   "outputs": [
    {
     "name": "stdout",
     "output_type": "stream",
     "text": [
      "Wall time: 0 ns\n"
     ]
    }
   ],
   "source": [
    "time"
   ]
  },
  {
   "cell_type": "markdown",
   "id": "a8ddfc1c",
   "metadata": {},
   "source": [
    "- 통과 코드"
   ]
  },
  {
   "cell_type": "code",
   "execution_count": 6,
   "id": "ead0598d",
   "metadata": {},
   "outputs": [],
   "source": [
    "def solution(bridge_length, weight, truck_weights):    \n",
    "    good=len(truck_weights)\n",
    "    # 다리 건너는 트럭\n",
    "    onbridge=[]\n",
    "    # 다리를 지난 트럭\n",
    "    afterbridge=[]\n",
    "    time=0\n",
    "    # while 문 나오게 하기 위한 조건\n",
    "    check=True\n",
    "    while check:\n",
    "        time+=1\n",
    "        # 다리 위 트럭의 무게합이 weight보다 작으면, onbridge에 트럭 추가, 마지막 truck_weight는 없어져서 길이 조건 추가\n",
    "        if len(truck_weights)!=0 and sum(onbridge)+truck_weights[0] <= weight:\n",
    "            onbridge.append(truck_weights.pop(0))\n",
    "        else:\n",
    "            onbridge.append(0)\n",
    "\n",
    "        if time>=bridge_length:\n",
    "            if onbridge[0]!=0:\n",
    "                afterbridge.append(onbridge.pop(0))\n",
    "            else:\n",
    "                onbridge.pop(0)\n",
    "\n",
    "        if len(afterbridge)==good:\n",
    "            check=False\n",
    "    return time+1"
   ]
  },
  {
   "cell_type": "code",
   "execution_count": 7,
   "id": "5e1d0f5a",
   "metadata": {},
   "outputs": [],
   "source": [
    "bridge_length=100\n",
    "weight=100\n",
    "truck_weights=[10]"
   ]
  },
  {
   "cell_type": "code",
   "execution_count": 8,
   "id": "707206e0",
   "metadata": {},
   "outputs": [
    {
     "data": {
      "text/plain": [
       "101"
      ]
     },
     "execution_count": 8,
     "metadata": {},
     "output_type": "execute_result"
    }
   ],
   "source": [
    "solution(bridge_length, weight, truck_weights)"
   ]
  },
  {
   "cell_type": "code",
   "execution_count": null,
   "id": "8bca3f7e",
   "metadata": {},
   "outputs": [],
   "source": []
  },
  {
   "cell_type": "markdown",
   "id": "5389f4b6",
   "metadata": {},
   "source": [
    "- 다른 풀이"
   ]
  },
  {
   "cell_type": "markdown",
   "id": "d740ab84",
   "metadata": {},
   "source": [
    "- 클래스 만듬"
   ]
  },
  {
   "cell_type": "code",
   "execution_count": 9,
   "id": "821120d8",
   "metadata": {},
   "outputs": [],
   "source": [
    "import collections\n",
    "\n",
    "DUMMY_TRUCK = 0\n",
    "\n",
    "\n",
    "class Bridge(object):\n",
    "\n",
    "    def __init__(self, length, weight):\n",
    "        self._max_length = length\n",
    "        self._max_weight = weight\n",
    "        self._queue = collections.deque()\n",
    "        self._current_weight = 0\n",
    "\n",
    "    def push(self, truck):\n",
    "        next_weight = self._current_weight + truck\n",
    "        if next_weight <= self._max_weight and len(self._queue) < self._max_length:\n",
    "            self._queue.append(truck)\n",
    "            self._current_weight = next_weight\n",
    "            return True\n",
    "        else:\n",
    "            return False\n",
    "\n",
    "    def pop(self):\n",
    "        item = self._queue.popleft()\n",
    "        self._current_weight -= item\n",
    "        return item\n",
    "\n",
    "    def __len__(self):\n",
    "        return len(self._queue)\n",
    "\n",
    "    def __repr__(self):\n",
    "        return 'Bridge({}/{} : [{}])'.format(self._current_weight, self._max_weight, list(self._queue))\n",
    "\n",
    "\n",
    "def solution(bridge_length, weight, truck_weights):\n",
    "    bridge = Bridge(bridge_length, weight)\n",
    "    trucks = collections.deque(w for w in truck_weights)\n",
    "\n",
    "    for _ in range(bridge_length):\n",
    "        bridge.push(DUMMY_TRUCK)\n",
    "\n",
    "    count = 0\n",
    "    while trucks:\n",
    "        bridge.pop()\n",
    "\n",
    "        if bridge.push(trucks[0]):\n",
    "            trucks.popleft()\n",
    "        else:\n",
    "            bridge.push(DUMMY_TRUCK)\n",
    "\n",
    "        count += 1\n",
    "\n",
    "    while bridge:\n",
    "        bridge.pop()\n",
    "        count += 1\n",
    "\n",
    "    return count"
   ]
  },
  {
   "cell_type": "code",
   "execution_count": null,
   "id": "18ff7e4f",
   "metadata": {},
   "outputs": [],
   "source": []
  },
  {
   "cell_type": "markdown",
   "id": "d2d783d2",
   "metadata": {},
   "source": [
    "- 비슷한 방법"
   ]
  },
  {
   "cell_type": "code",
   "execution_count": 10,
   "id": "970e2b15",
   "metadata": {},
   "outputs": [],
   "source": [
    "def solution(bridge_length, weight, truck_weights):\n",
    "    q=[0]*bridge_length\n",
    "    sec=0\n",
    "    while q:\n",
    "        sec+=1\n",
    "        q.pop(0)\n",
    "        if truck_weights:\n",
    "            if sum(q)+truck_weights[0]<=weight:\n",
    "                q.append(truck_weights.pop(0))\n",
    "            else:\n",
    "                q.append(0)\n",
    "    return sec"
   ]
  },
  {
   "cell_type": "code",
   "execution_count": null,
   "id": "1876dcf0",
   "metadata": {},
   "outputs": [],
   "source": []
  },
  {
   "cell_type": "markdown",
   "id": "dae7ee26",
   "metadata": {},
   "source": [
    "- 효율성 제일 빠른 방법인듯"
   ]
  },
  {
   "cell_type": "code",
   "execution_count": 11,
   "id": "d0899c6d",
   "metadata": {},
   "outputs": [],
   "source": [
    "from collections import deque\n",
    "\n",
    "def solution(bridge_length, weight, truck_weights):\n",
    "    bridge = deque(0 for _ in range(bridge_length))\n",
    "    total_weight = 0\n",
    "    step = 0\n",
    "    truck_weights.reverse()\n",
    "\n",
    "    while truck_weights:\n",
    "        total_weight -= bridge.popleft()\n",
    "        if total_weight + truck_weights[-1] > weight:\n",
    "            bridge.append(0)\n",
    "        else:\n",
    "            truck = truck_weights.pop()\n",
    "            bridge.append(truck)\n",
    "            total_weight += truck\n",
    "        step += 1\n",
    "\n",
    "    step += bridge_length\n",
    "\n",
    "    return step"
   ]
  },
  {
   "cell_type": "code",
   "execution_count": null,
   "id": "08430ebc",
   "metadata": {},
   "outputs": [],
   "source": []
  }
 ],
 "metadata": {
  "kernelspec": {
   "display_name": "Python 3",
   "language": "python",
   "name": "python3"
  },
  "language_info": {
   "codemirror_mode": {
    "name": "ipython",
    "version": 3
   },
   "file_extension": ".py",
   "mimetype": "text/x-python",
   "name": "python",
   "nbconvert_exporter": "python",
   "pygments_lexer": "ipython3",
   "version": "3.6.13"
  }
 },
 "nbformat": 4,
 "nbformat_minor": 5
}
