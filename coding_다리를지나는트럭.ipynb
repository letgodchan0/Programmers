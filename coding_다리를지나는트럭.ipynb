{
 "cells": [
  {
   "cell_type": "markdown",
   "id": "bba62769",
   "metadata": {},
   "source": [
    "- 2021년 12월 28일\n",
    "- 프로그래머스 다리를 지나는 트럭\n",
    "- https://programmers.co.kr/learn/courses/30/lessons/42583"
   ]
  },
  {
   "cell_type": "code",
   "execution_count": 1,
   "id": "2dfe6410",
   "metadata": {},
   "outputs": [],
   "source": [
    "from collections import deque\n",
    "def solution(bridge_length, weight, truck_weights):\n",
    "    answer = 0\n",
    "    return answer"
   ]
  },
  {
   "cell_type": "code",
   "execution_count": 2,
   "id": "e40be3a3",
   "metadata": {},
   "outputs": [],
   "source": [
    "bridge_length=2\n",
    "weight=10\n",
    "truck_weights=[7,4,5,6]"
   ]
  },
  {
   "cell_type": "code",
   "execution_count": 3,
   "id": "2bc121f4",
   "metadata": {},
   "outputs": [
    {
     "data": {
      "text/plain": [
       "deque([7, 4, 5, 6])"
      ]
     },
     "execution_count": 3,
     "metadata": {},
     "output_type": "execute_result"
    }
   ],
   "source": [
    "truck_weights=deque(truck_weights)\n",
    "truck_weights"
   ]
  },
  {
   "cell_type": "code",
   "execution_count": 4,
   "id": "319ffc7b",
   "metadata": {},
   "outputs": [
    {
     "data": {
      "text/plain": [
       "deque([])"
      ]
     },
     "execution_count": 4,
     "metadata": {},
     "output_type": "execute_result"
    }
   ],
   "source": [
    "onbridge=deque([])\n",
    "onbridge"
   ]
  },
  {
   "cell_type": "code",
   "execution_count": 17,
   "id": "ce85642a",
   "metadata": {},
   "outputs": [],
   "source": [
    "bridge_length=100\n",
    "weight=100\n",
    "truck_weights=[10]"
   ]
  },
  {
   "cell_type": "code",
   "execution_count": 18,
   "id": "14e5dbf8",
   "metadata": {},
   "outputs": [
    {
     "name": "stdout",
     "output_type": "stream",
     "text": [
      "deque([10])\n",
      "count: 100\n",
      "time: 100\n",
      "**************\n"
     ]
    }
   ],
   "source": [
    "truck_weights=deque(truck_weights)\n",
    "# 다리 건너는 트럭\n",
    "onbridge=deque([])\n",
    "count=0\n",
    "time=0\n",
    "while truck_weights:\n",
    "    if sum(onbridge)+truck_weights[0] <=weight:\n",
    "        check=truck_weights.popleft()\n",
    "        # 다리를 건너는 트럭\n",
    "        onbridge.append(check)\n",
    "        print(onbridge)\n",
    "        count+=1\n",
    "    else:\n",
    "        count+=1\n",
    "        \n",
    "    if len(truck_weights)==0:\n",
    "        count=bridge_length\n",
    "\n",
    "    # weight 지난 트럭 다리 통과\n",
    "    print('count:',count)\n",
    "    if count==bridge_length:\n",
    "        time+=count\n",
    "        print('time:',time)\n",
    "        if len(onbridge)>1:\n",
    "            onbridge.popleft()\n",
    "            count=count-1\n",
    "        else:\n",
    "            onbridge.popleft()\n",
    "            count=0\n",
    "    print('**************')"
   ]
  },
  {
   "cell_type": "code",
   "execution_count": 19,
   "id": "86e1c98c",
   "metadata": {},
   "outputs": [
    {
     "data": {
      "text/plain": [
       "100"
      ]
     },
     "execution_count": 19,
     "metadata": {},
     "output_type": "execute_result"
    }
   ],
   "source": [
    "time"
   ]
  },
  {
   "cell_type": "code",
   "execution_count": 163,
   "id": "3f169ea3",
   "metadata": {},
   "outputs": [],
   "source": [
    "bridge_length=2\n",
    "weight=10\n",
    "truck_weights=[7,4,5,6]"
   ]
  },
  {
   "cell_type": "code",
   "execution_count": 164,
   "id": "735fe721",
   "metadata": {},
   "outputs": [
    {
     "name": "stdout",
     "output_type": "stream",
     "text": [
      "대기 트럭:  deque([7, 4, 5, 6])\n",
      "다리를 건너는 트럭:  deque([])\n",
      "경과 시간: 0\n",
      "다리를 지난 트럭:  deque([])\n",
      "****************************************\n",
      "대기 트럭:  deque([4, 5, 6])\n",
      "다리를 건너는 트럭:  deque([7])\n",
      "경과 시간: 1\n",
      "다리를 지난 트럭:  deque([])\n",
      "****************************************\n",
      "대기 트럭:  deque([5, 6])\n",
      "다리를 건너는 트럭:  deque([4])\n",
      "경과 시간: 1\n",
      "다리를 지난 트럭:  deque([[7, 3]])\n",
      "****************************************\n",
      "대기 트럭:  deque([6])\n",
      "다리를 건너는 트럭:  deque([5])\n",
      "경과 시간: 1\n",
      "다리를 지난 트럭:  deque([[7, 3], [4, 5]])\n",
      "****************************************\n"
     ]
    }
   ],
   "source": [
    "truck_weights=deque(truck_weights)\n",
    "# 다리 건너는 트럭\n",
    "onbridge=deque([])\n",
    "afterbridge=deque([])\n",
    "count=0\n",
    "time=0\n",
    "while truck_weights:\n",
    "    print('대기 트럭: ',truck_weights)\n",
    "    print('다리를 건너는 트럭: ',onbridge)\n",
    "    print('경과 시간:',count)\n",
    "    print('다리를 지난 트럭: ',afterbridge)\n",
    "    \n",
    "    if sum(onbridge)+truck_weights[0] <=weight:\n",
    "        check=truck_weights.popleft()\n",
    "        # 다리를 건너는 트럭\n",
    "        onbridge.append(check)\n",
    "        count+=1\n",
    "    else:\n",
    "        count+=1\n",
    "        \n",
    "    if len(truck_weights)==0:\n",
    "        count=bridge_length\n",
    "\n",
    "    # weight 지난 트럭 다리 통과\n",
    "\n",
    "    if count==bridge_length:\n",
    "        time+=count\n",
    "        afterbridge.append([onbridge.popleft(),time+1])\n",
    "        \n",
    "        if sum(onbridge)+truck_weights[0] <=weight:\n",
    "            check=truck_weights.popleft()\n",
    "            # 다리를 건너는 트럭\n",
    "            onbridge.append(check)\n",
    "            count=1\n",
    "        else:\n",
    "            count=1\n",
    "    print('****************************************')"
   ]
  },
  {
   "cell_type": "code",
   "execution_count": 166,
   "id": "8aba1933",
   "metadata": {},
   "outputs": [
    {
     "data": {
      "text/plain": [
       "1"
      ]
     },
     "execution_count": 166,
     "metadata": {},
     "output_type": "execute_result"
    }
   ],
   "source": [
    "count"
   ]
  },
  {
   "cell_type": "code",
   "execution_count": 156,
   "id": "2696a27d",
   "metadata": {},
   "outputs": [],
   "source": [
    "bridge_length=100\n",
    "weight=100\n",
    "truck_weights=[10,10,10,10,10,10,10,10,10,10]"
   ]
  },
  {
   "cell_type": "code",
   "execution_count": 171,
   "id": "7a157add",
   "metadata": {},
   "outputs": [],
   "source": [
    "bridge_length=2\n",
    "weight=10\n",
    "truck_weights=[7,4,5,6]"
   ]
  },
  {
   "cell_type": "code",
   "execution_count": 172,
   "id": "0e3f6f4a",
   "metadata": {},
   "outputs": [
    {
     "name": "stdout",
     "output_type": "stream",
     "text": [
      "다리를 건너는 트럭:  deque([7])\n",
      "대기 트럭:  deque([4, 5, 6])\n",
      "다리를 지난 트럭:  deque([])\n",
      "time: 2\n",
      "count:  2\n",
      "********************************\n",
      "다리를 건너는 트럭:  deque([4])\n",
      "대기 트럭:  deque([5, 6])\n",
      "다리를 지난 트럭:  deque([7])\n",
      "time: 4\n",
      "count:  4\n",
      "********************************\n",
      "다리를 건너는 트럭:  deque([5])\n",
      "대기 트럭:  deque([6])\n",
      "다리를 지난 트럭:  deque([7, 4])\n",
      "time: 6\n",
      "count:  6\n",
      "********************************\n",
      "다리를 건너는 트럭:  deque([6])\n",
      "대기 트럭:  deque([])\n",
      "다리를 지난 트럭:  deque([7, 4, 5])\n",
      "time: 8\n",
      "count:  8\n",
      "********************************\n"
     ]
    },
    {
     "ename": "IndexError",
     "evalue": "deque index out of range",
     "output_type": "error",
     "traceback": [
      "\u001b[1;31m---------------------------------------------------------------------------\u001b[0m",
      "\u001b[1;31mIndexError\u001b[0m                                Traceback (most recent call last)",
      "\u001b[1;32m<ipython-input-172-fd1c5d9e95f8>\u001b[0m in \u001b[0;36m<module>\u001b[1;34m\u001b[0m\n\u001b[0;32m     10\u001b[0m         \u001b[1;32mbreak\u001b[0m\u001b[1;33m\u001b[0m\u001b[1;33m\u001b[0m\u001b[0m\n\u001b[0;32m     11\u001b[0m \u001b[1;33m\u001b[0m\u001b[0m\n\u001b[1;32m---> 12\u001b[1;33m     \u001b[1;32mif\u001b[0m \u001b[0msum\u001b[0m\u001b[1;33m(\u001b[0m\u001b[0monbridge\u001b[0m\u001b[1;33m)\u001b[0m\u001b[1;33m+\u001b[0m\u001b[0mtruck_weights\u001b[0m\u001b[1;33m[\u001b[0m\u001b[1;36m0\u001b[0m\u001b[1;33m]\u001b[0m \u001b[1;33m<=\u001b[0m \u001b[0mweight\u001b[0m\u001b[1;33m:\u001b[0m\u001b[1;33m\u001b[0m\u001b[1;33m\u001b[0m\u001b[0m\n\u001b[0m\u001b[0;32m     13\u001b[0m         \u001b[0monbridge\u001b[0m\u001b[1;33m.\u001b[0m\u001b[0mappend\u001b[0m\u001b[1;33m(\u001b[0m\u001b[0mtruck_weights\u001b[0m\u001b[1;33m.\u001b[0m\u001b[0mpopleft\u001b[0m\u001b[1;33m(\u001b[0m\u001b[1;33m)\u001b[0m\u001b[1;33m)\u001b[0m\u001b[1;33m\u001b[0m\u001b[1;33m\u001b[0m\u001b[0m\n\u001b[0;32m     14\u001b[0m         \u001b[0mtime\u001b[0m\u001b[1;33m+=\u001b[0m\u001b[0mbridge_length\u001b[0m\u001b[1;33m\u001b[0m\u001b[1;33m\u001b[0m\u001b[0m\n",
      "\u001b[1;31mIndexError\u001b[0m: deque index out of range"
     ]
    }
   ],
   "source": [
    "truck_weights=deque(truck_weights)\n",
    "# 다리 건너는 트럭\n",
    "onbridge=deque([])\n",
    "afterbridge=deque([])\n",
    "count=0\n",
    "time=0\n",
    "check=len(truck_weights)\n",
    "while True:\n",
    "    if len(afterbridge)==check:\n",
    "        break\n",
    "    \n",
    "    if sum(onbridge)+truck_weights[0] <= weight:\n",
    "        onbridge.append(truck_weights.popleft())\n",
    "        time+=bridge_length\n",
    "        count+=bridge_length\n",
    "    else:\n",
    "        time+=bridge_length\n",
    "        count+=bridge_length\n",
    "    \n",
    "    \n",
    "    print('다리를 건너는 트럭: ',onbridge)\n",
    "    print('대기 트럭: ',truck_weights)\n",
    "    print('다리를 지난 트럭: ',afterbridge)\n",
    "    print('time:', time)\n",
    "    print('count: ',count)\n",
    "    print('********************************')\n",
    "    \n",
    "    if len(truck_weights)==0:\n",
    "        count+=1\n",
    "        time+=1\n",
    "        \n",
    "    if count%bridge_length==0:\n",
    "        afterbridge.append(onbridge.popleft())\n",
    "        if len(onbridge)>=1:\n",
    "            count+=1"
   ]
  },
  {
   "cell_type": "code",
   "execution_count": 169,
   "id": "5722eba1",
   "metadata": {},
   "outputs": [
    {
     "data": {
      "text/plain": [
       "deque([7, 4, 5, 6])"
      ]
     },
     "execution_count": 169,
     "metadata": {},
     "output_type": "execute_result"
    }
   ],
   "source": [
    "afterbridge"
   ]
  },
  {
   "cell_type": "code",
   "execution_count": 170,
   "id": "5813d0fe",
   "metadata": {},
   "outputs": [
    {
     "data": {
      "text/plain": [
       "8"
      ]
     },
     "execution_count": 170,
     "metadata": {},
     "output_type": "execute_result"
    }
   ],
   "source": [
    "count"
   ]
  },
  {
   "cell_type": "code",
   "execution_count": 160,
   "id": "ebcf8dcc",
   "metadata": {},
   "outputs": [],
   "source": [
    "bridge_length=100\n",
    "weight=100\n",
    "truck_weights=[10,10,10,10,10,10,10,10,10,10]"
   ]
  },
  {
   "cell_type": "code",
   "execution_count": 161,
   "id": "d6b56c5c",
   "metadata": {},
   "outputs": [
    {
     "name": "stdout",
     "output_type": "stream",
     "text": [
      "다리를 건너는 트럭:  deque([10])\n",
      "대기 트럭:  deque([10, 10, 10, 10, 10, 10, 10, 10, 10, 10])\n",
      "다리를 지난 트럭:  deque([])\n",
      "time: 1\n",
      "count:  1\n",
      "********************************\n",
      "다리를 건너는 트럭:  deque([10, 10])\n",
      "대기 트럭:  deque([10, 10, 10, 10, 10, 10, 10, 10, 10, 10])\n",
      "다리를 지난 트럭:  deque([])\n",
      "time: 2\n",
      "count:  2\n",
      "********************************\n",
      "다리를 건너는 트럭:  deque([10, 10, 10])\n",
      "대기 트럭:  deque([10, 10, 10, 10, 10, 10, 10, 10, 10, 10])\n",
      "다리를 지난 트럭:  deque([])\n",
      "time: 3\n",
      "count:  3\n",
      "********************************\n",
      "다리를 건너는 트럭:  deque([10, 10, 10, 10])\n",
      "대기 트럭:  deque([10, 10, 10, 10, 10, 10, 10, 10, 10, 10])\n",
      "다리를 지난 트럭:  deque([])\n",
      "time: 4\n",
      "count:  4\n",
      "********************************\n",
      "다리를 건너는 트럭:  deque([10, 10, 10, 10, 10])\n",
      "대기 트럭:  deque([10, 10, 10, 10, 10, 10, 10, 10, 10, 10])\n",
      "다리를 지난 트럭:  deque([])\n",
      "time: 5\n",
      "count:  5\n",
      "********************************\n",
      "다리를 건너는 트럭:  deque([10, 10, 10, 10, 10, 10])\n",
      "대기 트럭:  deque([10, 10, 10, 10, 10, 10, 10, 10, 10, 10])\n",
      "다리를 지난 트럭:  deque([])\n",
      "time: 6\n",
      "count:  6\n",
      "********************************\n",
      "다리를 건너는 트럭:  deque([10, 10, 10, 10, 10, 10, 10])\n",
      "대기 트럭:  deque([10, 10, 10, 10, 10, 10, 10, 10, 10, 10])\n",
      "다리를 지난 트럭:  deque([])\n",
      "time: 7\n",
      "count:  7\n",
      "********************************\n",
      "다리를 건너는 트럭:  deque([10, 10, 10, 10, 10, 10, 10, 10])\n",
      "대기 트럭:  deque([10, 10, 10, 10, 10, 10, 10, 10, 10, 10])\n",
      "다리를 지난 트럭:  deque([])\n",
      "time: 8\n",
      "count:  8\n",
      "********************************\n",
      "다리를 건너는 트럭:  deque([10, 10, 10, 10, 10, 10, 10, 10, 10])\n",
      "대기 트럭:  deque([10, 10, 10, 10, 10, 10, 10, 10, 10, 10])\n",
      "다리를 지난 트럭:  deque([])\n",
      "time: 9\n",
      "count:  9\n",
      "********************************\n",
      "다리를 건너는 트럭:  deque([10, 10, 10, 10, 10, 10, 10, 10, 10, 10])\n",
      "대기 트럭:  deque([10, 10, 10, 10, 10, 10, 10, 10, 10, 10])\n",
      "다리를 지난 트럭:  deque([])\n",
      "time: 10\n",
      "count:  10\n",
      "********************************\n"
     ]
    }
   ],
   "source": [
    "truck_weights=deque(truck_weights)\n",
    "# 다리 건너는 트럭\n",
    "onbridge=deque([])\n",
    "afterbridge=deque([])\n",
    "count=0\n",
    "time=0\n",
    "check=len(truck_weights)\n",
    "\n",
    "for i in truck_weights:\n",
    "    if sum(onbridge) <= weight:\n",
    "        onbridge.append(i)\n",
    "        time+=1\n",
    "        count+=1\n",
    "    else:\n",
    "        time+=1\n",
    "        count+=1\n",
    "    print('다리를 건너는 트럭: ',onbridge)\n",
    "    print('대기 트럭: ',truck_weights)\n",
    "    print('다리를 지난 트럭: ',afterbridge)\n",
    "    print('time:', time)\n",
    "    print('count: ',count)\n",
    "    print('********************************')\n",
    "\n",
    "    if len(truck_weights)==0:\n",
    "        count+=1\n",
    "        time+=1\n",
    "\n",
    "\n",
    "    if count%bridge_length==0:\n",
    "        afterbridge.append(onbridge.popleft())\n",
    "        if len(onbridge)>=1:\n",
    "            count+=1\n"
   ]
  },
  {
   "cell_type": "code",
   "execution_count": 162,
   "id": "ec67d2e4",
   "metadata": {},
   "outputs": [
    {
     "data": {
      "text/plain": [
       "10"
      ]
     },
     "execution_count": 162,
     "metadata": {},
     "output_type": "execute_result"
    }
   ],
   "source": [
    "count"
   ]
  },
  {
   "cell_type": "code",
   "execution_count": 200,
   "id": "638471cf",
   "metadata": {},
   "outputs": [],
   "source": [
    "bridge_length=100\n",
    "weight=100\n",
    "truck_weights=[10,10,10,10,10,10,10,10,10,10]"
   ]
  },
  {
   "cell_type": "code",
   "execution_count": 201,
   "id": "f0e41cab",
   "metadata": {},
   "outputs": [],
   "source": [
    "truck_weights=deque(truck_weights)\n",
    "# 다리 건너는 트럭\n",
    "onbridge=deque([])\n",
    "# 다리를 지난 트럭\n",
    "afterbridge=deque([])\n",
    "count=0\n",
    "time=0\n",
    "check=len(truck_weights)"
   ]
  },
  {
   "cell_type": "code",
   "execution_count": 202,
   "id": "7bc154a8",
   "metadata": {},
   "outputs": [
    {
     "data": {
      "text/plain": [
       "deque([])"
      ]
     },
     "execution_count": 202,
     "metadata": {},
     "output_type": "execute_result"
    }
   ],
   "source": [
    "onbridge"
   ]
  },
  {
   "cell_type": "code",
   "execution_count": 203,
   "id": "944178f7",
   "metadata": {},
   "outputs": [
    {
     "data": {
      "text/plain": [
       "deque([[10, 1],\n",
       "       [10, 2],\n",
       "       [10, 3],\n",
       "       [10, 4],\n",
       "       [10, 5],\n",
       "       [10, 6],\n",
       "       [10, 7],\n",
       "       [10, 8],\n",
       "       [10, 9],\n",
       "       [10, 10]])"
      ]
     },
     "execution_count": 203,
     "metadata": {},
     "output_type": "execute_result"
    }
   ],
   "source": [
    "while True:\n",
    "    if len(afterbridge)!=check:\n",
    "        afterbridge.append([truck_weights.popleft(),count+1])\n",
    "        count+=1\n",
    "    else:\n",
    "        pass\n",
    "    \n",
    "    if len(afterbridge)==10:\n",
    "        break\n",
    "    \n",
    "afterbridge"
   ]
  },
  {
   "cell_type": "code",
   "execution_count": 205,
   "id": "0f94b4a4",
   "metadata": {},
   "outputs": [],
   "source": [
    "bridge_length=100\n",
    "weight=100\n",
    "truck_weights=[10,10,10,10,10,10,10,10,10,10]"
   ]
  },
  {
   "cell_type": "code",
   "execution_count": 206,
   "id": "a14b8500",
   "metadata": {},
   "outputs": [
    {
     "name": "stdout",
     "output_type": "stream",
     "text": [
      "0\n",
      "1\n",
      "2\n",
      "3\n",
      "4\n",
      "5\n",
      "6\n",
      "7\n",
      "8\n",
      "9\n"
     ]
    }
   ],
   "source": [
    "queue=deque(truck_weights)\n",
    "onbridge=deque([])\n",
    "# 다리를 지난 트럭\n",
    "afterbridge=deque([])\n",
    "for i in range(len(truck_weights)):\n",
    "    onbridge.append(queue.popleft())\n",
    "    while sum(onbridge)<=weight:\n",
    "        count+=1\n",
    "        if count == bridge_length:\n",
    "            break\n",
    "    afterbridge.append(onbridge.popleft())"
   ]
  },
  {
   "cell_type": "code",
   "execution_count": null,
   "id": "efea41ae",
   "metadata": {},
   "outputs": [],
   "source": []
  }
 ],
 "metadata": {
  "kernelspec": {
   "display_name": "Python 3",
   "language": "python",
   "name": "python3"
  },
  "language_info": {
   "codemirror_mode": {
    "name": "ipython",
    "version": 3
   },
   "file_extension": ".py",
   "mimetype": "text/x-python",
   "name": "python",
   "nbconvert_exporter": "python",
   "pygments_lexer": "ipython3",
   "version": "3.6.13"
  }
 },
 "nbformat": 4,
 "nbformat_minor": 5
}
