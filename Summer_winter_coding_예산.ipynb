{
 "cells": [
  {
   "cell_type": "markdown",
   "id": "b5a7bb6f",
   "metadata": {},
   "source": [
    "- 2021년 10월 28일\n",
    "- 프로그래머스 예산\n",
    "- https://programmers.co.kr/learn/courses/30/lessons/12982"
   ]
  },
  {
   "cell_type": "code",
   "execution_count": 86,
   "id": "76e1bbd4",
   "metadata": {},
   "outputs": [],
   "source": [
    "d=[1,2,4]\n",
    "budget=9"
   ]
  },
  {
   "cell_type": "code",
   "execution_count": 83,
   "id": "7990421c",
   "metadata": {},
   "outputs": [],
   "source": [
    "from itertools import combinations\n",
    "def solution(d, budget):\n",
    "#     result=[]\n",
    "#     result.extend([list(combinations(d,x)) for x in range(1, len(d)+1)])\n",
    "    \n",
    "    result=[]\n",
    "    for i in range(1,len(d)+1):\n",
    "        result.extend(list(combinations(d,i)))\n",
    "    answer=[]\n",
    "    answer.extend([len(x) for x in result if sum(x)<=budget])\n",
    "    return max(answer)"
   ]
  },
  {
   "cell_type": "code",
   "execution_count": 89,
   "id": "f4a7326b",
   "metadata": {},
   "outputs": [],
   "source": [
    "from itertools import combinations\n",
    "def solution(d, budget):\n",
    "    answer=[]\n",
    "    for i in range(len(d), 0, -1):\n",
    "        for j in list(combinations(d,i)):\n",
    "            if sum(j)<=budget:\n",
    "                answer.append(len(j))\n",
    "                break\n",
    "    return max(answer)"
   ]
  },
  {
   "cell_type": "code",
   "execution_count": 88,
   "id": "85cdd24b",
   "metadata": {},
   "outputs": [
    {
     "data": {
      "text/plain": [
       "[(1, 2, 4)]"
      ]
     },
     "execution_count": 88,
     "metadata": {},
     "output_type": "execute_result"
    }
   ],
   "source": [
    "list(combinations(d,3))"
   ]
  },
  {
   "cell_type": "code",
   "execution_count": 90,
   "id": "05e67793",
   "metadata": {},
   "outputs": [
    {
     "data": {
      "text/plain": [
       "3"
      ]
     },
     "execution_count": 90,
     "metadata": {},
     "output_type": "execute_result"
    }
   ],
   "source": [
    "solution(d,budget)"
   ]
  },
  {
   "cell_type": "code",
   "execution_count": 53,
   "id": "eaa81bd5",
   "metadata": {},
   "outputs": [
    {
     "data": {
      "text/plain": [
       "[(1,),\n",
       " (3,),\n",
       " (2,),\n",
       " (5,),\n",
       " (4,),\n",
       " (1, 3),\n",
       " (1, 2),\n",
       " (1, 5),\n",
       " (1, 4),\n",
       " (3, 2),\n",
       " (3, 5),\n",
       " (3, 4),\n",
       " (2, 5),\n",
       " (2, 4),\n",
       " (5, 4),\n",
       " (1, 3, 2),\n",
       " (1, 3, 5),\n",
       " (1, 3, 4),\n",
       " (1, 2, 5),\n",
       " (1, 2, 4),\n",
       " (1, 5, 4),\n",
       " (3, 2, 5),\n",
       " (3, 2, 4),\n",
       " (3, 5, 4),\n",
       " (2, 5, 4),\n",
       " (1, 3, 2, 5),\n",
       " (1, 3, 2, 4),\n",
       " (1, 3, 5, 4),\n",
       " (1, 2, 5, 4),\n",
       " (3, 2, 5, 4),\n",
       " (1, 3, 2, 5, 4),\n",
       " [[(1,), (3,), (2,), (5,), (4,)],\n",
       "  [(1, 3),\n",
       "   (1, 2),\n",
       "   (1, 5),\n",
       "   (1, 4),\n",
       "   (3, 2),\n",
       "   (3, 5),\n",
       "   (3, 4),\n",
       "   (2, 5),\n",
       "   (2, 4),\n",
       "   (5, 4)],\n",
       "  [(1, 3, 2),\n",
       "   (1, 3, 5),\n",
       "   (1, 3, 4),\n",
       "   (1, 2, 5),\n",
       "   (1, 2, 4),\n",
       "   (1, 5, 4),\n",
       "   (3, 2, 5),\n",
       "   (3, 2, 4),\n",
       "   (3, 5, 4),\n",
       "   (2, 5, 4)],\n",
       "  [(1, 3, 2, 5), (1, 3, 2, 4), (1, 3, 5, 4), (1, 2, 5, 4), (3, 2, 5, 4)],\n",
       "  [(1, 3, 2, 5, 4)]]]"
      ]
     },
     "execution_count": 53,
     "metadata": {},
     "output_type": "execute_result"
    }
   ],
   "source": [
    "result.append([list(combinations(d,x)) for x in range(1, len(d)+1)])\n",
    "result"
   ]
  },
  {
   "cell_type": "code",
   "execution_count": 49,
   "id": "c2042256",
   "metadata": {},
   "outputs": [
    {
     "ename": "TypeError",
     "evalue": "unsupported operand type(s) for +: 'int' and 'tuple'",
     "output_type": "error",
     "traceback": [
      "\u001b[1;31m---------------------------------------------------------------------------\u001b[0m",
      "\u001b[1;31mTypeError\u001b[0m                                 Traceback (most recent call last)",
      "\u001b[1;32m<ipython-input-49-04b47df98f50>\u001b[0m in \u001b[0;36m<module>\u001b[1;34m\u001b[0m\n\u001b[0;32m      1\u001b[0m \u001b[0manswer\u001b[0m\u001b[1;33m=\u001b[0m\u001b[1;33m[\u001b[0m\u001b[1;33m]\u001b[0m\u001b[1;33m\u001b[0m\u001b[1;33m\u001b[0m\u001b[0m\n\u001b[1;32m----> 2\u001b[1;33m \u001b[0manswer\u001b[0m\u001b[1;33m.\u001b[0m\u001b[0mextend\u001b[0m\u001b[1;33m(\u001b[0m\u001b[1;33m[\u001b[0m\u001b[0mlen\u001b[0m\u001b[1;33m(\u001b[0m\u001b[0mx\u001b[0m\u001b[1;33m)\u001b[0m \u001b[1;32mfor\u001b[0m \u001b[0mx\u001b[0m \u001b[1;32min\u001b[0m \u001b[0mresult\u001b[0m \u001b[1;32mif\u001b[0m \u001b[0msum\u001b[0m\u001b[1;33m(\u001b[0m\u001b[0mx\u001b[0m\u001b[1;33m)\u001b[0m\u001b[1;33m==\u001b[0m\u001b[0mbudget\u001b[0m\u001b[1;33m]\u001b[0m\u001b[1;33m)\u001b[0m\u001b[1;33m\u001b[0m\u001b[1;33m\u001b[0m\u001b[0m\n\u001b[0m\u001b[0;32m      3\u001b[0m \u001b[0manswer\u001b[0m\u001b[1;33m\u001b[0m\u001b[1;33m\u001b[0m\u001b[0m\n",
      "\u001b[1;32m<ipython-input-49-04b47df98f50>\u001b[0m in \u001b[0;36m<listcomp>\u001b[1;34m(.0)\u001b[0m\n\u001b[0;32m      1\u001b[0m \u001b[0manswer\u001b[0m\u001b[1;33m=\u001b[0m\u001b[1;33m[\u001b[0m\u001b[1;33m]\u001b[0m\u001b[1;33m\u001b[0m\u001b[1;33m\u001b[0m\u001b[0m\n\u001b[1;32m----> 2\u001b[1;33m \u001b[0manswer\u001b[0m\u001b[1;33m.\u001b[0m\u001b[0mextend\u001b[0m\u001b[1;33m(\u001b[0m\u001b[1;33m[\u001b[0m\u001b[0mlen\u001b[0m\u001b[1;33m(\u001b[0m\u001b[0mx\u001b[0m\u001b[1;33m)\u001b[0m \u001b[1;32mfor\u001b[0m \u001b[0mx\u001b[0m \u001b[1;32min\u001b[0m \u001b[0mresult\u001b[0m \u001b[1;32mif\u001b[0m \u001b[0msum\u001b[0m\u001b[1;33m(\u001b[0m\u001b[0mx\u001b[0m\u001b[1;33m)\u001b[0m\u001b[1;33m==\u001b[0m\u001b[0mbudget\u001b[0m\u001b[1;33m]\u001b[0m\u001b[1;33m)\u001b[0m\u001b[1;33m\u001b[0m\u001b[1;33m\u001b[0m\u001b[0m\n\u001b[0m\u001b[0;32m      3\u001b[0m \u001b[0manswer\u001b[0m\u001b[1;33m\u001b[0m\u001b[1;33m\u001b[0m\u001b[0m\n",
      "\u001b[1;31mTypeError\u001b[0m: unsupported operand type(s) for +: 'int' and 'tuple'"
     ]
    }
   ],
   "source": [
    "answer=[]\n",
    "answer.extend([len(x) for x in result if sum(x)==budget])\n",
    "answer"
   ]
  },
  {
   "cell_type": "code",
   "execution_count": 42,
   "id": "5aa6528f",
   "metadata": {},
   "outputs": [
    {
     "name": "stdout",
     "output_type": "stream",
     "text": [
      "[[(1,), (3,), (2,), (5,), (4,)], [(1, 3), (1, 2), (1, 5), (1, 4), (3, 2), (3, 5), (3, 4), (2, 5), (2, 4), (5, 4)], [(1, 3, 2), (1, 3, 5), (1, 3, 4), (1, 2, 5), (1, 2, 4), (1, 5, 4), (3, 2, 5), (3, 2, 4), (3, 5, 4), (2, 5, 4)], [(1, 3, 2, 5), (1, 3, 2, 4), (1, 3, 5, 4), (1, 2, 5, 4), (3, 2, 5, 4)], [(1, 3, 2, 5, 4)]]\n"
     ]
    },
    {
     "ename": "TypeError",
     "evalue": "unsupported operand type(s) for +: 'int' and 'tuple'",
     "output_type": "error",
     "traceback": [
      "\u001b[1;31m---------------------------------------------------------------------------\u001b[0m",
      "\u001b[1;31mTypeError\u001b[0m                                 Traceback (most recent call last)",
      "\u001b[1;32m<ipython-input-42-eefb331c412c>\u001b[0m in \u001b[0;36m<module>\u001b[1;34m\u001b[0m\n\u001b[1;32m----> 1\u001b[1;33m \u001b[0msolution\u001b[0m\u001b[1;33m(\u001b[0m\u001b[0md\u001b[0m\u001b[1;33m,\u001b[0m\u001b[0mbudget\u001b[0m\u001b[1;33m)\u001b[0m\u001b[1;33m\u001b[0m\u001b[1;33m\u001b[0m\u001b[0m\n\u001b[0m",
      "\u001b[1;32m<ipython-input-41-955061fd475a>\u001b[0m in \u001b[0;36msolution\u001b[1;34m(d, budget)\u001b[0m\n\u001b[0;32m      5\u001b[0m     \u001b[0mprint\u001b[0m\u001b[1;33m(\u001b[0m\u001b[0mresult\u001b[0m\u001b[1;33m)\u001b[0m\u001b[1;33m\u001b[0m\u001b[1;33m\u001b[0m\u001b[0m\n\u001b[0;32m      6\u001b[0m     \u001b[0manswer\u001b[0m\u001b[1;33m=\u001b[0m\u001b[1;33m[\u001b[0m\u001b[1;33m]\u001b[0m\u001b[1;33m\u001b[0m\u001b[1;33m\u001b[0m\u001b[0m\n\u001b[1;32m----> 7\u001b[1;33m     \u001b[0manswer\u001b[0m\u001b[1;33m.\u001b[0m\u001b[0mextend\u001b[0m\u001b[1;33m(\u001b[0m\u001b[1;33m[\u001b[0m\u001b[0mlen\u001b[0m\u001b[1;33m(\u001b[0m\u001b[0mx\u001b[0m\u001b[1;33m)\u001b[0m \u001b[1;32mfor\u001b[0m \u001b[0mx\u001b[0m \u001b[1;32min\u001b[0m \u001b[0mresult\u001b[0m \u001b[1;32mif\u001b[0m \u001b[0msum\u001b[0m\u001b[1;33m(\u001b[0m\u001b[0mx\u001b[0m\u001b[1;33m)\u001b[0m\u001b[1;33m==\u001b[0m\u001b[0mbudget\u001b[0m\u001b[1;33m]\u001b[0m\u001b[1;33m)\u001b[0m\u001b[1;33m\u001b[0m\u001b[1;33m\u001b[0m\u001b[0m\n\u001b[0m\u001b[0;32m      8\u001b[0m     \u001b[0mprint\u001b[0m\u001b[1;33m(\u001b[0m\u001b[0manswer\u001b[0m\u001b[1;33m)\u001b[0m\u001b[1;33m\u001b[0m\u001b[1;33m\u001b[0m\u001b[0m\n\u001b[0;32m      9\u001b[0m     \u001b[1;32mreturn\u001b[0m \u001b[0mmax\u001b[0m\u001b[1;33m(\u001b[0m\u001b[0manswer\u001b[0m\u001b[1;33m)\u001b[0m\u001b[1;33m\u001b[0m\u001b[1;33m\u001b[0m\u001b[0m\n",
      "\u001b[1;32m<ipython-input-41-955061fd475a>\u001b[0m in \u001b[0;36m<listcomp>\u001b[1;34m(.0)\u001b[0m\n\u001b[0;32m      5\u001b[0m     \u001b[0mprint\u001b[0m\u001b[1;33m(\u001b[0m\u001b[0mresult\u001b[0m\u001b[1;33m)\u001b[0m\u001b[1;33m\u001b[0m\u001b[1;33m\u001b[0m\u001b[0m\n\u001b[0;32m      6\u001b[0m     \u001b[0manswer\u001b[0m\u001b[1;33m=\u001b[0m\u001b[1;33m[\u001b[0m\u001b[1;33m]\u001b[0m\u001b[1;33m\u001b[0m\u001b[1;33m\u001b[0m\u001b[0m\n\u001b[1;32m----> 7\u001b[1;33m     \u001b[0manswer\u001b[0m\u001b[1;33m.\u001b[0m\u001b[0mextend\u001b[0m\u001b[1;33m(\u001b[0m\u001b[1;33m[\u001b[0m\u001b[0mlen\u001b[0m\u001b[1;33m(\u001b[0m\u001b[0mx\u001b[0m\u001b[1;33m)\u001b[0m \u001b[1;32mfor\u001b[0m \u001b[0mx\u001b[0m \u001b[1;32min\u001b[0m \u001b[0mresult\u001b[0m \u001b[1;32mif\u001b[0m \u001b[0msum\u001b[0m\u001b[1;33m(\u001b[0m\u001b[0mx\u001b[0m\u001b[1;33m)\u001b[0m\u001b[1;33m==\u001b[0m\u001b[0mbudget\u001b[0m\u001b[1;33m]\u001b[0m\u001b[1;33m)\u001b[0m\u001b[1;33m\u001b[0m\u001b[1;33m\u001b[0m\u001b[0m\n\u001b[0m\u001b[0;32m      8\u001b[0m     \u001b[0mprint\u001b[0m\u001b[1;33m(\u001b[0m\u001b[0manswer\u001b[0m\u001b[1;33m)\u001b[0m\u001b[1;33m\u001b[0m\u001b[1;33m\u001b[0m\u001b[0m\n\u001b[0;32m      9\u001b[0m     \u001b[1;32mreturn\u001b[0m \u001b[0mmax\u001b[0m\u001b[1;33m(\u001b[0m\u001b[0manswer\u001b[0m\u001b[1;33m)\u001b[0m\u001b[1;33m\u001b[0m\u001b[1;33m\u001b[0m\u001b[0m\n",
      "\u001b[1;31mTypeError\u001b[0m: unsupported operand type(s) for +: 'int' and 'tuple'"
     ]
    }
   ],
   "source": [
    "solution(d,budget)"
   ]
  },
  {
   "cell_type": "code",
   "execution_count": 26,
   "id": "b0cb2cef",
   "metadata": {},
   "outputs": [
    {
     "data": {
      "text/plain": [
       "[(2,),\n",
       " (2,),\n",
       " (3,),\n",
       " (3,),\n",
       " (2, 2),\n",
       " (2, 3),\n",
       " (2, 3),\n",
       " (2, 3),\n",
       " (2, 3),\n",
       " (3, 3),\n",
       " (2, 2, 3),\n",
       " (2, 2, 3),\n",
       " (2, 3, 3),\n",
       " (2, 3, 3),\n",
       " (2, 2, 3, 3)]"
      ]
     },
     "execution_count": 26,
     "metadata": {},
     "output_type": "execute_result"
    }
   ],
   "source": [
    "result"
   ]
  },
  {
   "cell_type": "code",
   "execution_count": 23,
   "id": "a639e3e6",
   "metadata": {},
   "outputs": [
    {
     "name": "stdout",
     "output_type": "stream",
     "text": [
      "[2, 3, 3]\n"
     ]
    },
    {
     "data": {
      "text/plain": [
       "3"
      ]
     },
     "execution_count": 23,
     "metadata": {},
     "output_type": "execute_result"
    }
   ],
   "source": [
    "solution(d,budget)"
   ]
  },
  {
   "cell_type": "code",
   "execution_count": 59,
   "id": "b5a6ce15",
   "metadata": {},
   "outputs": [],
   "source": [
    "result=[]"
   ]
  },
  {
   "cell_type": "code",
   "execution_count": 54,
   "id": "1e3a2c98",
   "metadata": {
    "collapsed": true
   },
   "outputs": [
    {
     "data": {
      "text/plain": [
       "[(1,),\n",
       " (3,),\n",
       " (2,),\n",
       " (5,),\n",
       " (4,),\n",
       " (1, 3),\n",
       " (1, 2),\n",
       " (1, 5),\n",
       " (1, 4),\n",
       " (3, 2),\n",
       " (3, 5),\n",
       " (3, 4),\n",
       " (2, 5),\n",
       " (2, 4),\n",
       " (5, 4),\n",
       " (1, 3, 2),\n",
       " (1, 3, 5),\n",
       " (1, 3, 4),\n",
       " (1, 2, 5),\n",
       " (1, 2, 4),\n",
       " (1, 5, 4),\n",
       " (3, 2, 5),\n",
       " (3, 2, 4),\n",
       " (3, 5, 4),\n",
       " (2, 5, 4),\n",
       " (1, 3, 2, 5),\n",
       " (1, 3, 2, 4),\n",
       " (1, 3, 5, 4),\n",
       " (1, 2, 5, 4),\n",
       " (3, 2, 5, 4),\n",
       " (1, 3, 2, 5, 4),\n",
       " [[(1,), (3,), (2,), (5,), (4,)],\n",
       "  [(1, 3),\n",
       "   (1, 2),\n",
       "   (1, 5),\n",
       "   (1, 4),\n",
       "   (3, 2),\n",
       "   (3, 5),\n",
       "   (3, 4),\n",
       "   (2, 5),\n",
       "   (2, 4),\n",
       "   (5, 4)],\n",
       "  [(1, 3, 2),\n",
       "   (1, 3, 5),\n",
       "   (1, 3, 4),\n",
       "   (1, 2, 5),\n",
       "   (1, 2, 4),\n",
       "   (1, 5, 4),\n",
       "   (3, 2, 5),\n",
       "   (3, 2, 4),\n",
       "   (3, 5, 4),\n",
       "   (2, 5, 4)],\n",
       "  [(1, 3, 2, 5), (1, 3, 2, 4), (1, 3, 5, 4), (1, 2, 5, 4), (3, 2, 5, 4)],\n",
       "  [(1, 3, 2, 5, 4)]],\n",
       " [(1,), (3,), (2,), (5,), (4,)],\n",
       " [(1, 3),\n",
       "  (1, 2),\n",
       "  (1, 5),\n",
       "  (1, 4),\n",
       "  (3, 2),\n",
       "  (3, 5),\n",
       "  (3, 4),\n",
       "  (2, 5),\n",
       "  (2, 4),\n",
       "  (5, 4)],\n",
       " [(1, 3, 2),\n",
       "  (1, 3, 5),\n",
       "  (1, 3, 4),\n",
       "  (1, 2, 5),\n",
       "  (1, 2, 4),\n",
       "  (1, 5, 4),\n",
       "  (3, 2, 5),\n",
       "  (3, 2, 4),\n",
       "  (3, 5, 4),\n",
       "  (2, 5, 4)],\n",
       " [(1, 3, 2, 5), (1, 3, 2, 4), (1, 3, 5, 4), (1, 2, 5, 4), (3, 2, 5, 4)],\n",
       " [(1, 3, 2, 5, 4)]]"
      ]
     },
     "execution_count": 54,
     "metadata": {},
     "output_type": "execute_result"
    }
   ],
   "source": [
    "result.extend([list(combinations(d,x)) for x in range(1, len(d)+1)])\n",
    "result"
   ]
  },
  {
   "cell_type": "code",
   "execution_count": 60,
   "id": "384eb49c",
   "metadata": {},
   "outputs": [
    {
     "data": {
      "text/plain": [
       "[<itertools.combinations at 0x2aa2f4d5400>,\n",
       " <itertools.combinations at 0x2aa2f4eeb30>,\n",
       " <itertools.combinations at 0x2aa2f4eebd0>,\n",
       " <itertools.combinations at 0x2aa2f4eec70>,\n",
       " <itertools.combinations at 0x2aa2f4eed10>]"
      ]
     },
     "execution_count": 60,
     "metadata": {},
     "output_type": "execute_result"
    }
   ],
   "source": [
    "result.extend([combinations(d,x) for x in range(1, len(d)+1)])\n",
    "result"
   ]
  },
  {
   "cell_type": "code",
   "execution_count": 50,
   "id": "1ce1521d",
   "metadata": {},
   "outputs": [],
   "source": [
    "result=[]\n",
    "for i in range(1,len(d)+1):\n",
    "    result.extend(list(combinations(d,i)))"
   ]
  },
  {
   "cell_type": "code",
   "execution_count": 51,
   "id": "caee2b31",
   "metadata": {},
   "outputs": [
    {
     "data": {
      "text/plain": [
       "[(1,),\n",
       " (3,),\n",
       " (2,),\n",
       " (5,),\n",
       " (4,),\n",
       " (1, 3),\n",
       " (1, 2),\n",
       " (1, 5),\n",
       " (1, 4),\n",
       " (3, 2),\n",
       " (3, 5),\n",
       " (3, 4),\n",
       " (2, 5),\n",
       " (2, 4),\n",
       " (5, 4),\n",
       " (1, 3, 2),\n",
       " (1, 3, 5),\n",
       " (1, 3, 4),\n",
       " (1, 2, 5),\n",
       " (1, 2, 4),\n",
       " (1, 5, 4),\n",
       " (3, 2, 5),\n",
       " (3, 2, 4),\n",
       " (3, 5, 4),\n",
       " (2, 5, 4),\n",
       " (1, 3, 2, 5),\n",
       " (1, 3, 2, 4),\n",
       " (1, 3, 5, 4),\n",
       " (1, 2, 5, 4),\n",
       " (3, 2, 5, 4),\n",
       " (1, 3, 2, 5, 4)]"
      ]
     },
     "execution_count": 51,
     "metadata": {},
     "output_type": "execute_result"
    }
   ],
   "source": [
    "result"
   ]
  },
  {
   "cell_type": "code",
   "execution_count": null,
   "id": "49e0d3c5",
   "metadata": {},
   "outputs": [],
   "source": []
  }
 ],
 "metadata": {
  "kernelspec": {
   "display_name": "Python 3",
   "language": "python",
   "name": "python3"
  },
  "language_info": {
   "codemirror_mode": {
    "name": "ipython",
    "version": 3
   },
   "file_extension": ".py",
   "mimetype": "text/x-python",
   "name": "python",
   "nbconvert_exporter": "python",
   "pygments_lexer": "ipython3",
   "version": "3.8.8"
  }
 },
 "nbformat": 4,
 "nbformat_minor": 5
}
