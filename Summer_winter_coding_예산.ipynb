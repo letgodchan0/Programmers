{
 "cells": [
  {
   "cell_type": "markdown",
   "id": "a3ef0dd6",
   "metadata": {},
   "source": [
    "- 2021년 10월 28일\n",
    "- 프로그래머스 예산\n",
    "- https://programmers.co.kr/learn/courses/30/lessons/12982"
   ]
  },
  {
   "cell_type": "code",
   "execution_count": 86,
   "id": "abb7c0df",
   "metadata": {},
   "outputs": [],
   "source": [
    "d=[1,2,4]\n",
    "budget=9"
   ]
  },
  {
   "cell_type": "code",
   "execution_count": 83,
   "id": "0b7f13fc",
   "metadata": {},
   "outputs": [],
   "source": [
    "from itertools import combinations\n",
    "def solution(d, budget):\n",
    "#     result=[]\n",
    "#     result.extend([list(combinations(d,x)) for x in range(1, len(d)+1)])\n",
    "    \n",
    "    result=[]\n",
    "    for i in range(1,len(d)+1):\n",
    "        result.extend(list(combinations(d,i)))\n",
    "    answer=[]\n",
    "    answer.extend([len(x) for x in result if sum(x)<=budget])\n",
    "    return max(answer)"
   ]
  },
  {
   "cell_type": "code",
   "execution_count": 91,
   "id": "39ee19bf",
   "metadata": {},
   "outputs": [
    {
     "ename": "SyntaxError",
     "evalue": "invalid syntax (<ipython-input-91-1bf7f235834c>, line 3)",
     "output_type": "error",
     "traceback": [
      "\u001b[1;36m  File \u001b[1;32m\"<ipython-input-91-1bf7f235834c>\"\u001b[1;36m, line \u001b[1;32m3\u001b[0m\n\u001b[1;33m    return max(a[len(j) for i in range(len(d),0,-1) for j in list(combinations(d,i)) if sum(j)<=budget break])\u001b[0m\n\u001b[1;37m                        ^\u001b[0m\n\u001b[1;31mSyntaxError\u001b[0m\u001b[1;31m:\u001b[0m invalid syntax\n"
     ]
    }
   ],
   "source": [
    "from itertools import combinations\n",
    "def solution(d, budget):\n",
    "    return max(a[len(j) for i in range(len(d),0,-1) for j in list(combinations(d,i)) if sum(j)<=budget break])"
   ]
  },
  {
   "cell_type": "code",
   "execution_count": null,
   "id": "b606220f",
   "metadata": {},
   "outputs": [],
   "source": [
    "[len(j) for i in range(len(d),0,-1) for j in list(combinations(d,i)) if sum(j)<=budget break]"
   ]
  },
  {
   "cell_type": "code",
   "execution_count": 88,
   "id": "66520cbe",
   "metadata": {},
   "outputs": [
    {
     "data": {
      "text/plain": [
       "[(1, 2, 4)]"
      ]
     },
     "execution_count": 88,
     "metadata": {},
     "output_type": "execute_result"
    }
   ],
   "source": [
    "list(combinations(d,3))"
   ]
  },
  {
   "cell_type": "code",
   "execution_count": 90,
   "id": "75af62e9",
   "metadata": {},
   "outputs": [
    {
     "data": {
      "text/plain": [
       "3"
      ]
     },
     "execution_count": 90,
     "metadata": {},
     "output_type": "execute_result"
    }
   ],
   "source": [
    "solution(d,budget)"
   ]
  },
  {
   "cell_type": "code",
   "execution_count": 53,
   "id": "1b66f91a",
   "metadata": {},
   "outputs": [
    {
     "data": {
      "text/plain": [
       "[(1,),\n",
       " (3,),\n",
       " (2,),\n",
       " (5,),\n",
       " (4,),\n",
       " (1, 3),\n",
       " (1, 2),\n",
       " (1, 5),\n",
       " (1, 4),\n",
       " (3, 2),\n",
       " (3, 5),\n",
       " (3, 4),\n",
       " (2, 5),\n",
       " (2, 4),\n",
       " (5, 4),\n",
       " (1, 3, 2),\n",
       " (1, 3, 5),\n",
       " (1, 3, 4),\n",
       " (1, 2, 5),\n",
       " (1, 2, 4),\n",
       " (1, 5, 4),\n",
       " (3, 2, 5),\n",
       " (3, 2, 4),\n",
       " (3, 5, 4),\n",
       " (2, 5, 4),\n",
       " (1, 3, 2, 5),\n",
       " (1, 3, 2, 4),\n",
       " (1, 3, 5, 4),\n",
       " (1, 2, 5, 4),\n",
       " (3, 2, 5, 4),\n",
       " (1, 3, 2, 5, 4),\n",
       " [[(1,), (3,), (2,), (5,), (4,)],\n",
       "  [(1, 3),\n",
       "   (1, 2),\n",
       "   (1, 5),\n",
       "   (1, 4),\n",
       "   (3, 2),\n",
       "   (3, 5),\n",
       "   (3, 4),\n",
       "   (2, 5),\n",
       "   (2, 4),\n",
       "   (5, 4)],\n",
       "  [(1, 3, 2),\n",
       "   (1, 3, 5),\n",
       "   (1, 3, 4),\n",
       "   (1, 2, 5),\n",
       "   (1, 2, 4),\n",
       "   (1, 5, 4),\n",
       "   (3, 2, 5),\n",
       "   (3, 2, 4),\n",
       "   (3, 5, 4),\n",
       "   (2, 5, 4)],\n",
       "  [(1, 3, 2, 5), (1, 3, 2, 4), (1, 3, 5, 4), (1, 2, 5, 4), (3, 2, 5, 4)],\n",
       "  [(1, 3, 2, 5, 4)]]]"
      ]
     },
     "execution_count": 53,
     "metadata": {},
     "output_type": "execute_result"
    }
   ],
   "source": [
    "result.append([list(combinations(d,x)) for x in range(1, len(d)+1)])\n",
    "result"
   ]
  },
  {
   "cell_type": "code",
   "execution_count": 97,
   "id": "ef85093e",
   "metadata": {},
   "outputs": [
    {
     "data": {
      "text/plain": [
       "[(1,), (2,), (4,), (1, 2), (1, 4), (2, 4), (1, 2, 4)]"
      ]
     },
     "execution_count": 97,
     "metadata": {},
     "output_type": "execute_result"
    }
   ],
   "source": [
    "result"
   ]
  },
  {
   "cell_type": "code",
   "execution_count": null,
   "id": "156155d0",
   "metadata": {},
   "outputs": [],
   "source": []
  }
 ],
 "metadata": {
  "kernelspec": {
   "display_name": "Python 3",
   "language": "python",
   "name": "python3"
  },
  "language_info": {
   "codemirror_mode": {
    "name": "ipython",
    "version": 3
   },
   "file_extension": ".py",
   "mimetype": "text/x-python",
   "name": "python",
   "nbconvert_exporter": "python",
   "pygments_lexer": "ipython3",
   "version": "3.8.8"
  }
 },
 "nbformat": 4,
 "nbformat_minor": 5
}
