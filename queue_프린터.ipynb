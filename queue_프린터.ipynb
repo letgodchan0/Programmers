{
 "cells": [
  {
   "cell_type": "markdown",
   "id": "6708b1d7",
   "metadata": {},
   "source": [
    "- 2021년 11월 17일\n",
    "- 프로그래머스 프린터\n",
    "- https://programmers.co.kr/learn/courses/30/lessons/42587"
   ]
  },
  {
   "cell_type": "code",
   "execution_count": 1,
   "id": "80b9a728",
   "metadata": {},
   "outputs": [],
   "source": [
    "priorities = [1, 1, 9, 1, 1, 1]\n",
    "location = 0"
   ]
  },
  {
   "cell_type": "code",
   "execution_count": 2,
   "id": "0e5be43c",
   "metadata": {},
   "outputs": [],
   "source": [
    "from collections import deque\n",
    "def solution(priorities, location):\n",
    "    dq = deque(priorities)\n",
    "    rank = deque(list(zip(priorities, range(len(priorities)))))\n",
    "    result=[]\n",
    "    while len(dq)!=0:\n",
    "        if dq[0] < max(dq):\n",
    "            dq.append(dq.popleft())\n",
    "            rank.append(rank.popleft())\n",
    "        else:\n",
    "            dq.popleft()\n",
    "            result.append(rank.popleft())\n",
    "            \n",
    "    return result.index((priorities[location],location))+1"
   ]
  },
  {
   "cell_type": "code",
   "execution_count": 3,
   "id": "63c707db",
   "metadata": {},
   "outputs": [
    {
     "data": {
      "text/plain": [
       "5"
      ]
     },
     "execution_count": 3,
     "metadata": {},
     "output_type": "execute_result"
    }
   ],
   "source": [
    "solution(priorities, location)"
   ]
  },
  {
   "cell_type": "markdown",
   "id": "90787d93",
   "metadata": {},
   "source": [
    "- 다른 사람 풀이"
   ]
  },
  {
   "cell_type": "code",
   "execution_count": 4,
   "id": "5e1564b4",
   "metadata": {},
   "outputs": [],
   "source": [
    "def solution(priorities, location):\n",
    "    queue =  [(i,p) for i,p in enumerate(priorities)]\n",
    "    answer = 0\n",
    "    while True:\n",
    "        cur = queue.pop(0)\n",
    "        if any(cur[1] < q[1] for q in queue):\n",
    "            queue.append(cur)\n",
    "        else:\n",
    "            answer += 1\n",
    "            if cur[0] == location:\n",
    "                return answer"
   ]
  },
  {
   "cell_type": "markdown",
   "id": "e26b79c1",
   "metadata": {},
   "source": [
    "- 여기서는 신기하게 any를 사용했다.."
   ]
  },
  {
   "cell_type": "code",
   "execution_count": null,
   "id": "c9a0a731",
   "metadata": {},
   "outputs": [],
   "source": []
  }
 ],
 "metadata": {
  "kernelspec": {
   "display_name": "Python 3",
   "language": "python",
   "name": "python3"
  },
  "language_info": {
   "codemirror_mode": {
    "name": "ipython",
    "version": 3
   },
   "file_extension": ".py",
   "mimetype": "text/x-python",
   "name": "python",
   "nbconvert_exporter": "python",
   "pygments_lexer": "ipython3",
   "version": "3.8.8"
  }
 },
 "nbformat": 4,
 "nbformat_minor": 5
}
