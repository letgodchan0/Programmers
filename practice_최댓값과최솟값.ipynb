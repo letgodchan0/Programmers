{
 "cells": [
  {
   "cell_type": "markdown",
   "id": "fbfcddfc",
   "metadata": {},
   "source": [
    "- 2021년 12월 6일\n",
    "- 프로그래머스 최댓값과 최솟값\n",
    "- https://programmers.co.kr/learn/courses/30/lessons/12939"
   ]
  },
  {
   "cell_type": "code",
   "execution_count": 1,
   "id": "dd6af150",
   "metadata": {},
   "outputs": [],
   "source": [
    "s=\"-1 -2 -3 -4\""
   ]
  },
  {
   "cell_type": "code",
   "execution_count": 2,
   "id": "a07c7eb3",
   "metadata": {},
   "outputs": [],
   "source": [
    "def solution(s):\n",
    "    return str(min(map(int,s.split(' '))))+' '+str(max(map(int,s.split(' '))))"
   ]
  },
  {
   "cell_type": "code",
   "execution_count": 3,
   "id": "456386d1",
   "metadata": {},
   "outputs": [
    {
     "data": {
      "text/plain": [
       "'-4 -1'"
      ]
     },
     "execution_count": 3,
     "metadata": {},
     "output_type": "execute_result"
    }
   ],
   "source": [
    "solution(s)"
   ]
  },
  {
   "cell_type": "code",
   "execution_count": null,
   "id": "67f84ff2",
   "metadata": {},
   "outputs": [],
   "source": []
  }
 ],
 "metadata": {
  "kernelspec": {
   "display_name": "Python 3",
   "language": "python",
   "name": "python3"
  },
  "language_info": {
   "codemirror_mode": {
    "name": "ipython",
    "version": 3
   },
   "file_extension": ".py",
   "mimetype": "text/x-python",
   "name": "python",
   "nbconvert_exporter": "python",
   "pygments_lexer": "ipython3",
   "version": "3.8.8"
  }
 },
 "nbformat": 4,
 "nbformat_minor": 5
}
