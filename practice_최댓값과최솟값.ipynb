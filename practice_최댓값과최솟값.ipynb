{
 "cells": [
  {
   "cell_type": "markdown",
   "id": "3c637fdb",
   "metadata": {},
   "source": [
    "- 2021년 12월 6일\n",
    "- 프로그래머스 최댓값과 최솟값\n",
    "- https://programmers.co.kr/learn/courses/30/lessons/12939"
   ]
  },
  {
   "cell_type": "code",
   "execution_count": 1,
   "id": "01c17ae3",
   "metadata": {},
   "outputs": [],
   "source": [
    "s=\"-1 -2 -3 -4\""
   ]
  },
  {
   "cell_type": "code",
   "execution_count": 2,
   "id": "0c96cef4",
   "metadata": {},
   "outputs": [],
   "source": [
    "def solution(s):\n",
    "    return str(min(map(int,s.split(' '))))+' '+str(max(map(int,s.split(' '))))"
   ]
  },
  {
   "cell_type": "code",
   "execution_count": 3,
   "id": "5d14e3ac",
   "metadata": {},
   "outputs": [
    {
     "data": {
      "text/plain": [
       "'-4 -1'"
      ]
     },
     "execution_count": 3,
     "metadata": {},
     "output_type": "execute_result"
    }
   ],
   "source": [
    "solution(s)"
   ]
  },
  {
   "cell_type": "markdown",
   "id": "df2ba808",
   "metadata": {},
   "source": [
    "- 다른풀이\n",
    "- 누가 올려놓은건데.. 근성.."
   ]
  },
  {
   "cell_type": "code",
   "execution_count": 4,
   "id": "9fdc5f0a",
   "metadata": {},
   "outputs": [],
   "source": [
    "def solution(s):\n",
    "    t = []\n",
    "    if s[0] != \"-\":\n",
    "        s = \"+\" + s\n",
    "    for i in range(0, len(s)):\n",
    "        t += [s[i]]\n",
    "    for i in range(0, len(t)):\n",
    "        if t[i] == \" \" and t[i+1] != \"-\":\n",
    "            t.insert(i+1, \"+\")\n",
    "    for i in range(1, len(t)):\n",
    "        if t[len(t)-i] == \" \" and t[len(t)+1-i] != \"-\":\n",
    "            t.insert(len(t)+1-i, \"+\")\n",
    "            break\n",
    "    print(t)\n",
    "    result = []\n",
    "    midcount1 = \"\"\n",
    "    midcount2 = \"\"\n",
    "    for i in range(len(t)):\n",
    "\n",
    "        if t[i] == \"-\": \n",
    "            for j in range(i+1, len(t)):\n",
    "                if t[j] != \" \":\n",
    "                    midcount1 = midcount1 + t[j]\n",
    "                    if j == len(t)-1:\n",
    "                        result += [-int(midcount1)]\n",
    "                        midcount1 = \"\"\n",
    "                        break\n",
    "                elif t[j] == \" \":\n",
    "                    print(midcount1)\n",
    "                    result += [-int(midcount1)]\n",
    "                    midcount1 = \"\"\n",
    "                    break\n",
    "\n",
    "        elif t[i] == \"+\":\n",
    "            for j in range(i+1, len(t)):\n",
    "                if t[j] != \" \":\n",
    "                    midcount2 = midcount2 + t[j]\n",
    "                    if j == len(t)-1:\n",
    "                        result += [int(midcount2)]\n",
    "                        midcount2 = \"\"\n",
    "                        break\n",
    "                elif t[j] == \" \":\n",
    "                    print(midcount2)\n",
    "                    result += [int(midcount2)]\n",
    "                    midcount2 = \"\"\n",
    "                    break\n",
    "\n",
    "\n",
    "    print(result)\n",
    "    resultmax = int(result[0])\n",
    "    resultmin = int(result[0])\n",
    "    for i in range(len(result)):\n",
    "        if resultmax < result[i]:\n",
    "            resultmax = result[i]\n",
    "    for i in range(len(result)):\n",
    "        if resultmin > result[i]:\n",
    "            resultmin = result[i]\n",
    "    return \"%s %s\" % (resultmin, resultmax)"
   ]
  },
  {
   "cell_type": "code",
   "execution_count": null,
   "id": "455820a2",
   "metadata": {},
   "outputs": [],
   "source": []
  }
 ],
 "metadata": {
  "kernelspec": {
   "display_name": "Python 3",
   "language": "python",
   "name": "python3"
  },
  "language_info": {
   "codemirror_mode": {
    "name": "ipython",
    "version": 3
   },
   "file_extension": ".py",
   "mimetype": "text/x-python",
   "name": "python",
   "nbconvert_exporter": "python",
   "pygments_lexer": "ipython3",
   "version": "3.8.8"
  }
 },
 "nbformat": 4,
 "nbformat_minor": 5
}
