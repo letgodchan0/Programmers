{
 "cells": [
  {
   "cell_type": "markdown",
   "id": "bf7c6390",
   "metadata": {},
   "source": [
    "- 2021년 12월 2일\n",
    "- 프로그래머스 JadenCase 문자열 만들기\n",
    "- https://programmers.co.kr/learn/courses/30/lessons/12951"
   ]
  },
  {
   "cell_type": "code",
   "execution_count": 1,
   "id": "3c562786",
   "metadata": {},
   "outputs": [],
   "source": [
    "s=\"3people unFollowed me\""
   ]
  },
  {
   "cell_type": "code",
   "execution_count": 10,
   "id": "59595eb6",
   "metadata": {},
   "outputs": [],
   "source": [
    "def solution(s):\n",
    "    return ' '.join(list(map(lambda x:x.replace(x[0],x[0].upper()), s.lower().split(' '))))"
   ]
  },
  {
   "cell_type": "code",
   "execution_count": 11,
   "id": "aed85613",
   "metadata": {},
   "outputs": [
    {
     "data": {
      "text/plain": [
       "'3people Unfollowed Me'"
      ]
     },
     "execution_count": 11,
     "metadata": {},
     "output_type": "execute_result"
    }
   ],
   "source": [
    "solution(s)"
   ]
  },
  {
   "cell_type": "code",
   "execution_count": 3,
   "id": "b6939aea",
   "metadata": {},
   "outputs": [
    {
     "data": {
      "text/plain": [
       "['3people', 'unfollowed', 'me']"
      ]
     },
     "execution_count": 3,
     "metadata": {},
     "output_type": "execute_result"
    }
   ],
   "source": [
    "s.lower().split(' ')"
   ]
  },
  {
   "cell_type": "code",
   "execution_count": 8,
   "id": "41468eed",
   "metadata": {},
   "outputs": [
    {
     "data": {
      "text/plain": [
       "['3people', 'Unfollowed', 'Me']"
      ]
     },
     "execution_count": 8,
     "metadata": {},
     "output_type": "execute_result"
    }
   ],
   "source": [
    "list(map(lambda x:x.replace(x[0],x[0].upper()), s.lower().split(' ')))"
   ]
  },
  {
   "cell_type": "code",
   "execution_count": 9,
   "id": "20723e47",
   "metadata": {},
   "outputs": [
    {
     "data": {
      "text/plain": [
       "'3people Unfollowed Me'"
      ]
     },
     "execution_count": 9,
     "metadata": {},
     "output_type": "execute_result"
    }
   ],
   "source": [
    "' '.join(list(map(lambda x:x.replace(x[0],x[0].upper()), s.lower().split(' '))))"
   ]
  },
  {
   "cell_type": "code",
   "execution_count": null,
   "id": "fb5acd34",
   "metadata": {},
   "outputs": [],
   "source": []
  }
 ],
 "metadata": {
  "kernelspec": {
   "display_name": "Python 3",
   "language": "python",
   "name": "python3"
  },
  "language_info": {
   "codemirror_mode": {
    "name": "ipython",
    "version": 3
   },
   "file_extension": ".py",
   "mimetype": "text/x-python",
   "name": "python",
   "nbconvert_exporter": "python",
   "pygments_lexer": "ipython3",
   "version": "3.8.8"
  }
 },
 "nbformat": 4,
 "nbformat_minor": 5
}
