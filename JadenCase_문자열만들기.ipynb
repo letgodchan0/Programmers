{
 "cells": [
  {
   "cell_type": "markdown",
   "id": "b436aaad",
   "metadata": {},
   "source": [
    "- 2021년 12월 2일\n",
    "- 프로그래머스 JadenCase 문자열 만들기\n",
    "- https://programmers.co.kr/learn/courses/30/lessons/12951"
   ]
  },
  {
   "cell_type": "code",
   "execution_count": 43,
   "id": "db0086e2",
   "metadata": {},
   "outputs": [],
   "source": [
    "s=\"3people unFollowed me\""
   ]
  },
  {
   "cell_type": "code",
   "execution_count": 83,
   "id": "38863b29",
   "metadata": {},
   "outputs": [],
   "source": [
    "s='a   bcd  hello'"
   ]
  },
  {
   "cell_type": "code",
   "execution_count": 26,
   "id": "42fa4658",
   "metadata": {},
   "outputs": [],
   "source": [
    "def solution(s):\n",
    "    return ' '.join(list(map(lambda x:x[0].upper()+x[1:].lower(), s.split(' '))))"
   ]
  },
  {
   "cell_type": "code",
   "execution_count": 86,
   "id": "d732b6f0",
   "metadata": {},
   "outputs": [],
   "source": [
    "def soluton(s):\n",
    "    return ' '.join(map(lambda s:s[0].upper() + s[1:].lower() if s else s, s.split(' ')))"
   ]
  },
  {
   "cell_type": "code",
   "execution_count": 87,
   "id": "6a061fac",
   "metadata": {},
   "outputs": [
    {
     "data": {
      "text/plain": [
       "'A   Bcd  Hello'"
      ]
     },
     "execution_count": 87,
     "metadata": {},
     "output_type": "execute_result"
    }
   ],
   "source": [
    "solution(s)"
   ]
  },
  {
   "cell_type": "code",
   "execution_count": 84,
   "id": "920d36b8",
   "metadata": {},
   "outputs": [],
   "source": [
    "def solution(s):\n",
    "    return ' '.join(map(lambda x:x[0].upper()+x[1:].lower() if x else x, s.split(' ')))"
   ]
  }
 ],
 "metadata": {
  "kernelspec": {
   "display_name": "Python 3",
   "language": "python",
   "name": "python3"
  },
  "language_info": {
   "codemirror_mode": {
    "name": "ipython",
    "version": 3
   },
   "file_extension": ".py",
   "mimetype": "text/x-python",
   "name": "python",
   "nbconvert_exporter": "python",
   "pygments_lexer": "ipython3",
   "version": "3.8.8"
  }
 },
 "nbformat": 4,
 "nbformat_minor": 5
}
