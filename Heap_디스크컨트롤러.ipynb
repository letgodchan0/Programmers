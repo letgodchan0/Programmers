{
 "cells": [
  {
   "cell_type": "markdown",
   "id": "99f58754",
   "metadata": {},
   "source": [
    "- 2021년 10월 22일\n",
    "- 프로그래머스 디스크 컨트롤러\n",
    "- https://programmers.co.kr/learn/courses/30/lessons/42627"
   ]
  },
  {
   "cell_type": "code",
   "execution_count": 209,
   "id": "4f6f0214",
   "metadata": {},
   "outputs": [],
   "source": [
    "jobs=[[0, 5], [1, 2], [5, 5]]"
   ]
  },
  {
   "cell_type": "code",
   "execution_count": 210,
   "id": "4dd05373",
   "metadata": {},
   "outputs": [],
   "source": [
    "def solution(jobs):\n",
    "    jobs.sort()\n",
    "    time=min(jobs)[0]\n",
    "    result=[]\n",
    "    \n",
    "    while len(jobs)>0:\n",
    "        res=jobs.pop(0)\n",
    "        time+=res[1]\n",
    "        result.append(time-res[0])\n",
    "        cnt=0\n",
    "        for i in jobs:\n",
    "            if time>i[0]:\n",
    "                cnt+=1\n",
    "        if cnt>1:\n",
    "            jobs = sorted(jobs, key = lambda x : x[1] )\n",
    "        \n",
    "    return int(sum(result)/len(result))"
   ]
  },
  {
   "cell_type": "code",
   "execution_count": 211,
   "id": "8be29382",
   "metadata": {},
   "outputs": [
    {
     "data": {
      "text/plain": [
       "6"
      ]
     },
     "execution_count": 211,
     "metadata": {},
     "output_type": "execute_result"
    }
   ],
   "source": [
    "solution(jobs)"
   ]
  },
  {
   "cell_type": "code",
   "execution_count": 195,
   "id": "1ecf4e66",
   "metadata": {},
   "outputs": [
    {
     "data": {
      "text/plain": [
       "[[15, 2],\n",
       " [15, 34],\n",
       " [20, 47],\n",
       " [24, 10],\n",
       " [26, 1],\n",
       " [28, 39],\n",
       " [35, 43],\n",
       " [37, 5],\n",
       " [43, 20],\n",
       " [47, 22]]"
      ]
     },
     "execution_count": 195,
     "metadata": {},
     "output_type": "execute_result"
    }
   ],
   "source": [
    "jobs"
   ]
  },
  {
   "cell_type": "code",
   "execution_count": 196,
   "id": "124b0594",
   "metadata": {},
   "outputs": [],
   "source": [
    "time=min(jobs)[0]\n",
    "start=[]\n",
    "result=[]"
   ]
  },
  {
   "cell_type": "code",
   "execution_count": 197,
   "id": "9d1ea81e",
   "metadata": {},
   "outputs": [],
   "source": [
    "while len(jobs)>0:\n",
    "    res=jobs.pop(0)\n",
    "    time+=res[1]\n",
    "    result.append(time-res[0])\n",
    "    cnt=0\n",
    "    for i in jobs:\n",
    "        if time>i[0]:\n",
    "            cnt+=1\n",
    "    if cnt>1:\n",
    "        jobs = sorted(jobs, key = lambda x : x[1] )"
   ]
  },
  {
   "cell_type": "code",
   "execution_count": 200,
   "id": "41d6bc9d",
   "metadata": {},
   "outputs": [
    {
     "data": {
      "text/plain": [
       "[15, 15, 26, 37, 24, 43, 47, 28, 35, 20]"
      ]
     },
     "execution_count": 200,
     "metadata": {},
     "output_type": "execute_result"
    }
   ],
   "source": [
    "start"
   ]
  },
  {
   "cell_type": "code",
   "execution_count": 198,
   "id": "fcd01b5b",
   "metadata": {},
   "outputs": [
    {
     "data": {
      "text/plain": [
       "[2, 36, 26, 20, 43, 44, 62, 120, 156, 218]"
      ]
     },
     "execution_count": 198,
     "metadata": {},
     "output_type": "execute_result"
    }
   ],
   "source": [
    "result"
   ]
  },
  {
   "cell_type": "code",
   "execution_count": 201,
   "id": "2b9a2485",
   "metadata": {},
   "outputs": [
    {
     "data": {
      "text/plain": [
       "[]"
      ]
     },
     "execution_count": 201,
     "metadata": {},
     "output_type": "execute_result"
    }
   ],
   "source": [
    "jobs"
   ]
  },
  {
   "cell_type": "code",
   "execution_count": 185,
   "id": "f44b3f8c",
   "metadata": {},
   "outputs": [
    {
     "data": {
      "text/plain": [
       "[15, 2]"
      ]
     },
     "execution_count": 185,
     "metadata": {},
     "output_type": "execute_result"
    }
   ],
   "source": [
    "jobs.pop(0)"
   ]
  },
  {
   "cell_type": "code",
   "execution_count": 202,
   "id": "43f78577",
   "metadata": {},
   "outputs": [
    {
     "data": {
      "text/plain": [
       "12"
      ]
     },
     "execution_count": 202,
     "metadata": {},
     "output_type": "execute_result"
    }
   ],
   "source": [
    "int(12.8)"
   ]
  },
  {
   "cell_type": "code",
   "execution_count": 212,
   "id": "852e0a6a",
   "metadata": {},
   "outputs": [
    {
     "data": {
      "text/plain": [
       "[]"
      ]
     },
     "execution_count": 212,
     "metadata": {},
     "output_type": "execute_result"
    }
   ],
   "source": [
    "jobs"
   ]
  },
  {
   "cell_type": "code",
   "execution_count": null,
   "id": "31e54ca1",
   "metadata": {},
   "outputs": [],
   "source": []
  },
  {
   "cell_type": "code",
   "execution_count": null,
   "id": "532fd33f",
   "metadata": {},
   "outputs": [],
   "source": []
  },
  {
   "cell_type": "code",
   "execution_count": null,
   "id": "e361b7c5",
   "metadata": {},
   "outputs": [],
   "source": []
  }
 ],
 "metadata": {
  "kernelspec": {
   "display_name": "Python 3",
   "language": "python",
   "name": "python3"
  },
  "language_info": {
   "codemirror_mode": {
    "name": "ipython",
    "version": 3
   },
   "file_extension": ".py",
   "mimetype": "text/x-python",
   "name": "python",
   "nbconvert_exporter": "python",
   "pygments_lexer": "ipython3",
   "version": "3.8.8"
  }
 },
 "nbformat": 4,
 "nbformat_minor": 5
}
