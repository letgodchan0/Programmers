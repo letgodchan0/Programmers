{
 "cells": [
  {
   "cell_type": "markdown",
   "id": "3178fa65",
   "metadata": {},
   "source": [
    "- 2021년 10월 27일\n",
    "- 프로그래머스 기능개발\n",
    "- https://programmers.co.kr/learn/courses/30/lessons/42586"
   ]
  },
  {
   "cell_type": "code",
   "execution_count": 1,
   "id": "8e69bd14",
   "metadata": {},
   "outputs": [],
   "source": [
    "progresses=[20, 99, 93, 30, 55, 10]\n",
    "speeds=[5, 10, 1, 1, 30, 5]"
   ]
  },
  {
   "cell_type": "code",
   "execution_count": 2,
   "id": "72f408f0",
   "metadata": {},
   "outputs": [],
   "source": [
    "def solution(progresses, speeds):\n",
    "    import math\n",
    "    rest=[]\n",
    "    answer=[]\n",
    "    for i in range(len(progresses)):\n",
    "        rest.append(math.ceil((100-progresses[i])/speeds[i]))\n",
    "    while True:\n",
    "        cnt=0\n",
    "        if len(rest)==0:\n",
    "            break\n",
    "        \n",
    "        for i in range(len(rest)):\n",
    "            if rest[i]<= rest[0]:\n",
    "                cnt+=1\n",
    "            else:\n",
    "                break\n",
    "        answer.append(cnt)\n",
    "        rest=rest[cnt:]\n",
    "\n",
    "    return answer"
   ]
  },
  {
   "cell_type": "code",
   "execution_count": 3,
   "id": "521f28e4",
   "metadata": {},
   "outputs": [
    {
     "data": {
      "text/plain": [
       "[3, 3]"
      ]
     },
     "execution_count": 3,
     "metadata": {},
     "output_type": "execute_result"
    }
   ],
   "source": [
    "solution(progresses,speeds)"
   ]
  },
  {
   "cell_type": "code",
   "execution_count": null,
   "id": "adeaddb9",
   "metadata": {},
   "outputs": [],
   "source": []
  }
 ],
 "metadata": {
  "kernelspec": {
   "display_name": "Python 3",
   "language": "python",
   "name": "python3"
  },
  "language_info": {
   "codemirror_mode": {
    "name": "ipython",
    "version": 3
   },
   "file_extension": ".py",
   "mimetype": "text/x-python",
   "name": "python",
   "nbconvert_exporter": "python",
   "pygments_lexer": "ipython3",
   "version": "3.8.8"
  }
 },
 "nbformat": 4,
 "nbformat_minor": 5
}
