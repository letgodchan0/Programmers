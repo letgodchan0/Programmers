{
 "cells": [
  {
   "cell_type": "code",
   "execution_count": null,
   "id": "5ce43db0",
   "metadata": {},
   "outputs": [],
   "source": []
  },
  {
   "cell_type": "code",
   "execution_count": 1,
   "id": "a42af7ec",
   "metadata": {},
   "outputs": [],
   "source": [
    "progresses=[93, 30, 55]\n",
    "speeds=[1, 30, 5]"
   ]
  },
  {
   "cell_type": "code",
   "execution_count": 6,
   "id": "13587d45",
   "metadata": {},
   "outputs": [],
   "source": [
    "progresses=[95, 90, 99, 99, 80, 99]\n",
    "speeds=[1, 1, 1, 1, 1, 1]"
   ]
  },
  {
   "cell_type": "code",
   "execution_count": null,
   "id": "e000a387",
   "metadata": {},
   "outputs": [],
   "source": [
    "def solution(progresses, speeds):\n",
    "    answer = []\n",
    "    return answer\n"
   ]
  },
  {
   "cell_type": "code",
   "execution_count": 7,
   "id": "12eeba05",
   "metadata": {},
   "outputs": [
    {
     "data": {
      "text/plain": [
       "[5, 10, 1, 1, 20, 1]"
      ]
     },
     "execution_count": 7,
     "metadata": {},
     "output_type": "execute_result"
    }
   ],
   "source": [
    "import math\n",
    "rest=[]\n",
    "result=[]\n",
    "cnt=0\n",
    "for i in range(len(progresses)):\n",
    "    rest.append(math.ceil((100-progresses[i])/speeds[i]))\n",
    "while len(rest)>0:\n",
    "    cnt=0\n",
    "    if \n",
    "    "
   ]
  },
  {
   "cell_type": "code",
   "execution_count": null,
   "id": "0f69e055",
   "metadata": {},
   "outputs": [],
   "source": []
  }
 ],
 "metadata": {
  "kernelspec": {
   "display_name": "Python 3",
   "language": "python",
   "name": "python3"
  },
  "language_info": {
   "codemirror_mode": {
    "name": "ipython",
    "version": 3
   },
   "file_extension": ".py",
   "mimetype": "text/x-python",
   "name": "python",
   "nbconvert_exporter": "python",
   "pygments_lexer": "ipython3",
   "version": "3.8.8"
  }
 },
 "nbformat": 4,
 "nbformat_minor": 5
}
