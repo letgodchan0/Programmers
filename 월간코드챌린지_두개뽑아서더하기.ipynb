{
 "cells": [
  {
   "cell_type": "markdown",
   "id": "57914f02",
   "metadata": {},
   "source": [
    "- 2021년 10월 24일\n",
    "- 프로그래머스 두 개 뽑아서 더하기\n",
    "- https://programmers.co.kr/learn/courses/30/lessons/68644"
   ]
  },
  {
   "cell_type": "code",
   "execution_count": 12,
   "id": "b966a50e",
   "metadata": {},
   "outputs": [],
   "source": [
    "numbers=[2,1,3,4,1]"
   ]
  },
  {
   "cell_type": "code",
   "execution_count": 15,
   "id": "8180aa35",
   "metadata": {},
   "outputs": [],
   "source": [
    "def solution(numbers):\n",
    "    from itertools import combinations\n",
    "    return sorted(set([sum(x) for x in list(combinations(numbers,2))]))"
   ]
  },
  {
   "cell_type": "code",
   "execution_count": 16,
   "id": "2d92dcf6",
   "metadata": {},
   "outputs": [
    {
     "data": {
      "text/plain": [
       "[1, 1, 2, 3, 4]"
      ]
     },
     "execution_count": 16,
     "metadata": {},
     "output_type": "execute_result"
    }
   ],
   "source": [
    "sorted(numbers)"
   ]
  },
  {
   "cell_type": "code",
   "execution_count": 4,
   "id": "30c2fdf5",
   "metadata": {},
   "outputs": [
    {
     "data": {
      "text/plain": [
       "[(2, 1),\n",
       " (2, 3),\n",
       " (2, 4),\n",
       " (2, 1),\n",
       " (1, 3),\n",
       " (1, 4),\n",
       " (1, 1),\n",
       " (3, 4),\n",
       " (3, 1),\n",
       " (4, 1)]"
      ]
     },
     "execution_count": 4,
     "metadata": {},
     "output_type": "execute_result"
    }
   ],
   "source": [
    "from itertools import combinations\n",
    "list(combinations(numbers,2))"
   ]
  },
  {
   "cell_type": "code",
   "execution_count": 7,
   "id": "0b8ab75a",
   "metadata": {},
   "outputs": [
    {
     "data": {
      "text/plain": [
       "[2, 3, 4, 5, 6, 7]"
      ]
     },
     "execution_count": 7,
     "metadata": {},
     "output_type": "execute_result"
    }
   ],
   "source": [
    "a=[]\n",
    "for i in list(combinations(numbers,2)):\n",
    "    a.append(sum(i))\n",
    "sorted(set(a))"
   ]
  },
  {
   "cell_type": "code",
   "execution_count": 17,
   "id": "07fc3b78",
   "metadata": {},
   "outputs": [],
   "source": [
    "numbers=[2,1,3,4,1]"
   ]
  },
  {
   "cell_type": "code",
   "execution_count": 18,
   "id": "5f2d4336",
   "metadata": {},
   "outputs": [
    {
     "data": {
      "text/plain": [
       "[2, 3, 4, 5, 6, 7]"
      ]
     },
     "execution_count": 18,
     "metadata": {},
     "output_type": "execute_result"
    }
   ],
   "source": [
    "sorted(set([sum(x) for x in list(combinations(numbers,2))]))"
   ]
  },
  {
   "cell_type": "code",
   "execution_count": 5,
   "id": "8f093295",
   "metadata": {},
   "outputs": [
    {
     "data": {
      "text/plain": [
       "[1, 2, 3, 4, 5, 9]"
      ]
     },
     "execution_count": 5,
     "metadata": {},
     "output_type": "execute_result"
    }
   ],
   "source": [
    "sorted([1,5,4,3,2,9])"
   ]
  },
  {
   "cell_type": "code",
   "execution_count": null,
   "id": "e7dfdcd4",
   "metadata": {},
   "outputs": [],
   "source": []
  }
 ],
 "metadata": {
  "kernelspec": {
   "display_name": "Python 3",
   "language": "python",
   "name": "python3"
  },
  "language_info": {
   "codemirror_mode": {
    "name": "ipython",
    "version": 3
   },
   "file_extension": ".py",
   "mimetype": "text/x-python",
   "name": "python",
   "nbconvert_exporter": "python",
   "pygments_lexer": "ipython3",
   "version": "3.8.8"
  }
 },
 "nbformat": 4,
 "nbformat_minor": 5
}
