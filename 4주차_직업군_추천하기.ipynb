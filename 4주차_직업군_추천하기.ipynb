{
 "cells": [
  {
   "cell_type": "markdown",
   "id": "768d8993",
   "metadata": {},
   "source": [
    "- 날짜: 2021년 10월 4일\n",
    "- 프로그래머스 직업군 추천하기\n",
    "- https://programmers.co.kr/learn/courses/30/lessons/84325"
   ]
  },
  {
   "cell_type": "code",
   "execution_count": 44,
   "id": "e93b9476",
   "metadata": {},
   "outputs": [],
   "source": [
    "def solution(table, languages, preference):\n",
    "    result=[]\n",
    "    job=['SI','CONTENTS','HARDWARE','PORTAL','GAME']\n",
    "    for i in table:\n",
    "        res=[]\n",
    "        for j in i.split(' '):\n",
    "            res.append(j)\n",
    "        res.reverse()\n",
    "        total=0\n",
    "        for c in languages:\n",
    "            for d in res:\n",
    "                if c==d:\n",
    "                    total+=preference[languages.index(c)]*(res.index(d)+1)\n",
    "        result.append(total)\n",
    "    answer=list(zip(result,job))\n",
    "    answer= sorted(answer, key = lambda x : (-x[0],x))\n",
    "    return answer[0][1]"
   ]
  },
  {
   "cell_type": "code",
   "execution_count": 32,
   "id": "0da21fdd",
   "metadata": {},
   "outputs": [],
   "source": [
    "table = [\"SI JAVA JAVASCRIPT SQL PYTHON C#\", \"CONTENTS JAVASCRIPT JAVA PYTHON SQL C++\", \"HARDWARE C C++ PYTHON JAVA JAVASCRIPT\", \"PORTAL JAVA JAVASCRIPT PYTHON KOTLIN PHP\", \"GAME C++ C# JAVASCRIPT C JAVA\"]\n",
    "languages=[\"JAVA\", \"JAVASCRIPT\"]\n",
    "preference=[7, 5]"
   ]
  },
  {
   "cell_type": "code",
   "execution_count": 7,
   "id": "637ed618",
   "metadata": {},
   "outputs": [
    {
     "data": {
      "text/plain": [
       "'SI JAVA JAVASCRIPT SQL PYTHON C#'"
      ]
     },
     "execution_count": 7,
     "metadata": {},
     "output_type": "execute_result"
    }
   ],
   "source": [
    "table[0]"
   ]
  },
  {
   "cell_type": "code",
   "execution_count": 43,
   "id": "2874a20b",
   "metadata": {},
   "outputs": [
    {
     "name": "stdout",
     "output_type": "stream",
     "text": [
      "PORTAL\n"
     ]
    }
   ],
   "source": [
    "result=[]\n",
    "job=['SI','CONTENTS','HARDWARE','PORTAL','GAME']\n",
    "for i in table:\n",
    "    res=[]\n",
    "    for j in i.split(' '):\n",
    "        res.append(j)\n",
    "    res.reverse()\n",
    "    total=0\n",
    "    for c in languages:\n",
    "        for d in res:\n",
    "            if c==d:\n",
    "                total+=preference[languages.index(c)]*(res.index(d)+1)\n",
    "    result.append(total)\n",
    "answer=list(zip(result,job))\n",
    "answer= sorted(answer, key = lambda x : (-x[0],x))\n",
    "print(answer[0][1])"
   ]
  },
  {
   "cell_type": "code",
   "execution_count": 45,
   "id": "61eb8403",
   "metadata": {},
   "outputs": [
    {
     "data": {
      "text/plain": [
       "'PORTAL'"
      ]
     },
     "execution_count": 45,
     "metadata": {},
     "output_type": "execute_result"
    }
   ],
   "source": [
    "solution(table, languages, preference)"
   ]
  },
  {
   "cell_type": "code",
   "execution_count": null,
   "id": "e77767b5",
   "metadata": {},
   "outputs": [],
   "source": []
  }
 ],
 "metadata": {
  "kernelspec": {
   "display_name": "Python 3",
   "language": "python",
   "name": "python3"
  },
  "language_info": {
   "codemirror_mode": {
    "name": "ipython",
    "version": 3
   },
   "file_extension": ".py",
   "mimetype": "text/x-python",
   "name": "python",
   "nbconvert_exporter": "python",
   "pygments_lexer": "ipython3",
   "version": "3.8.10"
  },
  "toc": {
   "base_numbering": 1,
   "nav_menu": {},
   "number_sections": true,
   "sideBar": true,
   "skip_h1_title": false,
   "title_cell": "Table of Contents",
   "title_sidebar": "Contents",
   "toc_cell": false,
   "toc_position": {},
   "toc_section_display": true,
   "toc_window_display": false
  }
 },
 "nbformat": 4,
 "nbformat_minor": 5
}
