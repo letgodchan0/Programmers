{
 "cells": [
  {
   "cell_type": "markdown",
   "id": "e1280d96",
   "metadata": {},
   "source": [
    "- 2021년 12월 27일\n",
    "- 프로그래머스 주식가격\n",
    "- https://programmers.co.kr/learn/courses/30/lessons/42584"
   ]
  },
  {
   "cell_type": "markdown",
   "id": "52918820",
   "metadata": {},
   "source": [
    "- 효율성은 통과 못함.."
   ]
  },
  {
   "cell_type": "code",
   "execution_count": 1,
   "id": "cf4ed06f",
   "metadata": {},
   "outputs": [],
   "source": [
    "def solution(prices):\n",
    "    answer=[]\n",
    "    while prices:\n",
    "        check=prices.pop(0)\n",
    "        if any (check > i for i in prices):\n",
    "            for i in prices:\n",
    "                if check>i:\n",
    "                    answer.append(prices.index(i)+1)\n",
    "                    break\n",
    "        else:\n",
    "            answer.append(len(prices))\n",
    "    return answer"
   ]
  },
  {
   "cell_type": "code",
   "execution_count": 2,
   "id": "408f4c0b",
   "metadata": {},
   "outputs": [],
   "source": [
    "prices=[ 1, 2, 3, 2, 3, 1 ]"
   ]
  },
  {
   "cell_type": "markdown",
   "id": "ed80fb12",
   "metadata": {},
   "source": [
    "- 효율성까지 통과1"
   ]
  },
  {
   "cell_type": "code",
   "execution_count": 11,
   "id": "4f446227",
   "metadata": {},
   "outputs": [
    {
     "ename": "IndentationError",
     "evalue": "unindent does not match any outer indentation level (<tokenize>, line 3)",
     "output_type": "error",
     "traceback": [
      "\u001b[1;36m  File \u001b[1;32m\"<tokenize>\"\u001b[1;36m, line \u001b[1;32m3\u001b[0m\n\u001b[1;33m    if val1 > val2: break\u001b[0m\n\u001b[1;37m    ^\u001b[0m\n\u001b[1;31mIndentationError\u001b[0m\u001b[1;31m:\u001b[0m unindent does not match any outer indentation level\n"
     ]
    }
   ],
   "source": [
    "def solution(prices):\n",
    "    answer = [0] * len(prices)\n",
    "    for i in range(len(prices)):\n",
    "        for j in range(i+1, len(prices)):\n",
    "            answer[i] += 1\n",
    "            if prices[i] > prices[j]: break\n",
    "    return answer"
   ]
  },
  {
   "cell_type": "markdown",
   "id": "2c03805d",
   "metadata": {},
   "source": [
    "- 큐 사용"
   ]
  },
  {
   "cell_type": "code",
   "execution_count": 5,
   "id": "3323343b",
   "metadata": {},
   "outputs": [],
   "source": [
    "from collections import deque\n",
    "def solution(prices):\n",
    "    answer = []\n",
    "    prices = deque(prices)\n",
    "    while prices:\n",
    "        c = prices.popleft()\n",
    "\n",
    "        count = 0\n",
    "        for i in prices:\n",
    "            if c > i:\n",
    "                count += 1\n",
    "                break\n",
    "            count += 1\n",
    "\n",
    "        answer.append(count)\n",
    "\n",
    "    return answer"
   ]
  },
  {
   "cell_type": "code",
   "execution_count": null,
   "id": "831340fc",
   "metadata": {},
   "outputs": [],
   "source": []
  }
 ],
 "metadata": {
  "kernelspec": {
   "display_name": "Python 3",
   "language": "python",
   "name": "python3"
  },
  "language_info": {
   "codemirror_mode": {
    "name": "ipython",
    "version": 3
   },
   "file_extension": ".py",
   "mimetype": "text/x-python",
   "name": "python",
   "nbconvert_exporter": "python",
   "pygments_lexer": "ipython3",
   "version": "3.8.8"
  }
 },
 "nbformat": 4,
 "nbformat_minor": 5
}
