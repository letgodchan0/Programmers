{
 "cells": [
  {
   "cell_type": "markdown",
   "id": "e1280d96",
   "metadata": {},
   "source": [
    "- 2021년 12월 27일\n",
    "- 프로그래머스 주식가격\n",
    "- https://programmers.co.kr/learn/courses/30/lessons/42584"
   ]
  },
  {
   "cell_type": "markdown",
   "id": "9e35cc0b",
   "metadata": {},
   "source": [
    "- 효율성은 통과 못함.."
   ]
  },
  {
   "cell_type": "code",
   "execution_count": 1,
   "id": "5d9eb04f",
   "metadata": {},
   "outputs": [],
   "source": [
    "def solution(prices):\n",
    "    answer=[]\n",
    "    while prices:\n",
    "        check=prices.pop(0)\n",
    "        if any (check > i for i in prices):\n",
    "            for i in prices:\n",
    "                if check>i:\n",
    "                    answer.append(prices.index(i)+1)\n",
    "                    break\n",
    "        else:\n",
    "            answer.append(len(prices))\n",
    "    return answer"
   ]
  },
  {
   "cell_type": "code",
   "execution_count": 2,
   "id": "0b0742da",
   "metadata": {},
   "outputs": [],
   "source": [
    "prices=[ 1, 2, 3, 2, 3, 1 ]"
   ]
  },
  {
   "cell_type": "markdown",
   "id": "17419e57",
   "metadata": {},
   "source": [
    "- 효율성까지 통과1"
   ]
  },
  {
   "cell_type": "code",
   "execution_count": 3,
   "id": "370c221e",
   "metadata": {},
   "outputs": [],
   "source": [
    "def solution(prices):\n",
    "    answer = [0] * len(prices)\n",
    "    for i in range(len(prices)):\n",
    "        for j in range(i+1, len(prices)):\n",
    "            answer[i] += 1\n",
    "            if prices[i] > prices[j]: break\n",
    "    return answer"
   ]
  },
  {
   "cell_type": "markdown",
   "id": "b0f14288",
   "metadata": {},
   "source": [
    "- 큐 사용"
   ]
  },
  {
   "cell_type": "code",
   "execution_count": 4,
   "id": "955fea17",
   "metadata": {},
   "outputs": [],
   "source": [
    "from collections import deque\n",
    "def solution(prices):\n",
    "    answer = []\n",
    "    prices = deque(prices)\n",
    "    while prices:\n",
    "        c = prices.popleft()\n",
    "\n",
    "        count = 0\n",
    "        for i in prices:\n",
    "            if c > i:\n",
    "                count += 1\n",
    "                break\n",
    "            count += 1\n",
    "\n",
    "        answer.append(count)\n",
    "\n",
    "    return answer"
   ]
  },
  {
   "cell_type": "code",
   "execution_count": null,
   "id": "6196ed01",
   "metadata": {},
   "outputs": [],
   "source": []
  }
 ],
 "metadata": {
  "kernelspec": {
   "display_name": "Python 3",
   "language": "python",
   "name": "python3"
  },
  "language_info": {
   "codemirror_mode": {
    "name": "ipython",
    "version": 3
   },
   "file_extension": ".py",
   "mimetype": "text/x-python",
   "name": "python",
   "nbconvert_exporter": "python",
   "pygments_lexer": "ipython3",
   "version": "3.8.8"
  }
 },
 "nbformat": 4,
 "nbformat_minor": 5
}
