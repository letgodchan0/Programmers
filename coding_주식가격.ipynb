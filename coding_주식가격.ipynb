{
 "cells": [
  {
   "cell_type": "markdown",
   "id": "e1280d96",
   "metadata": {},
   "source": [
    "- 2021년 12월 27일\n",
    "- 프로그래머스 주식가격\n",
    "- https://programmers.co.kr/learn/courses/30/lessons/42584"
   ]
  },
  {
   "cell_type": "code",
   "execution_count": 1,
   "id": "54166e7d",
   "metadata": {},
   "outputs": [],
   "source": [
    "def solution(prices):\n",
    "    answer=[]\n",
    "    while prices:\n",
    "        check=prices.pop(0)\n",
    "        if any (check > i for i in prices):\n",
    "            for i in prices:\n",
    "                if check>i:\n",
    "                    answer.append(prices.index(i)+1)\n",
    "                    break\n",
    "        else:\n",
    "            answer.append(len(prices))\n",
    "    return answer"
   ]
  },
  {
   "cell_type": "code",
   "execution_count": 2,
   "id": "502de39f",
   "metadata": {},
   "outputs": [],
   "source": [
    "prices=[ 1, 2, 3, 2, 3, 1 ]"
   ]
  },
  {
   "cell_type": "code",
   "execution_count": null,
   "id": "2d49c154",
   "metadata": {},
   "outputs": [],
   "source": []
  }
 ],
 "metadata": {
  "kernelspec": {
   "display_name": "Python 3",
   "language": "python",
   "name": "python3"
  },
  "language_info": {
   "codemirror_mode": {
    "name": "ipython",
    "version": 3
   },
   "file_extension": ".py",
   "mimetype": "text/x-python",
   "name": "python",
   "nbconvert_exporter": "python",
   "pygments_lexer": "ipython3",
   "version": "3.8.8"
  }
 },
 "nbformat": 4,
 "nbformat_minor": 5
}
