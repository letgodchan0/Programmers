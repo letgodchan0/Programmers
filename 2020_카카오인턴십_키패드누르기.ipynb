{
 "cells": [
  {
   "cell_type": "code",
   "execution_count": null,
   "id": "946ee113",
   "metadata": {},
   "outputs": [],
   "source": []
  },
  {
   "cell_type": "code",
   "execution_count": null,
   "id": "d8ffbf5e",
   "metadata": {},
   "outputs": [],
   "source": []
  },
  {
   "cell_type": "code",
   "execution_count": 5,
   "id": "dbf8b4ab",
   "metadata": {},
   "outputs": [],
   "source": [
    "numbers= [1, 3, 4, 5, 8, 2, 1, 4, 5, 9, 5]\n",
    "hand= \"right\""
   ]
  },
  {
   "cell_type": "code",
   "execution_count": 14,
   "id": "8a482358",
   "metadata": {},
   "outputs": [],
   "source": [
    "def solution(numbers, hand):\n",
    "    answer=''\n",
    "    r=[3,6,9]\n",
    "    l=[1,4,7]\n",
    "    loc_r=[]\n",
    "    loc_l=[]\n",
    "    coo={1: [0, 0], 2: [0, 1], 3: [0, 2],\n",
    "           4: [1, 0], 5: [1, 1], 6: [1, 2],\n",
    "           7: [2, 0], 8: [2, 1], 9: [2, 2],\n",
    "           '*':[3, 0], 0: [3, 1], '#': [3, 2]}\n",
    "\n",
    "    for i, num in enumerate(numbers):\n",
    "        if num in r:\n",
    "            answer=answer+'R'\n",
    "            loc_r.append(num)\n",
    "        elif num in l:\n",
    "            answer=answer+'L'\n",
    "            loc_l.append(num)\n",
    "        else:\n",
    "            if abscoo[loc_l[-1]]-coo[num]\n",
    "                \n",
    "                \n",
    "\n",
    "    return answer"
   ]
  },
  {
   "cell_type": "code",
   "execution_count": 16,
   "id": "cc433d13",
   "metadata": {},
   "outputs": [
    {
     "ename": "TypeError",
     "evalue": "unsupported operand type(s) for -: 'list' and 'list'",
     "output_type": "error",
     "traceback": [
      "\u001b[1;31m---------------------------------------------------------------------------\u001b[0m",
      "\u001b[1;31mTypeError\u001b[0m                                 Traceback (most recent call last)",
      "\u001b[1;32m<ipython-input-16-440575b53e48>\u001b[0m in \u001b[0;36m<module>\u001b[1;34m\u001b[0m\n\u001b[1;32m----> 1\u001b[1;33m \u001b[0mabs\u001b[0m\u001b[1;33m(\u001b[0m\u001b[1;33m[\u001b[0m\u001b[1;36m3\u001b[0m\u001b[1;33m,\u001b[0m\u001b[1;36m0\u001b[0m\u001b[1;33m]\u001b[0m\u001b[1;33m-\u001b[0m\u001b[1;33m[\u001b[0m\u001b[1;36m1\u001b[0m\u001b[1;33m,\u001b[0m\u001b[1;36m0\u001b[0m\u001b[1;33m]\u001b[0m\u001b[1;33m)\u001b[0m\u001b[1;33m\u001b[0m\u001b[1;33m\u001b[0m\u001b[0m\n\u001b[0m",
      "\u001b[1;31mTypeError\u001b[0m: unsupported operand type(s) for -: 'list' and 'list'"
     ]
    }
   ],
   "source": [
    "abs([3,0]-[1,0])"
   ]
  },
  {
   "cell_type": "code",
   "execution_count": 15,
   "id": "26047254",
   "metadata": {},
   "outputs": [
    {
     "data": {
      "text/plain": [
       "'LRLLLRLLLRL'"
      ]
     },
     "execution_count": 15,
     "metadata": {},
     "output_type": "execute_result"
    }
   ],
   "source": [
    "solution(numbers, hand)"
   ]
  },
  {
   "cell_type": "code",
   "execution_count": 10,
   "id": "d4099296",
   "metadata": {},
   "outputs": [
    {
     "data": {
      "text/plain": [
       "[[1, 2, 3], [4, 5, 6], [7, 8, 9], ['*', 0, '#']]"
      ]
     },
     "execution_count": 10,
     "metadata": {},
     "output_type": "execute_result"
    }
   ],
   "source": [
    "keypad=[[1,2,3],\n",
    "        [4,5,6],\n",
    "        [7,8,9],\n",
    "        ['*',0,'#']]\n",
    "keypad"
   ]
  },
  {
   "cell_type": "code",
   "execution_count": 11,
   "id": "9d120b16",
   "metadata": {},
   "outputs": [
    {
     "data": {
      "text/plain": [
       "False"
      ]
     },
     "execution_count": 11,
     "metadata": {},
     "output_type": "execute_result"
    }
   ],
   "source": []
  },
  {
   "cell_type": "code",
   "execution_count": null,
   "id": "ac7eeb14",
   "metadata": {},
   "outputs": [],
   "source": []
  }
 ],
 "metadata": {
  "kernelspec": {
   "display_name": "Python 3",
   "language": "python",
   "name": "python3"
  },
  "language_info": {
   "codemirror_mode": {
    "name": "ipython",
    "version": 3
   },
   "file_extension": ".py",
   "mimetype": "text/x-python",
   "name": "python",
   "nbconvert_exporter": "python",
   "pygments_lexer": "ipython3",
   "version": "3.8.8"
  },
  "toc": {
   "base_numbering": 1,
   "nav_menu": {},
   "number_sections": true,
   "sideBar": true,
   "skip_h1_title": false,
   "title_cell": "Table of Contents",
   "title_sidebar": "Contents",
   "toc_cell": false,
   "toc_position": {},
   "toc_section_display": true,
   "toc_window_display": false
  }
 },
 "nbformat": 4,
 "nbformat_minor": 5
}
