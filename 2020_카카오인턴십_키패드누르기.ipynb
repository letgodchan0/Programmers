{
 "cells": [
  {
   "cell_type": "markdown",
   "id": "2bef9648",
   "metadata": {},
   "source": [
    "- 2021년 10월 18일\n",
    "- 프로그래머스 키패드 누르기\n",
    "- https://programmers.co.kr/learn/courses/30/lessons/67256"
   ]
  },
  {
   "cell_type": "code",
   "execution_count": 52,
   "id": "dbf8b4ab",
   "metadata": {},
   "outputs": [],
   "source": [
    "numbers= [7, 0, 8, 2, 8, 3, 1, 5, 7, 6, 2]\n",
    "hand= \"leftt\""
   ]
  },
  {
   "cell_type": "code",
   "execution_count": 61,
   "id": "8a482358",
   "metadata": {},
   "outputs": [],
   "source": [
    "def solution(numbers, hand):\n",
    "    answer=''\n",
    "    r=[3,6,9]\n",
    "    l=[1,4,7]\n",
    "    coo={1: [0, 0], 2: [0, 1], 3: [0, 2],\n",
    "           4: [1, 0], 5: [1, 1], 6: [1, 2],\n",
    "           7: [2, 0], 8: [2, 1], 9: [2, 2],\n",
    "           '*':[3, 0], 0: [3, 1], '#': [3, 2]}\n",
    "    loc_r=['#']\n",
    "    loc_l=['*']\n",
    "    for i, num in enumerate(numbers):\n",
    "        if num in r:\n",
    "            answer+='R'\n",
    "            loc_r.append(num)\n",
    "        elif num in l:\n",
    "            answer+='L'\n",
    "            loc_l.append(num)\n",
    "        else: \n",
    "            if abs(coo[loc_l[-1]][0]-coo[num][0])+abs(coo[loc_l[-1]][1]-coo[num][1]) < abs(coo[loc_r[-1]][0]-coo[num][0])+abs(coo[loc_r[-1]][1]-coo[num][1]):\n",
    "                answer+='L'\n",
    "                loc_l.append(num)\n",
    "            elif abs(coo[loc_l[-1]][0]-coo[num][0])+abs(coo[loc_l[-1]][1]-coo[num][1]) > abs(coo[loc_r[-1]][0]-coo[num][0])+abs(coo[loc_r[-1]][1]-coo[num][1]):\n",
    "                answer+='R'\n",
    "                loc_r.append(num)\n",
    "            else:\n",
    "                if hand=='right':\n",
    "                    answer+='R'\n",
    "                    loc_r.append(num)\n",
    "                else:\n",
    "                    answer+='L'\n",
    "                    loc_l.append(num)\n",
    "            \n",
    "    return answer"
   ]
  },
  {
   "cell_type": "code",
   "execution_count": 62,
   "id": "26047254",
   "metadata": {},
   "outputs": [
    {
     "data": {
      "text/plain": [
       "'LRLLRRLLLRR'"
      ]
     },
     "execution_count": 62,
     "metadata": {},
     "output_type": "execute_result"
    }
   ],
   "source": [
    "solution(numbers, hand)"
   ]
  },
  {
   "cell_type": "code",
   "execution_count": null,
   "id": "37f7a89c",
   "metadata": {},
   "outputs": [],
   "source": []
  }
 ],
 "metadata": {
  "kernelspec": {
   "display_name": "Python 3",
   "language": "python",
   "name": "python3"
  },
  "language_info": {
   "codemirror_mode": {
    "name": "ipython",
    "version": 3
   },
   "file_extension": ".py",
   "mimetype": "text/x-python",
   "name": "python",
   "nbconvert_exporter": "python",
   "pygments_lexer": "ipython3",
   "version": "3.8.8"
  },
  "toc": {
   "base_numbering": 1,
   "nav_menu": {},
   "number_sections": true,
   "sideBar": true,
   "skip_h1_title": false,
   "title_cell": "Table of Contents",
   "title_sidebar": "Contents",
   "toc_cell": false,
   "toc_position": {},
   "toc_section_display": true,
   "toc_window_display": false
  }
 },
 "nbformat": 4,
 "nbformat_minor": 5
}
