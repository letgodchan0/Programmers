{
 "cells": [
  {
   "cell_type": "code",
   "execution_count": null,
   "id": "946ee113",
   "metadata": {},
   "outputs": [],
   "source": []
  },
  {
   "cell_type": "code",
   "execution_count": null,
   "id": "d8ffbf5e",
   "metadata": {},
   "outputs": [],
   "source": []
  },
  {
   "cell_type": "code",
   "execution_count": 5,
   "id": "dbf8b4ab",
   "metadata": {},
   "outputs": [],
   "source": [
    "numbers= [1, 3, 4, 5, 8, 2, 1, 4, 5, 9, 5]\n",
    "hand= \"right\""
   ]
  },
  {
   "cell_type": "code",
   "execution_count": 17,
   "id": "8a482358",
   "metadata": {},
   "outputs": [],
   "source": [
    "def solution(numbers, hand):\n",
    "    answer=''\n",
    "    r=[3,6,9]\n",
    "    l=[1,4,7]\n",
    "    loc_r=[]\n",
    "    loc_l=[]\n",
    "    coo={1: [0, 0], 2: [0, 1], 3: [0, 2],\n",
    "           4: [1, 0], 5: [1, 1], 6: [1, 2],\n",
    "           7: [2, 0], 8: [2, 1], 9: [2, 2],\n",
    "           '*':[3, 0], 0: [3, 1], '#': [3, 2]}\n",
    "\n",
    "    for i, num in enumerate(numbers):\n",
    "        if num in r:\n",
    "            answer+='R'\n",
    "            loc_r.append(num)\n",
    "        elif num in l:\n",
    "            answer+='L'\n",
    "            loc_l.append(num)\n",
    "        else:\n",
    "            if abs(coo[loc_l[-1]]-coo[num]) < abs(coo[loc_r[-1]]-coo[num]):\n",
    "                answer+='L'\n",
    "                loc_l.append(num)\n",
    "            elif abs(coo[loc_l[-1]]-coo[num]) > abs(coo[loc_r[-1]]-coo[num]):\n",
    "                answer+='R'\n",
    "                loc_r.append(num)\n",
    "            else:\n",
    "                if hadn=='right':\n",
    "                    answer+='r'\n",
    "                    loc_r.append(num)\n",
    "                else:\n",
    "                    answer+='l'\n",
    "                    loc_l.append(num)\n",
    "                \n",
    "                \n",
    "\n",
    "    return answer"
   ]
  },
  {
   "cell_type": "code",
   "execution_count": 19,
   "id": "26047254",
   "metadata": {},
   "outputs": [
    {
     "ename": "TypeError",
     "evalue": "unsupported operand type(s) for -: 'list' and 'list'",
     "output_type": "error",
     "traceback": [
      "\u001b[1;31m---------------------------------------------------------------------------\u001b[0m",
      "\u001b[1;31mTypeError\u001b[0m                                 Traceback (most recent call last)",
      "\u001b[1;32m<ipython-input-19-d7c2a50ce19f>\u001b[0m in \u001b[0;36m<module>\u001b[1;34m\u001b[0m\n\u001b[1;32m----> 1\u001b[1;33m \u001b[0msolution\u001b[0m\u001b[1;33m(\u001b[0m\u001b[0mnumbers\u001b[0m\u001b[1;33m,\u001b[0m \u001b[0mhand\u001b[0m\u001b[1;33m)\u001b[0m\u001b[1;33m\u001b[0m\u001b[1;33m\u001b[0m\u001b[0m\n\u001b[0m",
      "\u001b[1;32m<ipython-input-17-e305d95326c8>\u001b[0m in \u001b[0;36msolution\u001b[1;34m(numbers, hand)\u001b[0m\n\u001b[0;32m     18\u001b[0m             \u001b[0mloc_l\u001b[0m\u001b[1;33m.\u001b[0m\u001b[0mappend\u001b[0m\u001b[1;33m(\u001b[0m\u001b[0mnum\u001b[0m\u001b[1;33m)\u001b[0m\u001b[1;33m\u001b[0m\u001b[1;33m\u001b[0m\u001b[0m\n\u001b[0;32m     19\u001b[0m         \u001b[1;32melse\u001b[0m\u001b[1;33m:\u001b[0m\u001b[1;33m\u001b[0m\u001b[1;33m\u001b[0m\u001b[0m\n\u001b[1;32m---> 20\u001b[1;33m             \u001b[1;32mif\u001b[0m \u001b[0mabs\u001b[0m\u001b[1;33m(\u001b[0m\u001b[0mcoo\u001b[0m\u001b[1;33m[\u001b[0m\u001b[0mloc_l\u001b[0m\u001b[1;33m[\u001b[0m\u001b[1;33m-\u001b[0m\u001b[1;36m1\u001b[0m\u001b[1;33m]\u001b[0m\u001b[1;33m]\u001b[0m\u001b[1;33m-\u001b[0m\u001b[0mcoo\u001b[0m\u001b[1;33m[\u001b[0m\u001b[0mnum\u001b[0m\u001b[1;33m]\u001b[0m\u001b[1;33m)\u001b[0m \u001b[1;33m<\u001b[0m \u001b[0mabs\u001b[0m\u001b[1;33m(\u001b[0m\u001b[0mcoo\u001b[0m\u001b[1;33m[\u001b[0m\u001b[0mloc_r\u001b[0m\u001b[1;33m[\u001b[0m\u001b[1;33m-\u001b[0m\u001b[1;36m1\u001b[0m\u001b[1;33m]\u001b[0m\u001b[1;33m]\u001b[0m\u001b[1;33m-\u001b[0m\u001b[0mcoo\u001b[0m\u001b[1;33m[\u001b[0m\u001b[0mnum\u001b[0m\u001b[1;33m]\u001b[0m\u001b[1;33m)\u001b[0m\u001b[1;33m:\u001b[0m\u001b[1;33m\u001b[0m\u001b[1;33m\u001b[0m\u001b[0m\n\u001b[0m\u001b[0;32m     21\u001b[0m                 \u001b[0manswer\u001b[0m\u001b[1;33m+=\u001b[0m\u001b[1;34m'L'\u001b[0m\u001b[1;33m\u001b[0m\u001b[1;33m\u001b[0m\u001b[0m\n\u001b[0;32m     22\u001b[0m                 \u001b[0mloc_l\u001b[0m\u001b[1;33m.\u001b[0m\u001b[0mappend\u001b[0m\u001b[1;33m(\u001b[0m\u001b[0mnum\u001b[0m\u001b[1;33m)\u001b[0m\u001b[1;33m\u001b[0m\u001b[1;33m\u001b[0m\u001b[0m\n",
      "\u001b[1;31mTypeError\u001b[0m: unsupported operand type(s) for -: 'list' and 'list'"
     ]
    }
   ],
   "source": [
    "solution(numbers, hand)"
   ]
  },
  {
   "cell_type": "code",
   "execution_count": 24,
   "id": "d4099296",
   "metadata": {},
   "outputs": [
    {
     "name": "stdout",
     "output_type": "stream",
     "text": [
      "1 0 1\n",
      "0 2 1\n",
      "1 0 2\n",
      "1 2 1\n",
      "2 0 0\n",
      "1 2 1\n",
      "1 0 1\n",
      "0 1 1\n",
      "1 2 1\n",
      "0 2 1\n"
     ]
    }
   ],
   "source": [
    "\n",
    "answer = ''\n",
    "\n",
    "# 키패드 좌표료 변경\n",
    "dic = {1: [0, 0], 2: [0, 1], 3: [0, 2],\n",
    "       4: [1, 0], 5: [1, 1], 6: [1, 2],\n",
    "       7: [2, 0], 8: [2, 1], 9: [2, 2],\n",
    "       '*':[3, 0], 0: [3, 1], '#': [3, 2]}\n",
    "\n",
    "# 시작 위치\n",
    "left_s = dic['*']\n",
    "right_s = dic['#']\n",
    "\n",
    "for i in numbers:\n",
    "    now = dic[i]\n",
    "    # 1, 4, 7을 누르는 경우 무조건 왼손\n",
    "    if i in [1, 4, 7]:\n",
    "        answer += 'L'\n",
    "        left_s = now\n",
    "\n",
    "    # 3, 6, 9를 누르는 경우 무조건 오른손\n",
    "    elif i in [3, 6, 9]:\n",
    "        answer += 'R'\n",
    "        right_s = now\n",
    "\n",
    "    # 2, 5, 8, 0을 누르는 경우\n",
    "    else:\n",
    "        left_d = 0\n",
    "        right_d = 0\n",
    "\n",
    "        # 좌표 거리 계산해주기\n",
    "        for a, b, c in zip(left_s, right_s, now):\n",
    "            print(a,b,c)\n",
    "            left_d += abs(a-c)\n",
    "            right_d += abs(b-c)\n",
    "\n",
    "        # 왼손이 더 가까운 경우\n",
    "        if left_d < right_d:\n",
    "            answer += 'L'\n",
    "            left_s = now\n",
    "\n",
    "        # 오른손이 더 가까운 경우\n",
    "        elif left_d > right_d:\n",
    "            answer += 'R'\n",
    "            right_s = now\n",
    "\n",
    "        # 두 거리가 같은 경우\n",
    "        else:\n",
    "            # 왼손잡이 경우\n",
    "            if hand == 'left':\n",
    "                answer += 'L'\n",
    "                left_s = now\n",
    "\n",
    "            # 오른손잡이 경우\n",
    "            else:\n",
    "                answer += 'R'\n",
    "                right_s = now\n"
   ]
  },
  {
   "cell_type": "code",
   "execution_count": 11,
   "id": "632fb9ff",
   "metadata": {},
   "outputs": [
    {
     "data": {
      "text/plain": [
       "False"
      ]
     },
     "execution_count": 11,
     "metadata": {},
     "output_type": "execute_result"
    }
   ],
   "source": []
  },
  {
   "cell_type": "code",
   "execution_count": null,
   "id": "2ff2c2a1",
   "metadata": {},
   "outputs": [],
   "source": []
  }
 ],
 "metadata": {
  "kernelspec": {
   "display_name": "Python 3",
   "language": "python",
   "name": "python3"
  },
  "language_info": {
   "codemirror_mode": {
    "name": "ipython",
    "version": 3
   },
   "file_extension": ".py",
   "mimetype": "text/x-python",
   "name": "python",
   "nbconvert_exporter": "python",
   "pygments_lexer": "ipython3",
   "version": "3.8.8"
  },
  "toc": {
   "base_numbering": 1,
   "nav_menu": {},
   "number_sections": true,
   "sideBar": true,
   "skip_h1_title": false,
   "title_cell": "Table of Contents",
   "title_sidebar": "Contents",
   "toc_cell": false,
   "toc_position": {},
   "toc_section_display": true,
   "toc_window_display": false
  }
 },
 "nbformat": 4,
 "nbformat_minor": 5
}
