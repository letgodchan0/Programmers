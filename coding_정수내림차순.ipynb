{
 "cells": [
  {
   "cell_type": "markdown",
   "id": "112343cf",
   "metadata": {},
   "source": [
    "- 2021년 11월 20일\n",
    "- 프로그래머스 정수 내림차순으로 배치\n",
    "- https://programmers.co.kr/learn/courses/30/lessons/12933"
   ]
  },
  {
   "cell_type": "code",
   "execution_count": 1,
   "id": "66ffedf5",
   "metadata": {},
   "outputs": [],
   "source": [
    "n=118372"
   ]
  },
  {
   "cell_type": "code",
   "execution_count": 7,
   "id": "fb955978",
   "metadata": {},
   "outputs": [
    {
     "data": {
      "text/plain": [
       "'873211'"
      ]
     },
     "execution_count": 7,
     "metadata": {},
     "output_type": "execute_result"
    }
   ],
   "source": [
    "result = [i for i in str(n)]\n",
    "result.sort(reverse=True)\n",
    "int(\"\".join(result))"
   ]
  },
  {
   "cell_type": "code",
   "execution_count": null,
   "id": "8562a915",
   "metadata": {},
   "outputs": [],
   "source": [
    "def solution(n):\n",
    "    answer = 0\n",
    "    return answer"
   ]
  }
 ],
 "metadata": {
  "kernelspec": {
   "display_name": "Python 3",
   "language": "python",
   "name": "python3"
  },
  "language_info": {
   "codemirror_mode": {
    "name": "ipython",
    "version": 3
   },
   "file_extension": ".py",
   "mimetype": "text/x-python",
   "name": "python",
   "nbconvert_exporter": "python",
   "pygments_lexer": "ipython3",
   "version": "3.8.8"
  }
 },
 "nbformat": 4,
 "nbformat_minor": 5
}
