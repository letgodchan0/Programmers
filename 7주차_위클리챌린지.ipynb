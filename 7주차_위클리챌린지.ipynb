{
 "cells": [
  {
   "cell_type": "markdown",
   "id": "ba3b93ab",
   "metadata": {},
   "source": [
    "- 날짜: 2021년 9월 24일\n",
    "- 프로그래머스 위클리 챌린지 7주차\n",
    "- https://programmers.co.kr/learn/courses/30/lessons/86048"
   ]
  },
  {
   "cell_type": "code",
   "execution_count": 1,
   "id": "177123c3",
   "metadata": {},
   "outputs": [],
   "source": [
    "def solution():\n",
    "    return 1"
   ]
  },
  {
   "cell_type": "code",
   "execution_count": null,
   "id": "a402f307",
   "metadata": {},
   "outputs": [],
   "source": []
  }
 ],
 "metadata": {
  "kernelspec": {
   "display_name": "Python 3",
   "language": "python",
   "name": "python3"
  },
  "language_info": {
   "codemirror_mode": {
    "name": "ipython",
    "version": 3
   },
   "file_extension": ".py",
   "mimetype": "text/x-python",
   "name": "python",
   "nbconvert_exporter": "python",
   "pygments_lexer": "ipython3",
   "version": "3.8.8"
  },
  "toc": {
   "base_numbering": 1,
   "nav_menu": {},
   "number_sections": true,
   "sideBar": true,
   "skip_h1_title": false,
   "title_cell": "Table of Contents",
   "title_sidebar": "Contents",
   "toc_cell": false,
   "toc_position": {},
   "toc_section_display": true,
   "toc_window_display": false
  }
 },
 "nbformat": 4,
 "nbformat_minor": 5
}
