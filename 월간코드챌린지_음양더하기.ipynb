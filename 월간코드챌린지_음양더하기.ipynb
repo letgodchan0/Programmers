{
 "cells": [
  {
   "cell_type": "markdown",
   "id": "bec4304c",
   "metadata": {},
   "source": [
    "- 2021년 10월 16일\n",
    "- 프로그래머스 음양 더하기\n",
    "- https://programmers.co.kr/learn/courses/30/lessons/76501"
   ]
  },
  {
   "cell_type": "code",
   "execution_count": 10,
   "id": "82b9e59b",
   "metadata": {},
   "outputs": [],
   "source": [
    "def solution(absolutes, signs):\n",
    "    return  sum(list(map(lambda x:x[0] if x[1] == True else -x[0] ,list(zip(absolutes,signs)))))"
   ]
  },
  {
   "cell_type": "code",
   "execution_count": 15,
   "id": "4aa6f00c",
   "metadata": {},
   "outputs": [],
   "source": [
    "absolutes=[4,7,12]\n",
    "signs=[True,False,True]"
   ]
  },
  {
   "cell_type": "code",
   "execution_count": 16,
   "id": "97473ee5",
   "metadata": {},
   "outputs": [
    {
     "data": {
      "text/plain": [
       "9"
      ]
     },
     "execution_count": 16,
     "metadata": {},
     "output_type": "execute_result"
    }
   ],
   "source": [
    "solution(absolutes, signs)"
   ]
  }
 ],
 "metadata": {
  "kernelspec": {
   "display_name": "Python 3",
   "language": "python",
   "name": "python3"
  },
  "language_info": {
   "codemirror_mode": {
    "name": "ipython",
    "version": 3
   },
   "file_extension": ".py",
   "mimetype": "text/x-python",
   "name": "python",
   "nbconvert_exporter": "python",
   "pygments_lexer": "ipython3",
   "version": "3.8.8"
  },
  "toc": {
   "base_numbering": 1,
   "nav_menu": {},
   "number_sections": true,
   "sideBar": true,
   "skip_h1_title": false,
   "title_cell": "Table of Contents",
   "title_sidebar": "Contents",
   "toc_cell": false,
   "toc_position": {},
   "toc_section_display": true,
   "toc_window_display": false
  }
 },
 "nbformat": 4,
 "nbformat_minor": 5
}
