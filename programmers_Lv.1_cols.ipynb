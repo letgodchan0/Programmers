{
 "cells": [
  {
   "cell_type": "markdown",
   "id": "d3703c04",
   "metadata": {},
   "source": [
    "- 2021년 11월 21일\n",
    "- 프로그래머스  2016년\n",
    "- https://programmers.co.kr/learn/courses/30/lessons/12901"
   ]
  },
  {
   "cell_type": "code",
   "execution_count": 34,
   "id": "ea4570b2",
   "metadata": {},
   "outputs": [],
   "source": [
    "a=12\n",
    "b=31"
   ]
  },
  {
   "cell_type": "code",
   "execution_count": 39,
   "id": "8d3c1733",
   "metadata": {},
   "outputs": [],
   "source": [
    "def solution(a, b):\n",
    "    week=['THU', 'FRI', 'SAT','SUN', 'MON', 'TUE','WED']\n",
    "    month={1:0,2:31,3:60,4:91,5:121,6:152,7:182,8:213,9:244,10:274,11:305,12:335}\n",
    "    return week[(month[a]+b)%7]"
   ]
  },
  {
   "cell_type": "code",
   "execution_count": 38,
   "id": "566df0a6",
   "metadata": {},
   "outputs": [
    {
     "data": {
      "text/plain": [
       "'SAT'"
      ]
     },
     "execution_count": 38,
     "metadata": {},
     "output_type": "execute_result"
    }
   ],
   "source": [
    "solution(a,b)"
   ]
  },
  {
   "cell_type": "code",
   "execution_count": null,
   "id": "736c5273",
   "metadata": {},
   "outputs": [],
   "source": []
  },
  {
   "cell_type": "markdown",
   "id": "f6078b43",
   "metadata": {},
   "source": [
    "- 2021년 11월 21일\n",
    "- 프로그래머스 나머지가 1이 되는 수 찾기\n",
    "- https://programmers.co.kr/learn/courses/30/lessons/87389"
   ]
  },
  {
   "cell_type": "code",
   "execution_count": 46,
   "id": "ecd89047",
   "metadata": {},
   "outputs": [],
   "source": [
    "n=12"
   ]
  },
  {
   "cell_type": "code",
   "execution_count": 47,
   "id": "70728344",
   "metadata": {},
   "outputs": [],
   "source": [
    "def solution(n):\n",
    "    i=1\n",
    "    while True:\n",
    "        if n%i ==1:\n",
    "            break\n",
    "        i+=1\n",
    "    return i"
   ]
  },
  {
   "cell_type": "code",
   "execution_count": 48,
   "id": "96499b36",
   "metadata": {},
   "outputs": [
    {
     "data": {
      "text/plain": [
       "11"
      ]
     },
     "execution_count": 48,
     "metadata": {},
     "output_type": "execute_result"
    }
   ],
   "source": [
    "solution(n)"
   ]
  },
  {
   "cell_type": "code",
   "execution_count": null,
   "id": "e83b0960",
   "metadata": {},
   "outputs": [],
   "source": []
  },
  {
   "cell_type": "code",
   "execution_count": null,
   "id": "d5695ab3",
   "metadata": {},
   "outputs": [],
   "source": [
    "- 2021"
   ]
  }
 ],
 "metadata": {
  "kernelspec": {
   "display_name": "Python 3",
   "language": "python",
   "name": "python3"
  },
  "language_info": {
   "codemirror_mode": {
    "name": "ipython",
    "version": 3
   },
   "file_extension": ".py",
   "mimetype": "text/x-python",
   "name": "python",
   "nbconvert_exporter": "python",
   "pygments_lexer": "ipython3",
   "version": "3.8.8"
  }
 },
 "nbformat": 4,
 "nbformat_minor": 5
}
