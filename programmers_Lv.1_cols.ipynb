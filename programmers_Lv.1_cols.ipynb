{
 "cells": [
  {
   "cell_type": "markdown",
   "id": "75c74f9e",
   "metadata": {},
   "source": [
    "- 2021년 11월 21일\n",
    "- 프로그래머스  2016년\n",
    "- https://programmers.co.kr/learn/courses/30/lessons/12901"
   ]
  },
  {
   "cell_type": "code",
   "execution_count": 34,
   "id": "aae88fff",
   "metadata": {},
   "outputs": [],
   "source": [
    "a=12\n",
    "b=31"
   ]
  },
  {
   "cell_type": "code",
   "execution_count": 39,
   "id": "fef15709",
   "metadata": {},
   "outputs": [],
   "source": [
    "def solution(a, b):\n",
    "    week=['THU', 'FRI', 'SAT','SUN', 'MON', 'TUE','WED']\n",
    "    month={1:0,2:31,3:60,4:91,5:121,6:152,7:182,8:213,9:244,10:274,11:305,12:335}\n",
    "    return week[(month[a]+b)%7]"
   ]
  },
  {
   "cell_type": "code",
   "execution_count": 38,
   "id": "f883d45d",
   "metadata": {},
   "outputs": [
    {
     "data": {
      "text/plain": [
       "'SAT'"
      ]
     },
     "execution_count": 38,
     "metadata": {},
     "output_type": "execute_result"
    }
   ],
   "source": [
    "solution(a,b)"
   ]
  },
  {
   "cell_type": "code",
   "execution_count": null,
   "id": "ae6cfa25",
   "metadata": {},
   "outputs": [],
   "source": []
  },
  {
   "cell_type": "markdown",
   "id": "b35d62ad",
   "metadata": {},
   "source": [
    "- 2021년 11월 21일\n",
    "- 프로그래머스 나머지가 1이 되는 수 찾기\n",
    "- https://programmers.co.kr/learn/courses/30/lessons/87389"
   ]
  },
  {
   "cell_type": "code",
   "execution_count": 46,
   "id": "48692949",
   "metadata": {},
   "outputs": [],
   "source": [
    "n=12"
   ]
  },
  {
   "cell_type": "code",
   "execution_count": 47,
   "id": "65e984f7",
   "metadata": {},
   "outputs": [],
   "source": [
    "def solution(n):\n",
    "    i=1\n",
    "    while True:\n",
    "        if n%i ==1:\n",
    "            break\n",
    "        i+=1\n",
    "    return i"
   ]
  },
  {
   "cell_type": "code",
   "execution_count": 48,
   "id": "9bfb7037",
   "metadata": {},
   "outputs": [
    {
     "data": {
      "text/plain": [
       "11"
      ]
     },
     "execution_count": 48,
     "metadata": {},
     "output_type": "execute_result"
    }
   ],
   "source": [
    "solution(n)"
   ]
  },
  {
   "cell_type": "code",
   "execution_count": null,
   "id": "9c84668f",
   "metadata": {},
   "outputs": [],
   "source": []
  },
  {
   "cell_type": "markdown",
   "id": "6546ac5f",
   "metadata": {},
   "source": [
    "- 2021년 11월 21\n",
    "- 프로그래머스 [1]차 비밀지도\n",
    "- https://programmers.co.kr/learn/courses/30/lessons/17681"
   ]
  },
  {
   "cell_type": "code",
   "execution_count": 53,
   "id": "e96b6d8f",
   "metadata": {},
   "outputs": [],
   "source": [
    "n=5\n",
    "arr1= [9, 20, 28, 18, 11]\n",
    "arr2= [30, 1, 21, 17, 28]"
   ]
  },
  {
   "cell_type": "code",
   "execution_count": 74,
   "id": "9f6aa7ed",
   "metadata": {},
   "outputs": [],
   "source": [
    "def solution(n, arr1, arr2):\n",
    "    new_arr1=[]\n",
    "    for i in arr1:\n",
    "        new_arr1.append(format(i, 'b'))\n",
    "    for i,j in enumerate(new_arr1):\n",
    "        if len(j) != n:\n",
    "            while True:\n",
    "                new_arr1[i]='0'+new_arr1[i]\n",
    "                if len(new_arr1[i])==n:\n",
    "                    break\n",
    "    \n",
    "    new_arr2=[]\n",
    "    for i in arr2:\n",
    "        new_arr2.append(format(i, 'b'))\n",
    "    for i,j in enumerate(new_arr2):\n",
    "        if len(j) != n:\n",
    "            while True:\n",
    "                new_arr2[i]='0'+new_arr2[i]\n",
    "                if len(new_arr2[i])==n:\n",
    "                    break\n",
    "    \n",
    "    result=[]\n",
    "    for i in range(len(new_arr1)):\n",
    "        tmp=''\n",
    "        for j in range(len(new_arr1)):\n",
    "            if new_arr1[i][j]=='1' or new_arr2[i][j]=='1':\n",
    "                tmp+='#'\n",
    "            else:\n",
    "                tmp+=' '\n",
    "        result.append(tmp)\n",
    "    return result"
   ]
  },
  {
   "cell_type": "code",
   "execution_count": 75,
   "id": "f38e7f70",
   "metadata": {},
   "outputs": [
    {
     "data": {
      "text/plain": [
       "['#####', '# # #', '### #', '#  ##', '#####']"
      ]
     },
     "execution_count": 75,
     "metadata": {},
     "output_type": "execute_result"
    }
   ],
   "source": [
    "solution(n, arr1, arr2)"
   ]
  },
  {
   "cell_type": "markdown",
   "id": "888197cd",
   "metadata": {},
   "source": [
    "- 다른풀이\n",
    "- rjust(오른쪽 정렬) 함수 사용, rjust(공백의수, 공백을 메워줄 문자)"
   ]
  },
  {
   "cell_type": "code",
   "execution_count": 76,
   "id": "cd97f625",
   "metadata": {},
   "outputs": [],
   "source": [
    "def solution(n, arr1, arr2):\n",
    "    answer = []\n",
    "    for i,j in zip(arr1,arr2):\n",
    "        a12 = str(bin(i|j)[2:])\n",
    "        a12=a12.rjust(n,'0')\n",
    "        a12=a12.replace('1','#')\n",
    "        a12=a12.replace('0',' ')\n",
    "        answer.append(a12)\n",
    "    return answer"
   ]
  },
  {
   "cell_type": "code",
   "execution_count": null,
   "id": "8f784a64",
   "metadata": {},
   "outputs": [],
   "source": []
  },
  {
   "cell_type": "markdown",
   "id": "3ecf694e",
   "metadata": {},
   "source": [
    "- 2021년 11월 22일\n",
    "- 프로그래머스 수박\n",
    "- https://programmers.co.kr/learn/courses/30/lessons/12922"
   ]
  },
  {
   "cell_type": "code",
   "execution_count": 6,
   "id": "1e490ea4",
   "metadata": {},
   "outputs": [],
   "source": [
    "def solution(n):\n",
    "    answer = '수박'*5000\n",
    "    return answer[:n]"
   ]
  },
  {
   "cell_type": "code",
   "execution_count": 9,
   "id": "b3be229f",
   "metadata": {},
   "outputs": [
    {
     "data": {
      "text/plain": [
       "'수박수박수박'"
      ]
     },
     "execution_count": 9,
     "metadata": {},
     "output_type": "execute_result"
    }
   ],
   "source": [
    "solution(6)"
   ]
  },
  {
   "cell_type": "markdown",
   "id": "e471a80e",
   "metadata": {},
   "source": [
    "- 다른 풀이\n",
    "- n을 나눈 정수 몫을 수박이랑 곱해주고, 나머지가 0이거나 1에 따라서 수를 더해준다"
   ]
  },
  {
   "cell_type": "code",
   "execution_count": 10,
   "id": "749c9bd6",
   "metadata": {},
   "outputs": [],
   "source": [
    "def water_melon(n):\n",
    "    return \"수박\"*(n//2) + \"수\"*(n%2)"
   ]
  },
  {
   "cell_type": "code",
   "execution_count": null,
   "id": "adc9bb1d",
   "metadata": {},
   "outputs": [],
   "source": []
  },
  {
   "cell_type": "markdown",
   "id": "0b38e5c4",
   "metadata": {},
   "source": [
    "- 2021년 11월 22일\n",
    "- 프로그래머스 [1차] 다트 게임\n",
    "- https://programmers.co.kr/learn/courses/30/lessons/17682"
   ]
  },
  {
   "cell_type": "code",
   "execution_count": 27,
   "id": "200b6fbb",
   "metadata": {},
   "outputs": [],
   "source": [
    "dartResult='1D2S#10S'"
   ]
  },
  {
   "cell_type": "code",
   "execution_count": 34,
   "id": "a775be48",
   "metadata": {},
   "outputs": [],
   "source": [
    "def solution(dartResult):\n",
    "    score=['0','1','2','3','4','5','6','7','8','9','10']\n",
    "    bonus=['S','D','T']\n",
    "    result=[]\n",
    "    dartResult = dartResult.replace('10','k')\n",
    "    dartResult=['10' if i=='k' else i for i in dartResult]\n",
    "    for i in range(len(dartResult)):\n",
    "        answer=0\n",
    "        if dartResult[i] in score:\n",
    "            if dartResult[i+1] =='S':\n",
    "                answer=int(dartResult[i])**1\n",
    "            if dartResult[i+1] =='D':\n",
    "                answer=int(dartResult[i])**2\n",
    "            if dartResult[i+1] =='T':\n",
    "                answer=int(dartResult[i])**3\n",
    "            result.append(answer)\n",
    "        elif dartResult[i] =='*':\n",
    "            if len(result)==1:\n",
    "                result[0]=result[0]*2\n",
    "            else:\n",
    "                result[-1]=result[-1]*2\n",
    "                result[-2]=result[-2]*2\n",
    "        elif dartResult[i] =='#':\n",
    "            result[-1]=-result[-1]\n",
    "        else:\n",
    "            continue\n",
    "    return sum(result)"
   ]
  },
  {
   "cell_type": "code",
   "execution_count": 35,
   "id": "f694b9e6",
   "metadata": {},
   "outputs": [
    {
     "data": {
      "text/plain": [
       "9"
      ]
     },
     "execution_count": 35,
     "metadata": {},
     "output_type": "execute_result"
    }
   ],
   "source": [
    "solution(dartResult)"
   ]
  },
  {
   "cell_type": "code",
   "execution_count": null,
   "id": "6976ce6b",
   "metadata": {},
   "outputs": [],
   "source": []
  },
  {
   "cell_type": "markdown",
   "id": "4deaff0d",
   "metadata": {},
   "source": [
    "- 2021년 11월 23일\n",
    "- 프로그래머스 같은 숫자는 싫어\n",
    "- https://programmers.co.kr/learn/courses/30/lessons/12906"
   ]
  },
  {
   "cell_type": "code",
   "execution_count": 1,
   "id": "16745a46",
   "metadata": {},
   "outputs": [],
   "source": [
    "arr=[1,1,3,3,0,1,1]"
   ]
  },
  {
   "cell_type": "code",
   "execution_count": 2,
   "id": "69a28fab",
   "metadata": {},
   "outputs": [],
   "source": [
    "def solution(arr):\n",
    "    result=[]\n",
    "    for i in range(len(arr)):\n",
    "        if i==0:\n",
    "            result.append(arr[i])\n",
    "        else:\n",
    "            if arr[i]!=arr[i-1]:\n",
    "                result.append(arr[i])\n",
    "    return result"
   ]
  },
  {
   "cell_type": "code",
   "execution_count": 3,
   "id": "c27d2c21",
   "metadata": {},
   "outputs": [
    {
     "data": {
      "text/plain": [
       "[1, 3, 0, 1]"
      ]
     },
     "execution_count": 3,
     "metadata": {},
     "output_type": "execute_result"
    }
   ],
   "source": [
    "solution(arr)"
   ]
  },
  {
   "cell_type": "markdown",
   "id": "eaf3964e",
   "metadata": {},
   "source": [
    "- 다른 풀이"
   ]
  },
  {
   "cell_type": "code",
   "execution_count": 5,
   "id": "8fcf5dc9",
   "metadata": {},
   "outputs": [],
   "source": [
    "def no_continuous(s):\n",
    "    result = []\n",
    "    for c in s:\n",
    "        if (len(result) == 0) or (result[-1] != c):\n",
    "            result.append(c)\n",
    "    return result"
   ]
  },
  {
   "cell_type": "code",
   "execution_count": null,
   "id": "cba5882d",
   "metadata": {},
   "outputs": [],
   "source": []
  },
  {
   "cell_type": "markdown",
   "id": "31c4fdaa",
   "metadata": {},
   "source": [
    "- 2021년 11월 23일\n",
    "- 프로그래머스 나누어 떨어지는 숫자 배열\n",
    "- https://programmers.co.kr/learn/courses/30/lessons/12910?language=python3"
   ]
  },
  {
   "cell_type": "code",
   "execution_count": 6,
   "id": "a6cc836e",
   "metadata": {},
   "outputs": [],
   "source": [
    "arr = [3,2,6]\n",
    "divisor=10"
   ]
  },
  {
   "cell_type": "code",
   "execution_count": 7,
   "id": "96a128ea",
   "metadata": {},
   "outputs": [],
   "source": [
    "def solution(arr, divisor):\n",
    "    answer = []\n",
    "    for i in arr:\n",
    "        if i%divisor==0:\n",
    "            answer.append(i)\n",
    "    if len(answer)==0:\n",
    "        return [-1]\n",
    "    return sorted(answer)"
   ]
  },
  {
   "cell_type": "code",
   "execution_count": 8,
   "id": "55b4b22a",
   "metadata": {},
   "outputs": [
    {
     "data": {
      "text/plain": [
       "[-1]"
      ]
     },
     "execution_count": 8,
     "metadata": {},
     "output_type": "execute_result"
    }
   ],
   "source": [
    "solution(arr, divisor)"
   ]
  },
  {
   "cell_type": "markdown",
   "id": "f55849c4",
   "metadata": {},
   "source": [
    "- 다른 풀이\n",
    "- 앞에가 거짓일 때 뒤에 것이 호출되는 것을 사용"
   ]
  },
  {
   "cell_type": "code",
   "execution_count": 9,
   "id": "281b5b88",
   "metadata": {},
   "outputs": [],
   "source": [
    "def solution(arr, divisor): return sorted([n for n in arr if n%divisor == 0]) or [-1]"
   ]
  },
  {
   "cell_type": "code",
   "execution_count": null,
   "id": "86d9dce2",
   "metadata": {},
   "outputs": [],
   "source": []
  },
  {
   "cell_type": "markdown",
   "id": "e490ba3c",
   "metadata": {},
   "source": [
    "- 2021년 11월 23일\n",
    "- 프로그래머스 두 정수 사이의 합\n",
    "- https://programmers.co.kr/learn/courses/30/lessons/12912"
   ]
  },
  {
   "cell_type": "code",
   "execution_count": 10,
   "id": "1f1f2567",
   "metadata": {},
   "outputs": [],
   "source": [
    "a=5\n",
    "b=3"
   ]
  },
  {
   "cell_type": "code",
   "execution_count": 11,
   "id": "e710707a",
   "metadata": {},
   "outputs": [],
   "source": [
    "def solution(a, b):\n",
    "    if a>b:\n",
    "        a,b=b,a\n",
    "    answer=[i for i in range(a,b+1)]\n",
    "    return sum(set(answer))"
   ]
  },
  {
   "cell_type": "code",
   "execution_count": 12,
   "id": "422b0c33",
   "metadata": {},
   "outputs": [
    {
     "data": {
      "text/plain": [
       "12"
      ]
     },
     "execution_count": 12,
     "metadata": {},
     "output_type": "execute_result"
    }
   ],
   "source": [
    "solution(a, b)"
   ]
  },
  {
   "cell_type": "markdown",
   "id": "8e73b442",
   "metadata": {},
   "source": [
    "- 다른 풀이"
   ]
  },
  {
   "cell_type": "code",
   "execution_count": 13,
   "id": "c0a1afe0",
   "metadata": {},
   "outputs": [],
   "source": [
    "def adder(a, b):\n",
    "    # 함수를 완성하세요\n",
    "    if a > b: a, b = b, a\n",
    "\n",
    "    return sum(range(a,b+1))"
   ]
  },
  {
   "cell_type": "code",
   "execution_count": null,
   "id": "4f2c5607",
   "metadata": {},
   "outputs": [],
   "source": []
  },
  {
   "cell_type": "code",
   "execution_count": null,
   "id": "c06f67ff",
   "metadata": {},
   "outputs": [],
   "source": []
  },
  {
   "cell_type": "code",
   "execution_count": null,
   "id": "d63c2f60",
   "metadata": {},
   "outputs": [],
   "source": []
  },
  {
   "cell_type": "code",
   "execution_count": null,
   "id": "0f94b1e8",
   "metadata": {},
   "outputs": [],
   "source": []
  },
  {
   "cell_type": "code",
   "execution_count": null,
   "id": "a4a53312",
   "metadata": {},
   "outputs": [],
   "source": []
  },
  {
   "cell_type": "code",
   "execution_count": null,
   "id": "01cfb880",
   "metadata": {},
   "outputs": [],
   "source": []
  },
  {
   "cell_type": "code",
   "execution_count": null,
   "id": "74238279",
   "metadata": {},
   "outputs": [],
   "source": []
  },
  {
   "cell_type": "code",
   "execution_count": null,
   "id": "d9e44648",
   "metadata": {},
   "outputs": [],
   "source": []
  },
  {
   "cell_type": "code",
   "execution_count": null,
   "id": "7837ffb5",
   "metadata": {},
   "outputs": [],
   "source": []
  },
  {
   "cell_type": "code",
   "execution_count": null,
   "id": "dee6ba6a",
   "metadata": {},
   "outputs": [],
   "source": []
  },
  {
   "cell_type": "code",
   "execution_count": null,
   "id": "9e1d3c94",
   "metadata": {},
   "outputs": [],
   "source": []
  },
  {
   "cell_type": "code",
   "execution_count": null,
   "id": "47b34ce4",
   "metadata": {},
   "outputs": [],
   "source": []
  },
  {
   "cell_type": "code",
   "execution_count": null,
   "id": "3c03676b",
   "metadata": {},
   "outputs": [],
   "source": []
  },
  {
   "cell_type": "code",
   "execution_count": null,
   "id": "42057548",
   "metadata": {},
   "outputs": [],
   "source": []
  },
  {
   "cell_type": "code",
   "execution_count": null,
   "id": "84b0c973",
   "metadata": {},
   "outputs": [],
   "source": []
  },
  {
   "cell_type": "code",
   "execution_count": null,
   "id": "dbbd93c8",
   "metadata": {},
   "outputs": [],
   "source": []
  },
  {
   "cell_type": "code",
   "execution_count": null,
   "id": "4c231638",
   "metadata": {},
   "outputs": [],
   "source": []
  }
 ],
 "metadata": {
  "kernelspec": {
   "display_name": "Python 3",
   "language": "python",
   "name": "python3"
  },
  "language_info": {
   "codemirror_mode": {
    "name": "ipython",
    "version": 3
   },
   "file_extension": ".py",
   "mimetype": "text/x-python",
   "name": "python",
   "nbconvert_exporter": "python",
   "pygments_lexer": "ipython3",
   "version": "3.8.8"
  }
 },
 "nbformat": 4,
 "nbformat_minor": 5
}
