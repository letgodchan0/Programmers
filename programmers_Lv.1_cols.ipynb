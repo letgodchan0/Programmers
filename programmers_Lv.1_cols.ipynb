{
 "cells": [
  {
   "cell_type": "markdown",
   "id": "7e67f0eb",
   "metadata": {},
   "source": [
    "- 2021년 11월 21일\n",
    "- 프로그래머스  2016년\n",
    "- https://programmers.co.kr/learn/courses/30/lessons/12901"
   ]
  },
  {
   "cell_type": "code",
   "execution_count": 34,
   "id": "39839d0b",
   "metadata": {},
   "outputs": [],
   "source": [
    "a=12\n",
    "b=31"
   ]
  },
  {
   "cell_type": "code",
   "execution_count": 39,
   "id": "1800652f",
   "metadata": {},
   "outputs": [],
   "source": [
    "def solution(a, b):\n",
    "    week=['THU', 'FRI', 'SAT','SUN', 'MON', 'TUE','WED']\n",
    "    month={1:0,2:31,3:60,4:91,5:121,6:152,7:182,8:213,9:244,10:274,11:305,12:335}\n",
    "    return week[(month[a]+b)%7]"
   ]
  },
  {
   "cell_type": "code",
   "execution_count": 38,
   "id": "f6f1b807",
   "metadata": {},
   "outputs": [
    {
     "data": {
      "text/plain": [
       "'SAT'"
      ]
     },
     "execution_count": 38,
     "metadata": {},
     "output_type": "execute_result"
    }
   ],
   "source": [
    "solution(a,b)"
   ]
  },
  {
   "cell_type": "code",
   "execution_count": null,
   "id": "bcfaaffe",
   "metadata": {},
   "outputs": [],
   "source": []
  },
  {
   "cell_type": "markdown",
   "id": "9f44bda6",
   "metadata": {},
   "source": [
    "- 2021년 11월 21일\n",
    "- 프로그래머스 나머지가 1이 되는 수 찾기\n",
    "- https://programmers.co.kr/learn/courses/30/lessons/87389"
   ]
  },
  {
   "cell_type": "code",
   "execution_count": 46,
   "id": "37a43b47",
   "metadata": {},
   "outputs": [],
   "source": [
    "n=12"
   ]
  },
  {
   "cell_type": "code",
   "execution_count": 47,
   "id": "3919c58a",
   "metadata": {},
   "outputs": [],
   "source": [
    "def solution(n):\n",
    "    i=1\n",
    "    while True:\n",
    "        if n%i ==1:\n",
    "            break\n",
    "        i+=1\n",
    "    return i"
   ]
  },
  {
   "cell_type": "code",
   "execution_count": 48,
   "id": "7d3ef90a",
   "metadata": {},
   "outputs": [
    {
     "data": {
      "text/plain": [
       "11"
      ]
     },
     "execution_count": 48,
     "metadata": {},
     "output_type": "execute_result"
    }
   ],
   "source": [
    "solution(n)"
   ]
  },
  {
   "cell_type": "code",
   "execution_count": null,
   "id": "39c9c01e",
   "metadata": {},
   "outputs": [],
   "source": []
  },
  {
   "cell_type": "markdown",
   "id": "f0892354",
   "metadata": {},
   "source": [
    "- 2021년 11월 21\n",
    "- 프로그래머스 [1]차 비밀지도\n",
    "- https://programmers.co.kr/learn/courses/30/lessons/17681"
   ]
  },
  {
   "cell_type": "code",
   "execution_count": 53,
   "id": "535f7ed4",
   "metadata": {},
   "outputs": [],
   "source": [
    "n=5\n",
    "arr1= [9, 20, 28, 18, 11]\n",
    "arr2= [30, 1, 21, 17, 28]"
   ]
  },
  {
   "cell_type": "code",
   "execution_count": 74,
   "id": "30f3b275",
   "metadata": {},
   "outputs": [],
   "source": [
    "def solution(n, arr1, arr2):\n",
    "    new_arr1=[]\n",
    "    for i in arr1:\n",
    "        new_arr1.append(format(i, 'b'))\n",
    "    for i,j in enumerate(new_arr1):\n",
    "        if len(j) != n:\n",
    "            while True:\n",
    "                new_arr1[i]='0'+new_arr1[i]\n",
    "                if len(new_arr1[i])==n:\n",
    "                    break\n",
    "    \n",
    "    new_arr2=[]\n",
    "    for i in arr2:\n",
    "        new_arr2.append(format(i, 'b'))\n",
    "    for i,j in enumerate(new_arr2):\n",
    "        if len(j) != n:\n",
    "            while True:\n",
    "                new_arr2[i]='0'+new_arr2[i]\n",
    "                if len(new_arr2[i])==n:\n",
    "                    break\n",
    "    \n",
    "    result=[]\n",
    "    for i in range(len(new_arr1)):\n",
    "        tmp=''\n",
    "        for j in range(len(new_arr1)):\n",
    "            if new_arr1[i][j]=='1' or new_arr2[i][j]=='1':\n",
    "                tmp+='#'\n",
    "            else:\n",
    "                tmp+=' '\n",
    "        result.append(tmp)\n",
    "    return result"
   ]
  },
  {
   "cell_type": "code",
   "execution_count": 75,
   "id": "0e59d682",
   "metadata": {},
   "outputs": [
    {
     "data": {
      "text/plain": [
       "['#####', '# # #', '### #', '#  ##', '#####']"
      ]
     },
     "execution_count": 75,
     "metadata": {},
     "output_type": "execute_result"
    }
   ],
   "source": [
    "solution(n, arr1, arr2)"
   ]
  },
  {
   "cell_type": "markdown",
   "id": "dd8eb6a9",
   "metadata": {},
   "source": [
    "- 다른풀이\n",
    "- rjust(오른쪽 정렬) 함수 사용, rjust(공백의수, 공백을 메워줄 문자)"
   ]
  },
  {
   "cell_type": "code",
   "execution_count": 76,
   "id": "a8ee6309",
   "metadata": {},
   "outputs": [],
   "source": [
    "def solution(n, arr1, arr2):\n",
    "    answer = []\n",
    "    for i,j in zip(arr1,arr2):\n",
    "        a12 = str(bin(i|j)[2:])\n",
    "        a12=a12.rjust(n,'0')\n",
    "        a12=a12.replace('1','#')\n",
    "        a12=a12.replace('0',' ')\n",
    "        answer.append(a12)\n",
    "    return answer"
   ]
  },
  {
   "cell_type": "code",
   "execution_count": null,
   "id": "d983ced2",
   "metadata": {},
   "outputs": [],
   "source": []
  }
 ],
 "metadata": {
  "kernelspec": {
   "display_name": "Python 3",
   "language": "python",
   "name": "python3"
  },
  "language_info": {
   "codemirror_mode": {
    "name": "ipython",
    "version": 3
   },
   "file_extension": ".py",
   "mimetype": "text/x-python",
   "name": "python",
   "nbconvert_exporter": "python",
   "pygments_lexer": "ipython3",
   "version": "3.8.8"
  }
 },
 "nbformat": 4,
 "nbformat_minor": 5
}
