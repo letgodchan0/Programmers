{
 "cells": [
  {
   "cell_type": "markdown",
   "id": "75c74f9e",
   "metadata": {},
   "source": [
    "- 2021년 11월 21일\n",
    "- 프로그래머스  2016년\n",
    "- https://programmers.co.kr/learn/courses/30/lessons/12901"
   ]
  },
  {
   "cell_type": "code",
   "execution_count": 1,
   "id": "aae88fff",
   "metadata": {},
   "outputs": [],
   "source": [
    "a=12\n",
    "b=31"
   ]
  },
  {
   "cell_type": "code",
   "execution_count": 2,
   "id": "fef15709",
   "metadata": {},
   "outputs": [],
   "source": [
    "def solution(a, b):\n",
    "    week=['THU', 'FRI', 'SAT','SUN', 'MON', 'TUE','WED']\n",
    "    month={1:0,2:31,3:60,4:91,5:121,6:152,7:182,8:213,9:244,10:274,11:305,12:335}\n",
    "    return week[(month[a]+b)%7]"
   ]
  },
  {
   "cell_type": "code",
   "execution_count": 3,
   "id": "f883d45d",
   "metadata": {},
   "outputs": [
    {
     "data": {
      "text/plain": [
       "'SAT'"
      ]
     },
     "execution_count": 3,
     "metadata": {},
     "output_type": "execute_result"
    }
   ],
   "source": [
    "solution(a,b)"
   ]
  },
  {
   "cell_type": "code",
   "execution_count": null,
   "id": "ae6cfa25",
   "metadata": {},
   "outputs": [],
   "source": []
  },
  {
   "cell_type": "markdown",
   "id": "b35d62ad",
   "metadata": {},
   "source": [
    "- 2021년 11월 21일\n",
    "- 프로그래머스 나머지가 1이 되는 수 찾기\n",
    "- https://programmers.co.kr/learn/courses/30/lessons/87389"
   ]
  },
  {
   "cell_type": "code",
   "execution_count": 4,
   "id": "48692949",
   "metadata": {},
   "outputs": [],
   "source": [
    "n=12"
   ]
  },
  {
   "cell_type": "code",
   "execution_count": 5,
   "id": "65e984f7",
   "metadata": {},
   "outputs": [],
   "source": [
    "def solution(n):\n",
    "    i=1\n",
    "    while True:\n",
    "        if n%i ==1:\n",
    "            break\n",
    "        i+=1\n",
    "    return i"
   ]
  },
  {
   "cell_type": "code",
   "execution_count": 6,
   "id": "9bfb7037",
   "metadata": {},
   "outputs": [
    {
     "data": {
      "text/plain": [
       "11"
      ]
     },
     "execution_count": 6,
     "metadata": {},
     "output_type": "execute_result"
    }
   ],
   "source": [
    "solution(n)"
   ]
  },
  {
   "cell_type": "code",
   "execution_count": null,
   "id": "9c84668f",
   "metadata": {},
   "outputs": [],
   "source": []
  },
  {
   "cell_type": "markdown",
   "id": "6546ac5f",
   "metadata": {},
   "source": [
    "- 2021년 11월 21\n",
    "- 프로그래머스 [1]차 비밀지도\n",
    "- https://programmers.co.kr/learn/courses/30/lessons/17681"
   ]
  },
  {
   "cell_type": "code",
   "execution_count": 7,
   "id": "e96b6d8f",
   "metadata": {},
   "outputs": [],
   "source": [
    "n=5\n",
    "arr1= [9, 20, 28, 18, 11]\n",
    "arr2= [30, 1, 21, 17, 28]"
   ]
  },
  {
   "cell_type": "code",
   "execution_count": 8,
   "id": "9f6aa7ed",
   "metadata": {},
   "outputs": [],
   "source": [
    "def solution(n, arr1, arr2):\n",
    "    new_arr1=[]\n",
    "    for i in arr1:\n",
    "        new_arr1.append(format(i, 'b'))\n",
    "    for i,j in enumerate(new_arr1):\n",
    "        if len(j) != n:\n",
    "            while True:\n",
    "                new_arr1[i]='0'+new_arr1[i]\n",
    "                if len(new_arr1[i])==n:\n",
    "                    break\n",
    "    \n",
    "    new_arr2=[]\n",
    "    for i in arr2:\n",
    "        new_arr2.append(format(i, 'b'))\n",
    "    for i,j in enumerate(new_arr2):\n",
    "        if len(j) != n:\n",
    "            while True:\n",
    "                new_arr2[i]='0'+new_arr2[i]\n",
    "                if len(new_arr2[i])==n:\n",
    "                    break\n",
    "    \n",
    "    result=[]\n",
    "    for i in range(len(new_arr1)):\n",
    "        tmp=''\n",
    "        for j in range(len(new_arr1)):\n",
    "            if new_arr1[i][j]=='1' or new_arr2[i][j]=='1':\n",
    "                tmp+='#'\n",
    "            else:\n",
    "                tmp+=' '\n",
    "        result.append(tmp)\n",
    "    return result"
   ]
  },
  {
   "cell_type": "code",
   "execution_count": 9,
   "id": "f38e7f70",
   "metadata": {},
   "outputs": [
    {
     "data": {
      "text/plain": [
       "['#####', '# # #', '### #', '#  ##', '#####']"
      ]
     },
     "execution_count": 9,
     "metadata": {},
     "output_type": "execute_result"
    }
   ],
   "source": [
    "solution(n, arr1, arr2)"
   ]
  },
  {
   "cell_type": "markdown",
   "id": "888197cd",
   "metadata": {},
   "source": [
    "- 다른풀이\n",
    "- rjust(오른쪽 정렬) 함수 사용, rjust(공백의수, 공백을 메워줄 문자)"
   ]
  },
  {
   "cell_type": "code",
   "execution_count": 10,
   "id": "cd97f625",
   "metadata": {},
   "outputs": [],
   "source": [
    "def solution(n, arr1, arr2):\n",
    "    answer = []\n",
    "    for i,j in zip(arr1,arr2):\n",
    "        a12 = str(bin(i|j)[2:])\n",
    "        a12=a12.rjust(n,'0')\n",
    "        a12=a12.replace('1','#')\n",
    "        a12=a12.replace('0',' ')\n",
    "        answer.append(a12)\n",
    "    return answer"
   ]
  },
  {
   "cell_type": "code",
   "execution_count": null,
   "id": "8f784a64",
   "metadata": {},
   "outputs": [],
   "source": []
  },
  {
   "cell_type": "markdown",
   "id": "3ecf694e",
   "metadata": {},
   "source": [
    "- 2021년 11월 22일\n",
    "- 프로그래머스 수박\n",
    "- https://programmers.co.kr/learn/courses/30/lessons/12922"
   ]
  },
  {
   "cell_type": "code",
   "execution_count": 11,
   "id": "1e490ea4",
   "metadata": {},
   "outputs": [],
   "source": [
    "def solution(n):\n",
    "    answer = '수박'*5000\n",
    "    return answer[:n]"
   ]
  },
  {
   "cell_type": "code",
   "execution_count": 12,
   "id": "b3be229f",
   "metadata": {},
   "outputs": [
    {
     "data": {
      "text/plain": [
       "'수박수박수박'"
      ]
     },
     "execution_count": 12,
     "metadata": {},
     "output_type": "execute_result"
    }
   ],
   "source": [
    "solution(6)"
   ]
  },
  {
   "cell_type": "markdown",
   "id": "e471a80e",
   "metadata": {},
   "source": [
    "- 다른 풀이\n",
    "- n을 나눈 정수 몫을 수박이랑 곱해주고, 나머지가 0이거나 1에 따라서 수를 더해준다"
   ]
  },
  {
   "cell_type": "code",
   "execution_count": 13,
   "id": "749c9bd6",
   "metadata": {},
   "outputs": [],
   "source": [
    "def water_melon(n):\n",
    "    return \"수박\"*(n//2) + \"수\"*(n%2)"
   ]
  },
  {
   "cell_type": "code",
   "execution_count": null,
   "id": "adc9bb1d",
   "metadata": {},
   "outputs": [],
   "source": []
  },
  {
   "cell_type": "markdown",
   "id": "0b38e5c4",
   "metadata": {},
   "source": [
    "- 2021년 11월 22일\n",
    "- 프로그래머스 [1차] 다트 게임\n",
    "- https://programmers.co.kr/learn/courses/30/lessons/17682"
   ]
  },
  {
   "cell_type": "code",
   "execution_count": 14,
   "id": "200b6fbb",
   "metadata": {},
   "outputs": [],
   "source": [
    "dartResult='1D2S#10S'"
   ]
  },
  {
   "cell_type": "code",
   "execution_count": 15,
   "id": "a775be48",
   "metadata": {},
   "outputs": [],
   "source": [
    "def solution(dartResult):\n",
    "    score=['0','1','2','3','4','5','6','7','8','9','10']\n",
    "    bonus=['S','D','T']\n",
    "    result=[]\n",
    "    dartResult = dartResult.replace('10','k')\n",
    "    dartResult=['10' if i=='k' else i for i in dartResult]\n",
    "    for i in range(len(dartResult)):\n",
    "        answer=0\n",
    "        if dartResult[i] in score:\n",
    "            if dartResult[i+1] =='S':\n",
    "                answer=int(dartResult[i])**1\n",
    "            if dartResult[i+1] =='D':\n",
    "                answer=int(dartResult[i])**2\n",
    "            if dartResult[i+1] =='T':\n",
    "                answer=int(dartResult[i])**3\n",
    "            result.append(answer)\n",
    "        elif dartResult[i] =='*':\n",
    "            if len(result)==1:\n",
    "                result[0]=result[0]*2\n",
    "            else:\n",
    "                result[-1]=result[-1]*2\n",
    "                result[-2]=result[-2]*2\n",
    "        elif dartResult[i] =='#':\n",
    "            result[-1]=-result[-1]\n",
    "        else:\n",
    "            continue\n",
    "    return sum(result)"
   ]
  },
  {
   "cell_type": "code",
   "execution_count": 16,
   "id": "f694b9e6",
   "metadata": {},
   "outputs": [
    {
     "data": {
      "text/plain": [
       "9"
      ]
     },
     "execution_count": 16,
     "metadata": {},
     "output_type": "execute_result"
    }
   ],
   "source": [
    "solution(dartResult)"
   ]
  },
  {
   "cell_type": "code",
   "execution_count": null,
   "id": "14089432",
   "metadata": {},
   "outputs": [],
   "source": []
  },
  {
   "cell_type": "markdown",
   "id": "b94296ae",
   "metadata": {},
   "source": [
    "- 2021년 11월 23일\n",
    "- 프로그래머스 같은 숫자는 싫어\n",
    "- https://programmers.co.kr/learn/courses/30/lessons/12906"
   ]
  },
  {
   "cell_type": "code",
   "execution_count": 17,
   "id": "eac28a31",
   "metadata": {},
   "outputs": [],
   "source": [
    "arr=[1,1,3,3,0,1,1]"
   ]
  },
  {
   "cell_type": "code",
   "execution_count": 18,
   "id": "1cf38939",
   "metadata": {},
   "outputs": [],
   "source": [
    "def solution(arr):\n",
    "    result=[]\n",
    "    for i in range(len(arr)):\n",
    "        if i==0:\n",
    "            result.append(arr[i])\n",
    "        else:\n",
    "            if arr[i]!=arr[i-1]:\n",
    "                result.append(arr[i])\n",
    "    return result"
   ]
  },
  {
   "cell_type": "code",
   "execution_count": 19,
   "id": "d7280bd2",
   "metadata": {},
   "outputs": [
    {
     "data": {
      "text/plain": [
       "[1, 3, 0, 1]"
      ]
     },
     "execution_count": 19,
     "metadata": {},
     "output_type": "execute_result"
    }
   ],
   "source": [
    "solution(arr)"
   ]
  },
  {
   "cell_type": "markdown",
   "id": "2e6f14a6",
   "metadata": {},
   "source": [
    "- 다른 풀이"
   ]
  },
  {
   "cell_type": "code",
   "execution_count": 20,
   "id": "4a3a826a",
   "metadata": {},
   "outputs": [],
   "source": [
    "def no_continuous(s):\n",
    "    result = []\n",
    "    for c in s:\n",
    "        if (len(result) == 0) or (result[-1] != c):\n",
    "            result.append(c)\n",
    "    return result"
   ]
  },
  {
   "cell_type": "code",
   "execution_count": null,
   "id": "b593e457",
   "metadata": {},
   "outputs": [],
   "source": []
  },
  {
   "cell_type": "markdown",
   "id": "b2b9e222",
   "metadata": {},
   "source": [
    "- 2021년 11월 23일\n",
    "- 프로그래머스 나누어 떨어지는 숫자 배열\n",
    "- https://programmers.co.kr/learn/courses/30/lessons/12910?language=python3"
   ]
  },
  {
   "cell_type": "code",
   "execution_count": 21,
   "id": "a9d22703",
   "metadata": {},
   "outputs": [],
   "source": [
    "arr = [3,2,6]\n",
    "divisor=10"
   ]
  },
  {
   "cell_type": "code",
   "execution_count": 22,
   "id": "19482ea3",
   "metadata": {},
   "outputs": [],
   "source": [
    "def solution(arr, divisor):\n",
    "    answer = []\n",
    "    for i in arr:\n",
    "        if i%divisor==0:\n",
    "            answer.append(i)\n",
    "    if len(answer)==0:\n",
    "        return [-1]\n",
    "    return sorted(answer)"
   ]
  },
  {
   "cell_type": "code",
   "execution_count": 23,
   "id": "4274b067",
   "metadata": {},
   "outputs": [
    {
     "data": {
      "text/plain": [
       "[-1]"
      ]
     },
     "execution_count": 23,
     "metadata": {},
     "output_type": "execute_result"
    }
   ],
   "source": [
    "solution(arr, divisor)"
   ]
  },
  {
   "cell_type": "markdown",
   "id": "3a8b6fa3",
   "metadata": {},
   "source": [
    "- 다른 풀이\n",
    "- 앞에가 거짓일 때 뒤에 것이 호출되는 것을 사용"
   ]
  },
  {
   "cell_type": "code",
   "execution_count": 24,
   "id": "3cb47690",
   "metadata": {},
   "outputs": [],
   "source": [
    "def solution(arr, divisor): return sorted([n for n in arr if n%divisor == 0]) or [-1]"
   ]
  },
  {
   "cell_type": "code",
   "execution_count": null,
   "id": "c70ce330",
   "metadata": {},
   "outputs": [],
   "source": []
  },
  {
   "cell_type": "markdown",
   "id": "e490ba3c",
   "metadata": {},
   "source": [
    "- 2021년 11월 23일\n",
    "- 프로그래머스 두 정수 사이의 합\n",
    "- https://programmers.co.kr/learn/courses/30/lessons/12912"
   ]
  },
  {
   "cell_type": "code",
   "execution_count": 25,
   "id": "1f1f2567",
   "metadata": {},
   "outputs": [],
   "source": [
    "a=5\n",
    "b=3"
   ]
  },
  {
   "cell_type": "code",
   "execution_count": 26,
   "id": "e710707a",
   "metadata": {},
   "outputs": [],
   "source": [
    "def solution(a, b):\n",
    "    if a>b:\n",
    "        a,b=b,a\n",
    "    answer=[i for i in range(a,b+1)]\n",
    "    return sum(set(answer))"
   ]
  },
  {
   "cell_type": "code",
   "execution_count": 27,
   "id": "422b0c33",
   "metadata": {},
   "outputs": [
    {
     "data": {
      "text/plain": [
       "12"
      ]
     },
     "execution_count": 27,
     "metadata": {},
     "output_type": "execute_result"
    }
   ],
   "source": [
    "solution(a, b)"
   ]
  },
  {
   "cell_type": "markdown",
   "id": "8e73b442",
   "metadata": {},
   "source": [
    "- 다른 풀이"
   ]
  },
  {
   "cell_type": "code",
   "execution_count": 28,
   "id": "c0a1afe0",
   "metadata": {},
   "outputs": [],
   "source": [
    "def adder(a, b):\n",
    "    # 함수를 완성하세요\n",
    "    if a > b: a, b = b, a\n",
    "\n",
    "    return sum(range(a,b+1))"
   ]
  },
  {
   "cell_type": "code",
   "execution_count": null,
   "id": "c0735784",
   "metadata": {},
   "outputs": [],
   "source": []
  },
  {
   "cell_type": "markdown",
   "id": "5e50a2e7",
   "metadata": {},
   "source": [
    "- 2021년 11월 23일\n",
    "- 프로그래머스 문자열 내 p와 y의 개수\n",
    "- https://programmers.co.kr/learn/courses/30/lessons/12916"
   ]
  },
  {
   "cell_type": "code",
   "execution_count": 29,
   "id": "7e931ce7",
   "metadata": {},
   "outputs": [],
   "source": [
    "s=\"a\""
   ]
  },
  {
   "cell_type": "code",
   "execution_count": 30,
   "id": "c1afdd6f",
   "metadata": {},
   "outputs": [],
   "source": [
    "def solution(s):\n",
    "    if s.count('p')+s.count('P') == s.count('y')+s.count('Y'):\n",
    "        return True\n",
    "    else:\n",
    "        return False"
   ]
  },
  {
   "cell_type": "code",
   "execution_count": 31,
   "id": "630a006d",
   "metadata": {},
   "outputs": [
    {
     "data": {
      "text/plain": [
       "True"
      ]
     },
     "execution_count": 31,
     "metadata": {},
     "output_type": "execute_result"
    }
   ],
   "source": [
    "solution(s)"
   ]
  },
  {
   "cell_type": "markdown",
   "id": "1a3594ee",
   "metadata": {},
   "source": [
    "- 다른 풀이\n",
    "- 대문자를 소문자로 바꾸면 if문 안쓰고도 가능하다"
   ]
  },
  {
   "cell_type": "code",
   "execution_count": 32,
   "id": "1848c45c",
   "metadata": {},
   "outputs": [],
   "source": [
    "def numPY(s):\n",
    "    return s.lower().count('p') == s.lower().count('y')"
   ]
  },
  {
   "cell_type": "code",
   "execution_count": null,
   "id": "fb1eb753",
   "metadata": {},
   "outputs": [],
   "source": []
  },
  {
   "cell_type": "markdown",
   "id": "39a3ed90",
   "metadata": {},
   "source": [
    "- 2021년 11월 23일\n",
    "- 프로그래머스 소수 찾기\n",
    "- https://programmers.co.kr/learn/courses/30/lessons/12921"
   ]
  },
  {
   "cell_type": "code",
   "execution_count": 33,
   "id": "bf903adc",
   "metadata": {},
   "outputs": [],
   "source": [
    "n=10"
   ]
  },
  {
   "cell_type": "code",
   "execution_count": 34,
   "id": "005d62e9",
   "metadata": {},
   "outputs": [],
   "source": [
    "def prime(num):\n",
    "    for n in range(2, int(num**0.5)+1):\n",
    "        if num%n ==0:\n",
    "            return 0\n",
    "    return 1\n",
    "\n",
    "def solution(n):\n",
    "    result=0\n",
    "    for i in range(2,n+1):\n",
    "        if prime(i)==1:\n",
    "            result+=1\n",
    "    return result\n"
   ]
  },
  {
   "cell_type": "code",
   "execution_count": 35,
   "id": "31223618",
   "metadata": {},
   "outputs": [
    {
     "data": {
      "text/plain": [
       "4"
      ]
     },
     "execution_count": 35,
     "metadata": {},
     "output_type": "execute_result"
    }
   ],
   "source": [
    "solution(n)"
   ]
  },
  {
   "cell_type": "markdown",
   "id": "f3a0ccaf",
   "metadata": {},
   "source": [
    "- 2021년 11월 25일 \n",
    "- 프로그래머스 시저 암호\n",
    "- https://programmers.co.kr/learn/courses/30/lessons/12926"
   ]
  },
  {
   "cell_type": "code",
   "execution_count": 36,
   "id": "7a45bec2",
   "metadata": {},
   "outputs": [],
   "source": [
    "s='AB'\n",
    "n=1"
   ]
  },
  {
   "cell_type": "code",
   "execution_count": 37,
   "id": "b505aa28",
   "metadata": {},
   "outputs": [],
   "source": [
    "def solution(s, n):\n",
    "    lower='abcdefghijklmnopqrstuvwxyz'*2\n",
    "    upper='ABCDEFGHIJKLMNOPQRSTUVWXYZ'*2\n",
    "    answer = ''\n",
    "    for i, j in enumerate(s):\n",
    "        if j in lower:\n",
    "            answer+=lower[lower.index(j)+n]\n",
    "        elif j in upper:\n",
    "            answer+=upper[upper.index(j)+n]\n",
    "        else:\n",
    "            answer+=' '\n",
    "    return answer"
   ]
  },
  {
   "cell_type": "code",
   "execution_count": 38,
   "id": "63325184",
   "metadata": {},
   "outputs": [
    {
     "data": {
      "text/plain": [
       "'BC'"
      ]
     },
     "execution_count": 38,
     "metadata": {},
     "output_type": "execute_result"
    }
   ],
   "source": [
    "solution(s, n)"
   ]
  },
  {
   "cell_type": "markdown",
   "id": "d1b1cb40",
   "metadata": {},
   "source": [
    "- 2021년 11월 27일\n",
    "- 프로그래머스 약수의 합\n",
    "- https://programmers.co.kr/learn/courses/30/lessons/12928"
   ]
  },
  {
   "cell_type": "code",
   "execution_count": 39,
   "id": "32f161c0",
   "metadata": {},
   "outputs": [],
   "source": [
    "n=12"
   ]
  },
  {
   "cell_type": "code",
   "execution_count": 40,
   "id": "f9852141",
   "metadata": {},
   "outputs": [],
   "source": [
    "def solution(n):\n",
    "    answer = 0\n",
    "    for i in range(1,n+1):\n",
    "        if n%i==0:\n",
    "            answer+=i\n",
    "    return answer"
   ]
  },
  {
   "cell_type": "code",
   "execution_count": 41,
   "id": "3a0b4e30",
   "metadata": {},
   "outputs": [
    {
     "data": {
      "text/plain": [
       "28"
      ]
     },
     "execution_count": 41,
     "metadata": {},
     "output_type": "execute_result"
    }
   ],
   "source": [
    "solution(n)"
   ]
  },
  {
   "cell_type": "code",
   "execution_count": null,
   "id": "fbf7399a",
   "metadata": {},
   "outputs": [],
   "source": []
  },
  {
   "cell_type": "markdown",
   "id": "9bd53730",
   "metadata": {},
   "source": [
    "- 2021년 11월 27일\n",
    "- 프로그래머스 이상한 문자 만들기\n",
    "- https://programmers.co.kr/learn/courses/30/lessons/12930"
   ]
  },
  {
   "cell_type": "code",
   "execution_count": 42,
   "id": "8fd58604",
   "metadata": {},
   "outputs": [],
   "source": [
    "s=\"try hello world\""
   ]
  },
  {
   "cell_type": "code",
   "execution_count": 43,
   "id": "14a1f66a",
   "metadata": {},
   "outputs": [],
   "source": [
    "def solution(s):\n",
    "    result=[]\n",
    "    for i in s.split():\n",
    "        word=''\n",
    "        for j in range(len(i)):\n",
    "            if j==0 or j%2==0:\n",
    "                word+=i[j].upper()\n",
    "            else:\n",
    "                word+=i[j].lower()\n",
    "        result.append(word)\n",
    "    return ' '.join(result)"
   ]
  },
  {
   "cell_type": "code",
   "execution_count": 44,
   "id": "b7c60dfa",
   "metadata": {},
   "outputs": [
    {
     "data": {
      "text/plain": [
       "'TrY HeLlO WoRlD'"
      ]
     },
     "execution_count": 44,
     "metadata": {},
     "output_type": "execute_result"
    }
   ],
   "source": [
    "solution(s)"
   ]
  },
  {
   "cell_type": "code",
   "execution_count": null,
   "id": "2576285f",
   "metadata": {},
   "outputs": [],
   "source": []
  },
  {
   "cell_type": "markdown",
   "id": "0286abd9",
   "metadata": {},
   "source": [
    "- 2021년 11월 27일 \n",
    "- 프로그래머스 자릿수 더하기\n",
    "- https://programmers.co.kr/learn/courses/30/lessons/12931"
   ]
  },
  {
   "cell_type": "code",
   "execution_count": 45,
   "id": "c5d857df",
   "metadata": {},
   "outputs": [],
   "source": [
    "n=987"
   ]
  },
  {
   "cell_type": "code",
   "execution_count": 46,
   "id": "5472e962",
   "metadata": {},
   "outputs": [],
   "source": [
    "def solution(n):\n",
    "    return sum(map(int, list(str(n))))"
   ]
  },
  {
   "cell_type": "code",
   "execution_count": 47,
   "id": "6f697fdb",
   "metadata": {},
   "outputs": [
    {
     "data": {
      "text/plain": [
       "24"
      ]
     },
     "execution_count": 47,
     "metadata": {},
     "output_type": "execute_result"
    }
   ],
   "source": [
    "solution(n)"
   ]
  },
  {
   "cell_type": "code",
   "execution_count": null,
   "id": "8ed21fbf",
   "metadata": {},
   "outputs": [],
   "source": []
  },
  {
   "cell_type": "markdown",
   "id": "13869792",
   "metadata": {},
   "source": [
    "- 2021년 11월 27일\n",
    "- 프로그래머스 자연수 뒤집어 배열로 만들기\n",
    "- https://programmers.co.kr/learn/courses/30/lessons/12932"
   ]
  },
  {
   "cell_type": "code",
   "execution_count": 48,
   "id": "21bf9311",
   "metadata": {},
   "outputs": [],
   "source": [
    "n=12345"
   ]
  },
  {
   "cell_type": "code",
   "execution_count": 49,
   "id": "f8f94d85",
   "metadata": {},
   "outputs": [],
   "source": [
    "def solution(n):\n",
    "    return list(map(int, str(n)))[::-1]"
   ]
  },
  {
   "cell_type": "code",
   "execution_count": 50,
   "id": "8a028ade",
   "metadata": {},
   "outputs": [
    {
     "data": {
      "text/plain": [
       "[5, 4, 3, 2, 1]"
      ]
     },
     "execution_count": 50,
     "metadata": {},
     "output_type": "execute_result"
    }
   ],
   "source": [
    "solution(n)"
   ]
  },
  {
   "cell_type": "markdown",
   "id": "4da78d95",
   "metadata": {},
   "source": [
    "- 다른 풀이\n",
    "- reversed라는게 있어서 가져와 봄"
   ]
  },
  {
   "cell_type": "code",
   "execution_count": 51,
   "id": "3ca55744",
   "metadata": {},
   "outputs": [],
   "source": [
    "def digit_reverse(n):\n",
    "    return list(map(int, reversed(str(n))))"
   ]
  },
  {
   "cell_type": "code",
   "execution_count": null,
   "id": "3b8c26fa",
   "metadata": {},
   "outputs": [],
   "source": []
  },
  {
   "cell_type": "markdown",
   "id": "70ad0830",
   "metadata": {},
   "source": [
    "- 2021년 11월 27일\n",
    "- 프로그래머스 정수 제곱근 판별\n",
    "- https://programmers.co.kr/learn/courses/30/lessons/12934"
   ]
  },
  {
   "cell_type": "code",
   "execution_count": 52,
   "id": "510447ca",
   "metadata": {},
   "outputs": [],
   "source": [
    "n=27"
   ]
  },
  {
   "cell_type": "code",
   "execution_count": 53,
   "id": "0dd60bd7",
   "metadata": {},
   "outputs": [],
   "source": [
    "def solution(n):\n",
    "    if (n**0.5)/int(n**0.5)==1.0:\n",
    "        return int(((n**0.5)+1)**2)\n",
    "    else:\n",
    "        return -1"
   ]
  },
  {
   "cell_type": "code",
   "execution_count": 54,
   "id": "f4962f53",
   "metadata": {},
   "outputs": [
    {
     "data": {
      "text/plain": [
       "-1"
      ]
     },
     "execution_count": 54,
     "metadata": {},
     "output_type": "execute_result"
    }
   ],
   "source": [
    "solution(n)"
   ]
  },
  {
   "cell_type": "code",
   "execution_count": null,
   "id": "60d564d1",
   "metadata": {},
   "outputs": [],
   "source": []
  },
  {
   "cell_type": "markdown",
   "id": "a7ebc429",
   "metadata": {},
   "source": [
    "- 2021년 11월 27일\n",
    "- 프로그래머스 제일 작은 수 제거하기\n",
    "- https://programmers.co.kr/learn/courses/30/lessons/12935"
   ]
  },
  {
   "cell_type": "code",
   "execution_count": 55,
   "id": "da2a10e9",
   "metadata": {},
   "outputs": [],
   "source": [
    "arr=[10]"
   ]
  },
  {
   "cell_type": "code",
   "execution_count": 56,
   "id": "2d19c98c",
   "metadata": {},
   "outputs": [],
   "source": [
    "def solution(arr):\n",
    "    arr.pop(arr.index(min(arr)))\n",
    "    if len(arr)==0:\n",
    "        return -1\n",
    "    return arr"
   ]
  },
  {
   "cell_type": "code",
   "execution_count": 57,
   "id": "a36f0db7",
   "metadata": {},
   "outputs": [
    {
     "data": {
      "text/plain": [
       "-1"
      ]
     },
     "execution_count": 57,
     "metadata": {},
     "output_type": "execute_result"
    }
   ],
   "source": [
    "solution(arr)"
   ]
  },
  {
   "cell_type": "code",
   "execution_count": null,
   "id": "0794165a",
   "metadata": {},
   "outputs": [],
   "source": []
  },
  {
   "cell_type": "markdown",
   "id": "c07a5d71",
   "metadata": {},
   "source": [
    "- 2021년 11월 27일\n",
    "- 프로그래머스 짝수와 홀수\n",
    "- https://programmers.co.kr/learn/courses/30/lessons/12937"
   ]
  },
  {
   "cell_type": "code",
   "execution_count": 58,
   "id": "3e97b6e2",
   "metadata": {},
   "outputs": [],
   "source": [
    "def solution(num):\n",
    "    if num%2==0:\n",
    "        return \"Even\"\n",
    "    else:\n",
    "        return \"Odd\""
   ]
  },
  {
   "cell_type": "code",
   "execution_count": 59,
   "id": "69849eba",
   "metadata": {},
   "outputs": [
    {
     "data": {
      "text/plain": [
       "'Even'"
      ]
     },
     "execution_count": 59,
     "metadata": {},
     "output_type": "execute_result"
    }
   ],
   "source": [
    "solution(4)"
   ]
  },
  {
   "cell_type": "code",
   "execution_count": null,
   "id": "3cc6d53c",
   "metadata": {},
   "outputs": [],
   "source": []
  },
  {
   "cell_type": "markdown",
   "id": "57887529",
   "metadata": {},
   "source": [
    "- 2021년 11월 27일\n",
    "- 프로그래머스 최대공약수와 최소공배수\n",
    "- https://programmers.co.kr/learn/courses/30/lessons/12940"
   ]
  },
  {
   "cell_type": "code",
   "execution_count": 60,
   "id": "e780e875",
   "metadata": {},
   "outputs": [],
   "source": [
    "n = 2\n",
    "m = 5"
   ]
  },
  {
   "cell_type": "code",
   "execution_count": 61,
   "id": "2dc7e125",
   "metadata": {},
   "outputs": [],
   "source": [
    "def solution(n, m):\n",
    "    answer=[]\n",
    "    for i in range(min(n,m),0, -1):\n",
    "        if n%i==0 and m%i==0:\n",
    "            answer.append(i)\n",
    "            break\n",
    "    for i in range(max(n,m),m*n):\n",
    "        if i%n==0 and i%m==0:\n",
    "            answer.append(i)\n",
    "            break\n",
    "    if len(answer)==1:\n",
    "        answer.append(n*m)\n",
    "    return answer"
   ]
  },
  {
   "cell_type": "code",
   "execution_count": 62,
   "id": "2da9d90b",
   "metadata": {},
   "outputs": [
    {
     "data": {
      "text/plain": [
       "[1, 10]"
      ]
     },
     "execution_count": 62,
     "metadata": {},
     "output_type": "execute_result"
    }
   ],
   "source": [
    "solution(n,m)"
   ]
  },
  {
   "cell_type": "markdown",
   "id": "2cf392f5",
   "metadata": {},
   "source": [
    "- 2021년 11월 27일\n",
    "- 프로그래머스 콜라츠 추측\n",
    "- https://programmers.co.kr/learn/courses/30/lessons/12943"
   ]
  },
  {
   "cell_type": "code",
   "execution_count": 63,
   "id": "4f17afab",
   "metadata": {},
   "outputs": [],
   "source": [
    "num=16"
   ]
  },
  {
   "cell_type": "code",
   "execution_count": 64,
   "id": "1c731ed2",
   "metadata": {},
   "outputs": [],
   "source": [
    "def solution(num):\n",
    "    if num==1:\n",
    "        return 0\n",
    "    cnt=0\n",
    "    while True:\n",
    "        if num%2==0:\n",
    "            num=num//2\n",
    "            cnt+=1\n",
    "        else:\n",
    "            num=3*num+1\n",
    "            cnt+=1\n",
    "        if num==1:\n",
    "            break\n",
    "        if cnt==500:\n",
    "            cnt= -1\n",
    "            break\n",
    "    return cnt"
   ]
  },
  {
   "cell_type": "code",
   "execution_count": 65,
   "id": "b9316a35",
   "metadata": {},
   "outputs": [
    {
     "data": {
      "text/plain": [
       "4"
      ]
     },
     "execution_count": 65,
     "metadata": {},
     "output_type": "execute_result"
    }
   ],
   "source": [
    "solution(num)"
   ]
  },
  {
   "cell_type": "markdown",
   "id": "1dc91100",
   "metadata": {},
   "source": [
    "- 2021년 11월 27일\n",
    "- 프로그래머스 평균 구하기\n",
    "- https://programmers.co.kr/learn/courses/30/lessons/12944"
   ]
  },
  {
   "cell_type": "code",
   "execution_count": 66,
   "id": "8da37d45",
   "metadata": {},
   "outputs": [],
   "source": [
    "arr=[1,2,3,4]"
   ]
  },
  {
   "cell_type": "code",
   "execution_count": 67,
   "id": "c0a2473a",
   "metadata": {},
   "outputs": [],
   "source": [
    "def solution(arr):\n",
    "    return sum(arr)/len(arr)"
   ]
  },
  {
   "cell_type": "code",
   "execution_count": 68,
   "id": "9b3d6584",
   "metadata": {},
   "outputs": [
    {
     "data": {
      "text/plain": [
       "2.5"
      ]
     },
     "execution_count": 68,
     "metadata": {},
     "output_type": "execute_result"
    }
   ],
   "source": [
    "solution(arr)"
   ]
  },
  {
   "cell_type": "code",
   "execution_count": null,
   "id": "3d9f3d9a",
   "metadata": {},
   "outputs": [],
   "source": []
  },
  {
   "cell_type": "markdown",
   "id": "44581a5f",
   "metadata": {},
   "source": [
    "- 2021년 11월 27일\n",
    "- 프로그래머스 하샤드 수\n",
    "- https://programmers.co.kr/learn/courses/30/lessons/12947"
   ]
  },
  {
   "cell_type": "code",
   "execution_count": 69,
   "id": "f48072e3",
   "metadata": {},
   "outputs": [],
   "source": [
    "x=13"
   ]
  },
  {
   "cell_type": "code",
   "execution_count": 70,
   "id": "75beb63c",
   "metadata": {},
   "outputs": [],
   "source": [
    "def solution(x):\n",
    "    if x%sum(map(int,list(str(x))))==0:\n",
    "        return True\n",
    "    else:\n",
    "        return False"
   ]
  },
  {
   "cell_type": "code",
   "execution_count": 71,
   "id": "a9e27f96",
   "metadata": {},
   "outputs": [
    {
     "data": {
      "text/plain": [
       "False"
      ]
     },
     "execution_count": 71,
     "metadata": {},
     "output_type": "execute_result"
    }
   ],
   "source": [
    "solution(x)"
   ]
  },
  {
   "cell_type": "code",
   "execution_count": null,
   "id": "e36ac2be",
   "metadata": {},
   "outputs": [],
   "source": []
  },
  {
   "cell_type": "markdown",
   "id": "f90844b4",
   "metadata": {},
   "source": [
    "4"
   ]
  },
  {
   "cell_type": "markdown",
   "id": "fdd3f263",
   "metadata": {},
   "source": [
    "- 2021년 11월 27일\n",
    "- 프로그래머스 핸드폰 번호 가리기\n",
    "- https://programmers.co.kr/learn/courses/30/lessons/12948"
   ]
  },
  {
   "cell_type": "code",
   "execution_count": 72,
   "id": "4be1112f",
   "metadata": {},
   "outputs": [],
   "source": [
    "phone_number=\"01033334444\""
   ]
  },
  {
   "cell_type": "code",
   "execution_count": 73,
   "id": "89de42ba",
   "metadata": {},
   "outputs": [],
   "source": [
    "def solution(phone_number): \n",
    "    return '*'*(len(phone_number)-4)+phone_number[-4:] "
   ]
  },
  {
   "cell_type": "code",
   "execution_count": 74,
   "id": "c612508b",
   "metadata": {},
   "outputs": [
    {
     "data": {
      "text/plain": [
       "'*******4444'"
      ]
     },
     "execution_count": 74,
     "metadata": {},
     "output_type": "execute_result"
    }
   ],
   "source": [
    "solution(phone_number)"
   ]
  },
  {
   "cell_type": "code",
   "execution_count": null,
   "id": "57df6291",
   "metadata": {},
   "outputs": [],
   "source": []
  },
  {
   "cell_type": "markdown",
   "id": "9cb1f381",
   "metadata": {},
   "source": [
    "5"
   ]
  },
  {
   "cell_type": "markdown",
   "id": "efc74626",
   "metadata": {},
   "source": [
    "- 2021년 11월 27일\n",
    "- 프로그래머스 x만큼 간격이 있는 n개의 숫자\n",
    "- https://programmers.co.kr/learn/courses/30/lessons/12954"
   ]
  },
  {
   "cell_type": "code",
   "execution_count": 75,
   "id": "6fe57693",
   "metadata": {},
   "outputs": [],
   "source": [
    "x=-4\n",
    "n=2"
   ]
  },
  {
   "cell_type": "code",
   "execution_count": 76,
   "id": "5d76f5de",
   "metadata": {},
   "outputs": [],
   "source": [
    "def solution(x, n):\n",
    "    answer = []\n",
    "    val=0\n",
    "    while True:\n",
    "        val+=x\n",
    "        answer.append(val)\n",
    "        if len(answer)==n:\n",
    "            break\n",
    "    return answer"
   ]
  },
  {
   "cell_type": "code",
   "execution_count": 77,
   "id": "9ab16774",
   "metadata": {},
   "outputs": [
    {
     "data": {
      "text/plain": [
       "[-4, -8]"
      ]
     },
     "execution_count": 77,
     "metadata": {},
     "output_type": "execute_result"
    }
   ],
   "source": [
    "solution(x,n)"
   ]
  },
  {
   "cell_type": "code",
   "execution_count": null,
   "id": "b96b7cd5",
   "metadata": {},
   "outputs": [],
   "source": []
  },
  {
   "cell_type": "markdown",
   "id": "584987e1",
   "metadata": {},
   "source": [
    "6"
   ]
  },
  {
   "cell_type": "markdown",
   "id": "d15dd5e4",
   "metadata": {},
   "source": [
    "- 2021년 11월 27일\n",
    "- 프로그래머스 직사각형 별찍기\n",
    "- https://programmers.co.kr/learn/courses/30/lessons/12969"
   ]
  },
  {
   "cell_type": "code",
   "execution_count": 78,
   "id": "370309af",
   "metadata": {},
   "outputs": [
    {
     "name": "stdout",
     "output_type": "stream",
     "text": [
      "3 5\n",
      "***\n",
      "***\n",
      "***\n",
      "***\n",
      "***\n"
     ]
    }
   ],
   "source": [
    "n, m = map(int, input().strip().split(' '))\n",
    "for i in range(m):\n",
    "    print('*'*n)"
   ]
  },
  {
   "cell_type": "code",
   "execution_count": null,
   "id": "13d9ac95",
   "metadata": {},
   "outputs": [],
   "source": []
  }
 ],
 "metadata": {
  "kernelspec": {
   "display_name": "Python 3",
   "language": "python",
   "name": "python3"
  },
  "language_info": {
   "codemirror_mode": {
    "name": "ipython",
    "version": 3
   },
   "file_extension": ".py",
   "mimetype": "text/x-python",
   "name": "python",
   "nbconvert_exporter": "python",
   "pygments_lexer": "ipython3",
   "version": "3.8.8"
  }
 },
 "nbformat": 4,
 "nbformat_minor": 5
}
