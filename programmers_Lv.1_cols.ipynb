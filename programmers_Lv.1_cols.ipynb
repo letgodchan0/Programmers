{
 "cells": [
  {
   "cell_type": "markdown",
   "id": "3243185d",
   "metadata": {},
   "source": [
    "- 2021년 11월 21일\n",
    "- 프로그래머스  2016년\n",
    "- https://programmers.co.kr/learn/courses/30/lessons/12901"
   ]
  },
  {
   "cell_type": "code",
   "execution_count": 34,
   "id": "e7852b3e",
   "metadata": {},
   "outputs": [],
   "source": [
    "a=12\n",
    "b=31"
   ]
  },
  {
   "cell_type": "code",
   "execution_count": 39,
   "id": "6c5f9217",
   "metadata": {},
   "outputs": [],
   "source": [
    "def solution(a, b):\n",
    "    week=['THU', 'FRI', 'SAT','SUN', 'MON', 'TUE','WED']\n",
    "    month={1:0,2:31,3:60,4:91,5:121,6:152,7:182,8:213,9:244,10:274,11:305,12:335}\n",
    "    return week[(month[a]+b)%7]"
   ]
  },
  {
   "cell_type": "code",
   "execution_count": 38,
   "id": "d6c83940",
   "metadata": {},
   "outputs": [
    {
     "data": {
      "text/plain": [
       "'SAT'"
      ]
     },
     "execution_count": 38,
     "metadata": {},
     "output_type": "execute_result"
    }
   ],
   "source": [
    "solution(a,b)"
   ]
  },
  {
   "cell_type": "code",
   "execution_count": null,
   "id": "85eb3955",
   "metadata": {},
   "outputs": [],
   "source": []
  }
 ],
 "metadata": {
  "kernelspec": {
   "display_name": "Python 3",
   "language": "python",
   "name": "python3"
  },
  "language_info": {
   "codemirror_mode": {
    "name": "ipython",
    "version": 3
   },
   "file_extension": ".py",
   "mimetype": "text/x-python",
   "name": "python",
   "nbconvert_exporter": "python",
   "pygments_lexer": "ipython3",
   "version": "3.8.8"
  }
 },
 "nbformat": 4,
 "nbformat_minor": 5
}
