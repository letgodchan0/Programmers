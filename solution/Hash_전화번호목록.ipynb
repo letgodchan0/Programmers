{
 "cells": [
  {
   "cell_type": "markdown",
   "id": "817fef92",
   "metadata": {},
   "source": [
    "- 2021년 12월 31일\n",
    "- 프로그래머스 전화번호 목록\n",
    "- https://programmers.co.kr/learn/courses/30/lessons/42577"
   ]
  },
  {
   "cell_type": "markdown",
   "id": "b0842a1a",
   "metadata": {},
   "source": [
    "- 효율성 못 뚫음"
   ]
  },
  {
   "cell_type": "code",
   "execution_count": 1,
   "id": "a84c7cb1",
   "metadata": {},
   "outputs": [],
   "source": [
    "def solution(phone_book):\n",
    "    phone_book=phone_book[::-1]\n",
    "    for i in phone_book:\n",
    "        for j in phone_book:\n",
    "            if i!=j and (i.startswith(j) or j.startswith(i)):\n",
    "                return False\n",
    "    return True"
   ]
  },
  {
   "cell_type": "code",
   "execution_count": 2,
   "id": "ccd6f223",
   "metadata": {},
   "outputs": [],
   "source": [
    "phone_book=[\"12\",\"123\",\"1235\",\"567\",\"888\",\"5678\",\"8788\"]"
   ]
  },
  {
   "cell_type": "code",
   "execution_count": 6,
   "id": "9f621c9a",
   "metadata": {},
   "outputs": [
    {
     "data": {
      "text/plain": [
       "['12', '123', '1235', '567', '5678', '8788', '888']"
      ]
     },
     "execution_count": 6,
     "metadata": {},
     "output_type": "execute_result"
    }
   ],
   "source": [
    "phone_book.sort()\n",
    "phone_book"
   ]
  },
  {
   "cell_type": "markdown",
   "id": "d85a2a9e",
   "metadata": {},
   "source": [
    "- 효율성 뚫음"
   ]
  },
  {
   "cell_type": "code",
   "execution_count": 3,
   "id": "55359d9c",
   "metadata": {},
   "outputs": [],
   "source": [
    "def solution(phone_book):\n",
    "    phone_book.sort()\n",
    "    for i in range(len(phone_book)-1):\n",
    "        if phone_book[i+1].startswith(phone_book[i]):\n",
    "            return False\n",
    "    return True"
   ]
  },
  {
   "cell_type": "markdown",
   "id": "21976e7b",
   "metadata": {},
   "source": [
    "- Trie 알고리즘"
   ]
  },
  {
   "cell_type": "code",
   "execution_count": 4,
   "id": "c24b2161",
   "metadata": {},
   "outputs": [],
   "source": [
    "class Node(object):\n",
    "    def __init__(self, key, data=None):\n",
    "        self.key = key\n",
    "        self.data = data\n",
    "        self.children = {}\n",
    "\n",
    "class Trie:\n",
    "    def __init__(self):\n",
    "        self.head = Node(None)\n",
    "\n",
    "    def insert(self, string):\n",
    "        current_node = self.head\n",
    "\n",
    "        for char in string:\n",
    "            if char not in current_node.children:\n",
    "                current_node.children[char] = Node(char)\n",
    "            current_node = current_node.children[char]\n",
    "        current_node.data = string\n",
    "\n",
    "    def search(self, string):\n",
    "        current_node = self.head\n",
    "\n",
    "        for char in string:\n",
    "            if char in current_node.children:\n",
    "                current_node = current_node.children[char]\n",
    "            else:\n",
    "                return False\n",
    "\n",
    "        if current_node.data:\n",
    "            return True\n",
    "        else:\n",
    "            return False\n",
    "\n",
    "    def starts_with(self, prefix):\n",
    "        current_node = self.head\n",
    "        words = []\n",
    "\n",
    "        for p in prefix:\n",
    "            if p in current_node.children:\n",
    "                current_node = current_node.children[p]\n",
    "            else:\n",
    "                return None\n",
    "\n",
    "        current_node = [current_node]\n",
    "        next_node = []\n",
    "        while True:\n",
    "            for node in current_node:\n",
    "                if node.data:\n",
    "                    words.append(node.data)\n",
    "                next_node.extend(list(node.children.values()))\n",
    "            if len(next_node) != 0:\n",
    "                current_node = next_node\n",
    "                next_node = []\n",
    "            else:\n",
    "                break\n",
    "\n",
    "        return words\n",
    "    \n",
    "def solution(phone_book):\n",
    "    trie=Trie()\n",
    "    for i in phone_book:\n",
    "        trie.insert(i)\n",
    "    for i in phone_book:\n",
    "        if len(trie.starts_with(i))>1:\n",
    "            return False\n",
    "        else:\n",
    "            return True"
   ]
  },
  {
   "cell_type": "markdown",
   "id": "eba22c8d",
   "metadata": {},
   "source": [
    "- 다른풀이\n",
    "- Hash 이용"
   ]
  },
  {
   "cell_type": "code",
   "execution_count": 5,
   "id": "e69043e0",
   "metadata": {},
   "outputs": [],
   "source": [
    "def solution(phone_book):\n",
    "    answer = True\n",
    "    hash_map = {}\n",
    "    for phone_number in phone_book:\n",
    "        hash_map[phone_number] = 1\n",
    "    for phone_number in phone_book:\n",
    "        temp = \"\"\n",
    "        for number in phone_number:\n",
    "            temp += number\n",
    "            if temp in hash_map and temp != phone_number:\n",
    "                answer = False\n",
    "    return answer"
   ]
  },
  {
   "cell_type": "code",
   "execution_count": null,
   "id": "52fe8001",
   "metadata": {},
   "outputs": [],
   "source": []
  }
 ],
 "metadata": {
  "kernelspec": {
   "display_name": "Python 3",
   "language": "python",
   "name": "python3"
  },
  "language_info": {
   "codemirror_mode": {
    "name": "ipython",
    "version": 3
   },
   "file_extension": ".py",
   "mimetype": "text/x-python",
   "name": "python",
   "nbconvert_exporter": "python",
   "pygments_lexer": "ipython3",
   "version": "3.6.13"
  }
 },
 "nbformat": 4,
 "nbformat_minor": 5
}
