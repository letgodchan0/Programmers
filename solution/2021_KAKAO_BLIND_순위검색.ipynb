{
 "cells": [
  {
   "cell_type": "markdown",
   "id": "f88155b9",
   "metadata": {},
   "source": [
    "- 2022년 1월 3일\n",
    "- 프로그래머스 순위 검색\n",
    "- https://programmers.co.kr/learn/courses/30/lessons/72412"
   ]
  },
  {
   "cell_type": "markdown",
   "id": "c7ca7460",
   "metadata": {},
   "source": [
    "- 효율성 통과 못한 코드"
   ]
  },
  {
   "cell_type": "code",
   "execution_count": 1,
   "id": "060e6505",
   "metadata": {},
   "outputs": [],
   "source": [
    "def solution(info, query):\n",
    "    query=list(map(lambda x:x.split(' and '), query))\n",
    "    query=list(map(lambda x: ' '.join(x), query))\n",
    "    query=list(map(lambda x: x.split(' ')[::-1], query))\n",
    "    info=list(map(lambda x: x.split(' ')[::-1], info))\n",
    "    \n",
    "    answer=[]\n",
    "    # 쿼리에서 기준인 애들 하나씩 뽑아서\n",
    "    for i in query:\n",
    "        check=0\n",
    "        # 기준애 맞는 애들을 찾기 위해 info에서 하나씩 가져와서 비교\n",
    "        for j in info:\n",
    "            # 먼저 코딩점수가 쿼리가 원하는 기준 이상인 애들 중에서\n",
    "            if int(j[0])>= int(i[0]):\n",
    "                # 나머지 문자열이 같거나 쿼리 조건이 - 인 애들\n",
    "                if all (j[k]==i[k] or i[k]=='-' for k in range(1, len(j))):\n",
    "                    check+=1\n",
    "        answer.append(check)   \n",
    "    return answer"
   ]
  },
  {
   "cell_type": "code",
   "execution_count": 2,
   "id": "cdbec88d",
   "metadata": {},
   "outputs": [],
   "source": [
    "query=[\"java and backend and junior and pizza 100\",\"python and frontend and senior and chicken 200\",\"cpp and - and senior and pizza 250\",\"- and backend and senior and - 150\",\"- and - and - and chicken 100\",\"- and - and - and - 150\"]\n",
    "info=[\"java backend junior pizza 150\",\"python frontend senior chicken 210\",\"python frontend senior chicken 150\",\"cpp backend senior pizza 260\",\"java backend junior chicken 80\",\"python backend senior chicken 50\"]"
   ]
  },
  {
   "cell_type": "code",
   "execution_count": 3,
   "id": "9b61bf5e",
   "metadata": {},
   "outputs": [
    {
     "data": {
      "text/plain": [
       "[1, 1, 1, 1, 2, 4]"
      ]
     },
     "execution_count": 3,
     "metadata": {},
     "output_type": "execute_result"
    }
   ],
   "source": [
    "solution(info, query)"
   ]
  },
  {
   "cell_type": "code",
   "execution_count": null,
   "id": "c3b90497",
   "metadata": {},
   "outputs": [],
   "source": []
  },
  {
   "cell_type": "markdown",
   "id": "d7cb0898",
   "metadata": {},
   "source": [
    "- 보완 코드"
   ]
  },
  {
   "cell_type": "code",
   "execution_count": 4,
   "id": "24bdcf59",
   "metadata": {},
   "outputs": [],
   "source": [
    "from itertools import combinations\n",
    "from bisect import bisect_left\n",
    "def solution(info, query):\n",
    "    answer=[]\n",
    "    db={}\n",
    "    for i in info:\n",
    "        tmp=i.split()\n",
    "        career=tmp[:-1]\n",
    "        score=tmp[-1]\n",
    "        for k in range(5):\n",
    "            for j in combinations(career,k):\n",
    "                tmp1=''.join(j)\n",
    "                if tmp1 in db:\n",
    "                    db[tmp1].append(int(score))\n",
    "                else:\n",
    "                    db[tmp1]=[int(score)]\n",
    "    for d in db:\n",
    "        db[d].sort()\n",
    "\n",
    "    for i in query:\n",
    "        tmp=i.split(' ')\n",
    "        career=tmp[:-1]\n",
    "        score=tmp[-1]\n",
    "        while 'and'in career:\n",
    "            career.remove('and')\n",
    "        while '-' in career:\n",
    "            career.remove('-')\n",
    "        career=''.join(career)\n",
    "\n",
    "        if career in db:\n",
    "            scores= db[career]\n",
    "            if scores:\n",
    "                check=bisect_left(scores,  int(score))\n",
    "                answer.append(len(scores)-check)\n",
    "        else:\n",
    "            answer.append(0)\n",
    "    return answer"
   ]
  },
  {
   "cell_type": "code",
   "execution_count": 5,
   "id": "2125ca90",
   "metadata": {},
   "outputs": [],
   "source": [
    "query=[\"java and backend and junior and pizza 100\",\"python and frontend and senior and chicken 200\",\"cpp and - and senior and pizza 250\",\"- and backend and senior and - 150\",\"- and - and - and chicken 100\",\"- and - and - and - 150\"]\n",
    "info=[\"java backend junior pizza 150\",\"python frontend senior chicken 210\",\"python frontend senior chicken 150\",\"cpp backend senior pizza 260\",\"java backend junior chicken 80\",\"python backend senior chicken 50\"]"
   ]
  },
  {
   "cell_type": "code",
   "execution_count": 6,
   "id": "59f76bee",
   "metadata": {},
   "outputs": [
    {
     "data": {
      "text/plain": [
       "[1, 1, 1, 1, 2, 4]"
      ]
     },
     "execution_count": 6,
     "metadata": {},
     "output_type": "execute_result"
    }
   ],
   "source": [
    "solution(info, query)"
   ]
  },
  {
   "cell_type": "code",
   "execution_count": null,
   "id": "bd198108",
   "metadata": {},
   "outputs": [],
   "source": []
  }
 ],
 "metadata": {
  "kernelspec": {
   "display_name": "Python 3",
   "language": "python",
   "name": "python3"
  },
  "language_info": {
   "codemirror_mode": {
    "name": "ipython",
    "version": 3
   },
   "file_extension": ".py",
   "mimetype": "text/x-python",
   "name": "python",
   "nbconvert_exporter": "python",
   "pygments_lexer": "ipython3",
   "version": "3.6.13"
  }
 },
 "nbformat": 4,
 "nbformat_minor": 5
}
