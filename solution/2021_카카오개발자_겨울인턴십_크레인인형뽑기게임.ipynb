{
 "cells": [
  {
   "cell_type": "markdown",
   "id": "165421b7",
   "metadata": {},
   "source": [
    "- 날짜: 2021년 9월 17일\n",
    "- 프로그래머스 크레인 인형뽑기 게임\n",
    "- https://programmers.co.kr/learn/courses/30/lessons/64061"
   ]
  },
  {
   "cell_type": "code",
   "execution_count": 298,
   "id": "fcde216c",
   "metadata": {},
   "outputs": [],
   "source": [
    "board = [[0,0,0,0,0],[0,0,1,0,3],[0,2,5,0,1],[4,2,4,4,2],[3,5,1,3,1]]\n",
    "moves = [1,5,3,5,1,2,1,4]"
   ]
  },
  {
   "cell_type": "code",
   "execution_count": 302,
   "id": "79b1e294",
   "metadata": {},
   "outputs": [],
   "source": [
    "def solution(board, moves):\n",
    "    basket=[]\n",
    "    answer=0\n",
    "    board_transpose=[]\n",
    "    for i in zip(*board):\n",
    "        board_transpose.append(list(i))\n",
    "        \n",
    "    for pos in moves:                           # 크레인이 뽑는 위치를 하나씩 출력\n",
    "        for i in range(0,len(board_transpose[pos-1])):    \n",
    "            if board_transpose[pos-1][0]!=0:             # \n",
    "                basket.append(board_transpose[pos-1][0])\n",
    "                board_transpose[pos-1].remove(board_transpose[pos-1][0])\n",
    "                break\n",
    "            else:\n",
    "                board_transpose[pos-1].remove(board_transpose[pos-1][0]) \n",
    "        if len(basket) > 1:\n",
    "            if basket[-1]==basket[-2]:\n",
    "                del basket[-1]\n",
    "                del basket[-1]\n",
    "                answer+=2\n",
    "                \n",
    "    return answer"
   ]
  },
  {
   "cell_type": "code",
   "execution_count": null,
   "id": "0738616a",
   "metadata": {},
   "outputs": [],
   "source": [
    "- transpose"
   ]
  }
 ],
 "metadata": {
  "kernelspec": {
   "display_name": "Python 3",
   "language": "python",
   "name": "python3"
  },
  "language_info": {
   "codemirror_mode": {
    "name": "ipython",
    "version": 3
   },
   "file_extension": ".py",
   "mimetype": "text/x-python",
   "name": "python",
   "nbconvert_exporter": "python",
   "pygments_lexer": "ipython3",
   "version": "3.8.8"
  },
  "toc": {
   "base_numbering": 1,
   "nav_menu": {},
   "number_sections": true,
   "sideBar": true,
   "skip_h1_title": false,
   "title_cell": "Table of Contents",
   "title_sidebar": "Contents",
   "toc_cell": false,
   "toc_position": {},
   "toc_section_display": true,
   "toc_window_display": false
  }
 },
 "nbformat": 4,
 "nbformat_minor": 5
}
