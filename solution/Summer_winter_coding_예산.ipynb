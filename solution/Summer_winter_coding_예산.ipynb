{
 "cells": [
  {
   "cell_type": "markdown",
   "id": "a3ef0dd6",
   "metadata": {},
   "source": [
    "- 2021년 10월 28일\n",
    "- 프로그래머스 예산\n",
    "- https://programmers.co.kr/learn/courses/30/lessons/12982"
   ]
  },
  {
   "cell_type": "code",
   "execution_count": 1,
   "id": "abb7c0df",
   "metadata": {},
   "outputs": [],
   "source": [
    "d=[1,3,2,5,4]\n",
    "budget=9"
   ]
  },
  {
   "cell_type": "code",
   "execution_count": 2,
   "id": "5e934474",
   "metadata": {},
   "outputs": [],
   "source": [
    "def solution(d, budget):\n",
    "    d.sort()\n",
    "    i=0\n",
    "    j=0\n",
    "    answer=[]\n",
    "    while i<= budget:\n",
    "        i+=d[j]\n",
    "        if i>budget:\n",
    "            break\n",
    "        j+=1\n",
    "        if j > len(d)-1:\n",
    "            break\n",
    "    return j"
   ]
  },
  {
   "cell_type": "code",
   "execution_count": 3,
   "id": "62ba377f",
   "metadata": {},
   "outputs": [
    {
     "name": "stdout",
     "output_type": "stream",
     "text": [
      "1\n",
      "3\n",
      "6\n",
      "10\n"
     ]
    },
    {
     "data": {
      "text/plain": [
       "3"
      ]
     },
     "execution_count": 3,
     "metadata": {},
     "output_type": "execute_result"
    }
   ],
   "source": [
    "solution(d,budget)"
   ]
  },
  {
   "cell_type": "code",
   "execution_count": null,
   "id": "93378c89",
   "metadata": {},
   "outputs": [],
   "source": []
  }
 ],
 "metadata": {
  "kernelspec": {
   "display_name": "Python 3",
   "language": "python",
   "name": "python3"
  },
  "language_info": {
   "codemirror_mode": {
    "name": "ipython",
    "version": 3
   },
   "file_extension": ".py",
   "mimetype": "text/x-python",
   "name": "python",
   "nbconvert_exporter": "python",
   "pygments_lexer": "ipython3",
   "version": "3.8.8"
  }
 },
 "nbformat": 4,
 "nbformat_minor": 5
}
