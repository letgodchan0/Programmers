{
 "cells": [
  {
   "cell_type": "markdown",
   "id": "2b8b7aa5",
   "metadata": {},
   "source": [
    "- 2021년 12월 8일\n",
    "- 프로그래머스 영어 끝말잇기\n",
    "- https://programmers.co.kr/learn/courses/30/lessons/12981"
   ]
  },
  {
   "cell_type": "code",
   "execution_count": 1,
   "id": "1c2d4079",
   "metadata": {},
   "outputs": [],
   "source": [
    "words=[\"hello\", \"observe\", \"effect\", \"take\", \"either\", \"recognize\", \"encourage\", \"ensure\", \"establish\", \"hang\", \"gather\", \"refer\", \"reference\", \"estimate\", \"ensure\"]\n",
    "n=2"
   ]
  },
  {
   "cell_type": "code",
   "execution_count": 2,
   "id": "198454fb",
   "metadata": {},
   "outputs": [],
   "source": [
    "def solution(n, words):\n",
    "    answer = []\n",
    "    \n",
    "    for i in range(1, len(words)):\n",
    "        if (words[i] in words[:i] or words[i-1][-1] != words[i][0]):\n",
    "            answer.append((i%n)+1)\n",
    "            answer.append((i//n)+1)\n",
    "            break\n",
    "    else:\n",
    "        answer = [0,0]\n",
    "\n",
    "    return answer"
   ]
  },
  {
   "cell_type": "markdown",
   "id": "f77ab947",
   "metadata": {},
   "source": [
    "- 처음에 한 방식, 19번 케이스만 통과가 안된다..."
   ]
  },
  {
   "cell_type": "code",
   "execution_count": 3,
   "id": "d7024ce3",
   "metadata": {},
   "outputs": [],
   "source": [
    "def solution(n, words):\n",
    "    # 끝말잇기가 틀리면 담김\n",
    "    answer1=[]\n",
    "    for i in range(1, len(words)):\n",
    "        if words[i][0]!=words[i-1][-1]:\n",
    "            answer1=[]\n",
    "            answer1.append(i%n+1)\n",
    "            answer1.append(i//n+1)\n",
    "            break\n",
    "\n",
    "    # 앞에 한말을 또 하면 담김\n",
    "    answer2=[]\n",
    "    for i in words:\n",
    "        if words.count(i)==2:\n",
    "            start=words.index(i)\n",
    "            check=words.index(i,start+1)\n",
    "            answer2.append((check%n)+1)\n",
    "            answer2.append((check//n)+1)\n",
    "            break\n",
    "    # 패배한 사람이 없는 경우\n",
    "    if len(answer1)==0 and len(answer2)==0:\n",
    "        return [0,0]\n",
    "\n",
    "    if len(answer1)!=0 and len(answer2)!=0:\n",
    "        if answer2[-1] > answer1[-1]:\n",
    "            return answer1\n",
    "        else:\n",
    "            return answer2\n",
    "    elif len(answer1)==0:\n",
    "        return answer2\n",
    "    else :\n",
    "        return answer1"
   ]
  },
  {
   "cell_type": "code",
   "execution_count": null,
   "id": "c0970b74",
   "metadata": {},
   "outputs": [],
   "source": []
  }
 ],
 "metadata": {
  "kernelspec": {
   "display_name": "Python 3",
   "language": "python",
   "name": "python3"
  },
  "language_info": {
   "codemirror_mode": {
    "name": "ipython",
    "version": 3
   },
   "file_extension": ".py",
   "mimetype": "text/x-python",
   "name": "python",
   "nbconvert_exporter": "python",
   "pygments_lexer": "ipython3",
   "version": "3.8.8"
  }
 },
 "nbformat": 4,
 "nbformat_minor": 5
}
