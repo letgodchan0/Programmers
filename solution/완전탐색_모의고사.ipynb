{
 "cells": [
  {
   "cell_type": "markdown",
   "id": "8eabba3a",
   "metadata": {},
   "source": [
    "- 2021년 11월 11일\n",
    "- 프로그래머스 모의고사\n",
    "- https://programmers.co.kr/learn/courses/30/lessons/42840"
   ]
  },
  {
   "cell_type": "code",
   "execution_count": 1,
   "id": "69ff0d7c",
   "metadata": {},
   "outputs": [
    {
     "data": {
      "text/plain": [
       "5"
      ]
     },
     "execution_count": 1,
     "metadata": {},
     "output_type": "execute_result"
    }
   ],
   "source": [
    "answers=[1,3,2,4,2]\n",
    "len(answers)"
   ]
  },
  {
   "cell_type": "code",
   "execution_count": 2,
   "id": "85e189fd",
   "metadata": {},
   "outputs": [],
   "source": [
    "def solution(answers):\n",
    "    first=[1,2,3,4,5]\n",
    "    second=[2,1,2,3,2,4,2,5]\n",
    "    third=[3,3,1,1,2,2,4,4,5,5]\n",
    "    score=[0,0,0]\n",
    "    \n",
    "    for i, v in enumerate(answers):\n",
    "        if first[i%len(first)]==v:\n",
    "            score[0]+=1\n",
    "        if second[i%len(second)]==v:\n",
    "            score[1]+=1\n",
    "        if third[i%len(third)]==v:\n",
    "            score[2]+=1\n",
    "    answer=[]\n",
    "    for i,v in enumerate(score):\n",
    "        if v==max(score):\n",
    "            answer.append(i+1)\n",
    "    \n",
    "    return answer"
   ]
  },
  {
   "cell_type": "code",
   "execution_count": 3,
   "id": "612e0f46",
   "metadata": {},
   "outputs": [
    {
     "data": {
      "text/plain": [
       "[1, 2, 3]"
      ]
     },
     "execution_count": 3,
     "metadata": {},
     "output_type": "execute_result"
    }
   ],
   "source": [
    "solution(answers)"
   ]
  },
  {
   "cell_type": "code",
   "execution_count": null,
   "id": "5057f0c1",
   "metadata": {},
   "outputs": [],
   "source": []
  }
 ],
 "metadata": {
  "kernelspec": {
   "display_name": "Python 3",
   "language": "python",
   "name": "python3"
  },
  "language_info": {
   "codemirror_mode": {
    "name": "ipython",
    "version": 3
   },
   "file_extension": ".py",
   "mimetype": "text/x-python",
   "name": "python",
   "nbconvert_exporter": "python",
   "pygments_lexer": "ipython3",
   "version": "3.8.8"
  }
 },
 "nbformat": 4,
 "nbformat_minor": 5
}
