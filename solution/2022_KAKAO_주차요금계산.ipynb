{
 "cells": [
  {
   "cell_type": "markdown",
   "id": "d2888f9d",
   "metadata": {},
   "source": [
    "- 2022년 1월 17일\n",
    "- 프로그래머스 주차 요금 계산\n",
    "- https://programmers.co.kr/learn/courses/30/lessons/92341"
   ]
  },
  {
   "cell_type": "code",
   "execution_count": 120,
   "id": "9e04e505",
   "metadata": {},
   "outputs": [],
   "source": [
    "fees = [180, 5000, 10, 600]\n",
    "records = [\"05:34 5961 IN\", \"06:00 0000 IN\", \"06:34 0000 OUT\", \"07:59 5961 OUT\", \"07:59 0148 IN\", \"18:59 0000 IN\", \"19:09 0148 OUT\", \"22:59 5961 IN\", \"23:00 5961 OUT\"]"
   ]
  },
  {
   "cell_type": "code",
   "execution_count": 134,
   "id": "0af478f2",
   "metadata": {},
   "outputs": [],
   "source": [
    "import math\n",
    "def solution(fees, records):\n",
    "    basic_minute = fees[0]\n",
    "    basic_fee = fees[1]\n",
    "    minute = fees[2]\n",
    "    unit = fees[3]\n",
    "\n",
    "    car = list(set(map(lambda x: x.split()[1], records)))\n",
    "    total_fees = {k : 0 for k in car}\n",
    "    check = {}\n",
    "    for record in records:\n",
    "        tmp = record.split(' ')\n",
    "        if tmp[1] not in check.keys():\n",
    "            check[tmp[1]]= tmp[0]\n",
    "        else:\n",
    "            if tmp[-1] == 'OUT':\n",
    "                out_time = int(tmp[0].split(':')[0]) * 60 + int(tmp[0].split(':')[1])\n",
    "                in_time = int(check[tmp[1]].split(':')[0]) * 60 + int(check[tmp[1]].split(':')[1])\n",
    "                total_fees[tmp[1]] = total_fees[tmp[1]] + out_time - in_time\n",
    "                del check[tmp[1]]\n",
    "\n",
    "    if check:\n",
    "        for i in check.keys():\n",
    "            out_time = 1439\n",
    "            in_time = int(check[i].split(':')[0]) * 60 + int(check[i].split(':')[1])\n",
    "            total_fees[i] = total_fees[i] + out_time - in_time\n",
    "\n",
    "    result = []\n",
    "    for i in total_fees.items():\n",
    "        if i[1] <= basic_minute :\n",
    "            result.append((i[0], basic_fee))\n",
    "        else:\n",
    "            result.append((i[0], basic_fee + (math.ceil((i[1] - basic_minute) / minute) * unit)))\n",
    "\n",
    "    return list(map(lambda x: x[1], sorted(result)))"
   ]
  },
  {
   "cell_type": "code",
   "execution_count": 135,
   "id": "0e05c582",
   "metadata": {},
   "outputs": [
    {
     "data": {
      "text/plain": [
       "[14600, 34400, 5000]"
      ]
     },
     "execution_count": 135,
     "metadata": {},
     "output_type": "execute_result"
    }
   ],
   "source": [
    "solution(fees, records)"
   ]
  },
  {
   "cell_type": "code",
   "execution_count": 89,
   "id": "abdf23eb",
   "metadata": {},
   "outputs": [],
   "source": [
    "car = list(set(map(lambda x: x.split()[1], records)))\n",
    "total_fees = {k : 0 for k in car}\n",
    "check = {k : '' for k in car}"
   ]
  },
  {
   "cell_type": "code",
   "execution_count": 97,
   "id": "9a452d6c",
   "metadata": {},
   "outputs": [
    {
     "data": {
      "text/plain": [
       "True"
      ]
     },
     "execution_count": 97,
     "metadata": {},
     "output_type": "execute_result"
    }
   ],
   "source": [
    "'0000' in check.keys()"
   ]
  },
  {
   "cell_type": "code",
   "execution_count": 133,
   "id": "9c02fbe9",
   "metadata": {},
   "outputs": [
    {
     "data": {
      "text/plain": [
       "[('0000', 14600), ('0148', 34400), ('5961', 5000)]"
      ]
     },
     "execution_count": 133,
     "metadata": {},
     "output_type": "execute_result"
    }
   ],
   "source": [
    "basic_minute = fees[0]\n",
    "basic_fee = fees[1]\n",
    "minute = fees[2]\n",
    "unit = fees[3]\n",
    "\n",
    "car = list(set(map(lambda x: x.split()[1], records)))\n",
    "total_fees = {k : 0 for k in car}\n",
    "check = {}\n",
    "for record in records:\n",
    "    tmp = record.split(' ')\n",
    "    if tmp[1] not in check.keys():\n",
    "        check[tmp[1]]= tmp[0]\n",
    "    else:\n",
    "        if tmp[-1] == 'OUT':\n",
    "            out_time = int(tmp[0].split(':')[0]) * 60 + int(tmp[0].split(':')[1])\n",
    "            in_time = int(check[tmp[1]].split(':')[0]) * 60 + int(check[tmp[1]].split(':')[1])\n",
    "            total_fees[tmp[1]] = total_fees[tmp[1]] + out_time - in_time\n",
    "            del check[tmp[1]]\n",
    "    \n",
    "if check:\n",
    "    for i in check.keys():\n",
    "        out_time = 1439\n",
    "        in_time = int(check[i].split(':')[0]) * 60 + int(check[i].split(':')[1])\n",
    "        total_fees[i] = total_fees[i] + out_time - in_time\n",
    "\n",
    "result = []\n",
    "for i in total_fees.items():\n",
    "    if i[1] <= basic_minute :\n",
    "        result.append((i[0], basic_fee))\n",
    "    else:\n",
    "        result.append((i[0], basic_fee + (math.ceil((i[1] - basic_minute) / minute) * unit)))\n",
    "sorted(result)"
   ]
  },
  {
   "cell_type": "code",
   "execution_count": 124,
   "id": "2974080a",
   "metadata": {},
   "outputs": [
    {
     "data": {
      "text/plain": [
       "[('0000', 334), ('5961', 146), ('0148', 670)]"
      ]
     },
     "execution_count": 124,
     "metadata": {},
     "output_type": "execute_result"
    }
   ],
   "source": [
    "result = [i for i in total_fees.items()]\n",
    "result"
   ]
  },
  {
   "cell_type": "code",
   "execution_count": 125,
   "id": "22692bd6",
   "metadata": {},
   "outputs": [
    {
     "data": {
      "text/plain": [
       "[('0000', 334), ('0148', 670), ('5961', 146)]"
      ]
     },
     "execution_count": 125,
     "metadata": {},
     "output_type": "execute_result"
    }
   ],
   "source": [
    "sorted(result)"
   ]
  },
  {
   "cell_type": "code",
   "execution_count": 126,
   "id": "2f32fda8",
   "metadata": {},
   "outputs": [
    {
     "data": {
      "text/plain": [
       "4"
      ]
     },
     "execution_count": 126,
     "metadata": {},
     "output_type": "execute_result"
    }
   ],
   "source": [
    "import math\n",
    "math.ceil(3.14)"
   ]
  },
  {
   "cell_type": "code",
   "execution_count": null,
   "id": "ce65dce6",
   "metadata": {},
   "outputs": [],
   "source": []
  }
 ],
 "metadata": {
  "kernelspec": {
   "display_name": "Python 3",
   "language": "python",
   "name": "python3"
  },
  "language_info": {
   "codemirror_mode": {
    "name": "ipython",
    "version": 3
   },
   "file_extension": ".py",
   "mimetype": "text/x-python",
   "name": "python",
   "nbconvert_exporter": "python",
   "pygments_lexer": "ipython3",
   "version": "3.6.13"
  }
 },
 "nbformat": 4,
 "nbformat_minor": 5
}
