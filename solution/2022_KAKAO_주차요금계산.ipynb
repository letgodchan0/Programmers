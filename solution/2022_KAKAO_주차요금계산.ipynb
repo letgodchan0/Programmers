{
 "cells": [
  {
   "cell_type": "markdown",
   "id": "197466e7",
   "metadata": {},
   "source": [
    "- 2022년 1월 17일\n",
    "- 프로그래머스 주차 요금 계산\n",
    "- https://programmers.co.kr/learn/courses/30/lessons/92341"
   ]
  },
  {
   "cell_type": "code",
   "execution_count": 1,
   "id": "424b89db",
   "metadata": {},
   "outputs": [],
   "source": [
    "fees = [180, 5000, 10, 600]\n",
    "records = [\"05:34 5961 IN\", \"06:00 0000 IN\", \"06:34 0000 OUT\", \"07:59 5961 OUT\", \"07:59 0148 IN\", \"18:59 0000 IN\", \"19:09 0148 OUT\", \"22:59 5961 IN\", \"23:00 5961 OUT\"]"
   ]
  },
  {
   "cell_type": "code",
   "execution_count": 2,
   "id": "7e6e7f34",
   "metadata": {},
   "outputs": [],
   "source": [
    "import math\n",
    "def solution(fees, records):\n",
    "    basic_minute = fees[0]\n",
    "    basic_fee = fees[1]\n",
    "    minute = fees[2]\n",
    "    unit = fees[3]\n",
    "\n",
    "    car = list(set(map(lambda x: x.split()[1], records)))\n",
    "    total_fees = {k : 0 for k in car}\n",
    "    check = {}\n",
    "    for record in records:\n",
    "        tmp = record.split(' ')\n",
    "        if tmp[1] not in check.keys():\n",
    "            check[tmp[1]]= tmp[0]\n",
    "        else:\n",
    "            if tmp[-1] == 'OUT':\n",
    "                out_time = int(tmp[0].split(':')[0]) * 60 + int(tmp[0].split(':')[1])\n",
    "                in_time = int(check[tmp[1]].split(':')[0]) * 60 + int(check[tmp[1]].split(':')[1])\n",
    "                total_fees[tmp[1]] = total_fees[tmp[1]] + out_time - in_time\n",
    "                del check[tmp[1]]\n",
    "\n",
    "    if check:\n",
    "        for i in check.keys():\n",
    "            out_time = 1439\n",
    "            in_time = int(check[i].split(':')[0]) * 60 + int(check[i].split(':')[1])\n",
    "            total_fees[i] = total_fees[i] + out_time - in_time\n",
    "\n",
    "    result = []\n",
    "    for i in total_fees.items():\n",
    "        if i[1] <= basic_minute :\n",
    "            result.append((i[0], basic_fee))\n",
    "        else:\n",
    "            result.append((i[0], basic_fee + (math.ceil((i[1] - basic_minute) / minute) * unit)))\n",
    "\n",
    "    return list(map(lambda x: x[1], sorted(result)))"
   ]
  },
  {
   "cell_type": "code",
   "execution_count": 3,
   "id": "7bea1f37",
   "metadata": {},
   "outputs": [],
   "source": [
    "solution(fees, records)"
   ]
  },
  {
   "cell_type": "code",
   "execution_count": null,
   "id": "57df8458",
   "metadata": {},
   "outputs": [],
   "source": []
  }
 ],
 "metadata": {
  "kernelspec": {
   "display_name": "Python 3",
   "language": "python",
   "name": "python3"
  },
  "language_info": {
   "codemirror_mode": {
    "name": "ipython",
    "version": 3
   },
   "file_extension": ".py",
   "mimetype": "text/x-python",
   "name": "python",
   "nbconvert_exporter": "python",
   "pygments_lexer": "ipython3",
   "version": "3.6.13"
  }
 },
 "nbformat": 4,
 "nbformat_minor": 5
}
