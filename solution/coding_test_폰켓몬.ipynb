{
 "cells": [
  {
   "cell_type": "markdown",
   "id": "06bf83ef",
   "metadata": {},
   "source": [
    "- 2021년 11월 15일\n",
    "- 프로그래머스 폰켓몬\n",
    "- https://programmers.co.kr/learn/courses/30/lessons/1845"
   ]
  },
  {
   "cell_type": "code",
   "execution_count": 1,
   "id": "177a2947",
   "metadata": {},
   "outputs": [],
   "source": [
    "nums= [3,3,3,4,2,2,2]\n",
    "result=2"
   ]
  },
  {
   "cell_type": "code",
   "execution_count": 2,
   "id": "f34ad913",
   "metadata": {},
   "outputs": [],
   "source": [
    "def solution(nums):\n",
    "    maxnum=len(nums)//2\n",
    "    if len(set(nums)) >= maxnum:\n",
    "        return maxnum\n",
    "    else:\n",
    "        return len(set(nums))"
   ]
  },
  {
   "cell_type": "code",
   "execution_count": 3,
   "id": "6ef8197c",
   "metadata": {},
   "outputs": [
    {
     "data": {
      "text/plain": [
       "3"
      ]
     },
     "execution_count": 3,
     "metadata": {},
     "output_type": "execute_result"
    }
   ],
   "source": [
    "solution(nums)"
   ]
  },
  {
   "cell_type": "code",
   "execution_count": null,
   "id": "1ade6664",
   "metadata": {},
   "outputs": [],
   "source": []
  }
 ],
 "metadata": {
  "kernelspec": {
   "display_name": "Python 3",
   "language": "python",
   "name": "python3"
  },
  "language_info": {
   "codemirror_mode": {
    "name": "ipython",
    "version": 3
   },
   "file_extension": ".py",
   "mimetype": "text/x-python",
   "name": "python",
   "nbconvert_exporter": "python",
   "pygments_lexer": "ipython3",
   "version": "3.8.8"
  }
 },
 "nbformat": 4,
 "nbformat_minor": 5
}
