{
 "cells": [
  {
   "cell_type": "markdown",
   "id": "e2e06d5c",
   "metadata": {},
   "source": [
    "- 2022년 1월 18일\n",
    "- 프로그래머스 삼각 달팽이\n",
    "- https://programmers.co.kr/learn/courses/30/lessons/68645"
   ]
  },
  {
   "cell_type": "code",
   "execution_count": 9,
   "id": "71ee78e4",
   "metadata": {},
   "outputs": [],
   "source": [
    "def solution(n):\n",
    "    if n % 2 == 0:\n",
    "        mok = (n+1) // 2\n",
    "        result = (n * mok) + mok\n",
    "    else:\n",
    "        mok = (n+1) // 2\n",
    "        result = n * mok\n",
    "    \n",
    "    answer = []\n",
    "    \n",
    "    for i in range(1, result + 1):\n",
    "        answer.\n",
    "    "
   ]
  },
  {
   "cell_type": "code",
   "execution_count": 12,
   "id": "8d5fb322",
   "metadata": {},
   "outputs": [
    {
     "data": {
      "text/plain": [
       "21"
      ]
     },
     "execution_count": 12,
     "metadata": {},
     "output_type": "execute_result"
    }
   ],
   "source": [
    "solution(6)    "
   ]
  },
  {
   "cell_type": "code",
   "execution_count": null,
   "id": "55f0054c",
   "metadata": {},
   "outputs": [],
   "source": []
  }
 ],
 "metadata": {
  "kernelspec": {
   "display_name": "Python 3",
   "language": "python",
   "name": "python3"
  },
  "language_info": {
   "codemirror_mode": {
    "name": "ipython",
    "version": 3
   },
   "file_extension": ".py",
   "mimetype": "text/x-python",
   "name": "python",
   "nbconvert_exporter": "python",
   "pygments_lexer": "ipython3",
   "version": "3.6.13"
  }
 },
 "nbformat": 4,
 "nbformat_minor": 5
}
