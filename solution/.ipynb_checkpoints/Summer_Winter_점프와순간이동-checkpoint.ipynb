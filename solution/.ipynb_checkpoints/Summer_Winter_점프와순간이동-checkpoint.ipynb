{
 "cells": [
  {
   "cell_type": "markdown",
   "id": "1fa3d3a3",
   "metadata": {},
   "source": [
    "- 2022년 1월 16일\n",
    "- 프로그래머스 점프와 순간 이동\n",
    "- https://programmers.co.kr/learn/courses/30/lessons/12980"
   ]
  },
  {
   "cell_type": "code",
   "execution_count": 1,
   "id": "722b07d0",
   "metadata": {},
   "outputs": [],
   "source": [
    "def solution(n):\n",
    "    cnt = 0\n",
    "    while n != 0:\n",
    "        if n % 2 != 0:\n",
    "            cnt += 1 \n",
    "            n -= 1\n",
    "        else:\n",
    "            n = n // 2\n",
    "    return cnt"
   ]
  },
  {
   "cell_type": "code",
   "execution_count": 2,
   "id": "396c0098",
   "metadata": {},
   "outputs": [
    {
     "data": {
      "text/plain": [
       "5"
      ]
     },
     "execution_count": 2,
     "metadata": {},
     "output_type": "execute_result"
    }
   ],
   "source": [
    "solution(5000)"
   ]
  },
  {
   "cell_type": "markdown",
   "id": "74124db0",
   "metadata": {},
   "source": [
    "- 다른 풀이"
   ]
  },
  {
   "cell_type": "code",
   "execution_count": 3,
   "id": "9f816d81",
   "metadata": {},
   "outputs": [],
   "source": [
    "def solution(n):\n",
    "    answer = 1\n",
    "    while n > 1:\n",
    "        answer += n % 2\n",
    "        n = n // 2\n",
    "    return answer"
   ]
  },
  {
   "cell_type": "code",
   "execution_count": 4,
   "id": "33ecb9d6",
   "metadata": {},
   "outputs": [
    {
     "data": {
      "text/plain": [
       "'0b1001110001000'"
      ]
     },
     "execution_count": 4,
     "metadata": {},
     "output_type": "execute_result"
    }
   ],
   "source": [
    "bin(5000)"
   ]
  },
  {
   "cell_type": "markdown",
   "id": "852ef4dc",
   "metadata": {},
   "source": [
    "- bin을 이용한 풀이"
   ]
  },
  {
   "cell_type": "code",
   "execution_count": 5,
   "id": "6092ada1",
   "metadata": {},
   "outputs": [],
   "source": [
    "def solution(n):\n",
    "    return bin(n).count('1')"
   ]
  },
  {
   "cell_type": "code",
   "execution_count": null,
   "id": "cf5469da",
   "metadata": {},
   "outputs": [],
   "source": []
  }
 ],
 "metadata": {
  "kernelspec": {
   "display_name": "Python 3",
   "language": "python",
   "name": "python3"
  },
  "language_info": {
   "codemirror_mode": {
    "name": "ipython",
    "version": 3
   },
   "file_extension": ".py",
   "mimetype": "text/x-python",
   "name": "python",
   "nbconvert_exporter": "python",
   "pygments_lexer": "ipython3",
   "version": "3.6.13"
  }
 },
 "nbformat": 4,
 "nbformat_minor": 5
}
