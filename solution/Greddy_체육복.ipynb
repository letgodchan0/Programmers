{
 "cells": [
  {
   "cell_type": "markdown",
   "id": "06082af3",
   "metadata": {},
   "source": [
    "- 2021년 10월 27일\n",
    "- 프로그래머스 체육복\n",
    "- https://programmers.co.kr/learn/courses/30/lessons/42862"
   ]
  },
  {
   "cell_type": "code",
   "execution_count": 1,
   "id": "dea56940",
   "metadata": {},
   "outputs": [],
   "source": [
    "n=7\n",
    "lost = [7, 4, 3, 5, 2, 1]\n",
    "reserve=[6, 5]"
   ]
  },
  {
   "cell_type": "code",
   "execution_count": 2,
   "id": "b817d657",
   "metadata": {},
   "outputs": [],
   "source": [
    "def solution(n, lost, reserve):\n",
    "    answer = []\n",
    "    real_lost=list(set(lost)-set(reserve))    # 진짜 없는 애들\n",
    "    real_reserve=list(set(reserve)-set(lost))   # 진짜 빌려줄 수 있는 애들\n",
    "    fake_lost = real_lost.copy()\n",
    "\n",
    "    for i in real_lost:\n",
    "        if i-1 in real_reserve :\n",
    "            real_reserve.remove(i-1)\n",
    "            fake_lost.remove(i)\n",
    "        elif i+1 in real_reserve:\n",
    "            real_reserve.remove(i+1)\n",
    "            fake_lost.remove(i)\n",
    "        else:\n",
    "            answer.append(i)\n",
    "\n",
    "    return n-len(answer)"
   ]
  },
  {
   "cell_type": "code",
   "execution_count": 3,
   "id": "5e58d9da",
   "metadata": {},
   "outputs": [
    {
     "data": {
      "text/plain": [
       "3"
      ]
     },
     "execution_count": 3,
     "metadata": {},
     "output_type": "execute_result"
    }
   ],
   "source": [
    "solution(n, lost, reserve)"
   ]
  },
  {
   "cell_type": "code",
   "execution_count": null,
   "id": "4c8ebc53",
   "metadata": {},
   "outputs": [],
   "source": []
  }
 ],
 "metadata": {
  "kernelspec": {
   "display_name": "Python 3",
   "language": "python",
   "name": "python3"
  },
  "language_info": {
   "codemirror_mode": {
    "name": "ipython",
    "version": 3
   },
   "file_extension": ".py",
   "mimetype": "text/x-python",
   "name": "python",
   "nbconvert_exporter": "python",
   "pygments_lexer": "ipython3",
   "version": "3.8.8"
  }
 },
 "nbformat": 4,
 "nbformat_minor": 5
}
