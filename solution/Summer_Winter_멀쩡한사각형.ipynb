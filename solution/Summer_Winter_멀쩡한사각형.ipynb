{
 "cells": [
  {
   "cell_type": "markdown",
   "id": "35731a66",
   "metadata": {},
   "source": [
    "- 2021년 10월 19일\n",
    "- 프로그래머스 멀쩡한 사각형\n",
    "- https://programmers.co.kr/learn/courses/30/lessons/62048"
   ]
  },
  {
   "cell_type": "code",
   "execution_count": 1,
   "id": "ff545cc6",
   "metadata": {},
   "outputs": [],
   "source": [
    "def solution(w,h):\n",
    "    from math import gcd\n",
    "    return w*h-(w+h-gcd(w,h))"
   ]
  },
  {
   "cell_type": "code",
   "execution_count": 2,
   "id": "f75efc99",
   "metadata": {},
   "outputs": [
    {
     "data": {
      "text/plain": [
       "80"
      ]
     },
     "execution_count": 2,
     "metadata": {},
     "output_type": "execute_result"
    }
   ],
   "source": [
    "w=8\n",
    "h=12\n",
    "solution(w,h)"
   ]
  },
  {
   "cell_type": "code",
   "execution_count": null,
   "id": "2bac6c68",
   "metadata": {},
   "outputs": [],
   "source": []
  }
 ],
 "metadata": {
  "kernelspec": {
   "display_name": "Python 3",
   "language": "python",
   "name": "python3"
  },
  "language_info": {
   "codemirror_mode": {
    "name": "ipython",
    "version": 3
   },
   "file_extension": ".py",
   "mimetype": "text/x-python",
   "name": "python",
   "nbconvert_exporter": "python",
   "pygments_lexer": "ipython3",
   "version": "3.8.8"
  }
 },
 "nbformat": 4,
 "nbformat_minor": 5
}
