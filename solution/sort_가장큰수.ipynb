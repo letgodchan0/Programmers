{
 "cells": [
  {
   "cell_type": "markdown",
   "id": "32662cc6",
   "metadata": {},
   "source": [
    "- 2021년 11월 15일\n",
    "- 프로그래머스 가장 큰 수\n",
    "- https://programmers.co.kr/learn/courses/30/lessons/42746"
   ]
  },
  {
   "cell_type": "code",
   "execution_count": 1,
   "id": "1c529a95",
   "metadata": {},
   "outputs": [],
   "source": [
    "numbers=[23, 232, 21, 212]"
   ]
  },
  {
   "cell_type": "code",
   "execution_count": 2,
   "id": "c29d3c96",
   "metadata": {},
   "outputs": [],
   "source": [
    "def solution(numbers):\n",
    "    str_numbers=list(map(str, numbers))\n",
    "    first=str_numbers.copy()\n",
    "    str_numbers=list(map(lambda x: 3*(x), str_numbers))\n",
    "    result=[]\n",
    "    for i in range(len(str_numbers)):\n",
    "        result.append([str_numbers[i][:4],first[i]])\n",
    "    result=sorted(result, reverse=True)\n",
    "    return str(int(\"\".join([item[1] for item in result])))"
   ]
  },
  {
   "cell_type": "code",
   "execution_count": 3,
   "id": "cc2a6b0e",
   "metadata": {},
   "outputs": [
    {
     "data": {
      "text/plain": [
       "'2323221221'"
      ]
     },
     "execution_count": 3,
     "metadata": {},
     "output_type": "execute_result"
    }
   ],
   "source": [
    "solution(numbers)"
   ]
  },
  {
   "cell_type": "markdown",
   "id": "b7c94500",
   "metadata": {},
   "source": [
    "- 다른 사람 풀이"
   ]
  },
  {
   "cell_type": "code",
   "execution_count": 4,
   "id": "73acc929",
   "metadata": {},
   "outputs": [],
   "source": [
    "def solution(numbers):\n",
    "    numbers = list(map(str, numbers))\n",
    "    numbers.sort(key=lambda x: x*3, reverse=True)\n",
    "    return str(int(''.join(numbers)))"
   ]
  },
  {
   "cell_type": "code",
   "execution_count": null,
   "id": "dd13a766",
   "metadata": {},
   "outputs": [],
   "source": []
  },
  {
   "cell_type": "code",
   "execution_count": 1,
   "id": "23d1cf5e",
   "metadata": {},
   "outputs": [],
   "source": [
    "numbers=[23, 232, 21, 212]"
   ]
  },
  {
   "cell_type": "code",
   "execution_count": 2,
   "id": "fb6d11bc",
   "metadata": {},
   "outputs": [],
   "source": [
    "str_numbers=list(map(str, numbers))\n",
    "first=str_numbers.copy()\n",
    "str_numbers=list(map(lambda x: 3*(x), str_numbers))"
   ]
  },
  {
   "cell_type": "code",
   "execution_count": 3,
   "id": "0eb4166c",
   "metadata": {},
   "outputs": [
    {
     "data": {
      "text/plain": [
       "['232323', '232232232', '212121', '212212212']"
      ]
     },
     "execution_count": 3,
     "metadata": {},
     "output_type": "execute_result"
    }
   ],
   "source": [
    "str_numbers"
   ]
  },
  {
   "cell_type": "code",
   "execution_count": 4,
   "id": "a1af205a",
   "metadata": {},
   "outputs": [],
   "source": [
    "result=[]\n",
    "for i in range(len(str_numbers)):\n",
    "    result.append([str_numbers[i][:4],first[i]])"
   ]
  },
  {
   "cell_type": "code",
   "execution_count": 5,
   "id": "9d4b912b",
   "metadata": {},
   "outputs": [
    {
     "data": {
      "text/plain": [
       "[['2323', '23'], ['2322', '232'], ['2121', '21'], ['2122', '212']]"
      ]
     },
     "execution_count": 5,
     "metadata": {},
     "output_type": "execute_result"
    }
   ],
   "source": [
    "result"
   ]
  },
  {
   "cell_type": "code",
   "execution_count": 6,
   "id": "9ea6346e",
   "metadata": {},
   "outputs": [],
   "source": [
    "result=sorted(result, reverse=True)"
   ]
  },
  {
   "cell_type": "code",
   "execution_count": 7,
   "id": "be69bd0d",
   "metadata": {},
   "outputs": [
    {
     "data": {
      "text/plain": [
       "[['2323', '23'], ['2322', '232'], ['2122', '212'], ['2121', '21']]"
      ]
     },
     "execution_count": 7,
     "metadata": {},
     "output_type": "execute_result"
    }
   ],
   "source": [
    "result"
   ]
  },
  {
   "cell_type": "code",
   "execution_count": null,
   "id": "c4f10bd0",
   "metadata": {},
   "outputs": [],
   "source": []
  }
 ],
 "metadata": {
  "kernelspec": {
   "display_name": "Python 3",
   "language": "python",
   "name": "python3"
  },
  "language_info": {
   "codemirror_mode": {
    "name": "ipython",
    "version": 3
   },
   "file_extension": ".py",
   "mimetype": "text/x-python",
   "name": "python",
   "nbconvert_exporter": "python",
   "pygments_lexer": "ipython3",
   "version": "3.8.8"
  }
 },
 "nbformat": 4,
 "nbformat_minor": 5
}
