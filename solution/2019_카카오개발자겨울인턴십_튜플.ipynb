{
 "cells": [
  {
   "cell_type": "markdown",
   "id": "74f42f26",
   "metadata": {},
   "source": [
    "- 2021년 11월 29일\n",
    "- 프로그래머스 튜플\n",
    "- https://programmers.co.kr/learn/courses/30/lessons/64065"
   ]
  },
  {
   "cell_type": "code",
   "execution_count": 1,
   "id": "356a3169",
   "metadata": {},
   "outputs": [],
   "source": [
    "s=\"{{4,2,3},{3},{2,3,4,1},{2,3}}\""
   ]
  },
  {
   "cell_type": "code",
   "execution_count": 4,
   "id": "08c8bff4",
   "metadata": {},
   "outputs": [],
   "source": [
    "def solution(s):\n",
    "    answer=''\n",
    "    result=[]\n",
    "    empty=[]\n",
    "    for i in s[1:-1]:\n",
    "        if i.isdigit():\n",
    "            answer+=i\n",
    "        else:\n",
    "            if answer.isdigit():\n",
    "                empty.append(int(answer))\n",
    "                answer=''\n",
    "            if i=='}':\n",
    "                result.append(list(empty))\n",
    "                empty=[]\n",
    "    result=sorted(result, key=lambda x:len(x))[::-1]\n",
    "    print(result)\n",
    "\n",
    "    good=[]\n",
    "    for i in range(len(result)):\n",
    "        if i==len(result)-1:\n",
    "            good.append(result[i][0])\n",
    "        else:\n",
    "            good.append(list(set(result[i])-set(result[i+1]))[0])\n",
    "    return good[::-1]"
   ]
  },
  {
   "cell_type": "code",
   "execution_count": 5,
   "id": "a5285059",
   "metadata": {},
   "outputs": [
    {
     "name": "stdout",
     "output_type": "stream",
     "text": [
      "[[2, 3, 4, 1], [4, 2, 3], [2, 3], [3]]\n"
     ]
    },
    {
     "data": {
      "text/plain": [
       "[3, 2, 4, 1]"
      ]
     },
     "execution_count": 5,
     "metadata": {},
     "output_type": "execute_result"
    }
   ],
   "source": [
    "solution(s)"
   ]
  },
  {
   "cell_type": "code",
   "execution_count": null,
   "id": "fb709ce0",
   "metadata": {},
   "outputs": [],
   "source": []
  }
 ],
 "metadata": {
  "kernelspec": {
   "display_name": "Python 3",
   "language": "python",
   "name": "python3"
  },
  "language_info": {
   "codemirror_mode": {
    "name": "ipython",
    "version": 3
   },
   "file_extension": ".py",
   "mimetype": "text/x-python",
   "name": "python",
   "nbconvert_exporter": "python",
   "pygments_lexer": "ipython3",
   "version": "3.8.8"
  }
 },
 "nbformat": 4,
 "nbformat_minor": 5
}
