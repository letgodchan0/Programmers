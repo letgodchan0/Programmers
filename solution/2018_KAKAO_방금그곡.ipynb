{
 "cells": [
  {
   "cell_type": "markdown",
   "id": "89b13855",
   "metadata": {},
   "source": [
    "- 2022년 1월 22일\n",
    "- 프로그래머스 방금 그곡\n",
    "- https://programmers.co.kr/learn/courses/30/lessons/17683"
   ]
  },
  {
   "cell_type": "code",
   "execution_count": 1,
   "id": "e5529ea3",
   "metadata": {},
   "outputs": [],
   "source": [
    "m ='ABCDEFGFSADFSADFDSFDSASDAFDSAFSD'\n",
    "musicinfos = [\"12:00,12:14,HELLO,CDEFGAB\", \"13:00,13:05,WORLD,ABCDEF\"]"
   ]
  },
  {
   "cell_type": "code",
   "execution_count": 2,
   "id": "364992f4",
   "metadata": {},
   "outputs": [],
   "source": [
    "# #코드 바꿔주기\n",
    "def change_code(m):\n",
    "    return m.replace('C#','c').replace('D#','d').replace('F#','f').replace('G#','g').replace('A#','a')\n",
    "\n",
    "# 시간 체크\n",
    "def timecheck(time1, time2):\n",
    "    time1 = int(time1[:2]) * 60 + int(time1[3:])\n",
    "    time2 = int(time2[:2]) * 60 + int(time2[3:])\n",
    "    return time2 - time1\n",
    "\n",
    "# 결과 반환\n",
    "def solution(m, musicinfos):\n",
    "    m = change_code(m)\n",
    "    check = []\n",
    "    code = ['C', 'c', 'D', 'd', 'E', 'F', 'f', 'G', 'g', 'A', 'a', 'B']\n",
    "    for info in musicinfos:\n",
    "        information = info.split(',')\n",
    "        time = timecheck(information[0], information[1])\n",
    "        song = information[2]\n",
    "        play = change_code(information[3])\n",
    "        if len(play) > time:\n",
    "            play = play[:time]\n",
    "        else:\n",
    "            play = play * (time // len(play)) + play[:(time % len(play))]\n",
    "\n",
    "        if m in play:\n",
    "            check.append((song, time))\n",
    "\n",
    "    if len(check) == 0:\n",
    "        return \"(None)\"\n",
    "\n",
    "    return sorted(check, key = lambda x: x[1], reverse = True)[0][0]"
   ]
  },
  {
   "cell_type": "code",
   "execution_count": 3,
   "id": "9d6e14e0",
   "metadata": {},
   "outputs": [
    {
     "data": {
      "text/plain": [
       "'(None)'"
      ]
     },
     "execution_count": 3,
     "metadata": {},
     "output_type": "execute_result"
    }
   ],
   "source": [
    "solution(m, musicinfos)"
   ]
  },
  {
   "cell_type": "code",
   "execution_count": null,
   "id": "24cded5b",
   "metadata": {},
   "outputs": [],
   "source": []
  }
 ],
 "metadata": {
  "kernelspec": {
   "display_name": "Python 3",
   "language": "python",
   "name": "python3"
  },
  "language_info": {
   "codemirror_mode": {
    "name": "ipython",
    "version": 3
   },
   "file_extension": ".py",
   "mimetype": "text/x-python",
   "name": "python",
   "nbconvert_exporter": "python",
   "pygments_lexer": "ipython3",
   "version": "3.6.13"
  }
 },
 "nbformat": 4,
 "nbformat_minor": 5
}
