{
 "cells": [
  {
   "cell_type": "markdown",
   "id": "baf66818",
   "metadata": {},
   "source": [
    "- 2021년 11월 28일\n",
    "- 프로그래머스 짝지어 제거하기\n",
    "- https://programmers.co.kr/learn/courses/30/lessons/12973"
   ]
  },
  {
   "cell_type": "code",
   "execution_count": 57,
   "id": "de8b8667",
   "metadata": {},
   "outputs": [],
   "source": [
    "s= 'baabaa'"
   ]
  },
  {
   "cell_type": "markdown",
   "id": "ffd7622d",
   "metadata": {},
   "source": [
    "- 첫번째 방법"
   ]
  },
  {
   "cell_type": "code",
   "execution_count": 62,
   "id": "58fd9f6c",
   "metadata": {},
   "outputs": [],
   "source": [
    "lower=['aa','bb','cc', 'dd', 'ee','ff','gg','hh', 'ii', 'jj', 'kk', 'll', 'mm', 'nn', 'oo', 'pp', 'qq', 'rr', 'ss', 'tt', 'uu', 'vv', 'ww', 'xx', 'yy', 'zz']\n",
    "def check(string):\n",
    "    new_string=string\n",
    "    for i in range(0,len(string)):\n",
    "        try:\n",
    "            if string[i]==string[i+1]:\n",
    "                new_string=new_string.replace(string[i:i+2],'')\n",
    "            else:\n",
    "                continue\n",
    "        except:\n",
    "            pass\n",
    "    return new_string\n",
    "\n",
    "def solution(s):\n",
    "    while True:\n",
    "        s=check(s)\n",
    "        if any(i in s for i in lower):\n",
    "            continue\n",
    "        else:\n",
    "            break\n",
    "    if len(s)==0:\n",
    "        return 1\n",
    "    else:\n",
    "        return 0"
   ]
  },
  {
   "cell_type": "code",
   "execution_count": 67,
   "id": "7ed2887d",
   "metadata": {},
   "outputs": [
    {
     "data": {
      "text/plain": [
       "1"
      ]
     },
     "execution_count": 67,
     "metadata": {},
     "output_type": "execute_result"
    }
   ],
   "source": [
    "s='abbcdaadca'\n",
    "solution(s)"
   ]
  },
  {
   "cell_type": "markdown",
   "id": "d300f402",
   "metadata": {},
   "source": [
    "- 첫번째 방법이 효율성 때문에 통과를 못한다.. 다시짜자\n",
    "- 두번째 방법"
   ]
  },
  {
   "cell_type": "code",
   "execution_count": 72,
   "id": "8d538efd",
   "metadata": {},
   "outputs": [],
   "source": [
    "def solution(s):\n",
    "\n",
    "    string = []\n",
    "\n",
    "    for i in s:\n",
    "        if len(string) > 0 and string[-1] == i:\n",
    "            string.pop()\n",
    "        else:\n",
    "            string.append(i)\n",
    "\n",
    "    if string:\n",
    "        return 0\n",
    "    else:\n",
    "        return 1"
   ]
  },
  {
   "cell_type": "code",
   "execution_count": 73,
   "id": "c4f1b19a",
   "metadata": {},
   "outputs": [
    {
     "data": {
      "text/plain": [
       "1"
      ]
     },
     "execution_count": 73,
     "metadata": {},
     "output_type": "execute_result"
    }
   ],
   "source": [
    "solution(s)"
   ]
  },
  {
   "cell_type": "code",
   "execution_count": null,
   "id": "417dfdde",
   "metadata": {},
   "outputs": [],
   "source": []
  }
 ],
 "metadata": {
  "kernelspec": {
   "display_name": "Python 3",
   "language": "python",
   "name": "python3"
  },
  "language_info": {
   "codemirror_mode": {
    "name": "ipython",
    "version": 3
   },
   "file_extension": ".py",
   "mimetype": "text/x-python",
   "name": "python",
   "nbconvert_exporter": "python",
   "pygments_lexer": "ipython3",
   "version": "3.8.8"
  }
 },
 "nbformat": 4,
 "nbformat_minor": 5
}
