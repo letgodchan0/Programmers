{
 "cells": [
  {
   "cell_type": "markdown",
   "id": "37938187",
   "metadata": {},
   "source": [
    "- 날짜: 2021년 9월 15일\n",
    "- 링크: https://programmers.co.kr/learn/courses/30/lessons/83201\n",
    "- 프로그래머스 상호평가"
   ]
  },
  {
   "cell_type": "markdown",
   "id": "c0137d29",
   "metadata": {},
   "source": [
    "# 내 풀이"
   ]
  },
  {
   "cell_type": "code",
   "execution_count": 88,
   "id": "7ecdc291",
   "metadata": {},
   "outputs": [],
   "source": [
    "def solution(scores):\n",
    "    answer = ''\n",
    "    result = []\n",
    "    for i in range(0, len(scores)):\n",
    "        mean=0\n",
    "        s_scores=[]\n",
    "        for j in range(0, len(scores)):\n",
    "            s_scores.append(scores[j][i])\n",
    "\n",
    "        mx = max(s_scores)\n",
    "        mn = min(s_scores)\n",
    "    \n",
    "        if s_scores[i] == mx and s_scores.count(s_scores[i])==1: \n",
    "            s_scores[i] = 0\n",
    "        if s_scores[i] == mn and s_scores.count(s_scores[i])==1:\n",
    "            s_scores[i] = 0\n",
    "\n",
    "        if 0 in s_scores:\n",
    "            mean = sum(s_scores) / (len(s_scores)-1)\n",
    "            result.append(mean)\n",
    "        else:\n",
    "            mean = sum(s_scores) / len(s_scores)\n",
    "            result.append(mean)    \n",
    "\n",
    "    for i in result:\n",
    "        if i >= 90:\n",
    "            i='A'\n",
    "        elif i >=80 and i<90:\n",
    "            i='B'\n",
    "        elif i >=70 and i<80:\n",
    "            i='C'\n",
    "        elif i >=50 and i<70:\n",
    "            i='D'\n",
    "        else :\n",
    "            i='F'\n",
    "        answer += i\n",
    "    \n",
    "    return answer"
   ]
  },
  {
   "cell_type": "code",
   "execution_count": 89,
   "id": "d39112a4",
   "metadata": {},
   "outputs": [],
   "source": [
    "scores =[[100,90,98,88,65],[50,45,99,85,77],[47,88,95,80,67],[61,57,100,80,65],[24,90,94,75,65]]"
   ]
  },
  {
   "cell_type": "code",
   "execution_count": 90,
   "id": "9a72c723",
   "metadata": {},
   "outputs": [
    {
     "data": {
      "text/plain": [
       "'FBABD'"
      ]
     },
     "execution_count": 90,
     "metadata": {},
     "output_type": "execute_result"
    }
   ],
   "source": [
    "solution(scores)"
   ]
  },
  {
   "cell_type": "markdown",
   "id": "0b786a05",
   "metadata": {},
   "source": [
    "# 다른 사람풀이 1"
   ]
  },
  {
   "cell_type": "code",
   "execution_count": 86,
   "id": "4ec54d5d",
   "metadata": {},
   "outputs": [],
   "source": [
    "def solution(scores) :\n",
    "\n",
    "    avgs=[]\n",
    "\n",
    "    score=[ [i[j] for i in scores] for j in range(len(scores))]\n",
    "\n",
    "    for idx,i in enumerate(score) :\n",
    "\n",
    "        avg=sum(i) ; length=len(i)\n",
    "\n",
    "        if i[idx] == max(i) or i[idx] == min(i) :\n",
    "\n",
    "            if i.count(i[idx]) == 1 :\n",
    "\n",
    "                avg-=i[idx] ; length-=1\n",
    "\n",
    "        avgs.append(avg/length)\n",
    "\n",
    "    return \"\".join([ avg>=90 and \"A\" or avg>=80 and \"B\" or avg>=70 and \"C\" or avg>=50 and \"D\" or \"F\" for avg in avgs ])"
   ]
  },
  {
   "cell_type": "code",
   "execution_count": 70,
   "id": "da23af74",
   "metadata": {},
   "outputs": [],
   "source": [
    " score=[ [i[j] for i in scores] for j in range(len(scores))]"
   ]
  },
  {
   "cell_type": "code",
   "execution_count": 71,
   "id": "da19d56a",
   "metadata": {},
   "outputs": [
    {
     "data": {
      "text/plain": [
       "[[100, 50, 47, 61, 24],\n",
       " [90, 45, 88, 57, 90],\n",
       " [98, 99, 95, 100, 94],\n",
       " [88, 85, 80, 80, 75],\n",
       " [65, 77, 67, 65, 65]]"
      ]
     },
     "execution_count": 71,
     "metadata": {},
     "output_type": "execute_result"
    }
   ],
   "source": [
    "score"
   ]
  },
  {
   "cell_type": "code",
   "execution_count": 72,
   "id": "9bfdb5db",
   "metadata": {},
   "outputs": [
    {
     "data": {
      "text/plain": [
       "[100, 50, 47, 61, 24]"
      ]
     },
     "execution_count": 72,
     "metadata": {},
     "output_type": "execute_result"
    }
   ],
   "source": [
    "score[0]"
   ]
  },
  {
   "cell_type": "code",
   "execution_count": 74,
   "id": "d8fe8dad",
   "metadata": {},
   "outputs": [
    {
     "name": "stdout",
     "output_type": "stream",
     "text": [
      "0 [100, 90, 98, 88, 65]\n",
      "441 5\n",
      " \n",
      "1 [50, 45, 99, 85, 77]\n",
      "356 5\n",
      " \n",
      "2 [47, 88, 95, 80, 67]\n",
      "377 5\n",
      " \n",
      "3 [61, 57, 100, 80, 65]\n",
      "363 5\n",
      " \n",
      "4 [24, 90, 94, 75, 65]\n",
      "348 5\n",
      " \n"
     ]
    }
   ],
   "source": [
    "for idx, i in enumerate(scores):\n",
    "    print(idx, i)\n",
    "    print(sum(i), len(i))\n",
    "    print(' ')"
   ]
  },
  {
   "cell_type": "code",
   "execution_count": 75,
   "id": "9e8e4ff1",
   "metadata": {},
   "outputs": [
    {
     "name": "stdout",
     "output_type": "stream",
     "text": [
      "1\n",
      "2\n",
      "3\n",
      "4\n",
      "5\n"
     ]
    }
   ],
   "source": [
    "for number, upper, lower in zip(\"12345\", \"ABCDE\", \"abcde\"):\n",
    "    print(number)"
   ]
  },
  {
   "cell_type": "markdown",
   "id": "626a3c9a",
   "metadata": {},
   "source": [
    "# 다른사람풀이 2"
   ]
  },
  {
   "cell_type": "code",
   "execution_count": 87,
   "id": "767b267c",
   "metadata": {},
   "outputs": [],
   "source": [
    "def solution(scores):\n",
    "    answer = ''\n",
    "\n",
    "    for i, score in enumerate(zip(*scores)):\n",
    "        avg = (sum(score) - score[i]) / (len(score) - 1) if score[i] in (min(score), max(score)) and score.count(score[i]) == 1 else sum(score) / len(score)\n",
    "        answer += \"%s\" % (\n",
    "            \"A\" if 90 <= avg else\n",
    "            \"B\" if 80 <= avg else\n",
    "            \"C\" if 70 <= avg else\n",
    "            \"D\" if 50 <= avg else\n",
    "            \"F\"\n",
    "        )\n",
    "\n",
    "    return answer"
   ]
  },
  {
   "cell_type": "code",
   "execution_count": 85,
   "id": "005764e1",
   "metadata": {},
   "outputs": [
    {
     "data": {
      "text/plain": [
       "[[100, 50, 47, 61, 24],\n",
       " [90, 45, 88, 57, 90],\n",
       " [98, 99, 95, 100, 94],\n",
       " [88, 85, 80, 80, 75],\n",
       " [65, 77, 67, 65, 65]]"
      ]
     },
     "execution_count": 85,
     "metadata": {},
     "output_type": "execute_result"
    }
   ],
   "source": [
    "list(map(list, zip(*scores)))"
   ]
  },
  {
   "cell_type": "code",
   "execution_count": 81,
   "id": "9a0123a2",
   "metadata": {},
   "outputs": [
    {
     "name": "stdout",
     "output_type": "stream",
     "text": [
      "0 [100, 50, 47, 61, 24]\n",
      "1 [90, 45, 88, 57, 90]\n",
      "2 [98, 99, 95, 100, 94]\n",
      "3 [88, 85, 80, 80, 75]\n",
      "4 [65, 77, 67, 65, 65]\n"
     ]
    }
   ],
   "source": [
    "for idx, score in enumerate(list(map(list, zip(*scores)))):\n",
    "    print(idx, score)"
   ]
  }
 ],
 "metadata": {
  "kernelspec": {
   "display_name": "Python 3",
   "language": "python",
   "name": "python3"
  },
  "language_info": {
   "codemirror_mode": {
    "name": "ipython",
    "version": 3
   },
   "file_extension": ".py",
   "mimetype": "text/x-python",
   "name": "python",
   "nbconvert_exporter": "python",
   "pygments_lexer": "ipython3",
   "version": "3.8.8"
  },
  "toc": {
   "base_numbering": 1,
   "nav_menu": {},
   "number_sections": true,
   "sideBar": true,
   "skip_h1_title": false,
   "title_cell": "Table of Contents",
   "title_sidebar": "Contents",
   "toc_cell": false,
   "toc_position": {},
   "toc_section_display": true,
   "toc_window_display": false
  }
 },
 "nbformat": 4,
 "nbformat_minor": 5
}
