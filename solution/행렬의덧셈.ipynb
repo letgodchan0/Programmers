{
 "cells": [
  {
   "cell_type": "markdown",
   "id": "a003f426",
   "metadata": {},
   "source": [
    "- 2021년 11월 12일\n",
    "- 프로그래머스 행렬의 덧셈\n",
    "- https://programmers.co.kr/learn/courses/30/lessons/12950"
   ]
  },
  {
   "cell_type": "code",
   "execution_count": 1,
   "id": "d95d70b3",
   "metadata": {},
   "outputs": [],
   "source": [
    "arr1=[[1,2],[2,3]]\n",
    "arr2=[[3,4],[5,6]]"
   ]
  },
  {
   "cell_type": "code",
   "execution_count": 2,
   "id": "1fbbc430",
   "metadata": {},
   "outputs": [],
   "source": [
    "def solution(arr1, arr2):\n",
    "    result=[]\n",
    "    for i in range(len(arr1)):\n",
    "        answer=[]\n",
    "        for j in range(len(arr1[i])):\n",
    "            answer.append(arr1[i][j]+arr2[i][j])\n",
    "        result.append(answer)\n",
    "    return result"
   ]
  },
  {
   "cell_type": "code",
   "execution_count": 3,
   "id": "ce338b52",
   "metadata": {},
   "outputs": [
    {
     "data": {
      "text/plain": [
       "[[4, 6], [7, 9]]"
      ]
     },
     "execution_count": 3,
     "metadata": {},
     "output_type": "execute_result"
    }
   ],
   "source": [
    "solution(arr1, arr2)"
   ]
  },
  {
   "cell_type": "code",
   "execution_count": null,
   "id": "5daa3ec7",
   "metadata": {},
   "outputs": [],
   "source": []
  }
 ],
 "metadata": {
  "kernelspec": {
   "display_name": "Python 3",
   "language": "python",
   "name": "python3"
  },
  "language_info": {
   "codemirror_mode": {
    "name": "ipython",
    "version": 3
   },
   "file_extension": ".py",
   "mimetype": "text/x-python",
   "name": "python",
   "nbconvert_exporter": "python",
   "pygments_lexer": "ipython3",
   "version": "3.8.8"
  }
 },
 "nbformat": 4,
 "nbformat_minor": 5
}
