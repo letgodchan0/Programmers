{
 "cells": [
  {
   "cell_type": "markdown",
   "id": "b19437fe",
   "metadata": {},
   "source": [
    "- 날짜: 2021년 9월 3일\n",
    "- 프로그래머스 숫자 문자열과 영단어\n",
    "- 링크: https://programmers.co.kr/learn/courses/30/lessons/81301?language=python3"
   ]
  },
  {
   "cell_type": "code",
   "execution_count": 14,
   "id": "2bc7e053",
   "metadata": {},
   "outputs": [],
   "source": [
    "def solution(s):\n",
    "    numbers = ['zero', 'one', 'two', 'three', 'four', 'five', 'six', 'seven', 'eight', 'nine']\n",
    "    for index, num in enumerate(numbers):\n",
    "        if num in s:\n",
    "            s=s.replace(num,str(index))\n",
    "    return int(s)"
   ]
  },
  {
   "cell_type": "code",
   "execution_count": 15,
   "id": "6495490d",
   "metadata": {},
   "outputs": [],
   "source": [
    "s=\"23four5six7\""
   ]
  },
  {
   "cell_type": "code",
   "execution_count": 16,
   "id": "180625bf",
   "metadata": {},
   "outputs": [
    {
     "data": {
      "text/plain": [
       "234567"
      ]
     },
     "execution_count": 16,
     "metadata": {},
     "output_type": "execute_result"
    }
   ],
   "source": [
    "solution(s)"
   ]
  }
 ],
 "metadata": {
  "kernelspec": {
   "display_name": "Python 3",
   "language": "python",
   "name": "python3"
  },
  "language_info": {
   "codemirror_mode": {
    "name": "ipython",
    "version": 3
   },
   "file_extension": ".py",
   "mimetype": "text/x-python",
   "name": "python",
   "nbconvert_exporter": "python",
   "pygments_lexer": "ipython3",
   "version": "3.8.8"
  },
  "toc": {
   "base_numbering": 1,
   "nav_menu": {},
   "number_sections": true,
   "sideBar": true,
   "skip_h1_title": false,
   "title_cell": "Table of Contents",
   "title_sidebar": "Contents",
   "toc_cell": false,
   "toc_position": {},
   "toc_section_display": true,
   "toc_window_display": false
  }
 },
 "nbformat": 4,
 "nbformat_minor": 5
}
