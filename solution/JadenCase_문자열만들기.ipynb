{
 "cells": [
  {
   "cell_type": "markdown",
   "id": "3fd005d6",
   "metadata": {},
   "source": [
    "- 2021년 12월 2일\n",
    "- 프로그래머스 JadenCase 문자열 만들기\n",
    "- https://programmers.co.kr/learn/courses/30/lessons/12951"
   ]
  },
  {
   "cell_type": "code",
   "execution_count": 1,
   "id": "ebb4bd07",
   "metadata": {},
   "outputs": [],
   "source": [
    "s=\"3people unFollowed me\""
   ]
  },
  {
   "cell_type": "code",
   "execution_count": 2,
   "id": "07947fd9",
   "metadata": {},
   "outputs": [],
   "source": [
    "s='a   bcd  hello'"
   ]
  },
  {
   "cell_type": "markdown",
   "id": "7e5c90d8",
   "metadata": {},
   "source": [
    "- 첫번째 시도"
   ]
  },
  {
   "cell_type": "code",
   "execution_count": 3,
   "id": "9de9637f",
   "metadata": {},
   "outputs": [],
   "source": [
    "def solution(s):\n",
    "    return ' '.join(list(map(lambda x:x[0].upper()+x[1:].lower(), s.split(' '))))"
   ]
  },
  {
   "cell_type": "markdown",
   "id": "e223e266",
   "metadata": {},
   "source": [
    "- 두번째 시도"
   ]
  },
  {
   "cell_type": "code",
   "execution_count": 4,
   "id": "ff91797c",
   "metadata": {},
   "outputs": [],
   "source": [
    "def solution(s):\n",
    "    return ' '.join(map(lambda x:x[0].upper()+x[1:].lower() if x else x, s.split(' ')))"
   ]
  },
  {
   "cell_type": "code",
   "execution_count": null,
   "id": "c35de702",
   "metadata": {},
   "outputs": [],
   "source": []
  }
 ],
 "metadata": {
  "kernelspec": {
   "display_name": "Python 3",
   "language": "python",
   "name": "python3"
  },
  "language_info": {
   "codemirror_mode": {
    "name": "ipython",
    "version": 3
   },
   "file_extension": ".py",
   "mimetype": "text/x-python",
   "name": "python",
   "nbconvert_exporter": "python",
   "pygments_lexer": "ipython3",
   "version": "3.8.8"
  }
 },
 "nbformat": 4,
 "nbformat_minor": 5
}
