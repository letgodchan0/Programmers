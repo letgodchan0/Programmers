{
 "cells": [
  {
   "cell_type": "markdown",
   "id": "ef527439",
   "metadata": {},
   "source": [
    "- 2022년 1월 23일\n",
    "- 프로그래머스 다음 큰 숫자\n",
    "- https://programmers.co.kr/learn/courses/30/lessons/12911"
   ]
  },
  {
   "cell_type": "code",
   "execution_count": 1,
   "id": "df090467",
   "metadata": {},
   "outputs": [],
   "source": [
    "n = 78"
   ]
  },
  {
   "cell_type": "code",
   "execution_count": 2,
   "id": "6ce5e34d",
   "metadata": {},
   "outputs": [],
   "source": [
    "def solution(n):\n",
    "    answer = n + 1\n",
    "    while True:\n",
    "        if bin(answer).count('1') == bin(n).count('1'):\n",
    "            break\n",
    "        answer += 1\n",
    "    return answer"
   ]
  },
  {
   "cell_type": "code",
   "execution_count": 3,
   "id": "16a533b2",
   "metadata": {},
   "outputs": [
    {
     "data": {
      "text/plain": [
       "83"
      ]
     },
     "execution_count": 3,
     "metadata": {},
     "output_type": "execute_result"
    }
   ],
   "source": [
    "solution(78)"
   ]
  },
  {
   "cell_type": "code",
   "execution_count": null,
   "id": "f0a61445",
   "metadata": {},
   "outputs": [],
   "source": []
  }
 ],
 "metadata": {
  "kernelspec": {
   "display_name": "Python 3",
   "language": "python",
   "name": "python3"
  },
  "language_info": {
   "codemirror_mode": {
    "name": "ipython",
    "version": 3
   },
   "file_extension": ".py",
   "mimetype": "text/x-python",
   "name": "python",
   "nbconvert_exporter": "python",
   "pygments_lexer": "ipython3",
   "version": "3.6.13"
  }
 },
 "nbformat": 4,
 "nbformat_minor": 5
}
