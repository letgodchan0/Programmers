{
 "cells": [
  {
   "cell_type": "markdown",
   "id": "bd63605a",
   "metadata": {},
   "source": [
    "- 2022년 1월 23일\n",
    "- 프로그래머스 다음 큰 숫자\n",
    "- https://programmers.co.kr/learn/courses/30/lessons/12911"
   ]
  },
  {
   "cell_type": "code",
   "execution_count": 1,
   "id": "37772bb8",
   "metadata": {},
   "outputs": [],
   "source": [
    "n = 78"
   ]
  },
  {
   "cell_type": "code",
   "execution_count": 14,
   "id": "b441ef52",
   "metadata": {},
   "outputs": [],
   "source": [
    "def solution(n):\n",
    "    answer = n + 1\n",
    "    while True:\n",
    "        if bin(answer).count('1') == bin(n).count('1'):\n",
    "            break\n",
    "        answer += 1\n",
    "    return answer"
   ]
  },
  {
   "cell_type": "code",
   "execution_count": 15,
   "id": "a512ac1c",
   "metadata": {},
   "outputs": [
    {
     "data": {
      "text/plain": [
       "83"
      ]
     },
     "execution_count": 15,
     "metadata": {},
     "output_type": "execute_result"
    }
   ],
   "source": [
    "solution(78)"
   ]
  },
  {
   "cell_type": "code",
   "execution_count": 10,
   "id": "8e2c6f08",
   "metadata": {},
   "outputs": [
    {
     "data": {
      "text/plain": [
       "4"
      ]
     },
     "execution_count": 10,
     "metadata": {},
     "output_type": "execute_result"
    }
   ],
   "source": [
    "bin(15).count('1')"
   ]
  },
  {
   "cell_type": "code",
   "execution_count": 12,
   "id": "4a891c16",
   "metadata": {},
   "outputs": [
    {
     "data": {
      "text/plain": [
       "'0b1001110'"
      ]
     },
     "execution_count": 12,
     "metadata": {},
     "output_type": "execute_result"
    }
   ],
   "source": [
    "bin(78)"
   ]
  },
  {
   "cell_type": "code",
   "execution_count": 13,
   "id": "bf63b06f",
   "metadata": {},
   "outputs": [
    {
     "data": {
      "text/plain": [
       "'0b1001111'"
      ]
     },
     "execution_count": 13,
     "metadata": {},
     "output_type": "execute_result"
    }
   ],
   "source": [
    "bin(79)"
   ]
  },
  {
   "cell_type": "code",
   "execution_count": null,
   "id": "60118c85",
   "metadata": {},
   "outputs": [],
   "source": []
  }
 ],
 "metadata": {
  "kernelspec": {
   "display_name": "Python 3",
   "language": "python",
   "name": "python3"
  },
  "language_info": {
   "codemirror_mode": {
    "name": "ipython",
    "version": 3
   },
   "file_extension": ".py",
   "mimetype": "text/x-python",
   "name": "python",
   "nbconvert_exporter": "python",
   "pygments_lexer": "ipython3",
   "version": "3.6.13"
  }
 },
 "nbformat": 4,
 "nbformat_minor": 5
}
