{
 "cells": [
  {
   "cell_type": "markdown",
   "id": "f7ef94d8",
   "metadata": {},
   "source": [
    "- 2021년 10월 19일\n",
    "- 프로그래머스 소수 만들기\n",
    "- https://programmers.co.kr/learn/courses/30/lessons/12977"
   ]
  },
  {
   "cell_type": "code",
   "execution_count": 46,
   "id": "9121a34a",
   "metadata": {},
   "outputs": [],
   "source": [
    "nums=[1,2,7,6,4]"
   ]
  },
  {
   "cell_type": "code",
   "execution_count": 47,
   "id": "d76b804d",
   "metadata": {},
   "outputs": [],
   "source": [
    "def solution(nums):\n",
    "    from itertools import combinations\n",
    "    cnt=0\n",
    "    for num in list(combinations(nums,3)):\n",
    "        a=0\n",
    "        for i in range(2,sum(num)):\n",
    "            if sum(num) % i == 0:\n",
    "                a=1\n",
    "        if a==0:\n",
    "            cnt+=1\n",
    "    return cnt"
   ]
  },
  {
   "cell_type": "code",
   "execution_count": 49,
   "id": "ad54e60c",
   "metadata": {},
   "outputs": [
    {
     "data": {
      "text/plain": [
       "4"
      ]
     },
     "execution_count": 49,
     "metadata": {},
     "output_type": "execute_result"
    }
   ],
   "source": [
    "solution(nums)"
   ]
  },
  {
   "cell_type": "code",
   "execution_count": null,
   "id": "bcae6900",
   "metadata": {},
   "outputs": [],
   "source": []
  }
 ],
 "metadata": {
  "kernelspec": {
   "display_name": "Python 3",
   "language": "python",
   "name": "python3"
  },
  "language_info": {
   "codemirror_mode": {
    "name": "ipython",
    "version": 3
   },
   "file_extension": ".py",
   "mimetype": "text/x-python",
   "name": "python",
   "nbconvert_exporter": "python",
   "pygments_lexer": "ipython3",
   "version": "3.8.8"
  }
 },
 "nbformat": 4,
 "nbformat_minor": 5
}
