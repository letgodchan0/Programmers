{
 "cells": [
  {
   "cell_type": "markdown",
   "id": "88aa9208",
   "metadata": {},
   "source": [
    "- 2022년 1월 18일\n",
    "- 프로그래머스 삼각 달팽이\n",
    "- https://programmers.co.kr/learn/courses/30/lessons/68645"
   ]
  },
  {
   "cell_type": "code",
   "execution_count": 1,
   "id": "a1a07c39",
   "metadata": {},
   "outputs": [],
   "source": [
    "def solution(n):\n",
    "    check = [[0] * n for _ in range(1, n+1)]\n",
    "    \n",
    "    x, y = -1, 0\n",
    "    num = 1\n",
    "    \n",
    "    for i in range(n):\n",
    "        for _ in range(i, n):\n",
    "            if i % 3 == 0:\n",
    "                x += 1\n",
    "            elif i % 3 == 1:\n",
    "                y += 1\n",
    "            else:\n",
    "                x -= 1\n",
    "                y -= 1\n",
    "\n",
    "            check[x][y] = num\n",
    "            num += 1\n",
    "        \n",
    "    return [j for i in check for j in i if j != 0]"
   ]
  },
  {
   "cell_type": "code",
   "execution_count": 2,
   "id": "e7bfd0d8",
   "metadata": {},
   "outputs": [
    {
     "data": {
      "text/plain": [
       "[1, 2, 15, 3, 16, 14, 4, 17, 21, 13, 5, 18, 19, 20, 12, 6, 7, 8, 9, 10, 11]"
      ]
     },
     "execution_count": 2,
     "metadata": {},
     "output_type": "execute_result"
    }
   ],
   "source": [
    "solution(6)    "
   ]
  },
  {
   "cell_type": "markdown",
   "id": "65eca461",
   "metadata": {},
   "source": [
    "- 보완"
   ]
  },
  {
   "cell_type": "code",
   "execution_count": 3,
   "id": "652f3f4f",
   "metadata": {},
   "outputs": [],
   "source": [
    "def solution(n):\n",
    "    check = [[0] * _ for _ in range(1, n+1)]\n",
    "    \n",
    "    x, y = -1, 0\n",
    "    num = 1\n",
    "    \n",
    "    for i in range(n):\n",
    "        for _ in range(i, n):\n",
    "            if i % 3 == 0:\n",
    "                x += 1\n",
    "            elif i % 3 == 1:\n",
    "                y += 1\n",
    "            else:\n",
    "                x -= 1\n",
    "                y -= 1\n",
    "\n",
    "            check[x][y] = num\n",
    "            num += 1\n",
    "        \n",
    "    return [j for i in check for j in i]"
   ]
  },
  {
   "cell_type": "code",
   "execution_count": null,
   "id": "41ace6b6",
   "metadata": {},
   "outputs": [],
   "source": []
  }
 ],
 "metadata": {
  "kernelspec": {
   "display_name": "Python 3",
   "language": "python",
   "name": "python3"
  },
  "language_info": {
   "codemirror_mode": {
    "name": "ipython",
    "version": 3
   },
   "file_extension": ".py",
   "mimetype": "text/x-python",
   "name": "python",
   "nbconvert_exporter": "python",
   "pygments_lexer": "ipython3",
   "version": "3.6.13"
  }
 },
 "nbformat": 4,
 "nbformat_minor": 5
}
