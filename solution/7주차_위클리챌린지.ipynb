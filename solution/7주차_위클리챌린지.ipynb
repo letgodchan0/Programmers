{
 "cells": [
  {
   "cell_type": "markdown",
   "id": "ba3b93ab",
   "metadata": {},
   "source": [
    "- 날짜: 2021년 9월 24일\n",
    "- 프로그래머스 위클리 챌린지 7주차\n",
    "- https://programmers.co.kr/learn/courses/30/lessons/86048"
   ]
  },
  {
   "cell_type": "code",
   "execution_count": 142,
   "id": "015a57a7",
   "metadata": {},
   "outputs": [],
   "source": [
    "def solution(enter, leave):\n",
    "    answer = [0]*len(enter)\n",
    "    answer.append(0)\n",
    "    currentroom=[]\n",
    "    \n",
    "    while leave:\n",
    "        if leave[0] in currentroom:\n",
    "            out=leave.pop(0)\n",
    "            currentroom.remove(out)\n",
    "            answer[out]+=len(currentroom)\n",
    "            \n",
    "            for i in currentroom:\n",
    "                answer[i]+=1\n",
    "        else:\n",
    "            currentroom.append(enter.pop(0))\n",
    "    return answer[1:]"
   ]
  },
  {
   "cell_type": "code",
   "execution_count": 143,
   "id": "23d2a76d",
   "metadata": {},
   "outputs": [
    {
     "data": {
      "text/plain": [
       "[2, 2, 0, 2]"
      ]
     },
     "execution_count": 143,
     "metadata": {},
     "output_type": "execute_result"
    }
   ],
   "source": [
    "enter=[1,4,2,    3]\n",
    "leave=[    2,1,4,3]\n",
    "solution(enter,leave)"
   ]
  },
  {
   "cell_type": "code",
   "execution_count": null,
   "id": "9884b627",
   "metadata": {},
   "outputs": [],
   "source": []
  }
 ],
 "metadata": {
  "kernelspec": {
   "display_name": "Python 3",
   "language": "python",
   "name": "python3"
  },
  "language_info": {
   "codemirror_mode": {
    "name": "ipython",
    "version": 3
   },
   "file_extension": ".py",
   "mimetype": "text/x-python",
   "name": "python",
   "nbconvert_exporter": "python",
   "pygments_lexer": "ipython3",
   "version": "3.8.8"
  },
  "toc": {
   "base_numbering": 1,
   "nav_menu": {},
   "number_sections": true,
   "sideBar": true,
   "skip_h1_title": false,
   "title_cell": "Table of Contents",
   "title_sidebar": "Contents",
   "toc_cell": false,
   "toc_position": {},
   "toc_section_display": true,
   "toc_window_display": false
  }
 },
 "nbformat": 4,
 "nbformat_minor": 5
}
