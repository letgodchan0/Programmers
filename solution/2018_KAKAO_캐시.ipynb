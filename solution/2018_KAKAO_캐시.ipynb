{
 "cells": [
  {
   "cell_type": "markdown",
   "id": "0db0ee08",
   "metadata": {},
   "source": [
    "- 2022년 1월 21\n",
    "- 프로그래머스 캐시\n",
    "- https://programmers.co.kr/learn/courses/30/lessons/17680"
   ]
  },
  {
   "cell_type": "code",
   "execution_count": 1,
   "id": "488bf559",
   "metadata": {},
   "outputs": [],
   "source": [
    "cacheSize = 3\n",
    "cities = [\"Jeju\", \"Pangyo\", \"Seoul\", \"NewYork\", \"LA\", \"Jeju\", \"Pangyo\", \"Seoul\", \"NewYork\", \"LA\"]"
   ]
  },
  {
   "cell_type": "code",
   "execution_count": 2,
   "id": "fab09dc7",
   "metadata": {},
   "outputs": [],
   "source": [
    "def solution(cacheSize, cities):\n",
    "    cache = []\n",
    "    cnt = 0\n",
    "    cities = [i.upper() for i in cities]\n",
    "    if cacheSize == 0:\n",
    "        return 5 * len(cities)\n",
    "    for city in cities:\n",
    "        # Cache  Miss\n",
    "        if city not in cache:\n",
    "            if len(cache) < cacheSize:\n",
    "                cache.append(city)\n",
    "            else:\n",
    "                cache.pop(0)\n",
    "                cache.append(city)\n",
    "            cnt += 5\n",
    "        # Cache Hit\n",
    "        else:\n",
    "            cache.pop(cache.index(city))\n",
    "            cache.append(city)\n",
    "            cnt += 1\n",
    "    return cnt"
   ]
  },
  {
   "cell_type": "code",
   "execution_count": 3,
   "id": "1aacc43e",
   "metadata": {},
   "outputs": [
    {
     "data": {
      "text/plain": [
       "50"
      ]
     },
     "execution_count": 3,
     "metadata": {},
     "output_type": "execute_result"
    }
   ],
   "source": [
    "solution(cacheSize, cities)"
   ]
  },
  {
   "cell_type": "markdown",
   "id": "5cb33241",
   "metadata": {},
   "source": [
    "- 다른풀이"
   ]
  },
  {
   "cell_type": "code",
   "execution_count": 4,
   "id": "ff873c24",
   "metadata": {},
   "outputs": [],
   "source": [
    "def solution(cacheSize, cities):\n",
    "    import collections\n",
    "    cache = collections.deque(maxlen=cacheSize)\n",
    "    time = 0\n",
    "    for i in cities:\n",
    "        s = i.lower()\n",
    "        if s in cache:\n",
    "            cache.remove(s)\n",
    "            cache.append(s)\n",
    "            time += 1\n",
    "        else:\n",
    "            cache.append(s)\n",
    "            time += 5\n",
    "    return time"
   ]
  },
  {
   "cell_type": "code",
   "execution_count": 5,
   "id": "58a22f7e",
   "metadata": {},
   "outputs": [
    {
     "data": {
      "text/plain": [
       "50"
      ]
     },
     "execution_count": 5,
     "metadata": {},
     "output_type": "execute_result"
    }
   ],
   "source": [
    "solution(cacheSize, cities)"
   ]
  },
  {
   "cell_type": "code",
   "execution_count": null,
   "id": "b8b543c3",
   "metadata": {},
   "outputs": [],
   "source": []
  }
 ],
 "metadata": {
  "kernelspec": {
   "display_name": "Python 3",
   "language": "python",
   "name": "python3"
  },
  "language_info": {
   "codemirror_mode": {
    "name": "ipython",
    "version": 3
   },
   "file_extension": ".py",
   "mimetype": "text/x-python",
   "name": "python",
   "nbconvert_exporter": "python",
   "pygments_lexer": "ipython3",
   "version": "3.6.13"
  }
 },
 "nbformat": 4,
 "nbformat_minor": 5
}
