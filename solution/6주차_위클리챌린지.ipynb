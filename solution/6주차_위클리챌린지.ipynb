{
 "cells": [
  {
   "cell_type": "markdown",
   "id": "16208474",
   "metadata": {},
   "source": [
    "- 날짜: 2021년 9월 27일\n",
    "- 위클리 챌린지 6주차 복서 정렬하기\n",
    "- https://programmers.co.kr/learn/courses/30/lessons/85002"
   ]
  },
  {
   "cell_type": "code",
   "execution_count": 105,
   "id": "d2f564e0",
   "metadata": {},
   "outputs": [],
   "source": [
    "weights=[50,82,75,120]\n",
    "head2head=[\"NLWL\",\"WNLL\",\"LWNW\",\"WWLN\"]"
   ]
  },
  {
   "cell_type": "code",
   "execution_count": 106,
   "id": "b546f52b",
   "metadata": {},
   "outputs": [],
   "source": [
    "def solution(weights, head2head):\n",
    "    victory=[]\n",
    "    # 승률 담기\n",
    "    for i in head2head:            \n",
    "        cnt=0\n",
    "        N=0\n",
    "        for j in i:\n",
    "            if j == 'W':\n",
    "                cnt+=1\n",
    "            if j == 'N':\n",
    "                N+=1\n",
    "        # victory.append(round((cnt/(len(i)-1))*100,2))\n",
    "        if N==len(i):\n",
    "            victory.append(0)\n",
    "        else:\n",
    "            victory.append(cnt/(len(i)-N))\n",
    "    \n",
    "    win=[]\n",
    "    # 자기보다 무거운 복서 이긴 횟수 담기\n",
    "    for num, i in enumerate(head2head):\n",
    "        cnt=0\n",
    "        for num2,j in enumerate(i):\n",
    "            if j=='W' and weights[num]<weights[num2]:\n",
    "                cnt+=1\n",
    "        win.append(cnt)\n",
    "    result=list(zip(range(len(weights)),weights,head2head,victory,win))\n",
    "    result = sorted(result, key = lambda x : (-x[3], -x[4],-x[1],x[0]))\n",
    "    \n",
    "    answer = []\n",
    "    for boxer in result:\n",
    "        answer.append(boxer[0]+1)\n",
    "    return answer"
   ]
  },
  {
   "cell_type": "code",
   "execution_count": 107,
   "id": "0a5a0b4e",
   "metadata": {},
   "outputs": [
    {
     "data": {
      "text/plain": [
       "[3, 4, 1, 2]"
      ]
     },
     "execution_count": 107,
     "metadata": {},
     "output_type": "execute_result"
    }
   ],
   "source": [
    "solution(weights,head2head)"
   ]
  }
 ],
 "metadata": {
  "kernelspec": {
   "display_name": "Python 3",
   "language": "python",
   "name": "python3"
  },
  "language_info": {
   "codemirror_mode": {
    "name": "ipython",
    "version": 3
   },
   "file_extension": ".py",
   "mimetype": "text/x-python",
   "name": "python",
   "nbconvert_exporter": "python",
   "pygments_lexer": "ipython3",
   "version": "3.8.8"
  },
  "toc": {
   "base_numbering": 1,
   "nav_menu": {},
   "number_sections": true,
   "sideBar": true,
   "skip_h1_title": false,
   "title_cell": "Table of Contents",
   "title_sidebar": "Contents",
   "toc_cell": false,
   "toc_position": {},
   "toc_section_display": true,
   "toc_window_display": false
  }
 },
 "nbformat": 4,
 "nbformat_minor": 5
}
