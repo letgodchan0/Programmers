{
 "cells": [
  {
   "cell_type": "markdown",
   "id": "3632a59b",
   "metadata": {},
   "source": [
    "- 2021년 11월 20일\n",
    "- 프로그래머스 약수의 개수\n",
    "- https://programmers.co.kr/learn/courses/30/lessons/77884"
   ]
  },
  {
   "cell_type": "code",
   "execution_count": 1,
   "id": "dea96573",
   "metadata": {},
   "outputs": [],
   "source": [
    "left=13\n",
    "right=17"
   ]
  },
  {
   "cell_type": "code",
   "execution_count": 2,
   "id": "9414171a",
   "metadata": {},
   "outputs": [],
   "source": [
    "def solution(left, right):\n",
    "    result=[]\n",
    "    for i in range(left, right+1):\n",
    "        cnt=0\n",
    "        for j in range(1, i+1):\n",
    "            if i % j ==0:\n",
    "                cnt+=1\n",
    "        result.append(cnt)\n",
    "    answer=0\n",
    "    for i,j in enumerate(range(left, right+1)):\n",
    "        if result[i]%2==0:\n",
    "            answer+=j\n",
    "        else:\n",
    "            answer-=j\n",
    "    return answer"
   ]
  },
  {
   "cell_type": "code",
   "execution_count": 3,
   "id": "d9bc9b70",
   "metadata": {},
   "outputs": [
    {
     "data": {
      "text/plain": [
       "43"
      ]
     },
     "execution_count": 3,
     "metadata": {},
     "output_type": "execute_result"
    }
   ],
   "source": [
    "solution(left, right)"
   ]
  },
  {
   "cell_type": "markdown",
   "id": "b74163d8",
   "metadata": {},
   "source": [
    "- 다른 풀이\n",
    "- 약수의 갯수가 홀수개인 수는 제곱수임"
   ]
  },
  {
   "cell_type": "code",
   "execution_count": 4,
   "id": "bc8148bb",
   "metadata": {},
   "outputs": [],
   "source": [
    "def solution(left, right):\n",
    "    answer = 0\n",
    "    for i in range(left,right+1):\n",
    "        if int(i**0.5)==i**0.5:\n",
    "            answer -= i\n",
    "        else:\n",
    "            answer += i\n",
    "    return answer"
   ]
  },
  {
   "cell_type": "code",
   "execution_count": null,
   "id": "4f62d4fc",
   "metadata": {},
   "outputs": [],
   "source": []
  }
 ],
 "metadata": {
  "kernelspec": {
   "display_name": "Python 3",
   "language": "python",
   "name": "python3"
  },
  "language_info": {
   "codemirror_mode": {
    "name": "ipython",
    "version": 3
   },
   "file_extension": ".py",
   "mimetype": "text/x-python",
   "name": "python",
   "nbconvert_exporter": "python",
   "pygments_lexer": "ipython3",
   "version": "3.8.8"
  }
 },
 "nbformat": 4,
 "nbformat_minor": 5
}
