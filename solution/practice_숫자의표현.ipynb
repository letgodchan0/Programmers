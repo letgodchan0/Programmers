{
 "cells": [
  {
   "cell_type": "markdown",
   "id": "9c2e4634",
   "metadata": {},
   "source": [
    "- 2021년 12월 1일\n",
    "- 프로그래머스 숫자의 표현\n",
    "- https://programmers.co.kr/learn/courses/30/lessons/12924"
   ]
  },
  {
   "cell_type": "code",
   "execution_count": 1,
   "id": "fb0ea1a2",
   "metadata": {},
   "outputs": [],
   "source": [
    "n=15"
   ]
  },
  {
   "cell_type": "code",
   "execution_count": 2,
   "id": "2a8e1d58",
   "metadata": {},
   "outputs": [],
   "source": [
    "def solution(n):\n",
    "    cnt=0\n",
    "    for i in range(1,n+1):\n",
    "        answer=0\n",
    "        while True:\n",
    "            answer+=i\n",
    "            if answer >=n:\n",
    "                break\n",
    "            i+=1\n",
    "        if answer==n:\n",
    "            cnt+=1\n",
    "    return cnt"
   ]
  },
  {
   "cell_type": "code",
   "execution_count": 3,
   "id": "a14ed206",
   "metadata": {},
   "outputs": [
    {
     "data": {
      "text/plain": [
       "4"
      ]
     },
     "execution_count": 3,
     "metadata": {},
     "output_type": "execute_result"
    }
   ],
   "source": [
    "solution(n)"
   ]
  },
  {
   "cell_type": "markdown",
   "id": "58d20b81",
   "metadata": {},
   "source": [
    "- 다른풀이"
   ]
  },
  {
   "cell_type": "code",
   "execution_count": 4,
   "id": "e6130914",
   "metadata": {},
   "outputs": [
    {
     "name": "stderr",
     "output_type": "stream",
     "text": [
      "<>:2: SyntaxWarning: \"is\" with a literal. Did you mean \"==\"?\n",
      "<>:2: SyntaxWarning: \"is\" with a literal. Did you mean \"==\"?\n",
      "<ipython-input-4-309492cc76e9>:2: SyntaxWarning: \"is\" with a literal. Did you mean \"==\"?\n",
      "  return len([i  for i in range(1,num+1,2) if num % i is 0])\n"
     ]
    }
   ],
   "source": [
    "def expressions(num):\n",
    "    return len([i  for i in range(1,num+1,2) if num % i is 0])"
   ]
  },
  {
   "cell_type": "code",
   "execution_count": 6,
   "id": "4f43cfa3",
   "metadata": {},
   "outputs": [
    {
     "data": {
      "text/plain": [
       "4"
      ]
     },
     "execution_count": 6,
     "metadata": {},
     "output_type": "execute_result"
    }
   ],
   "source": [
    "expressions(15)"
   ]
  },
  {
   "cell_type": "code",
   "execution_count": null,
   "id": "f3f86013",
   "metadata": {},
   "outputs": [],
   "source": []
  }
 ],
 "metadata": {
  "kernelspec": {
   "display_name": "Python 3",
   "language": "python",
   "name": "python3"
  },
  "language_info": {
   "codemirror_mode": {
    "name": "ipython",
    "version": 3
   },
   "file_extension": ".py",
   "mimetype": "text/x-python",
   "name": "python",
   "nbconvert_exporter": "python",
   "pygments_lexer": "ipython3",
   "version": "3.8.8"
  }
 },
 "nbformat": 4,
 "nbformat_minor": 5
}
