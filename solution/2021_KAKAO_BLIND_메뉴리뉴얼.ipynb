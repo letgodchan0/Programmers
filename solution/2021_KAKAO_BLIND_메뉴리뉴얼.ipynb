{
 "cells": [
  {
   "cell_type": "markdown",
   "id": "66e520e9",
   "metadata": {},
   "source": [
    "- 2021년 12월 17일\n",
    "- 프로그래머스 메뉴 리뉴얼\n",
    "- https://programmers.co.kr/learn/courses/30/lessons/72411"
   ]
  },
  {
   "cell_type": "markdown",
   "id": "1da29d4e",
   "metadata": {},
   "source": [
    "- 처음 풀이(시간 초과..였지만, j를 정렬하고 조합 만들어 주니 해결)"
   ]
  },
  {
   "cell_type": "code",
   "execution_count": 1,
   "id": "5c03c856",
   "metadata": {},
   "outputs": [],
   "source": [
    "from itertools import combinations\n",
    "def solution(orders, course):\n",
    "    result=[]\n",
    "    for i in course:\n",
    "        if i > len(max(orders, key = len)):\n",
    "            break\n",
    "        # i 수 만큼 음식 조합을 check에 담기\n",
    "        check=[]\n",
    "        for j in orders:\n",
    "            j=sorted(j)\n",
    "            check.extend(list(map(lambda x:''.join(x),(combinations(j,i)))))\n",
    "\n",
    "        # 각 조합별로 선택된 수를 tmp 딕셔너리에 담기\n",
    "        tmp = {k:0 for k in list(set(check))}\n",
    "        for k in tmp.keys():\n",
    "            tmp[k]=check.count(k)\n",
    "        # 가장 많이 선택된 조합 찾기\n",
    "        for k in tmp:\n",
    "            if tmp[k]==max(tmp.values()) and tmp[k]>=2:\n",
    "                result.append(k)\n",
    "        result=list(map(list, result))\n",
    "        answer=list(map(''.join, [sorted(i) for i in result]))\n",
    "    return sorted(list(set(answer)))"
   ]
  },
  {
   "cell_type": "code",
   "execution_count": 2,
   "id": "0ad0a424",
   "metadata": {},
   "outputs": [
    {
     "data": {
      "text/plain": [
       "['WX', 'XY']"
      ]
     },
     "execution_count": 2,
     "metadata": {},
     "output_type": "execute_result"
    }
   ],
   "source": [
    "orders=[\"XYZ\", \"XWY\", \"WXA\"]\n",
    "course=\t[2,3,4]\n",
    "solution(orders,course)"
   ]
  },
  {
   "cell_type": "markdown",
   "id": "3603dd8e",
   "metadata": {},
   "source": [
    "- 두번째 풀이 (counter을 이용, 효율성이 훨씬 좋음)"
   ]
  },
  {
   "cell_type": "code",
   "execution_count": 3,
   "id": "fec4e62d",
   "metadata": {},
   "outputs": [],
   "source": [
    "from itertools import combinations\n",
    "from collections import Counter\n",
    "def solution(orders, course):\n",
    "    result=[]\n",
    "    for i in course:\n",
    "        if i > len(max(orders, key = len)):\n",
    "            break\n",
    "        # i 수 만큼 음식 조합을 check에 담기\n",
    "        check=[]\n",
    "        for j in orders:\n",
    "            j=sorted(j)\n",
    "            check.extend(list(map(lambda x:''.join(x),(combinations(j,i)))))\n",
    "        # Counter을 이용해서 조합별로 갯수 세기\n",
    "        tmp=Counter(check)\n",
    "        max_num=tmp.most_common(1)[0][1]\n",
    "        # 가장 많이 선택된 조합 찾기\n",
    "        print(tmp)\n",
    "        for k in tmp:\n",
    "            if tmp[k]==max_num and tmp[k]>1:\n",
    "                result.append(k)\n",
    "\n",
    "#     answer=[sorted(i) for i in list(map(list, result))]\n",
    "    answer=list(map(''.join, [sorted(i) for i in list(map(list, result))]))\n",
    "    answer=list(set(answer))\n",
    "    sorted(answer)\n",
    "    return sorted(list(set(answer)))"
   ]
  },
  {
   "cell_type": "code",
   "execution_count": 4,
   "id": "9a2498af",
   "metadata": {},
   "outputs": [],
   "source": [
    "orders=[\"XYZ\", \"XWY\", \"WXA\"]\n",
    "course=\t[2,3,4]"
   ]
  },
  {
   "cell_type": "code",
   "execution_count": 5,
   "id": "147b8ee7",
   "metadata": {},
   "outputs": [
    {
     "name": "stdout",
     "output_type": "stream",
     "text": [
      "Counter({'XY': 2, 'WX': 2, 'XZ': 1, 'YZ': 1, 'WY': 1, 'AW': 1, 'AX': 1})\n",
      "Counter({'XYZ': 1, 'WXY': 1, 'AWX': 1})\n"
     ]
    },
    {
     "data": {
      "text/plain": [
       "['WX', 'XY']"
      ]
     },
     "execution_count": 5,
     "metadata": {},
     "output_type": "execute_result"
    }
   ],
   "source": [
    "solution(orders, course)"
   ]
  },
  {
   "cell_type": "code",
   "execution_count": null,
   "id": "2431910c",
   "metadata": {},
   "outputs": [],
   "source": []
  }
 ],
 "metadata": {
  "kernelspec": {
   "display_name": "Python 3",
   "language": "python",
   "name": "python3"
  },
  "language_info": {
   "codemirror_mode": {
    "name": "ipython",
    "version": 3
   },
   "file_extension": ".py",
   "mimetype": "text/x-python",
   "name": "python",
   "nbconvert_exporter": "python",
   "pygments_lexer": "ipython3",
   "version": "3.8.8"
  }
 },
 "nbformat": 4,
 "nbformat_minor": 5
}
