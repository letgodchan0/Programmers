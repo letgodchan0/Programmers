{
 "cells": [
  {
   "cell_type": "markdown",
   "id": "7e1e6270",
   "metadata": {},
   "source": [
    "- 2022년 1월 17일\n",
    "- 프로그래머스 예상 대진표\n",
    "- https://programmers.co.kr/learn/courses/30/lessons/12985"
   ]
  },
  {
   "cell_type": "markdown",
   "id": "228adeee",
   "metadata": {},
   "source": [
    "- 효율성 통과 못함"
   ]
  },
  {
   "cell_type": "code",
   "execution_count": 1,
   "id": "875a6305",
   "metadata": {},
   "outputs": [],
   "source": [
    "n = 8\n",
    "a = 4\n",
    "b = 7"
   ]
  },
  {
   "cell_type": "code",
   "execution_count": 2,
   "id": "d305d1ed",
   "metadata": {},
   "outputs": [],
   "source": [
    "def solution(n,a,b):\n",
    "    cnt = 1\n",
    "    while b-a != 1:\n",
    "        a, b = (a+1) // 2, (b+1) // 2          \n",
    "        cnt += 1\n",
    "        n = n // 2\n",
    "            \n",
    "        cnt += 1   \n",
    "    return cnt"
   ]
  },
  {
   "cell_type": "code",
   "execution_count": 3,
   "id": "1cb4ad78",
   "metadata": {},
   "outputs": [
    {
     "data": {
      "text/plain": [
       "3"
      ]
     },
     "execution_count": 3,
     "metadata": {},
     "output_type": "execute_result"
    }
   ],
   "source": [
    "solution(n,a,b)"
   ]
  },
  {
   "cell_type": "markdown",
   "id": "8ee660cd",
   "metadata": {},
   "source": [
    "- 보완"
   ]
  },
  {
   "cell_type": "code",
   "execution_count": 4,
   "id": "a62de02e",
   "metadata": {},
   "outputs": [],
   "source": [
    "def solution(n,a,b):\n",
    "    \n",
    "    cnt = 1\n",
    "    if max(a,b) % 2 == 0 and abs(b-a) == 1:\n",
    "        return cnt\n",
    "    \n",
    "    while n != 1:\n",
    "        \n",
    "        a, b = (a+1) // 2, (b+1) // 2          \n",
    "        cnt += 1\n",
    "        n = n // 2\n",
    "            \n",
    "        if max(a,b) % 2 == 0 and abs(b-a) == 1:\n",
    "            break\n",
    "                \n",
    "    return cnt"
   ]
  },
  {
   "cell_type": "code",
   "execution_count": 5,
   "id": "8277db97",
   "metadata": {},
   "outputs": [
    {
     "data": {
      "text/plain": [
       "3"
      ]
     },
     "execution_count": 5,
     "metadata": {},
     "output_type": "execute_result"
    }
   ],
   "source": [
    "solution(n,a,b)"
   ]
  },
  {
   "cell_type": "code",
   "execution_count": null,
   "id": "01b36525",
   "metadata": {},
   "outputs": [],
   "source": []
  }
 ],
 "metadata": {
  "kernelspec": {
   "display_name": "Python 3",
   "language": "python",
   "name": "python3"
  },
  "language_info": {
   "codemirror_mode": {
    "name": "ipython",
    "version": 3
   },
   "file_extension": ".py",
   "mimetype": "text/x-python",
   "name": "python",
   "nbconvert_exporter": "python",
   "pygments_lexer": "ipython3",
   "version": "3.6.13"
  }
 },
 "nbformat": 4,
 "nbformat_minor": 5
}
