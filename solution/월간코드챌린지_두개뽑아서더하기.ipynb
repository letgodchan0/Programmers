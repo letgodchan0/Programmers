{
 "cells": [
  {
   "cell_type": "markdown",
   "id": "2fabfdb2",
   "metadata": {},
   "source": [
    "- 2021년 10월 24일\n",
    "- 프로그래머스 두 개 뽑아서 더하기\n",
    "- https://programmers.co.kr/learn/courses/30/lessons/68644"
   ]
  },
  {
   "cell_type": "code",
   "execution_count": 12,
   "id": "b317b016",
   "metadata": {},
   "outputs": [],
   "source": [
    "numbers=[2,1,3,4,1]"
   ]
  },
  {
   "cell_type": "code",
   "execution_count": 15,
   "id": "d163793a",
   "metadata": {},
   "outputs": [],
   "source": [
    "def solution(numbers):\n",
    "    from itertools import combinations\n",
    "    return sorted(set([sum(x) for x in list(combinations(numbers,2))]))"
   ]
  },
  {
   "cell_type": "code",
   "execution_count": 19,
   "id": "5694cfe0",
   "metadata": {},
   "outputs": [
    {
     "data": {
      "text/plain": [
       "[2, 3, 4, 5, 6, 7]"
      ]
     },
     "execution_count": 19,
     "metadata": {},
     "output_type": "execute_result"
    }
   ],
   "source": [
    "solution(numbers)"
   ]
  },
  {
   "cell_type": "code",
   "execution_count": null,
   "id": "50195bcb",
   "metadata": {},
   "outputs": [],
   "source": []
  }
 ],
 "metadata": {
  "kernelspec": {
   "display_name": "Python 3",
   "language": "python",
   "name": "python3"
  },
  "language_info": {
   "codemirror_mode": {
    "name": "ipython",
    "version": 3
   },
   "file_extension": ".py",
   "mimetype": "text/x-python",
   "name": "python",
   "nbconvert_exporter": "python",
   "pygments_lexer": "ipython3",
   "version": "3.8.8"
  }
 },
 "nbformat": 4,
 "nbformat_minor": 5
}
