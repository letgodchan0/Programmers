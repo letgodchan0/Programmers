{
 "cells": [
  {
   "cell_type": "markdown",
   "id": "a817ea8a",
   "metadata": {},
   "source": [
    "- 2021년 12월 30일\n",
    "- 프로그래머스 위장\n",
    "- https://programmers.co.kr/learn/courses/30/lessons/42578"
   ]
  },
  {
   "cell_type": "markdown",
   "id": "6cc19275",
   "metadata": {},
   "source": [
    "- 효율성 통과 못한 코드"
   ]
  },
  {
   "cell_type": "code",
   "execution_count": 1,
   "id": "8a0bdb01",
   "metadata": {},
   "outputs": [],
   "source": [
    "from itertools import combinations\n",
    "def solution(clothes):\n",
    "    answer = []\n",
    "    kind=list(zip(*clothes))\n",
    "    for i in range(1, len(set(kind[-1]))+1):\n",
    "        for k in list(combinations(kind[-1],i)):\n",
    "            if len(k)==len(set(k)):\n",
    "                answer.append(k)\n",
    "    return len(answer)"
   ]
  },
  {
   "cell_type": "code",
   "execution_count": 2,
   "id": "6f35f3b9",
   "metadata": {},
   "outputs": [],
   "source": [
    "clothes=[[\"yellowhat\", \"headgear\"], [\"bluesunglasses\", \"eyewear\"], [\"green_turban\", \"headgear\"]]"
   ]
  },
  {
   "cell_type": "code",
   "execution_count": 3,
   "id": "9cec169d",
   "metadata": {},
   "outputs": [
    {
     "data": {
      "text/plain": [
       "5"
      ]
     },
     "execution_count": 3,
     "metadata": {},
     "output_type": "execute_result"
    }
   ],
   "source": [
    "solution(clothes)"
   ]
  },
  {
   "cell_type": "markdown",
   "id": "007371f4",
   "metadata": {},
   "source": [
    "- a,b,c로 조합 가능한 모두의 경우의 수는 a * b * c\n",
    "- 하지만 안 입는 경우도 존재하기 때문에 각각 +1을 해줌\n",
    "- (a+1)*(b+1)*(c+1)\n",
    "- 마지막으로 a,b,c 전부 안입는 경우는 제외해야 하므로 -1을 해준다\n",
    "- 즉 (a+1)*(b+1)*(c+1) -1 을 구하는 코드를 짜면 된다!"
   ]
  },
  {
   "cell_type": "code",
   "execution_count": 4,
   "id": "5a4c5b0e",
   "metadata": {},
   "outputs": [],
   "source": [
    "def solution(clothes):\n",
    "    answer=1\n",
    "    kind=list(zip(*clothes))\n",
    "    result={i:0 for i in list(set(kind[1]))}\n",
    "    for i in kind[1]:\n",
    "        result[i]+=1\n",
    "    for i in result.values():\n",
    "        answer=answer*(i+1)\n",
    "    return answer-1"
   ]
  },
  {
   "cell_type": "code",
   "execution_count": null,
   "id": "df07ab0a",
   "metadata": {},
   "outputs": [],
   "source": []
  },
  {
   "cell_type": "markdown",
   "id": "4f3a694a",
   "metadata": {},
   "source": [
    "- reduce, counter을 이용"
   ]
  },
  {
   "cell_type": "markdown",
   "id": "1f5b8e7d",
   "metadata": {},
   "source": [
    "- reduce는 누적집계를 해주는 함수로 (function, iterable, initializer=None) 이렇게 사용 가능하다\n",
    "- reduce(lambda x, y: x(y+1, cnt.values(),1))\n",
    "- cnt.values=[2,1] 이라면\n",
    "- 1*(2+1)\n",
    "- (1*(2+1))*(1+1) 이렇게 진행된다!"
   ]
  },
  {
   "cell_type": "code",
   "execution_count": 5,
   "id": "15c5f36b",
   "metadata": {},
   "outputs": [],
   "source": [
    "def solution(clothes):\n",
    "    from collections import Counter\n",
    "    from functools import reduce\n",
    "    cnt = Counter([kind for name, kind in clothes])\n",
    "    answer = reduce(lambda x, y: x*(y+1), cnt.values(), 1) - 1\n",
    "    return answer"
   ]
  },
  {
   "cell_type": "code",
   "execution_count": null,
   "id": "3854de54",
   "metadata": {},
   "outputs": [],
   "source": []
  },
  {
   "cell_type": "markdown",
   "id": "aefabdbf",
   "metadata": {},
   "source": [
    "- 해쉬를 이용한 정석적인 코드 느낌"
   ]
  },
  {
   "cell_type": "code",
   "execution_count": 6,
   "id": "6c638404",
   "metadata": {},
   "outputs": [],
   "source": [
    "def solution(clothes):\n",
    "    clothes_type = {}\n",
    "\n",
    "    for c, t in clothes:\n",
    "        if t not in clothes_type:\n",
    "            clothes_type[t] = 2\n",
    "        else:\n",
    "            clothes_type[t] += 1\n",
    "\n",
    "    cnt = 1\n",
    "    for num in clothes_type.values():\n",
    "        cnt *= num\n",
    "\n",
    "    return cnt - 1"
   ]
  },
  {
   "cell_type": "code",
   "execution_count": null,
   "id": "0afbfc2c",
   "metadata": {},
   "outputs": [],
   "source": []
  }
 ],
 "metadata": {
  "kernelspec": {
   "display_name": "Python 3",
   "language": "python",
   "name": "python3"
  },
  "language_info": {
   "codemirror_mode": {
    "name": "ipython",
    "version": 3
   },
   "file_extension": ".py",
   "mimetype": "text/x-python",
   "name": "python",
   "nbconvert_exporter": "python",
   "pygments_lexer": "ipython3",
   "version": "3.6.13"
  }
 },
 "nbformat": 4,
 "nbformat_minor": 5
}
