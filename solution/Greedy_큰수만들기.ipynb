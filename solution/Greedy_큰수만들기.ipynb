{
 "cells": [
  {
   "cell_type": "markdown",
   "id": "9d466e4f",
   "metadata": {},
   "source": [
    "- 2021년 12월 16일\n",
    "- 프로그래머스 큰 수 만들기\n",
    "- https://programmers.co.kr/learn/courses/30/lessons/42883"
   ]
  },
  {
   "cell_type": "code",
   "execution_count": 1,
   "id": "babe0c68",
   "metadata": {},
   "outputs": [],
   "source": [
    "number=\"4177252841\"\n",
    "k=4"
   ]
  },
  {
   "cell_type": "code",
   "execution_count": 2,
   "id": "369e7853",
   "metadata": {},
   "outputs": [],
   "source": [
    "def solution(number, k):\n",
    "    answer=[]\n",
    "    for i in number:\n",
    "        while k>0 and len(answer)!=0 and answer[-1]<i:\n",
    "            answer.pop()\n",
    "            k-=1\n",
    "        answer.append(i)\n",
    "    answer=answer[:-k] if k >0 else answer\n",
    "    return ''.join(answer)"
   ]
  },
  {
   "cell_type": "code",
   "execution_count": 3,
   "id": "2c0f8fc0",
   "metadata": {},
   "outputs": [
    {
     "data": {
      "text/plain": [
       "'775841'"
      ]
     },
     "execution_count": 3,
     "metadata": {},
     "output_type": "execute_result"
    }
   ],
   "source": [
    "solution(number, k)"
   ]
  },
  {
   "cell_type": "code",
   "execution_count": null,
   "id": "6f122615",
   "metadata": {},
   "outputs": [],
   "source": []
  }
 ],
 "metadata": {
  "kernelspec": {
   "display_name": "Python 3",
   "language": "python",
   "name": "python3"
  },
  "language_info": {
   "codemirror_mode": {
    "name": "ipython",
    "version": 3
   },
   "file_extension": ".py",
   "mimetype": "text/x-python",
   "name": "python",
   "nbconvert_exporter": "python",
   "pygments_lexer": "ipython3",
   "version": "3.8.8"
  }
 },
 "nbformat": 4,
 "nbformat_minor": 5
}
