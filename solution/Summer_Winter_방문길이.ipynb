{
 "cells": [
  {
   "cell_type": "markdown",
   "id": "cbebc143",
   "metadata": {},
   "source": [
    "- 2022년 1월 20일\n",
    "- 프로그래머스 방문 길이\n",
    "- https://programmers.co.kr/learn/courses/30/lessons/49994"
   ]
  },
  {
   "cell_type": "code",
   "execution_count": 1,
   "id": "d9154bd8",
   "metadata": {},
   "outputs": [],
   "source": [
    "dirs = \"ULURRDLLU\""
   ]
  },
  {
   "cell_type": "code",
   "execution_count": 2,
   "id": "6bd6b51a",
   "metadata": {},
   "outputs": [],
   "source": [
    "def solution(dirs):\n",
    "    result = [[0] * 11 for i in range(11)]\n",
    "    x, y = 5, 5\n",
    "    cnt = 0\n",
    "    check = []\n",
    "    for i in dirs:\n",
    "        tmp = []\n",
    "        first = (x, y)\n",
    "        if 0 <= x <= 10 and 0 <= y <= 10:\n",
    "            if i == 'U':\n",
    "                x -= 1\n",
    "            elif i == 'L':\n",
    "                y -= 1\n",
    "            elif i == 'R':\n",
    "                y += 1\n",
    "            else:\n",
    "                x += 1\n",
    "        second = (x, y)\n",
    "        tmp.append(first)\n",
    "        tmp.append(second)\n",
    "\n",
    "        if tmp not in check and 0 <= x <= 10 and 0 <= y <= 10:\n",
    "            if all(first != k[1] or second != k[0]  for k in check):\n",
    "                check.append(tmp)\n",
    "\n",
    "        if 0 <= x <= 10 and 0 <= y <= 10:\n",
    "            result[x][y] += 1 \n",
    "        else:\n",
    "            if x == -1:\n",
    "                x = 0\n",
    "            elif y == -1:\n",
    "                y = 0\n",
    "            elif x == 11:\n",
    "                x = 10\n",
    "            else:\n",
    "                y =10\n",
    "\n",
    "    return len(check)"
   ]
  },
  {
   "cell_type": "code",
   "execution_count": 3,
   "id": "2a46145b",
   "metadata": {},
   "outputs": [
    {
     "data": {
      "text/plain": [
       "7"
      ]
     },
     "execution_count": 3,
     "metadata": {},
     "output_type": "execute_result"
    }
   ],
   "source": [
    "solution(dirs)"
   ]
  },
  {
   "cell_type": "code",
   "execution_count": null,
   "id": "310d96a0",
   "metadata": {},
   "outputs": [],
   "source": []
  }
 ],
 "metadata": {
  "kernelspec": {
   "display_name": "Python 3",
   "language": "python",
   "name": "python3"
  },
  "language_info": {
   "codemirror_mode": {
    "name": "ipython",
    "version": 3
   },
   "file_extension": ".py",
   "mimetype": "text/x-python",
   "name": "python",
   "nbconvert_exporter": "python",
   "pygments_lexer": "ipython3",
   "version": "3.6.13"
  }
 },
 "nbformat": 4,
 "nbformat_minor": 5
}
