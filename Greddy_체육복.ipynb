{
 "cells": [
  {
   "cell_type": "markdown",
   "id": "6dd6aaf2",
   "metadata": {},
   "source": [
    "- 2021년 10월 27일\n",
    "- 프로그래머스 체육복\n",
    "- https://programmers.co.kr/learn/courses/30/lessons/42862"
   ]
  },
  {
   "cell_type": "code",
   "execution_count": 58,
   "id": "ef56b483",
   "metadata": {},
   "outputs": [],
   "source": [
    "n=6\n",
    "lost=[4,5,6]\n",
    "reserve=[1,2]"
   ]
  },
  {
   "cell_type": "code",
   "execution_count": 59,
   "id": "adf3f9ea",
   "metadata": {},
   "outputs": [],
   "source": [
    "def solution(n, lost, reserve):\n",
    "    answer = []\n",
    "    stu=list(set(lost)-set(reserve))    # 진짜 없는 애들\n",
    "    kind=list(set(reserve)-set(lost))   # 진짜 빌려줄 수 있는 애들\n",
    "\n",
    "    for i in stu:\n",
    "        if i-1 not in kind and i+1 not in kind:\n",
    "            answer.append(i)\n",
    "\n",
    "    return n-len(answer)"
   ]
  },
  {
   "cell_type": "code",
   "execution_count": 60,
   "id": "5ba5d810",
   "metadata": {},
   "outputs": [
    {
     "data": {
      "text/plain": [
       "3"
      ]
     },
     "execution_count": 60,
     "metadata": {},
     "output_type": "execute_result"
    }
   ],
   "source": [
    "solution(n, lost, reserve)"
   ]
  },
  {
   "cell_type": "code",
   "execution_count": 2,
   "id": "17cf7988",
   "metadata": {},
   "outputs": [],
   "source": [
    "lost.remove(2)"
   ]
  },
  {
   "cell_type": "code",
   "execution_count": 3,
   "id": "ab537419",
   "metadata": {},
   "outputs": [
    {
     "data": {
      "text/plain": [
       "[4]"
      ]
     },
     "execution_count": 3,
     "metadata": {},
     "output_type": "execute_result"
    }
   ],
   "source": [
    "lost"
   ]
  },
  {
   "cell_type": "code",
   "execution_count": null,
   "id": "e96cc3cb",
   "metadata": {},
   "outputs": [],
   "source": []
  }
 ],
 "metadata": {
  "kernelspec": {
   "display_name": "Python 3",
   "language": "python",
   "name": "python3"
  },
  "language_info": {
   "codemirror_mode": {
    "name": "ipython",
    "version": 3
   },
   "file_extension": ".py",
   "mimetype": "text/x-python",
   "name": "python",
   "nbconvert_exporter": "python",
   "pygments_lexer": "ipython3",
   "version": "3.8.8"
  }
 },
 "nbformat": 4,
 "nbformat_minor": 5
}
