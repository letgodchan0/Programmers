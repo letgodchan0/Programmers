{
 "cells": [
  {
   "cell_type": "markdown",
   "id": "81403fe2",
   "metadata": {},
   "source": [
    "- 2021년 11월 29일\n",
    "- 프로그래머스 튜플\n",
    "- https://programmers.co.kr/learn/courses/30/lessons/64065"
   ]
  },
  {
   "cell_type": "code",
   "execution_count": 1,
   "id": "db7ed501",
   "metadata": {},
   "outputs": [],
   "source": [
    "s=\"{{4,2,3},{3},{2,3,4,1},{2,3}}\""
   ]
  },
  {
   "cell_type": "code",
   "execution_count": 2,
   "id": "ca578b37",
   "metadata": {},
   "outputs": [],
   "source": [
    "def solution(s):\n",
    "    answer=''\n",
    "    result=[]\n",
    "    empty=[]\n",
    "    for i in s[1:-1]:\n",
    "        if i.isdigit():\n",
    "            answer+=i\n",
    "        else:\n",
    "            if answer.isdigit():\n",
    "                empty.append(int(answer))\n",
    "                answer=''\n",
    "            if i=='}':\n",
    "                result.append(list(empty))\n",
    "                empty=[]\n",
    "    result=sorted(result, key=lambda x:len(x))[::-1]\n",
    "\n",
    "    good=[]\n",
    "    for i in range(len(result)):\n",
    "        if i==len(result)-1:\n",
    "            good.append(result[i][0])\n",
    "        else:\n",
    "            good.append(list(set(result[i])-set(result[i+1]))[0])\n",
    "    return good[::-1]"
   ]
  },
  {
   "cell_type": "code",
   "execution_count": 3,
   "id": "1c7da512",
   "metadata": {},
   "outputs": [
    {
     "data": {
      "text/plain": [
       "[3, 2, 4, 1]"
      ]
     },
     "execution_count": 3,
     "metadata": {},
     "output_type": "execute_result"
    }
   ],
   "source": [
    "solution(s)"
   ]
  },
  {
   "cell_type": "code",
   "execution_count": null,
   "id": "793a6ad3",
   "metadata": {},
   "outputs": [],
   "source": []
  }
 ],
 "metadata": {
  "kernelspec": {
   "display_name": "Python 3",
   "language": "python",
   "name": "python3"
  },
  "language_info": {
   "codemirror_mode": {
    "name": "ipython",
    "version": 3
   },
   "file_extension": ".py",
   "mimetype": "text/x-python",
   "name": "python",
   "nbconvert_exporter": "python",
   "pygments_lexer": "ipython3",
   "version": "3.8.8"
  }
 },
 "nbformat": 4,
 "nbformat_minor": 5
}
