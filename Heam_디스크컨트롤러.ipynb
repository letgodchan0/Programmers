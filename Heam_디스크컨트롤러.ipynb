{
 "cells": [
  {
   "cell_type": "markdown",
   "id": "62646d84",
   "metadata": {},
   "source": [
    "- 2021년 10월 22일\n",
    "- 프로그래머스 디스크 컨트롤러\n",
    "- https://programmers.co.kr/learn/courses/30/lessons/42627"
   ]
  },
  {
   "cell_type": "code",
   "execution_count": 209,
   "id": "7e362533",
   "metadata": {},
   "outputs": [],
   "source": [
    "jobs=[[0, 5], [1, 2], [5, 5]]"
   ]
  },
  {
   "cell_type": "code",
   "execution_count": 210,
   "id": "94c3cad5",
   "metadata": {},
   "outputs": [],
   "source": [
    "def solution(jobs):\n",
    "    jobs.sort()\n",
    "    time=min(jobs)[0]\n",
    "    result=[]\n",
    "    \n",
    "    while len(jobs)>0:\n",
    "        res=jobs.pop(0)\n",
    "        time+=res[1]\n",
    "        result.append(time-res[0])\n",
    "        cnt=0\n",
    "        for i in jobs:\n",
    "            if time>i[0]:\n",
    "                cnt+=1\n",
    "        if cnt>1:\n",
    "            jobs = sorted(jobs, key = lambda x : x[1] )\n",
    "        \n",
    "    return int(sum(result)/len(result))"
   ]
  },
  {
   "cell_type": "code",
   "execution_count": 211,
   "id": "dcb69fa0",
   "metadata": {},
   "outputs": [
    {
     "data": {
      "text/plain": [
       "6"
      ]
     },
     "execution_count": 211,
     "metadata": {},
     "output_type": "execute_result"
    }
   ],
   "source": [
    "solution(jobs)"
   ]
  },
  {
   "cell_type": "code",
   "execution_count": 195,
   "id": "f2baa738",
   "metadata": {},
   "outputs": [
    {
     "data": {
      "text/plain": [
       "[[15, 2],\n",
       " [15, 34],\n",
       " [20, 47],\n",
       " [24, 10],\n",
       " [26, 1],\n",
       " [28, 39],\n",
       " [35, 43],\n",
       " [37, 5],\n",
       " [43, 20],\n",
       " [47, 22]]"
      ]
     },
     "execution_count": 195,
     "metadata": {},
     "output_type": "execute_result"
    }
   ],
   "source": [
    "jobs"
   ]
  },
  {
   "cell_type": "code",
   "execution_count": 196,
   "id": "b979983d",
   "metadata": {},
   "outputs": [],
   "source": [
    "time=min(jobs)[0]\n",
    "start=[]\n",
    "result=[]"
   ]
  },
  {
   "cell_type": "code",
   "execution_count": 197,
   "id": "736fa2b3",
   "metadata": {},
   "outputs": [],
   "source": [
    "while len(jobs)>0:\n",
    "    res=jobs.pop(0)\n",
    "    time+=res[1]\n",
    "    result.append(time-res[0])\n",
    "    cnt=0\n",
    "    for i in jobs:\n",
    "        if time>i[0]:\n",
    "            cnt+=1\n",
    "    if cnt>1:\n",
    "        jobs = sorted(jobs, key = lambda x : x[1] )"
   ]
  },
  {
   "cell_type": "code",
   "execution_count": 200,
   "id": "89f3253d",
   "metadata": {},
   "outputs": [
    {
     "data": {
      "text/plain": [
       "[15, 15, 26, 37, 24, 43, 47, 28, 35, 20]"
      ]
     },
     "execution_count": 200,
     "metadata": {},
     "output_type": "execute_result"
    }
   ],
   "source": [
    "start"
   ]
  },
  {
   "cell_type": "code",
   "execution_count": 198,
   "id": "a6aae7ff",
   "metadata": {},
   "outputs": [
    {
     "data": {
      "text/plain": [
       "[2, 36, 26, 20, 43, 44, 62, 120, 156, 218]"
      ]
     },
     "execution_count": 198,
     "metadata": {},
     "output_type": "execute_result"
    }
   ],
   "source": [
    "result"
   ]
  },
  {
   "cell_type": "code",
   "execution_count": 201,
   "id": "0f3ff204",
   "metadata": {},
   "outputs": [
    {
     "data": {
      "text/plain": [
       "[]"
      ]
     },
     "execution_count": 201,
     "metadata": {},
     "output_type": "execute_result"
    }
   ],
   "source": [
    "jobs"
   ]
  },
  {
   "cell_type": "code",
   "execution_count": 185,
   "id": "2c6c75dc",
   "metadata": {},
   "outputs": [
    {
     "data": {
      "text/plain": [
       "[15, 2]"
      ]
     },
     "execution_count": 185,
     "metadata": {},
     "output_type": "execute_result"
    }
   ],
   "source": [
    "jobs.pop(0)"
   ]
  },
  {
   "cell_type": "code",
   "execution_count": 202,
   "id": "6f728308",
   "metadata": {},
   "outputs": [
    {
     "data": {
      "text/plain": [
       "12"
      ]
     },
     "execution_count": 202,
     "metadata": {},
     "output_type": "execute_result"
    }
   ],
   "source": [
    "int(12.8)"
   ]
  },
  {
   "cell_type": "code",
   "execution_count": null,
   "id": "710b9c51",
   "metadata": {},
   "outputs": [],
   "source": []
  },
  {
   "cell_type": "code",
   "execution_count": null,
   "id": "ec69c635",
   "metadata": {},
   "outputs": [],
   "source": []
  },
  {
   "cell_type": "code",
   "execution_count": null,
   "id": "e0c9691b",
   "metadata": {},
   "outputs": [],
   "source": []
  },
  {
   "cell_type": "code",
   "execution_count": null,
   "id": "f02c63e4",
   "metadata": {},
   "outputs": [],
   "source": []
  }
 ],
 "metadata": {
  "kernelspec": {
   "display_name": "Python 3",
   "language": "python",
   "name": "python3"
  },
  "language_info": {
   "codemirror_mode": {
    "name": "ipython",
    "version": 3
   },
   "file_extension": ".py",
   "mimetype": "text/x-python",
   "name": "python",
   "nbconvert_exporter": "python",
   "pygments_lexer": "ipython3",
   "version": "3.8.8"
  }
 },
 "nbformat": 4,
 "nbformat_minor": 5
}
