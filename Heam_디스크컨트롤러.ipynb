{
 "cells": [
  {
   "cell_type": "code",
   "execution_count": null,
   "id": "c12ae820",
   "metadata": {},
   "outputs": [],
   "source": []
  },
  {
   "cell_type": "code",
   "execution_count": 179,
   "id": "4c237e95",
   "metadata": {},
   "outputs": [],
   "source": [
    "jobs=[[24, 10], [28, 39], [43, 20], [37, 5], [47, 22], [20, 47], [15, 34], [15, 2], [35, 43], [26, 1]]"
   ]
  },
  {
   "cell_type": "code",
   "execution_count": 180,
   "id": "ea8f9f7b",
   "metadata": {},
   "outputs": [
    {
     "data": {
      "text/plain": [
       "[[15, 2],\n",
       " [15, 34],\n",
       " [20, 47],\n",
       " [24, 10],\n",
       " [26, 1],\n",
       " [28, 39],\n",
       " [35, 43],\n",
       " [37, 5],\n",
       " [43, 20],\n",
       " [47, 22]]"
      ]
     },
     "execution_count": 180,
     "metadata": {},
     "output_type": "execute_result"
    }
   ],
   "source": [
    "jobs.sort()\n",
    "jobs"
   ]
  },
  {
   "cell_type": "code",
   "execution_count": 171,
   "id": "4d65102a",
   "metadata": {},
   "outputs": [],
   "source": [
    "def solution(jobs):\n",
    "    jobs=sorted(jobs, key = lambda x : (x[1],x[0]))\n",
    "\n",
    "    time=[]\n",
    "    start=[]\n",
    "    result=[]\n",
    "\n",
    "    for i in jobs:\n",
    "        start.append(i[0])\n",
    "        time.append(i[1])\n",
    "\n",
    "    for i in range(len(start)):\n",
    "        if i==0:\n",
    "            answer = time[i]\n",
    "            print(answer)\n",
    "            result.append(answer)\n",
    "        else:\n",
    "            answer=sum(jobs[i-1])+jobs[i][1]-jobs[i][0]\n",
    "            print(answer)\n",
    "            result.append(answer)  \n",
    "    \n",
    "    return int(sum(result)/len(result))"
   ]
  },
  {
   "cell_type": "code",
   "execution_count": 172,
   "id": "7e0a6c1a",
   "metadata": {},
   "outputs": [
    {
     "name": "stdout",
     "output_type": "stream",
     "text": [
      "1\n",
      "14\n",
      "-15\n",
      "28\n",
      "11\n",
      "38\n",
      "88\n",
      "60\n",
      "75\n",
      "105\n"
     ]
    },
    {
     "data": {
      "text/plain": [
       "40"
      ]
     },
     "execution_count": 172,
     "metadata": {},
     "output_type": "execute_result"
    }
   ],
   "source": [
    "solution(jobs)"
   ]
  },
  {
   "cell_type": "code",
   "execution_count": 181,
   "id": "c2f6199c",
   "metadata": {},
   "outputs": [
    {
     "data": {
      "text/plain": [
       "[[15, 2],\n",
       " [15, 34],\n",
       " [20, 47],\n",
       " [24, 10],\n",
       " [26, 1],\n",
       " [28, 39],\n",
       " [35, 43],\n",
       " [37, 5],\n",
       " [43, 20],\n",
       " [47, 22]]"
      ]
     },
     "execution_count": 181,
     "metadata": {},
     "output_type": "execute_result"
    }
   ],
   "source": [
    "jobs"
   ]
  },
  {
   "cell_type": "code",
   "execution_count": 186,
   "id": "66609139",
   "metadata": {},
   "outputs": [],
   "source": [
    "time=min(jobs)[0]\n",
    "start=[]\n",
    "result=[]"
   ]
  },
  {
   "cell_type": "code",
   "execution_count": 178,
   "id": "f6f3dbaf",
   "metadata": {},
   "outputs": [
    {
     "data": {
      "text/plain": [
       "[[15, 2],\n",
       " [15, 34],\n",
       " [20, 47],\n",
       " [24, 10],\n",
       " [26, 1],\n",
       " [28, 39],\n",
       " [35, 43],\n",
       " [37, 5],\n",
       " [43, 20],\n",
       " [47, 22]]"
      ]
     },
     "execution_count": 178,
     "metadata": {},
     "output_type": "execute_result"
    }
   ],
   "source": [
    "import heapq\n",
    "heapq.heapify(jobs)\n",
    "while len(jobs)>0:\n",
    "    res=jobs.pop(0)\n",
    "    start.append(res[0])\n",
    "    time+=res[1]\n",
    "    result.append(time-res[0])\n",
    "    if time>jobs[0][0]:\n",
    "    "
   ]
  },
  {
   "cell_type": "code",
   "execution_count": 185,
   "id": "70728adc",
   "metadata": {},
   "outputs": [
    {
     "data": {
      "text/plain": [
       "[15, 2]"
      ]
     },
     "execution_count": 185,
     "metadata": {},
     "output_type": "execute_result"
    }
   ],
   "source": [
    "jobs.pop(0)"
   ]
  },
  {
   "cell_type": "code",
   "execution_count": null,
   "id": "c6961546",
   "metadata": {},
   "outputs": [],
   "source": []
  },
  {
   "cell_type": "code",
   "execution_count": null,
   "id": "654c7e1f",
   "metadata": {},
   "outputs": [],
   "source": []
  },
  {
   "cell_type": "code",
   "execution_count": null,
   "id": "1c7f61b2",
   "metadata": {},
   "outputs": [],
   "source": []
  },
  {
   "cell_type": "code",
   "execution_count": null,
   "id": "0bde15c7",
   "metadata": {},
   "outputs": [],
   "source": []
  },
  {
   "cell_type": "code",
   "execution_count": 174,
   "id": "bad1399f",
   "metadata": {},
   "outputs": [
    {
     "name": "stdout",
     "output_type": "stream",
     "text": [
      "[15, 2]\n",
      "[15, 34]\n",
      "[20, 47]\n",
      "[24, 10]\n",
      "[26, 1]\n",
      "[28, 39]\n",
      "[35, 43]\n",
      "[37, 5]\n",
      "[43, 20]\n",
      "[47, 22]\n"
     ]
    }
   ],
   "source": []
  },
  {
   "cell_type": "code",
   "execution_count": 161,
   "id": "13f3ede5",
   "metadata": {},
   "outputs": [
    {
     "data": {
      "text/plain": [
       "[15, 2]"
      ]
     },
     "execution_count": 161,
     "metadata": {},
     "output_type": "execute_result"
    }
   ],
   "source": [
    "heapq.heappop(jobs)"
   ]
  },
  {
   "cell_type": "code",
   "execution_count": 76,
   "id": "a4bccb67",
   "metadata": {},
   "outputs": [],
   "source": [
    "start=[]\n",
    "time=[]"
   ]
  },
  {
   "cell_type": "code",
   "execution_count": 77,
   "id": "45af658d",
   "metadata": {},
   "outputs": [],
   "source": [
    "for i in jobs:\n",
    "    start.append(i[0])\n",
    "    time.append(i[1])"
   ]
  },
  {
   "cell_type": "code",
   "execution_count": 78,
   "id": "9c49c898",
   "metadata": {},
   "outputs": [
    {
     "data": {
      "text/plain": [
       "[0, 2, 1]"
      ]
     },
     "execution_count": 78,
     "metadata": {},
     "output_type": "execute_result"
    }
   ],
   "source": [
    "start"
   ]
  },
  {
   "cell_type": "code",
   "execution_count": 79,
   "id": "ecd90489",
   "metadata": {},
   "outputs": [
    {
     "data": {
      "text/plain": [
       "[3, 6, 9]"
      ]
     },
     "execution_count": 79,
     "metadata": {},
     "output_type": "execute_result"
    }
   ],
   "source": [
    "time"
   ]
  },
  {
   "cell_type": "code",
   "execution_count": 95,
   "id": "a358d19c",
   "metadata": {},
   "outputs": [
    {
     "name": "stdout",
     "output_type": "stream",
     "text": [
      "3\n",
      "7\n",
      "17\n"
     ]
    }
   ],
   "source": [
    "result=[]\n",
    "for i in range(len(start)):\n",
    "    if i==0:\n",
    "        answer = time[i]-start[i]\n",
    "        print(answer)\n",
    "        result.append(answer)\n",
    "    else:\n",
    "        answer=sum(time[:i])+time[i]-start[i]\n",
    "        print(answer)\n",
    "        result.append(answer)     "
   ]
  },
  {
   "cell_type": "code",
   "execution_count": 96,
   "id": "90d2c008",
   "metadata": {},
   "outputs": [
    {
     "data": {
      "text/plain": [
       "[3, 7, 17]"
      ]
     },
     "execution_count": 96,
     "metadata": {},
     "output_type": "execute_result"
    }
   ],
   "source": [
    "result"
   ]
  },
  {
   "cell_type": "code",
   "execution_count": null,
   "id": "379f1dfa",
   "metadata": {},
   "outputs": [],
   "source": []
  }
 ],
 "metadata": {
  "kernelspec": {
   "display_name": "Python 3",
   "language": "python",
   "name": "python3"
  },
  "language_info": {
   "codemirror_mode": {
    "name": "ipython",
    "version": 3
   },
   "file_extension": ".py",
   "mimetype": "text/x-python",
   "name": "python",
   "nbconvert_exporter": "python",
   "pygments_lexer": "ipython3",
   "version": "3.8.8"
  }
 },
 "nbformat": 4,
 "nbformat_minor": 5
}
