{
 "cells": [
  {
   "cell_type": "markdown",
   "id": "f409351d",
   "metadata": {},
   "source": [
    "- 날짜: 2021년 9월 18일\n",
    "- 프로그래머스 문자열 압축\n",
    "- https://programmers.co.kr/learn/courses/30/lessons/60057"
   ]
  },
  {
   "cell_type": "code",
   "execution_count": 148,
   "id": "013eda32",
   "metadata": {},
   "outputs": [],
   "source": [
    "def solution(s):\n",
    "    result=[]\n",
    "    answer = 0\n",
    "    for unit in range(1, (len(s)//2)+1):\n",
    "        if unit ==1:\n",
    "            i=1\n",
    "            j=0\n",
    "            answer=''\n",
    "            while i <= len(s):\n",
    "                if s[i-1]==s[i]:\n",
    "                    j+=1\n",
    "                    i+=1\n",
    "                else:\n",
    "                    answer=answer+str(j+1)+s[i-1]\n",
    "                    j=0\n",
    "                    i+=1\n",
    "                if i == len(s):\n",
    "                    answer=answer+str(j+1)+s[i-1]\n",
    "                    i+=1\n",
    "            result.append(len(answer.replace('1','')))\n",
    "        else:\n",
    "            i=2*unit\n",
    "            j=0\n",
    "            answer=''\n",
    "            while i <= len(s):\n",
    "                if s[i-(unit*2):i-unit]==s[i-unit:i]:\n",
    "                    j+=1\n",
    "                    i+=unit\n",
    "                else:\n",
    "                    answer=answer+str(j+1)+s[i-(unit*2):i-unit]\n",
    "                    j=0\n",
    "                    i+=unit\n",
    "                    print('i:',i)\n",
    "                    print(answer)\n",
    "                    print(' ')\n",
    "                if i == len(s):\n",
    "                    answer=answer+str(j+1)+s[i-(unit*2):]\n",
    "                    i+=unit\n",
    "            result.append(len(answer.replace('1','')))\n",
    "            print(answer)\n",
    "            print(result)\n",
    "            print(' ')\n",
    "    return min(result)"
   ]
  },
  {
   "cell_type": "code",
   "execution_count": 149,
   "id": "0d44259c",
   "metadata": {},
   "outputs": [],
   "source": [
    "s='aabbaccc'"
   ]
  },
  {
   "cell_type": "code",
   "execution_count": 150,
   "id": "bd79b7a8",
   "metadata": {},
   "outputs": [
    {
     "name": "stdout",
     "output_type": "stream",
     "text": [
      "i: 6\n",
      "1aa\n",
      " \n",
      "i: 8\n",
      "1aa1bb\n",
      " \n",
      "1aa1bb1accc\n",
      "[7, 8]\n",
      " \n",
      "i: 9\n",
      "1aab\n",
      " \n",
      "1aab\n",
      "[7, 8, 3]\n",
      " \n",
      "i: 12\n",
      "1aabb\n",
      " \n",
      "1aabb\n",
      "[7, 8, 3, 4]\n",
      " \n"
     ]
    },
    {
     "data": {
      "text/plain": [
       "3"
      ]
     },
     "execution_count": 150,
     "metadata": {},
     "output_type": "execute_result"
    }
   ],
   "source": [
    "solution(s)"
   ]
  },
  {
   "cell_type": "code",
   "execution_count": null,
   "id": "2019f43d",
   "metadata": {},
   "outputs": [],
   "source": [
    "j=0\n",
    "answer=''\n",
    "while i <= len(s):\n",
    "    if s[i-1]==s[i]:\n",
    "        j+=1\n",
    "        i+=1\n",
    "    else:\n",
    "        answer=answer+str(j+1)+s[i-1]\n",
    "        j=0\n",
    "        i+=1\n",
    "    if i == len(s):\n",
    "        answer=answer+str(j+1)+s[i-1]\n",
    "        i+=1"
   ]
  },
  {
   "cell_type": "code",
   "execution_count": 100,
   "id": "7646c778",
   "metadata": {},
   "outputs": [
    {
     "name": "stdout",
     "output_type": "stream",
     "text": [
      "i:, 9 j: 1\n"
     ]
    }
   ],
   "source": [
    "i=6\n",
    "j=0\n",
    "answer=''\n",
    "while i <= len(s):\n",
    "    if s[i-6:i-3]==s[i-3:i]:\n",
    "        j+=1\n",
    "        i+=3\n",
    "        print('i:,',i, 'j:',j)\n",
    "    else:\n",
    "        answer=answer+str(j+1)+s[i-6:i-3]\n",
    "        j=0\n",
    "        i+=3\n",
    "    if i == len(s):\n",
    "        answer=answer+str(j+1)+s[i-6:i-3]\n",
    "        i+=3"
   ]
  },
  {
   "cell_type": "code",
   "execution_count": 101,
   "id": "4203af39",
   "metadata": {},
   "outputs": [
    {
     "data": {
      "text/plain": [
       "'2abc'"
      ]
     },
     "execution_count": 101,
     "metadata": {},
     "output_type": "execute_result"
    }
   ],
   "source": [
    "answer"
   ]
  },
  {
   "cell_type": "code",
   "execution_count": 96,
   "id": "c9befdce",
   "metadata": {},
   "outputs": [
    {
     "name": "stdout",
     "output_type": "stream",
     "text": [
      "i:, 6 j: 1\n",
      "i:, 8 j: 2\n",
      "i:, 12 j: 1\n"
     ]
    }
   ],
   "source": [
    "i=4\n",
    "j=0\n",
    "answer=''\n",
    "while i <= len(s):\n",
    "    if s[i-4:i-2]==s[i-2:i]:\n",
    "        j+=1\n",
    "        i+=2\n",
    "        print('i:,',i, 'j:',j)\n",
    "    else:\n",
    "        answer=answer+str(j+1)+s[i-4:i-2]\n",
    "        j=0\n",
    "        i+=2\n",
    "    if i == len(s):\n",
    "        answer=answer+str(j+1)+s[i-4:i-2]\n",
    "        i+=2"
   ]
  },
  {
   "cell_type": "code",
   "execution_count": 97,
   "id": "51c0e63b",
   "metadata": {},
   "outputs": [
    {
     "data": {
      "text/plain": [
       "'3ab2ac'"
      ]
     },
     "execution_count": 97,
     "metadata": {},
     "output_type": "execute_result"
    }
   ],
   "source": [
    "answer"
   ]
  },
  {
   "cell_type": "code",
   "execution_count": null,
   "id": "01bb576f",
   "metadata": {},
   "outputs": [],
   "source": []
  },
  {
   "cell_type": "code",
   "execution_count": null,
   "id": "9de51202",
   "metadata": {},
   "outputs": [],
   "source": [
    "i=1\n",
    "j=0\n",
    "answer=''\n",
    "while i <= len(s):\n",
    "    if s[i-1]==s[i]:\n",
    "        j+=1\n",
    "        i+=1\n",
    "    else:\n",
    "        answer=answer+str(j+1)+s[i-1]\n",
    "        j=0\n",
    "        i+=1\n",
    "    if i == len(s):\n",
    "        answer=answer+str(j+1)+s[i-1]\n",
    "        i+=1"
   ]
  },
  {
   "cell_type": "code",
   "execution_count": 88,
   "id": "37c76b33",
   "metadata": {},
   "outputs": [
    {
     "data": {
      "text/plain": [
       "'ab2a2ba3c'"
      ]
     },
     "execution_count": 88,
     "metadata": {},
     "output_type": "execute_result"
    }
   ],
   "source": [
    "answer.replace('1','')"
   ]
  }
 ],
 "metadata": {
  "kernelspec": {
   "display_name": "Python 3",
   "language": "python",
   "name": "python3"
  },
  "language_info": {
   "codemirror_mode": {
    "name": "ipython",
    "version": 3
   },
   "file_extension": ".py",
   "mimetype": "text/x-python",
   "name": "python",
   "nbconvert_exporter": "python",
   "pygments_lexer": "ipython3",
   "version": "3.8.8"
  },
  "toc": {
   "base_numbering": 1,
   "nav_menu": {},
   "number_sections": true,
   "sideBar": true,
   "skip_h1_title": false,
   "title_cell": "Table of Contents",
   "title_sidebar": "Contents",
   "toc_cell": false,
   "toc_position": {},
   "toc_section_display": true,
   "toc_window_display": false
  }
 },
 "nbformat": 4,
 "nbformat_minor": 5
}
