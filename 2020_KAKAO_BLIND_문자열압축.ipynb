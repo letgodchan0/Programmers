{
 "cells": [
  {
   "cell_type": "markdown",
   "id": "048bbdfd",
   "metadata": {},
   "source": [
    "- 날짜: 2021년 9월 18일\n",
    "- 프로그래머스 문자열 압축\n",
    "- https://programmers.co.kr/learn/courses/30/lessons/60057"
   ]
  },
  {
   "cell_type": "code",
   "execution_count": 178,
   "id": "f4b5a80c",
   "metadata": {},
   "outputs": [],
   "source": [
    "def solution(s):\n",
    "    result=[]     # 단위별 압축한 문자의 길이 수를 담은 리스트\n",
    "    answer = 0\n",
    "    for unit in range(1, (len(s)//2)+1):    # \n",
    "        if unit ==1:\n",
    "            i=1\n",
    "            j=0       # 연속으로 같은 문자 단위의 개수를 카운트 해주는 변수\n",
    "            answer=''\n",
    "            while i <= len(s):      # 1개 단위로 잘라 압축할 때\n",
    "                if i == len(s):\n",
    "                    answer=answer+str(j+1)+s[i-1]\n",
    "                    i+=1\n",
    "                elif s[i-1]==s[i]:\n",
    "                    j+=1\n",
    "                    i+=1\n",
    "                else:\n",
    "                    answer=answer+str(j+1)+s[i-1]\n",
    "                    j=0\n",
    "                    i+=1\n",
    "\n",
    "            result.append(len(answer.replace('1','')))\n",
    "        else:                     # 2개 이상 단위로 잘라 압축할 때\n",
    "            i=2*unit\n",
    "            j=0\n",
    "            answer=''\n",
    "            while i <= len(s):\n",
    "                if i == len(s):\n",
    "                    answer=answer+str(j+1)+s[i-(unit*2):]\n",
    "                    i+=unit\n",
    "                \n",
    "                elif s[i-(unit*2):i-unit]==s[i-unit:i]:\n",
    "                    j+=1\n",
    "                    i+=unit\n",
    "                else:\n",
    "                    answer=answer+str(j+1)+s[i-(unit*2):i-unit]\n",
    "                    j=0\n",
    "                    i+=unit\n",
    "                    print('i:',i)\n",
    "                    print(answer)\n",
    "                    print(' ')\n",
    "\n",
    "            result.append(len(answer.replace('1','')))\n",
    "            print(answer)\n",
    "            print(result)\n",
    "            print(' ')\n",
    "    return min(result)"
   ]
  },
  {
   "cell_type": "code",
   "execution_count": 179,
   "id": "766f573b",
   "metadata": {},
   "outputs": [],
   "source": [
    "s='aabbaccc'"
   ]
  },
  {
   "cell_type": "code",
   "execution_count": 186,
   "id": "9235696d",
   "metadata": {},
   "outputs": [
    {
     "data": {
      "text/plain": [
       "'aabb'"
      ]
     },
     "execution_count": 186,
     "metadata": {},
     "output_type": "execute_result"
    }
   ],
   "source": []
  },
  {
   "cell_type": "code",
   "execution_count": 180,
   "id": "c0cb0aec",
   "metadata": {},
   "outputs": [
    {
     "name": "stdout",
     "output_type": "stream",
     "text": [
      "i: 6\n",
      "1aa\n",
      " \n",
      "i: 8\n",
      "1aa1bb\n",
      " \n",
      "1aa1bb1accc\n",
      "[7, 8]\n",
      " \n",
      "i: 9\n",
      "1aab\n",
      " \n",
      "1aab\n",
      "[7, 8, 3]\n",
      " \n",
      "1aabbaccc\n",
      "[7, 8, 3, 8]\n",
      " \n"
     ]
    },
    {
     "data": {
      "text/plain": [
       "3"
      ]
     },
     "execution_count": 180,
     "metadata": {},
     "output_type": "execute_result"
    }
   ],
   "source": [
    "solution(s)"
   ]
  },
  {
   "cell_type": "code",
   "execution_count": 181,
   "id": "0d0985ea",
   "metadata": {},
   "outputs": [
    {
     "data": {
      "text/plain": [
       "'2abc'"
      ]
     },
     "execution_count": 181,
     "metadata": {},
     "output_type": "execute_result"
    }
   ],
   "source": [
    "answer"
   ]
  },
  {
   "cell_type": "code",
   "execution_count": null,
   "id": "2faaaa42",
   "metadata": {},
   "outputs": [],
   "source": [
    "def solution(s):\n",
    "    result=[]     # 단위별 압축한 문자의 길이 수를 담은 리스트\n",
    "    answer = 0\n",
    "    for unit in range(1, (len(s)//2)+1):    # \n",
    "        if unit ==1:\n",
    "            i=1\n",
    "            j=0       # 연속으로 같은 문자 단위의 개수를 카운트 해주는 변수\n",
    "            answer=''\n",
    "            while i <= len(s):      # 1개 단위로 잘라 압축할 때\n",
    "                if i == len(s):\n",
    "                    answer=answer+str(j+1)+s[i-1]\n",
    "                    i+=1\n",
    "                elif s[i-1]==s[i]:\n",
    "                    j+=1\n",
    "                    i+=1\n",
    "                else:\n",
    "                    answer=answer+str(j+1)+s[i-1]\n",
    "                    j=0\n",
    "                    i+=1\n",
    "\n",
    "            result.append(len(answer.replace('1','')))\n",
    "        else:                     # 2개 이상 단위로 잘라 압축할 때\n",
    "            i=2*unit\n",
    "            j=0\n",
    "            answer=''\n",
    "            while i <= len(s):\n",
    "                if i == len(s):\n",
    "                    answer=answer+str(j+1)+s[i-(unit*2):]\n",
    "                    i+=unit\n",
    "                \n",
    "                elif s[i-(unit*2):i-unit]==s[i-unit:i]:\n",
    "                    j+=1\n",
    "                    i+=unit\n",
    "                else:\n",
    "                    answer=answer+str(j+1)+s[i-(unit*2):i-unit]\n",
    "                    j=0\n",
    "                    i+=unit\n",
    "                    print('i:',i)\n",
    "                    print(answer)\n",
    "                    print(' ')\n",
    "\n",
    "            result.append(len(answer.replace('1','')))\n",
    "            print(answer)\n",
    "            print(result)\n",
    "            print(' ')\n",
    "    return min(result)"
   ]
  },
  {
   "cell_type": "code",
   "execution_count": 193,
   "id": "abefc634",
   "metadata": {},
   "outputs": [],
   "source": [
    "def solution(s):\n",
    "    result=[]\n",
    "    answer=''\n",
    "    for unit in range(1,(len(s)//2)+1):\n",
    "        cnt=0\n",
    "        while i <= len(s):\n",
    "            if i==len(s):\n",
    "                answer= answer + str(cnt)+s[-len(s):]\n",
    "            elif s[-len(s):-len(s)+unit] == s[-len(s)+unit:--len(s)+(2*unit)]:\n",
    "                cnt+=1\n",
    "            else:\n",
    "                answer=answer+str(cnt+1)+s[-len(s):-len(s)+unit]\n",
    "                cnt=0\n",
    "        result.append(len(answer.replace('1','')))\n",
    "        print('answer: ', answer)\n",
    "        print('result: ', result)\n",
    "    return min(result)"
   ]
  },
  {
   "cell_type": "code",
   "execution_count": 196,
   "id": "e4835a35",
   "metadata": {},
   "outputs": [
    {
     "data": {
      "text/plain": [
       "'aabbaccc'"
      ]
     },
     "execution_count": 196,
     "metadata": {},
     "output_type": "execute_result"
    }
   ],
   "source": [
    "s"
   ]
  },
  {
   "cell_type": "code",
   "execution_count": 215,
   "id": "6852b78c",
   "metadata": {},
   "outputs": [
    {
     "data": {
      "text/plain": [
       "['aabbaccc']"
      ]
     },
     "execution_count": 215,
     "metadata": {},
     "output_type": "execute_result"
    }
   ],
   "source": [
    "s.split(' ',7)"
   ]
  },
  {
   "cell_type": "code",
   "execution_count": 256,
   "id": "f31b0f40",
   "metadata": {},
   "outputs": [],
   "source": [
    "s=\"aabbaccc\""
   ]
  },
  {
   "cell_type": "code",
   "execution_count": 263,
   "id": "ea24805d",
   "metadata": {},
   "outputs": [],
   "source": [
    "result=[]\n",
    "answer1=[]\n",
    "answer2=[]\n",
    "for i in range(1,(len(s)//2)+1):\n",
    "    if i==1:\n",
    "        for j in range(1,len(s)+1,i):\n",
    "            result.append(s[j-i:j])\n",
    "        answer1.append(len(result))\n",
    "    else:\n",
    "        for j in range(i,len(s)+1,i):\n",
    "            result=[]\n",
    "            if len(s[j-i:j]) < i:\n",
    "                print(s[j-i:i])\n",
    "                break\n",
    "            result.append(s[j-i:j])\n",
    "        answer2.append(len(result))\n",
    "\n"
   ]
  },
  {
   "cell_type": "code",
   "execution_count": 268,
   "id": "110000c2",
   "metadata": {},
   "outputs": [
    {
     "data": {
      "text/plain": [
       "2"
      ]
     },
     "execution_count": 268,
     "metadata": {},
     "output_type": "execute_result"
    }
   ],
   "source": [
    "len(s[6:8])"
   ]
  },
  {
   "cell_type": "code",
   "execution_count": 269,
   "id": "5d69c46b",
   "metadata": {},
   "outputs": [
    {
     "data": {
      "text/plain": [
       "'cc'"
      ]
     },
     "execution_count": 269,
     "metadata": {},
     "output_type": "execute_result"
    }
   ],
   "source": [
    "s[6:8]"
   ]
  },
  {
   "cell_type": "code",
   "execution_count": 264,
   "id": "2761c9e9",
   "metadata": {},
   "outputs": [
    {
     "data": {
      "text/plain": [
       "[8]"
      ]
     },
     "execution_count": 264,
     "metadata": {},
     "output_type": "execute_result"
    }
   ],
   "source": [
    "answer1"
   ]
  },
  {
   "cell_type": "code",
   "execution_count": 265,
   "id": "15f56242",
   "metadata": {},
   "outputs": [
    {
     "data": {
      "text/plain": [
       "[1, 1, 1, 1]"
      ]
     },
     "execution_count": 265,
     "metadata": {},
     "output_type": "execute_result"
    }
   ],
   "source": [
    "answer2"
   ]
  },
  {
   "cell_type": "code",
   "execution_count": 218,
   "id": "0799327d",
   "metadata": {},
   "outputs": [
    {
     "data": {
      "text/plain": [
       "'aabbaccc'"
      ]
     },
     "execution_count": 218,
     "metadata": {},
     "output_type": "execute_result"
    }
   ],
   "source": [
    "s"
   ]
  },
  {
   "cell_type": "code",
   "execution_count": 188,
   "id": "4a61202f",
   "metadata": {},
   "outputs": [
    {
     "data": {
      "text/plain": [
       "'aa'"
      ]
     },
     "execution_count": 188,
     "metadata": {},
     "output_type": "execute_result"
    }
   ],
   "source": [
    "s[-len(s):-len(s)+2]"
   ]
  },
  {
   "cell_type": "code",
   "execution_count": 189,
   "id": "3efb0a2c",
   "metadata": {},
   "outputs": [
    {
     "data": {
      "text/plain": [
       "'bb'"
      ]
     },
     "execution_count": 189,
     "metadata": {},
     "output_type": "execute_result"
    }
   ],
   "source": [
    "s[-len(s)+2:-len(s)+2+2]"
   ]
  },
  {
   "cell_type": "code",
   "execution_count": null,
   "id": "e03dae50",
   "metadata": {},
   "outputs": [],
   "source": [
    "j=0\n",
    "answer=''\n",
    "while i <= len(s):\n",
    "    if s[i-1]==s[i]:\n",
    "        j+=1\n",
    "        i+=1\n",
    "    else:\n",
    "        answer=answer+str(j+1)+s[i-1]\n",
    "        j=0\n",
    "        i+=1\n",
    "    if i == len(s):\n",
    "        answer=answer+str(j+1)+s[i-1]\n",
    "        i+=1"
   ]
  },
  {
   "cell_type": "code",
   "execution_count": 100,
   "id": "bda9645c",
   "metadata": {},
   "outputs": [
    {
     "name": "stdout",
     "output_type": "stream",
     "text": [
      "i:, 9 j: 1\n"
     ]
    }
   ],
   "source": [
    "i=6\n",
    "j=0\n",
    "answer=''\n",
    "while i <= len(s):\n",
    "    if s[i-6:i-3]==s[i-3:i]:\n",
    "        j+=1\n",
    "        i+=3\n",
    "        print('i:,',i, 'j:',j)\n",
    "    else:\n",
    "        answer=answer+str(j+1)+s[i-6:i-3]\n",
    "        j=0\n",
    "        i+=3\n",
    "    if i == len(s):\n",
    "        answer=answer+str(j+1)+s[i-6:i-3]\n",
    "        i+=3"
   ]
  },
  {
   "cell_type": "code",
   "execution_count": 101,
   "id": "2dadd330",
   "metadata": {},
   "outputs": [
    {
     "data": {
      "text/plain": [
       "'2abc'"
      ]
     },
     "execution_count": 101,
     "metadata": {},
     "output_type": "execute_result"
    }
   ],
   "source": [
    "answer"
   ]
  },
  {
   "cell_type": "code",
   "execution_count": 96,
   "id": "a43d964a",
   "metadata": {},
   "outputs": [
    {
     "name": "stdout",
     "output_type": "stream",
     "text": [
      "i:, 6 j: 1\n",
      "i:, 8 j: 2\n",
      "i:, 12 j: 1\n"
     ]
    }
   ],
   "source": [
    "i=4\n",
    "j=0\n",
    "answer=''\n",
    "while i <= len(s):\n",
    "    if s[i-4:i-2]==s[i-2:i]:\n",
    "        j+=1\n",
    "        i+=2\n",
    "        print('i:,',i, 'j:',j)\n",
    "    else:\n",
    "        answer=answer+str(j+1)+s[i-4:i-2]\n",
    "        j=0\n",
    "        i+=2\n",
    "    if i == len(s):\n",
    "        answer=answer+str(j+1)+s[i-4:i-2]\n",
    "        i+=2"
   ]
  },
  {
   "cell_type": "code",
   "execution_count": 97,
   "id": "833c717c",
   "metadata": {},
   "outputs": [
    {
     "data": {
      "text/plain": [
       "'3ab2ac'"
      ]
     },
     "execution_count": 97,
     "metadata": {},
     "output_type": "execute_result"
    }
   ],
   "source": [
    "answer"
   ]
  },
  {
   "cell_type": "code",
   "execution_count": null,
   "id": "66b2ee15",
   "metadata": {},
   "outputs": [],
   "source": []
  },
  {
   "cell_type": "code",
   "execution_count": null,
   "id": "8f6e8e38",
   "metadata": {},
   "outputs": [],
   "source": [
    "i=1\n",
    "j=0\n",
    "answer=''\n",
    "while i <= len(s):\n",
    "    if s[i-1]==s[i]:\n",
    "        j+=1\n",
    "        i+=1\n",
    "    else:\n",
    "        answer=answer+str(j+1)+s[i-1]\n",
    "        j=0\n",
    "        i+=1\n",
    "    if i == len(s):\n",
    "        answer=answer+str(j+1)+s[i-1]\n",
    "        i+=1"
   ]
  },
  {
   "cell_type": "code",
   "execution_count": 88,
   "id": "26340a37",
   "metadata": {},
   "outputs": [
    {
     "data": {
      "text/plain": [
       "'ab2a2ba3c'"
      ]
     },
     "execution_count": 88,
     "metadata": {},
     "output_type": "execute_result"
    }
   ],
   "source": [
    "answer.replace('1','')"
   ]
  }
 ],
 "metadata": {
  "kernelspec": {
   "display_name": "Python 3",
   "language": "python",
   "name": "python3"
  },
  "language_info": {
   "codemirror_mode": {
    "name": "ipython",
    "version": 3
   },
   "file_extension": ".py",
   "mimetype": "text/x-python",
   "name": "python",
   "nbconvert_exporter": "python",
   "pygments_lexer": "ipython3",
   "version": "3.8.8"
  },
  "toc": {
   "base_numbering": 1,
   "nav_menu": {},
   "number_sections": true,
   "sideBar": true,
   "skip_h1_title": false,
   "title_cell": "Table of Contents",
   "title_sidebar": "Contents",
   "toc_cell": false,
   "toc_position": {},
   "toc_section_display": true,
   "toc_window_display": false
  }
 },
 "nbformat": 4,
 "nbformat_minor": 5
}
