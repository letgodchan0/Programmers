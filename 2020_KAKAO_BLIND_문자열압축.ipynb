{
 "cells": [
  {
   "cell_type": "markdown",
   "id": "4b8eeeba",
   "metadata": {},
   "source": [
    "- 날짜: 2021년 9월 18일\n",
    "- 프로그래머스 문자열 압축\n",
    "- https://programmers.co.kr/learn/courses/30/lessons/60057"
   ]
  },
  {
   "cell_type": "code",
   "execution_count": null,
   "id": "105ab9f3",
   "metadata": {},
   "outputs": [],
   "source": [
    "def solution(s):\n",
    "    answer = 0\n",
    "    return answer"
   ]
  },
  {
   "cell_type": "code",
   "execution_count": 52,
   "id": "c8116e1f",
   "metadata": {},
   "outputs": [],
   "source": [
    "s='aaaabbaccc'"
   ]
  },
  {
   "cell_type": "code",
   "execution_count": 34,
   "id": "570c6925",
   "metadata": {},
   "outputs": [
    {
     "data": {
      "text/plain": [
       "10"
      ]
     },
     "execution_count": 34,
     "metadata": {},
     "output_type": "execute_result"
    }
   ],
   "source": [
    "len(s)"
   ]
  },
  {
   "cell_type": "code",
   "execution_count": 64,
   "id": "e33ff564",
   "metadata": {},
   "outputs": [
    {
     "name": "stdout",
     "output_type": "stream",
     "text": [
      "i: 2 j: 1\n",
      " \n",
      "i: 3 j: 2\n",
      " \n",
      "i: 4 j: 3\n",
      " \n",
      "i: 6 j: 1\n",
      " \n",
      "i: 9 j: 1\n",
      " \n",
      "i: 10 j: 2\n",
      " \n"
     ]
    }
   ],
   "source": [
    "i=1\n",
    "j=0\n",
    "answer=''\n",
    "while i <= len(s):\n",
    "    if s[i-1]==s[i]:\n",
    "        j+=1\n",
    "        i+=1\n",
    "    else:\n",
    "        answer=answer+str(j+1)+s[i-1]\n",
    "        j=0\n",
    "        i+=1\n",
    "    if i == len(s):\n",
    "        answer=answer+str(j+1)+s[i-1]\n",
    "        i+=1"
   ]
  },
  {
   "cell_type": "code",
   "execution_count": 66,
   "id": "d4ff21e4",
   "metadata": {},
   "outputs": [
    {
     "data": {
      "text/plain": [
       "'4a2ba3c'"
      ]
     },
     "execution_count": 66,
     "metadata": {},
     "output_type": "execute_result"
    }
   ],
   "source": [
    "answer.replace('1','')"
   ]
  },
  {
   "cell_type": "code",
   "execution_count": null,
   "id": "80f7c553",
   "metadata": {},
   "outputs": [],
   "source": []
  }
 ],
 "metadata": {
  "kernelspec": {
   "display_name": "Python 3",
   "language": "python",
   "name": "python3"
  },
  "language_info": {
   "codemirror_mode": {
    "name": "ipython",
    "version": 3
   },
   "file_extension": ".py",
   "mimetype": "text/x-python",
   "name": "python",
   "nbconvert_exporter": "python",
   "pygments_lexer": "ipython3",
   "version": "3.8.8"
  },
  "toc": {
   "base_numbering": 1,
   "nav_menu": {},
   "number_sections": true,
   "sideBar": true,
   "skip_h1_title": false,
   "title_cell": "Table of Contents",
   "title_sidebar": "Contents",
   "toc_cell": false,
   "toc_position": {},
   "toc_section_display": true,
   "toc_window_display": false
  }
 },
 "nbformat": 4,
 "nbformat_minor": 5
}
