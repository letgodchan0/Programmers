{
 "cells": [
  {
   "cell_type": "markdown",
   "id": "3f0f4c04",
   "metadata": {},
   "source": [
    "- 2021년 12월 8일\n",
    "- 프로그래머스 N개의 최소 공배수\n",
    "- https://programmers.co.kr/learn/courses/30/lessons/12953"
   ]
  },
  {
   "cell_type": "code",
   "execution_count": 1,
   "id": "ad2fdd8d",
   "metadata": {},
   "outputs": [],
   "source": [
    "arr=[2,6,8,14]"
   ]
  },
  {
   "cell_type": "code",
   "execution_count": 2,
   "id": "671df0bc",
   "metadata": {},
   "outputs": [],
   "source": [
    "from math import gcd\n",
    "def solution(arr):\n",
    "    def lcm(x,y):\n",
    "        return x * y // gcd(x,y)\n",
    "    while True:\n",
    "        arr.append(lcm(arr.pop(), arr.pop()))\n",
    "        if len(arr)==1:\n",
    "            return arr[0]"
   ]
  },
  {
   "cell_type": "code",
   "execution_count": 3,
   "id": "d1ac9aeb",
   "metadata": {},
   "outputs": [
    {
     "data": {
      "text/plain": [
       "168"
      ]
     },
     "execution_count": 3,
     "metadata": {},
     "output_type": "execute_result"
    }
   ],
   "source": [
    "solution(arr)"
   ]
  },
  {
   "cell_type": "markdown",
   "id": "4c7f4dc2",
   "metadata": {},
   "source": [
    "- 처음 생각, 틀림"
   ]
  },
  {
   "cell_type": "code",
   "execution_count": 4,
   "id": "3e3e3311",
   "metadata": {},
   "outputs": [],
   "source": [
    "arr=[1,2,3,4]"
   ]
  },
  {
   "cell_type": "code",
   "execution_count": 5,
   "id": "1b1380c3",
   "metadata": {},
   "outputs": [],
   "source": [
    "answer=max(arr)"
   ]
  },
  {
   "cell_type": "code",
   "execution_count": 6,
   "id": "d07a74e1",
   "metadata": {},
   "outputs": [],
   "source": [
    "cnt=0\n",
    "while any(answer%i!=0 for i in arr):\n",
    "    answer=answer*arr[cnt]\n",
    "    cnt+=1"
   ]
  },
  {
   "cell_type": "code",
   "execution_count": 7,
   "id": "053dfb09",
   "metadata": {},
   "outputs": [
    {
     "data": {
      "text/plain": [
       "24"
      ]
     },
     "execution_count": 7,
     "metadata": {},
     "output_type": "execute_result"
    }
   ],
   "source": [
    "answer"
   ]
  },
  {
   "cell_type": "markdown",
   "id": "c4b87f16",
   "metadata": {},
   "source": [
    "- 다른 풀이"
   ]
  },
  {
   "cell_type": "code",
   "execution_count": 8,
   "id": "0b0b5ea7",
   "metadata": {},
   "outputs": [],
   "source": [
    "from fractions import gcd\n",
    "\n",
    "\n",
    "def nlcm(num):      \n",
    "    answer = num[0]\n",
    "    for n in num:\n",
    "        answer = n * answer / gcd(n, answer)\n",
    "\n",
    "    return answer"
   ]
  },
  {
   "cell_type": "code",
   "execution_count": 10,
   "id": "0b163a12",
   "metadata": {},
   "outputs": [
    {
     "name": "stderr",
     "output_type": "stream",
     "text": [
      "<ipython-input-8-bd1a096238d5>:7: DeprecationWarning: fractions.gcd() is deprecated. Use math.gcd() instead.\n",
      "  answer = n * answer / gcd(n, answer)\n"
     ]
    },
    {
     "data": {
      "text/plain": [
       "12.0"
      ]
     },
     "execution_count": 10,
     "metadata": {},
     "output_type": "execute_result"
    }
   ],
   "source": [
    "nlcm(arr)"
   ]
  },
  {
   "cell_type": "code",
   "execution_count": null,
   "id": "b45c84ba",
   "metadata": {},
   "outputs": [],
   "source": []
  }
 ],
 "metadata": {
  "kernelspec": {
   "display_name": "Python 3",
   "language": "python",
   "name": "python3"
  },
  "language_info": {
   "codemirror_mode": {
    "name": "ipython",
    "version": 3
   },
   "file_extension": ".py",
   "mimetype": "text/x-python",
   "name": "python",
   "nbconvert_exporter": "python",
   "pygments_lexer": "ipython3",
   "version": "3.8.8"
  }
 },
 "nbformat": 4,
 "nbformat_minor": 5
}
