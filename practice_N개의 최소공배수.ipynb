{
 "cells": [
  {
   "cell_type": "markdown",
   "id": "f53908f3",
   "metadata": {},
   "source": [
    "- 2021년 12월 8일\n",
    "- 프로그래머스 N개의 최소 공배수\n",
    "- https://programmers.co.kr/learn/courses/30/lessons/12953"
   ]
  },
  {
   "cell_type": "code",
   "execution_count": null,
   "id": "a5d27332",
   "metadata": {},
   "outputs": [],
   "source": [
    "arr=[2,6,8,14]"
   ]
  },
  {
   "cell_type": "code",
   "execution_count": 45,
   "id": "625e1010",
   "metadata": {},
   "outputs": [],
   "source": [
    "from math import gcd\n",
    "def solution(arr):\n",
    "    def lcm(x,y):\n",
    "        return x * y // gcd(x,y)\n",
    "    while True:\n",
    "        arr.append(lcm(arr.pop(), arr.pop()))\n",
    "        if len(arr)==1:\n",
    "            return arr[0]"
   ]
  },
  {
   "cell_type": "code",
   "execution_count": 46,
   "id": "02d37fff",
   "metadata": {},
   "outputs": [
    {
     "data": {
      "text/plain": [
       "6"
      ]
     },
     "execution_count": 46,
     "metadata": {},
     "output_type": "execute_result"
    }
   ],
   "source": [
    "solution(arr)"
   ]
  },
  {
   "cell_type": "markdown",
   "id": "0d88af39",
   "metadata": {},
   "source": [
    "- 처음 생각, 틀림"
   ]
  },
  {
   "cell_type": "code",
   "execution_count": 50,
   "id": "a63d119c",
   "metadata": {},
   "outputs": [],
   "source": [
    "arr=[2,6,8,14]"
   ]
  },
  {
   "cell_type": "code",
   "execution_count": 51,
   "id": "b9516d25",
   "metadata": {},
   "outputs": [],
   "source": [
    "answer=max(arr)"
   ]
  },
  {
   "cell_type": "code",
   "execution_count": 52,
   "id": "c0d327ef",
   "metadata": {},
   "outputs": [],
   "source": [
    "cnt=0\n",
    "while any(answer%i!=0 for i in arr):\n",
    "    answer=answer*arr[cnt]\n",
    "    cnt+=1"
   ]
  },
  {
   "cell_type": "code",
   "execution_count": 53,
   "id": "93a16a9c",
   "metadata": {},
   "outputs": [
    {
     "data": {
      "text/plain": [
       "168"
      ]
     },
     "execution_count": 53,
     "metadata": {},
     "output_type": "execute_result"
    }
   ],
   "source": [
    "answer"
   ]
  },
  {
   "cell_type": "markdown",
   "id": "e3a0dfb3",
   "metadata": {},
   "source": [
    "- 다른 풀이"
   ]
  },
  {
   "cell_type": "code",
   "execution_count": 54,
   "id": "dda4865c",
   "metadata": {},
   "outputs": [],
   "source": [
    "from fractions import gcd\n",
    "\n",
    "\n",
    "def nlcm(num):      \n",
    "    answer = num[0]\n",
    "    for n in num:\n",
    "        answer = n * answer / gcd(n, answer)\n",
    "\n",
    "    return answer"
   ]
  },
  {
   "cell_type": "code",
   "execution_count": null,
   "id": "fea3eaaa",
   "metadata": {},
   "outputs": [],
   "source": []
  }
 ],
 "metadata": {
  "kernelspec": {
   "display_name": "Python 3",
   "language": "python",
   "name": "python3"
  },
  "language_info": {
   "codemirror_mode": {
    "name": "ipython",
    "version": 3
   },
   "file_extension": ".py",
   "mimetype": "text/x-python",
   "name": "python",
   "nbconvert_exporter": "python",
   "pygments_lexer": "ipython3",
   "version": "3.8.8"
  }
 },
 "nbformat": 4,
 "nbformat_minor": 5
}
