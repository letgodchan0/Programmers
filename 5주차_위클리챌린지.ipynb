{
 "cells": [
  {
   "cell_type": "markdown",
   "id": "3b6f2784",
   "metadata": {},
   "source": [
    "- 날짜: 2021년 9월 29일\n",
    "- 프로그래머스 모음사전\n",
    "- https://programmers.co.kr/learn/courses/30/lessons/84512"
   ]
  },
  {
   "cell_type": "code",
   "execution_count": 1,
   "id": "ccb36af6",
   "metadata": {},
   "outputs": [],
   "source": [
    "def solution(word):\n",
    "    answer = 0\n",
    "    d = {'A': 0, 'E': 1, 'I': 2, 'O': 3, 'U': 4}\n",
    "    arr = [781, 156, 31, 6, 1]\n",
    "    for idx, w in enumerate(word):\n",
    "        answer += d[w]*arr[idx] + 1\n",
    "\n",
    "    return answer"
   ]
  },
  {
   "cell_type": "code",
   "execution_count": 2,
   "id": "167dda83",
   "metadata": {},
   "outputs": [
    {
     "data": {
      "text/plain": [
       "782"
      ]
     },
     "execution_count": 2,
     "metadata": {},
     "output_type": "execute_result"
    }
   ],
   "source": [
    "word='E'\n",
    "solution(word)"
   ]
  },
  {
   "cell_type": "code",
   "execution_count": null,
   "id": "01b1a07c",
   "metadata": {},
   "outputs": [],
   "source": []
  }
 ],
 "metadata": {
  "kernelspec": {
   "display_name": "Python 3",
   "language": "python",
   "name": "python3"
  },
  "language_info": {
   "codemirror_mode": {
    "name": "ipython",
    "version": 3
   },
   "file_extension": ".py",
   "mimetype": "text/x-python",
   "name": "python",
   "nbconvert_exporter": "python",
   "pygments_lexer": "ipython3",
   "version": "3.8.8"
  },
  "toc": {
   "base_numbering": 1,
   "nav_menu": {},
   "number_sections": true,
   "sideBar": true,
   "skip_h1_title": false,
   "title_cell": "Table of Contents",
   "title_sidebar": "Contents",
   "toc_cell": false,
   "toc_position": {},
   "toc_section_display": true,
   "toc_window_display": false
  }
 },
 "nbformat": 4,
 "nbformat_minor": 5
}
