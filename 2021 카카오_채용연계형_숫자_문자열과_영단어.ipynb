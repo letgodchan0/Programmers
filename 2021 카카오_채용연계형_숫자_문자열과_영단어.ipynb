{
 "cells": [
  {
   "cell_type": "code",
   "execution_count": null,
   "id": "800b7905",
   "metadata": {},
   "outputs": [],
   "source": [
    "def solution (s):\n",
    "    "
   ]
  },
  {
   "cell_type": "code",
   "execution_count": 39,
   "id": "a3f94d5c",
   "metadata": {},
   "outputs": [],
   "source": [
    "s='one4seveneightone'"
   ]
  },
  {
   "cell_type": "code",
   "execution_count": 3,
   "id": "a9c1ae78",
   "metadata": {},
   "outputs": [
    {
     "data": {
      "text/plain": [
       "'n'"
      ]
     },
     "execution_count": 3,
     "metadata": {},
     "output_type": "execute_result"
    }
   ],
   "source": [
    "s[1]"
   ]
  },
  {
   "cell_type": "code",
   "execution_count": 41,
   "id": "167a4887",
   "metadata": {},
   "outputs": [],
   "source": [
    "num = ['zero', 'one', 'two', 'three', 'four', 'five', 'six', 'seven', 'eight', 'nine']"
   ]
  },
  {
   "cell_type": "code",
   "execution_count": 42,
   "id": "00d6a580",
   "metadata": {},
   "outputs": [
    {
     "data": {
      "text/plain": [
       "False"
      ]
     },
     "execution_count": 42,
     "metadata": {},
     "output_type": "execute_result"
    }
   ],
   "source": [
    "'one4' in num"
   ]
  },
  {
   "cell_type": "code",
   "execution_count": 46,
   "id": "354aa5bb",
   "metadata": {},
   "outputs": [
    {
     "data": {
      "text/plain": [
       "['one', 'seven', 'eight']"
      ]
     },
     "execution_count": 46,
     "metadata": {},
     "output_type": "execute_result"
    }
   ],
   "source": [
    "temp=[]\n",
    "for i in num:\n",
    "    if i in s:\n",
    "        temp.append(i)\n",
    "temp"
   ]
  },
  {
   "cell_type": "code",
   "execution_count": 23,
   "id": "9f7c8870",
   "metadata": {},
   "outputs": [
    {
     "data": {
      "text/plain": [
       "'3seven'"
      ]
     },
     "execution_count": 23,
     "metadata": {},
     "output_type": "execute_result"
    }
   ],
   "source": [
    "a= '3'+'seven'\n",
    "a"
   ]
  },
  {
   "cell_type": "code",
   "execution_count": 48,
   "id": "763f1bbc",
   "metadata": {},
   "outputs": [],
   "source": [
    "s='2three45sixseven'"
   ]
  },
  {
   "cell_type": "code",
   "execution_count": 55,
   "id": "3ad8f225",
   "metadata": {},
   "outputs": [
    {
     "name": "stdout",
     "output_type": "stream",
     "text": [
      "[0, 6, 7]\n",
      "three\n"
     ]
    }
   ],
   "source": [
    "temp=[]\n",
    "for i,j in enumerate(s):\n",
    "    try:\n",
    "        int(j)\n",
    "#         print(i, j)\n",
    "        temp.append(int(i))\n",
    "    except:\n",
    "        pass\n",
    "print(temp)\n",
    "print(s[temp[0]+1:temp[1]])"
   ]
  },
  {
   "cell_type": "code",
   "execution_count": 38,
   "id": "b2cf0c6a",
   "metadata": {},
   "outputs": [
    {
     "name": "stdout",
     "output_type": "stream",
     "text": [
      "6\n",
      "1\n"
     ]
    }
   ],
   "source": [
    "for i in range(len(temp)):\n",
    "    try:\n",
    "        print(temp[i+1]- temp[i])\n",
    "    except:\n",
    "        pass"
   ]
  },
  {
   "cell_type": "code",
   "execution_count": 59,
   "id": "dc75cab4",
   "metadata": {},
   "outputs": [],
   "source": [
    "# 풀이"
   ]
  },
  {
   "cell_type": "code",
   "execution_count": 60,
   "id": "2a800508",
   "metadata": {},
   "outputs": [],
   "source": [
    "number = {\"zero\":\"0\", \"one\":\"1\", \"two\":\"2\", \"three\":\"3\", \"four\":\"4\", \"five\":\"5\", \"six\":\"6\", \"seven\":\"7\", \"eight\":\"8\", \"nine\":\"9\"}\n",
    "\n",
    "def solution(s):\n",
    "    for key, value in number.items():\n",
    "        s = s.replace(key, value)\n",
    "    return int(s)"
   ]
  },
  {
   "cell_type": "code",
   "execution_count": 61,
   "id": "fdd45a74",
   "metadata": {},
   "outputs": [
    {
     "data": {
      "text/plain": [
       "234567"
      ]
     },
     "execution_count": 61,
     "metadata": {},
     "output_type": "execute_result"
    }
   ],
   "source": [
    "solution(s)"
   ]
  },
  {
   "cell_type": "code",
   "execution_count": 56,
   "id": "c40e17fa",
   "metadata": {},
   "outputs": [],
   "source": [
    "# 민수형"
   ]
  },
  {
   "cell_type": "code",
   "execution_count": 57,
   "id": "9599f7b8",
   "metadata": {},
   "outputs": [],
   "source": [
    "def solution(s):\n",
    "    num = ['0', '1', '2', '3', '4', '5', '6', '7', '8', '9']\n",
    "    num_str = ['zero', 'one', 'two', 'three', 'four',\n",
    "               'five', 'six' ,'seven' , 'eight', 'nine']\n",
    "    for i, j in zip(num, num_str):\n",
    "        s = s.replace(j, i)\n",
    "    return int(s)"
   ]
  },
  {
   "cell_type": "code",
   "execution_count": 58,
   "id": "28afd5da",
   "metadata": {},
   "outputs": [
    {
     "data": {
      "text/plain": [
       "234567"
      ]
     },
     "execution_count": 58,
     "metadata": {},
     "output_type": "execute_result"
    }
   ],
   "source": [
    "solution(s)"
   ]
  },
  {
   "cell_type": "code",
   "execution_count": null,
   "id": "2c3aa555",
   "metadata": {},
   "outputs": [],
   "source": []
  }
 ],
 "metadata": {
  "kernelspec": {
   "display_name": "Python 3",
   "language": "python",
   "name": "python3"
  },
  "language_info": {
   "codemirror_mode": {
    "name": "ipython",
    "version": 3
   },
   "file_extension": ".py",
   "mimetype": "text/x-python",
   "name": "python",
   "nbconvert_exporter": "python",
   "pygments_lexer": "ipython3",
   "version": "3.8.8"
  },
  "toc": {
   "base_numbering": 1,
   "nav_menu": {},
   "number_sections": true,
   "sideBar": true,
   "skip_h1_title": false,
   "title_cell": "Table of Contents",
   "title_sidebar": "Contents",
   "toc_cell": false,
   "toc_position": {},
   "toc_section_display": true,
   "toc_window_display": false
  }
 },
 "nbformat": 4,
 "nbformat_minor": 5
}
