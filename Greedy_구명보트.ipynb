{
 "cells": [
  {
   "cell_type": "markdown",
   "id": "c572651e",
   "metadata": {},
   "source": [
    "- 2022년 1월 1일\n",
    "- 프로그래머스 구명보트\n",
    "- https://programmers.co.kr/learn/courses/30/lessons/42885"
   ]
  },
  {
   "cell_type": "markdown",
   "id": "d26f4700",
   "metadata": {},
   "source": [
    "- 테스트케이스 4개정도 런타임 에러 뜸"
   ]
  },
  {
   "cell_type": "code",
   "execution_count": 1,
   "id": "04ddc94f",
   "metadata": {},
   "outputs": [],
   "source": [
    "def solution(people, limit):\n",
    "    end=len(people)-1\n",
    "    one=[]\n",
    "    two=[]\n",
    "    people.sort()\n",
    "    for i in range(len(people)):\n",
    "        while True:\n",
    "            if people[i]+ people[end]>limit:\n",
    "                one.append(people[end])\n",
    "                end-=1\n",
    "            else:\n",
    "#                 two.append([i,end,people[i],people[end]])\n",
    "                two.append(sorted([i,end]))\n",
    "                end-=1\n",
    "                break\n",
    "        if end==0:\n",
    "            break\n",
    "    two=list(map(tuple, two))\n",
    "    return len(set(two))+len(one)"
   ]
  },
  {
   "cell_type": "code",
   "execution_count": null,
   "id": "b80e5452",
   "metadata": {},
   "outputs": [],
   "source": []
  },
  {
   "cell_type": "markdown",
   "id": "193c2162",
   "metadata": {},
   "source": [
    "- 최종 통과"
   ]
  },
  {
   "cell_type": "code",
   "execution_count": 2,
   "id": "68a285b1",
   "metadata": {},
   "outputs": [],
   "source": [
    "def solution(people, limit):\n",
    "    people.sort()\n",
    "    answer=0\n",
    "    start=0\n",
    "    end=len(people)-1\n",
    "    while start < end:\n",
    "        if people[start]+people[end] > limit:\n",
    "            end-=1\n",
    "        else:\n",
    "            start+=1\n",
    "            end-=1\n",
    "        answer+=1\n",
    "        \n",
    "        if start==end:\n",
    "            answer+=1\n",
    "    return answer"
   ]
  },
  {
   "cell_type": "code",
   "execution_count": null,
   "id": "d448c38e",
   "metadata": {},
   "outputs": [],
   "source": []
  }
 ],
 "metadata": {
  "kernelspec": {
   "display_name": "Python 3",
   "language": "python",
   "name": "python3"
  },
  "language_info": {
   "codemirror_mode": {
    "name": "ipython",
    "version": 3
   },
   "file_extension": ".py",
   "mimetype": "text/x-python",
   "name": "python",
   "nbconvert_exporter": "python",
   "pygments_lexer": "ipython3",
   "version": "3.6.13"
  }
 },
 "nbformat": 4,
 "nbformat_minor": 5
}
