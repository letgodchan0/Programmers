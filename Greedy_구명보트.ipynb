{
 "cells": [
  {
   "cell_type": "markdown",
   "id": "129e5f05",
   "metadata": {},
   "source": [
    "- 2022년 1월 1일\n",
    "- 프로그래머스 구명보트\n",
    "- https://programmers.co.kr/learn/courses/30/lessons/42885"
   ]
  },
  {
   "cell_type": "code",
   "execution_count": 1,
   "id": "e6ddf25f",
   "metadata": {},
   "outputs": [],
   "source": [
    "def solution(people, limit):\n",
    "    answer = 0\n",
    "    return answer"
   ]
  },
  {
   "cell_type": "code",
   "execution_count": 22,
   "id": "07b32054",
   "metadata": {},
   "outputs": [],
   "source": [
    "people=[70, 80, 50]\n",
    "limit=100"
   ]
  },
  {
   "cell_type": "code",
   "execution_count": 23,
   "id": "4a5d4a55",
   "metadata": {},
   "outputs": [
    {
     "name": "stdout",
     "output_type": "stream",
     "text": [
      "if 1\n",
      "else 2\n",
      "else 3\n"
     ]
    }
   ],
   "source": [
    "cnt=0\n",
    "people.sort()\n",
    "while people:\n",
    "    if len(people)>=2 and people[0]+people[1] <= limit:\n",
    "        cnt+=1\n",
    "        people.pop(0)\n",
    "        people.pop(0)\n",
    "        print('if', cnt)\n",
    "    else:\n",
    "        people.pop(0)\n",
    "        cnt+=1\n",
    "        print('else',cnt)"
   ]
  },
  {
   "cell_type": "code",
   "execution_count": 24,
   "id": "3d105e97",
   "metadata": {},
   "outputs": [
    {
     "data": {
      "text/plain": [
       "3"
      ]
     },
     "execution_count": 24,
     "metadata": {},
     "output_type": "execute_result"
    }
   ],
   "source": [
    "cnt"
   ]
  },
  {
   "cell_type": "code",
   "execution_count": 25,
   "id": "74b7d85b",
   "metadata": {},
   "outputs": [],
   "source": [
    "def solution(people, limit):\n",
    "    answer = 0\n",
    "    people.sort()\n",
    "    while people:\n",
    "        if len(people)>=2 and people[0]+people[1] <= limit:\n",
    "            people.pop(0)\n",
    "            people.pop(0)\n",
    "            answer+=1\n",
    "        else:\n",
    "            people.pop(0)\n",
    "            answer+=1\n",
    "    return answer"
   ]
  },
  {
   "cell_type": "code",
   "execution_count": 92,
   "id": "18ff230c",
   "metadata": {},
   "outputs": [],
   "source": [
    "people=[40,50,150,160]\n",
    "limit=200"
   ]
  },
  {
   "cell_type": "code",
   "execution_count": 37,
   "id": "4bd4e0c5",
   "metadata": {},
   "outputs": [
    {
     "data": {
      "text/plain": [
       "3"
      ]
     },
     "execution_count": 37,
     "metadata": {},
     "output_type": "execute_result"
    }
   ],
   "source": [
    "solution(people, limit)"
   ]
  },
  {
   "cell_type": "code",
   "execution_count": null,
   "id": "4f2a6311",
   "metadata": {},
   "outputs": [],
   "source": []
  },
  {
   "cell_type": "code",
   "execution_count": null,
   "id": "2a7b5efb",
   "metadata": {},
   "outputs": [],
   "source": []
  },
  {
   "cell_type": "code",
   "execution_count": null,
   "id": "57b48afb",
   "metadata": {},
   "outputs": [],
   "source": []
  },
  {
   "cell_type": "code",
   "execution_count": 82,
   "id": "88b41cb5",
   "metadata": {},
   "outputs": [],
   "source": [
    "def solution(people, limit):\n",
    "    answer=[]\n",
    "    for i in range(len(people)):\n",
    "        check=[]\n",
    "        end=0\n",
    "        while end<len(people):\n",
    "            if people[i]+people[end] <=limit:\n",
    "                check.append([people[i],people[end]])\n",
    "            else:\n",
    "                check.append([people[i]])\n",
    "            end+=1\n",
    "        answer.append(sorted(max(check)))\n",
    "    answer=list(map(tuple, answer))\n",
    "    return len(set(answer))"
   ]
  },
  {
   "cell_type": "code",
   "execution_count": 88,
   "id": "5ebe3fdc",
   "metadata": {},
   "outputs": [],
   "source": [
    "people=[40,40,40]\n",
    "limit = 100"
   ]
  },
  {
   "cell_type": "code",
   "execution_count": 89,
   "id": "bed2f2fe",
   "metadata": {},
   "outputs": [
    {
     "data": {
      "text/plain": [
       "1"
      ]
     },
     "execution_count": 89,
     "metadata": {},
     "output_type": "execute_result"
    }
   ],
   "source": [
    "solution(people, limit)"
   ]
  },
  {
   "cell_type": "code",
   "execution_count": 94,
   "id": "e041d0d2",
   "metadata": {},
   "outputs": [],
   "source": [
    "people=[40,50,150,160,40,50,150,160]\n",
    "limit=200"
   ]
  },
  {
   "cell_type": "code",
   "execution_count": 95,
   "id": "29aab878",
   "metadata": {},
   "outputs": [
    {
     "data": {
      "text/plain": [
       "[[40, 160],\n",
       " [40, 160],\n",
       " [50, 150],\n",
       " [50, 150],\n",
       " [50, 150],\n",
       " [50, 150],\n",
       " [40, 160],\n",
       " [40, 160]]"
      ]
     },
     "execution_count": 95,
     "metadata": {},
     "output_type": "execute_result"
    }
   ],
   "source": [
    "answer=[]\n",
    "people.sort()\n",
    "for i in range(len(people)):\n",
    "    check=[]\n",
    "    end=0\n",
    "    while end<len(people):\n",
    "        if people[i]+people[end] <=limit:\n",
    "            check.append([people[i],people[end]])\n",
    "        else:\n",
    "            check.append([people[i]])\n",
    "        end+=1\n",
    "    answer.append(sorted(max(check)))\n",
    "answer"
   ]
  },
  {
   "cell_type": "code",
   "execution_count": 97,
   "id": "5ca051db",
   "metadata": {},
   "outputs": [
    {
     "data": {
      "text/plain": [
       "[40, 40, 50, 50, 150, 150, 160, 160, 170]"
      ]
     },
     "execution_count": 97,
     "metadata": {},
     "output_type": "execute_result"
    }
   ],
   "source": [
    "people=[40,50,150,160,40,50,150,160,170]\n",
    "limit=200\n",
    "people.sort()\n",
    "people"
   ]
  },
  {
   "cell_type": "code",
   "execution_count": 103,
   "id": "c6899164",
   "metadata": {},
   "outputs": [
    {
     "name": "stdout",
     "output_type": "stream",
     "text": [
      "0 8\n",
      "1 6\n",
      "2 5\n",
      "3 4\n",
      "4 3\n",
      "5 2\n",
      "6 1\n",
      "7 0\n"
     ]
    },
    {
     "data": {
      "text/plain": [
       "[[40, 160],\n",
       " [40, 160],\n",
       " [50, 150],\n",
       " [50, 150],\n",
       " [150, 50],\n",
       " [150, 50],\n",
       " [160, 40],\n",
       " [160, 40]]"
      ]
     },
     "execution_count": 103,
     "metadata": {},
     "output_type": "execute_result"
    }
   ],
   "source": [
    "end=len(people)-1\n",
    "one=[]\n",
    "two=[]\n",
    "for i in range(len(people)):\n",
    "    print(i, end)\n",
    "    while True:\n",
    "        if people[i]+ people[end]>limit:\n",
    "            one.append(people[end])\n",
    "            end-=1\n",
    "        else:\n",
    "            two.append([people[i],people[end]])\n",
    "            end-=1\n",
    "            break\n",
    "    if end<0:\n",
    "        break\n",
    "two"
   ]
  },
  {
   "cell_type": "code",
   "execution_count": null,
   "id": "786ea647",
   "metadata": {},
   "outputs": [],
   "source": [
    "people=[40,50,150,160,40,50,150,160,170]"
   ]
  }
 ],
 "metadata": {
  "kernelspec": {
   "display_name": "Python 3",
   "language": "python",
   "name": "python3"
  },
  "language_info": {
   "codemirror_mode": {
    "name": "ipython",
    "version": 3
   },
   "file_extension": ".py",
   "mimetype": "text/x-python",
   "name": "python",
   "nbconvert_exporter": "python",
   "pygments_lexer": "ipython3",
   "version": "3.6.13"
  }
 },
 "nbformat": 4,
 "nbformat_minor": 5
}
