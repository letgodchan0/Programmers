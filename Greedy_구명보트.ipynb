{
 "cells": [
  {
   "cell_type": "markdown",
   "id": "5956ab8f",
   "metadata": {},
   "source": [
    "- 2022년 1월 1일\n",
    "- 프로그래머스 구명보트\n",
    "- https://programmers.co.kr/learn/courses/30/lessons/42885"
   ]
  },
  {
   "cell_type": "code",
   "execution_count": 1,
   "id": "30ee9f08",
   "metadata": {},
   "outputs": [],
   "source": [
    "def solution(people, limit):\n",
    "    answer = 0\n",
    "    return answer"
   ]
  },
  {
   "cell_type": "code",
   "execution_count": 22,
   "id": "59a2ffa1",
   "metadata": {},
   "outputs": [],
   "source": [
    "people=[70, 80, 50]\n",
    "limit=100"
   ]
  },
  {
   "cell_type": "code",
   "execution_count": 23,
   "id": "6c688299",
   "metadata": {},
   "outputs": [
    {
     "name": "stdout",
     "output_type": "stream",
     "text": [
      "if 1\n",
      "else 2\n",
      "else 3\n"
     ]
    }
   ],
   "source": [
    "cnt=0\n",
    "people.sort()\n",
    "while people:\n",
    "    if len(people)>=2 and people[0]+people[1] <= limit:\n",
    "        cnt+=1\n",
    "        people.pop(0)\n",
    "        people.pop(0)\n",
    "        print('if', cnt)\n",
    "    else:\n",
    "        people.pop(0)\n",
    "        cnt+=1\n",
    "        print('else',cnt)"
   ]
  },
  {
   "cell_type": "code",
   "execution_count": 24,
   "id": "169b0a60",
   "metadata": {},
   "outputs": [
    {
     "data": {
      "text/plain": [
       "3"
      ]
     },
     "execution_count": 24,
     "metadata": {},
     "output_type": "execute_result"
    }
   ],
   "source": [
    "cnt"
   ]
  },
  {
   "cell_type": "code",
   "execution_count": 25,
   "id": "b201109e",
   "metadata": {},
   "outputs": [],
   "source": [
    "def solution(people, limit):\n",
    "    answer = 0\n",
    "    people.sort()\n",
    "    while people:\n",
    "        if len(people)>=2 and people[0]+people[1] <= limit:\n",
    "            people.pop(0)\n",
    "            people.pop(0)\n",
    "            answer+=1\n",
    "        else:\n",
    "            people.pop(0)\n",
    "            answer+=1\n",
    "    return answer"
   ]
  },
  {
   "cell_type": "code",
   "execution_count": 38,
   "id": "270bc59c",
   "metadata": {},
   "outputs": [],
   "source": [
    "people=[40,50,150,160]\n",
    "limit=200"
   ]
  },
  {
   "cell_type": "code",
   "execution_count": 37,
   "id": "0ca78ba6",
   "metadata": {},
   "outputs": [
    {
     "data": {
      "text/plain": [
       "3"
      ]
     },
     "execution_count": 37,
     "metadata": {},
     "output_type": "execute_result"
    }
   ],
   "source": [
    "solution(people, limit)"
   ]
  },
  {
   "cell_type": "code",
   "execution_count": 39,
   "id": "00c5a730",
   "metadata": {},
   "outputs": [],
   "source": [
    "people.remove(160)"
   ]
  },
  {
   "cell_type": "code",
   "execution_count": 41,
   "id": "0b72ccf4",
   "metadata": {},
   "outputs": [
    {
     "data": {
      "text/plain": [
       "[40, 50, 150]"
      ]
     },
     "execution_count": 41,
     "metadata": {},
     "output_type": "execute_result"
    }
   ],
   "source": [
    "people"
   ]
  },
  {
   "cell_type": "code",
   "execution_count": null,
   "id": "3a37e820",
   "metadata": {},
   "outputs": [],
   "source": []
  }
 ],
 "metadata": {
  "kernelspec": {
   "display_name": "Python 3",
   "language": "python",
   "name": "python3"
  },
  "language_info": {
   "codemirror_mode": {
    "name": "ipython",
    "version": 3
   },
   "file_extension": ".py",
   "mimetype": "text/x-python",
   "name": "python",
   "nbconvert_exporter": "python",
   "pygments_lexer": "ipython3",
   "version": "3.6.13"
  }
 },
 "nbformat": 4,
 "nbformat_minor": 5
}
