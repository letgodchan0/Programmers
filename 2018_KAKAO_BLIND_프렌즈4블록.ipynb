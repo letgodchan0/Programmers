{
 "cells": [
  {
   "cell_type": "markdown",
   "id": "984c4f14",
   "metadata": {},
   "source": [
    "- 2021년 12월 19일\n",
    "- 프로그래머스 프렌즈 4블록\n",
    "- https://programmers.co.kr/learn/courses/30/lessons/17679"
   ]
  },
  {
   "cell_type": "markdown",
   "id": "f5f83215",
   "metadata": {},
   "source": [
    "- 왼쪽 위를 찾자"
   ]
  },
  {
   "cell_type": "code",
   "execution_count": 1,
   "id": "7a7d2e79",
   "metadata": {},
   "outputs": [],
   "source": [
    "def find(m,n,board):\n",
    "    tmp=[]\n",
    "    cnt=0 # 팡팡의 갯수를 세주기 위해서    \n",
    "    for i in range(m-1):\n",
    "        for j in range(n-1):\n",
    "            if board[i][j]!=board[i][j+1]:\n",
    "                continue\n",
    "            else:\n",
    "                if board[i+1][j]==board[i][j] and board[i+1][j+1]==board[i][j] and board[i][j]!='팡팡':\n",
    "                    tmp.append([i,j])\n",
    "    for i in tmp:\n",
    "        a=i[0]\n",
    "        b=i[1]\n",
    "        board[a][b]='팡팡'\n",
    "        board[a+1][b]='팡팡'\n",
    "        board[a][b+1]='팡팡'\n",
    "        board[a+1][b+1]='팡팡'\n",
    "    \n",
    "    board=list(zip(*board))\n",
    "    board=list(map(list, board))\n",
    "    new_board=[]\n",
    "    for i in board:\n",
    "        new_board.append(sorted(i, key=lambda x: -len(x)))\n",
    "    new_board=list(zip(*new_board))\n",
    "    new_board=list(map(list, new_board))\n",
    "    \n",
    "    return new_board\n",
    "\n",
    "def solution(m, n, board):\n",
    "    board=list(map(list, board))\n",
    "    answer=find(m,n,board)\n",
    "    if answer!=board:\n",
    "        while True:\n",
    "            if answer==find(m,n,answer):\n",
    "                break\n",
    "            else:\n",
    "                answer=find(m,n,answer)\n",
    "    cnt=0\n",
    "    for i in answer:\n",
    "        for j in i:\n",
    "            if j=='팡팡':\n",
    "                cnt+=1\n",
    "    return cnt"
   ]
  },
  {
   "cell_type": "code",
   "execution_count": 2,
   "id": "6b76caa5",
   "metadata": {},
   "outputs": [],
   "source": [
    "m=4\n",
    "n=5\n",
    "board=[\"CCBDE\", \"AAADE\", \"AAABF\", \"CCBBF\"]"
   ]
  },
  {
   "cell_type": "code",
   "execution_count": 3,
   "id": "8365b099",
   "metadata": {},
   "outputs": [
    {
     "data": {
      "text/plain": [
       "14"
      ]
     },
     "execution_count": 3,
     "metadata": {},
     "output_type": "execute_result"
    }
   ],
   "source": [
    "solution(m,n,board)"
   ]
  },
  {
   "cell_type": "code",
   "execution_count": null,
   "id": "d10a7c9d",
   "metadata": {},
   "outputs": [],
   "source": []
  },
  {
   "cell_type": "code",
   "execution_count": null,
   "id": "7aa04a68",
   "metadata": {},
   "outputs": [],
   "source": []
  }
 ],
 "metadata": {
  "kernelspec": {
   "display_name": "Python 3",
   "language": "python",
   "name": "python3"
  },
  "language_info": {
   "codemirror_mode": {
    "name": "ipython",
    "version": 3
   },
   "file_extension": ".py",
   "mimetype": "text/x-python",
   "name": "python",
   "nbconvert_exporter": "python",
   "pygments_lexer": "ipython3",
   "version": "3.8.8"
  }
 },
 "nbformat": 4,
 "nbformat_minor": 5
}
