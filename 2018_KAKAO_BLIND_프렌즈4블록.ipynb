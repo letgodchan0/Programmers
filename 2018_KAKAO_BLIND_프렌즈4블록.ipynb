{
 "cells": [
  {
   "cell_type": "markdown",
   "id": "984c4f14",
   "metadata": {},
   "source": [
    "- 2021년 12월 19일\n",
    "- 프로그래머스 프렌즈 4블록\n",
    "- https://programmers.co.kr/learn/courses/30/lessons/17679"
   ]
  },
  {
   "cell_type": "code",
   "execution_count": 1,
   "id": "c2627ab3",
   "metadata": {},
   "outputs": [],
   "source": [
    "def solution(m, n, board):\n",
    "    answer = 0\n",
    "    return answer"
   ]
  },
  {
   "cell_type": "code",
   "execution_count": 2,
   "id": "80b5b52e",
   "metadata": {},
   "outputs": [],
   "source": [
    "m=4\n",
    "n=5\n",
    "board=[\"CCBDE\", \"AAADE\", \"AAABF\", \"CCBBF\"]"
   ]
  },
  {
   "cell_type": "code",
   "execution_count": null,
   "id": "9067a0b0",
   "metadata": {},
   "outputs": [],
   "source": [
    "for i in range(len(board)):\n",
    "    for j in range(len(i)):\n",
    "        "
   ]
  }
 ],
 "metadata": {
  "kernelspec": {
   "display_name": "Python 3",
   "language": "python",
   "name": "python3"
  },
  "language_info": {
   "codemirror_mode": {
    "name": "ipython",
    "version": 3
   },
   "file_extension": ".py",
   "mimetype": "text/x-python",
   "name": "python",
   "nbconvert_exporter": "python",
   "pygments_lexer": "ipython3",
   "version": "3.8.8"
  }
 },
 "nbformat": 4,
 "nbformat_minor": 5
}
