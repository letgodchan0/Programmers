{
 "cells": [
  {
   "cell_type": "markdown",
   "id": "984c4f14",
   "metadata": {},
   "source": [
    "- 2021년 12월 19일\n",
    "- 프로그래머스 프렌즈 4블록\n",
    "- https://programmers.co.kr/learn/courses/30/lessons/17679"
   ]
  },
  {
   "cell_type": "code",
   "execution_count": 2,
   "id": "c2627ab3",
   "metadata": {},
   "outputs": [],
   "source": [
    "def solution(m, n, board):\n",
    "    answer = 0\n",
    "    return answer"
   ]
  },
  {
   "cell_type": "code",
   "execution_count": 104,
   "id": "80b5b52e",
   "metadata": {},
   "outputs": [],
   "source": [
    "m=6\n",
    "n=6\n",
    "board=[\"TTTANT\", \"RRFACC\", \"RRRFCC\", \"TRRRAA\", \"TTMMMF\", \"TMMTTJ\"]"
   ]
  },
  {
   "cell_type": "code",
   "execution_count": 105,
   "id": "4685b0f4",
   "metadata": {},
   "outputs": [
    {
     "data": {
      "text/plain": [
       "[['T', 'T', 'T', 'A', 'N', 'T'],\n",
       " ['R', 'R', 'F', 'A', 'C', 'C'],\n",
       " ['R', 'R', 'R', 'F', 'C', 'C'],\n",
       " ['T', 'R', 'R', 'R', 'A', 'A'],\n",
       " ['T', 'T', 'M', 'M', 'M', 'F'],\n",
       " ['T', 'M', 'M', 'T', 'T', 'J']]"
      ]
     },
     "execution_count": 105,
     "metadata": {},
     "output_type": "execute_result"
    }
   ],
   "source": [
    "board=list(map(list, board))\n",
    "# board=list(zip(*board))\n",
    "board"
   ]
  },
  {
   "cell_type": "markdown",
   "id": "bce3b3bf",
   "metadata": {},
   "source": [
    "- 왼쪽 위를 찾자"
   ]
  },
  {
   "cell_type": "code",
   "execution_count": 106,
   "id": "2cc45a47",
   "metadata": {},
   "outputs": [],
   "source": [
    "tmp=[]\n",
    "for i in range(m-1):\n",
    "    for j in range(n-1):\n",
    "        if board[i][j]!=board[i][j+1]:\n",
    "            continue\n",
    "        else:\n",
    "            if board[i+1][j]==board[i][j] and board[i+1][j+1]==board[i][j]:\n",
    "                tmp.append([i,j])"
   ]
  },
  {
   "cell_type": "code",
   "execution_count": 107,
   "id": "2f09e631",
   "metadata": {},
   "outputs": [
    {
     "data": {
      "text/plain": [
       "[[1, 0], [1, 4], [2, 1]]"
      ]
     },
     "execution_count": 107,
     "metadata": {},
     "output_type": "execute_result"
    }
   ],
   "source": [
    "tmp"
   ]
  },
  {
   "cell_type": "code",
   "execution_count": 108,
   "id": "f17b5e7c",
   "metadata": {},
   "outputs": [
    {
     "data": {
      "text/plain": [
       "[['T', 'T', 'T', 'A', 'N', 'T'],\n",
       " ['팡', '팡', 'F', 'A', '팡', '팡'],\n",
       " ['팡', '팡', '팡', 'F', '팡', '팡'],\n",
       " ['T', '팡', '팡', 'R', 'A', 'A'],\n",
       " ['T', 'T', 'M', 'M', 'M', 'F'],\n",
       " ['T', 'M', 'M', 'T', 'T', 'J']]"
      ]
     },
     "execution_count": 108,
     "metadata": {},
     "output_type": "execute_result"
    }
   ],
   "source": [
    "for i in tmp:\n",
    "    a=i[0]\n",
    "    b=i[1]\n",
    "    board[a][b]='팡'\n",
    "    board[a+1][b]='팡'\n",
    "    board[a][b+1]='팡'\n",
    "    board[a+1][b+1]='팡'\n",
    "board"
   ]
  },
  {
   "cell_type": "code",
   "execution_count": 110,
   "id": "85fc3670",
   "metadata": {},
   "outputs": [
    {
     "data": {
      "text/plain": [
       "[['T', 'T', 'T', 'A', 'N', 'T'],\n",
       " ['팡', '팡', 'F', 'A', '팡', '팡'],\n",
       " ['팡', '팡', '팡', 'F', '팡', '팡'],\n",
       " ['T', '팡', '팡', 'R', 'A', 'A'],\n",
       " ['T', 'T', 'M', 'M', 'M', 'F'],\n",
       " ['T', 'M', 'M', 'T', 'T', 'J']]"
      ]
     },
     "execution_count": 110,
     "metadata": {},
     "output_type": "execute_result"
    }
   ],
   "source": [
    "for i in list(map(list,(zip(*board)))):\n",
    "    i.sort(reverse=True)\n",
    "board"
   ]
  },
  {
   "cell_type": "code",
   "execution_count": 103,
   "id": "1534afa9",
   "metadata": {},
   "outputs": [
    {
     "data": {
      "text/plain": [
       "[['팡', '팡', '팡', 'T', '팡', '팡'],\n",
       " ['팡', '팡', '팡', 'R', '팡', '팡'],\n",
       " ['T', '팡', 'T', 'M', 'T', 'T'],\n",
       " ['T', 'T', 'M', 'F', 'N', 'J'],\n",
       " ['T', 'T', 'M', 'A', 'M', 'F'],\n",
       " ['T', 'M', 'F', 'A', 'A', 'A']]"
      ]
     },
     "execution_count": 103,
     "metadata": {},
     "output_type": "execute_result"
    }
   ],
   "source": [
    "board=list(map(list,zip(*board)))\n",
    "board"
   ]
  },
  {
   "cell_type": "code",
   "execution_count": 91,
   "id": "5eed1afe",
   "metadata": {},
   "outputs": [],
   "source": [
    "tmp=[]\n",
    "for i in range(m-1):\n",
    "    for j in range(n-1):\n",
    "        if board[i][j]!=board[i][j+1] and board[i][j]!='팡':\n",
    "            continue\n",
    "        else:\n",
    "            if board[i+1][j]==board[i][j] and board[i+1][j+1]==board[i][j]:\n",
    "                tmp.append([i,j])"
   ]
  },
  {
   "cell_type": "code",
   "execution_count": 92,
   "id": "b33a8d76",
   "metadata": {},
   "outputs": [
    {
     "data": {
      "text/plain": [
       "[['T', '팡', '팡', 'T', '팡', '팡'],\n",
       " ['M', '팡', '팡', '팡', '팡', '팡'],\n",
       " ['F', 'M', 'M', 'T', '팡', '팡'],\n",
       " ['A', 'A', 'F', 'M', 'R', 'T'],\n",
       " ['A', 'M', 'N', 'T', '팡', '팡'],\n",
       " ['A', 'F', 'J', 'T', '팡', '팡']]"
      ]
     },
     "execution_count": 92,
     "metadata": {},
     "output_type": "execute_result"
    }
   ],
   "source": [
    "for i in tmp:\n",
    "    a=i[0]\n",
    "    b=i[1]\n",
    "    board[a][b]='팡'\n",
    "    board[a+1][b]='팡'\n",
    "    board[a][b+1]='팡'\n",
    "    board[a+1][b+1]='팡'\n",
    "board"
   ]
  },
  {
   "cell_type": "code",
   "execution_count": 93,
   "id": "72991ce4",
   "metadata": {},
   "outputs": [
    {
     "data": {
      "text/plain": [
       "[('T', 'M', 'F', 'A', 'A', 'A'),\n",
       " ('팡', '팡', 'M', 'A', 'M', 'F'),\n",
       " ('팡', '팡', 'M', 'F', 'N', 'J'),\n",
       " ('T', '팡', 'T', 'M', 'T', 'T'),\n",
       " ('팡', '팡', '팡', 'R', '팡', '팡'),\n",
       " ('팡', '팡', '팡', 'T', '팡', '팡')]"
      ]
     },
     "execution_count": 93,
     "metadata": {},
     "output_type": "execute_result"
    }
   ],
   "source": [
    "board=list(zip(*board))\n",
    "board"
   ]
  },
  {
   "cell_type": "code",
   "execution_count": null,
   "id": "d5332887",
   "metadata": {},
   "outputs": [],
   "source": []
  }
 ],
 "metadata": {
  "kernelspec": {
   "display_name": "Python 3",
   "language": "python",
   "name": "python3"
  },
  "language_info": {
   "codemirror_mode": {
    "name": "ipython",
    "version": 3
   },
   "file_extension": ".py",
   "mimetype": "text/x-python",
   "name": "python",
   "nbconvert_exporter": "python",
   "pygments_lexer": "ipython3",
   "version": "3.8.8"
  }
 },
 "nbformat": 4,
 "nbformat_minor": 5
}
