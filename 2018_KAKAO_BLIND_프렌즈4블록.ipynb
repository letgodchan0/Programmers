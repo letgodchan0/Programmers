{
 "cells": [
  {
   "cell_type": "markdown",
   "id": "984c4f14",
   "metadata": {},
   "source": [
    "- 2021년 12월 19일\n",
    "- 프로그래머스 프렌즈 4블록\n",
    "- https://programmers.co.kr/learn/courses/30/lessons/17679"
   ]
  },
  {
   "cell_type": "code",
   "execution_count": 232,
   "id": "c2627ab3",
   "metadata": {},
   "outputs": [],
   "source": [
    "def solution(m, n, board):\n",
    "    board=list(map(list, board))\n",
    "    answer = 0\n",
    "    return answer"
   ]
  },
  {
   "cell_type": "code",
   "execution_count": 266,
   "id": "80b5b52e",
   "metadata": {},
   "outputs": [],
   "source": [
    "m=6\n",
    "n=6\n",
    "board=[\"TTTANT\", \"RRFACC\", \"RRRFCC\", \"TRRRAA\", \"TTMMMF\", \"TMMTTJ\"]"
   ]
  },
  {
   "cell_type": "code",
   "execution_count": 267,
   "id": "89aed295",
   "metadata": {},
   "outputs": [
    {
     "data": {
      "text/plain": [
       "[['T', 'T', 'T', 'A', 'N', 'T'],\n",
       " ['R', 'R', 'F', 'A', 'C', 'C'],\n",
       " ['R', 'R', 'R', 'F', 'C', 'C'],\n",
       " ['T', 'R', 'R', 'R', 'A', 'A'],\n",
       " ['T', 'T', 'M', 'M', 'M', 'F'],\n",
       " ['T', 'M', 'M', 'T', 'T', 'J']]"
      ]
     },
     "execution_count": 267,
     "metadata": {},
     "output_type": "execute_result"
    }
   ],
   "source": [
    "board=list(map(list, board))\n",
    "# board=list(zip(*board))\n",
    "board"
   ]
  },
  {
   "cell_type": "markdown",
   "id": "c1073f63",
   "metadata": {},
   "source": [
    "- 왼쪽 위를 찾자"
   ]
  },
  {
   "cell_type": "code",
   "execution_count": 274,
   "id": "73ec2e00",
   "metadata": {},
   "outputs": [],
   "source": [
    "def find(m,n,board):\n",
    "    tmp=[]\n",
    "    for i in range(m-1):\n",
    "        for j in range(n-1):\n",
    "            if board[i][j]!=board[i][j+1]:\n",
    "                continue\n",
    "            else:\n",
    "                if board[i+1][j]==board[i][j] and board[i+1][j+1]==board[i][j] and board[i][j]!='팡팡':\n",
    "                    tmp.append([i,j])\n",
    "    for i in tmp:\n",
    "        a=i[0]\n",
    "        b=i[1]\n",
    "        board[a][b]='팡팡'\n",
    "        board[a+1][b]='팡팡'\n",
    "        board[a][b+1]='팡팡'\n",
    "        board[a+1][b+1]='팡팡'\n",
    "    \n",
    "    board=list(zip(*board))\n",
    "    board=list(map(list, board))\n",
    "    new_board=[]\n",
    "    for i in board:\n",
    "        new_board.append(sorted(i, key=lambda x: -len(x)))\n",
    "    new_board=list(zip(*new_board))\n",
    "    new_board=list(map(list, new_board))\n",
    "    return new_board"
   ]
  },
  {
   "cell_type": "code",
   "execution_count": 278,
   "id": "33b4a591",
   "metadata": {},
   "outputs": [
    {
     "data": {
      "text/plain": [
       "[['팡팡', '팡팡', '팡팡', 'A', '팡팡', '팡팡'],\n",
       " ['팡팡', '팡팡', '팡팡', 'A', '팡팡', '팡팡'],\n",
       " ['T', '팡팡', 'T', 'F', 'N', 'T'],\n",
       " ['T', 'T', 'F', 'R', 'A', 'A'],\n",
       " ['T', 'T', 'M', 'M', 'M', 'F'],\n",
       " ['T', 'M', 'M', 'T', 'T', 'J']]"
      ]
     },
     "execution_count": 278,
     "metadata": {},
     "output_type": "execute_result"
    }
   ],
   "source": [
    "z=find(m,n,board)\n",
    "z"
   ]
  },
  {
   "cell_type": "code",
   "execution_count": 277,
   "id": "76223df7",
   "metadata": {},
   "outputs": [
    {
     "data": {
      "text/plain": [
       "[['팡팡', '팡팡', '팡팡', 'A', '팡팡', '팡팡'],\n",
       " ['팡팡', '팡팡', '팡팡', 'A', '팡팡', '팡팡'],\n",
       " ['팡팡', '팡팡', 'T', 'F', 'N', 'T'],\n",
       " ['팡팡', '팡팡', 'F', 'R', 'A', 'A'],\n",
       " ['T', '팡팡', 'M', 'M', 'M', 'F'],\n",
       " ['T', 'M', 'M', 'T', 'T', 'J']]"
      ]
     },
     "execution_count": 277,
     "metadata": {},
     "output_type": "execute_result"
    }
   ],
   "source": [
    "find(m,n,z)"
   ]
  },
  {
   "cell_type": "code",
   "execution_count": null,
   "id": "b18cd8a8",
   "metadata": {},
   "outputs": [],
   "source": []
  },
  {
   "cell_type": "code",
   "execution_count": null,
   "id": "7ab24e36",
   "metadata": {},
   "outputs": [],
   "source": []
  },
  {
   "cell_type": "code",
   "execution_count": null,
   "id": "cf2614f8",
   "metadata": {},
   "outputs": [],
   "source": []
  },
  {
   "cell_type": "code",
   "execution_count": null,
   "id": "ae17000a",
   "metadata": {},
   "outputs": [],
   "source": []
  }
 ],
 "metadata": {
  "kernelspec": {
   "display_name": "Python 3",
   "language": "python",
   "name": "python3"
  },
  "language_info": {
   "codemirror_mode": {
    "name": "ipython",
    "version": 3
   },
   "file_extension": ".py",
   "mimetype": "text/x-python",
   "name": "python",
   "nbconvert_exporter": "python",
   "pygments_lexer": "ipython3",
   "version": "3.8.8"
  }
 },
 "nbformat": 4,
 "nbformat_minor": 5
}
