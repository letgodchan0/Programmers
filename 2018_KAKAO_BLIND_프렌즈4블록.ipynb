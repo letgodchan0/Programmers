{
 "cells": [
  {
   "cell_type": "markdown",
   "id": "984c4f14",
   "metadata": {},
   "source": [
    "- 2021년 12월 19일\n",
    "- 프로그래머스 프렌즈 4블록\n",
    "- https://programmers.co.kr/learn/courses/30/lessons/17679"
   ]
  },
  {
   "cell_type": "code",
   "execution_count": 2,
   "id": "c2627ab3",
   "metadata": {},
   "outputs": [],
   "source": [
    "def solution(m, n, board):\n",
    "    answer = 0\n",
    "    return answer"
   ]
  },
  {
   "cell_type": "code",
   "execution_count": 162,
   "id": "80b5b52e",
   "metadata": {},
   "outputs": [],
   "source": [
    "m=6\n",
    "n=6\n",
    "board=[\"TTTANT\", \"RRFACC\", \"RRRFCC\", \"TRRRAA\", \"TTMMMF\", \"TMMTTJ\"]"
   ]
  },
  {
   "cell_type": "code",
   "execution_count": 163,
   "id": "0ff6e516",
   "metadata": {},
   "outputs": [
    {
     "data": {
      "text/plain": [
       "[['T', 'T', 'T', 'A', 'N', 'T'],\n",
       " ['R', 'R', 'F', 'A', 'C', 'C'],\n",
       " ['R', 'R', 'R', 'F', 'C', 'C'],\n",
       " ['T', 'R', 'R', 'R', 'A', 'A'],\n",
       " ['T', 'T', 'M', 'M', 'M', 'F'],\n",
       " ['T', 'M', 'M', 'T', 'T', 'J']]"
      ]
     },
     "execution_count": 163,
     "metadata": {},
     "output_type": "execute_result"
    }
   ],
   "source": [
    "board=list(map(list, board))\n",
    "# board=list(zip(*board))\n",
    "board"
   ]
  },
  {
   "cell_type": "markdown",
   "id": "5612bbd8",
   "metadata": {},
   "source": [
    "- 왼쪽 위를 찾자"
   ]
  },
  {
   "cell_type": "code",
   "execution_count": 164,
   "id": "2bbd113d",
   "metadata": {},
   "outputs": [],
   "source": [
    "tmp=[]\n",
    "for i in range(m-1):\n",
    "    for j in range(n-1):\n",
    "        if board[i][j]!=board[i][j+1]:\n",
    "            continue\n",
    "        else:\n",
    "            if board[i+1][j]==board[i][j] and board[i+1][j+1]==board[i][j]:\n",
    "                tmp.append([i,j])"
   ]
  },
  {
   "cell_type": "code",
   "execution_count": 165,
   "id": "705280e5",
   "metadata": {},
   "outputs": [
    {
     "data": {
      "text/plain": [
       "[[1, 0], [1, 4], [2, 1]]"
      ]
     },
     "execution_count": 165,
     "metadata": {},
     "output_type": "execute_result"
    }
   ],
   "source": [
    "tmp"
   ]
  },
  {
   "cell_type": "code",
   "execution_count": 166,
   "id": "cfa62a82",
   "metadata": {},
   "outputs": [
    {
     "data": {
      "text/plain": [
       "[['T', 'T', 'T', 'A', 'N', 'T'],\n",
       " ['팡팡', '팡팡', 'F', 'A', '팡팡', '팡팡'],\n",
       " ['팡팡', '팡팡', '팡팡', 'F', '팡팡', '팡팡'],\n",
       " ['T', '팡팡', '팡팡', 'R', 'A', 'A'],\n",
       " ['T', 'T', 'M', 'M', 'M', 'F'],\n",
       " ['T', 'M', 'M', 'T', 'T', 'J']]"
      ]
     },
     "execution_count": 166,
     "metadata": {},
     "output_type": "execute_result"
    }
   ],
   "source": [
    "for i in tmp:\n",
    "    a=i[0]\n",
    "    b=i[1]\n",
    "    board[a][b]='팡팡'\n",
    "    board[a+1][b]='팡팡'\n",
    "    board[a][b+1]='팡팡'\n",
    "    board[a+1][b+1]='팡팡'\n",
    "board"
   ]
  },
  {
   "cell_type": "code",
   "execution_count": 167,
   "id": "44a48d1e",
   "metadata": {},
   "outputs": [
    {
     "data": {
      "text/plain": [
       "[['T', '팡팡', '팡팡', 'T', 'T', 'T'],\n",
       " ['T', '팡팡', '팡팡', '팡팡', 'T', 'M'],\n",
       " ['T', 'F', '팡팡', '팡팡', 'M', 'M'],\n",
       " ['A', 'A', 'F', 'R', 'M', 'T'],\n",
       " ['N', '팡팡', '팡팡', 'A', 'M', 'T'],\n",
       " ['T', '팡팡', '팡팡', 'A', 'F', 'J']]"
      ]
     },
     "execution_count": 167,
     "metadata": {},
     "output_type": "execute_result"
    }
   ],
   "source": [
    "board=list(map(list,zip(*board)))\n",
    "board"
   ]
  },
  {
   "cell_type": "code",
   "execution_count": 170,
   "id": "c6417d52",
   "metadata": {},
   "outputs": [
    {
     "data": {
      "text/plain": [
       "['T', 'F', '팡팡', '팡팡', 'M', 'M']"
      ]
     },
     "execution_count": 170,
     "metadata": {},
     "output_type": "execute_result"
    }
   ],
   "source": [
    "a=['T', 'F', '팡팡', '팡팡', 'M', 'M']\n",
    "a"
   ]
  },
  {
   "cell_type": "code",
   "execution_count": 174,
   "id": "6cbabc3a",
   "metadata": {},
   "outputs": [
    {
     "data": {
      "text/plain": [
       "['T', 'F', 'M', 'M']"
      ]
     },
     "execution_count": 174,
     "metadata": {},
     "output_type": "execute_result"
    }
   ],
   "source": [
    "del a[2]\n",
    "a"
   ]
  },
  {
   "cell_type": "code",
   "execution_count": 159,
   "id": "29993a95",
   "metadata": {},
   "outputs": [
    {
     "data": {
      "text/plain": [
       "[['T', 'T', 'T', 'T', '팡팡', '팡팡'],\n",
       " ['M', 'T', 'T', '팡팡', '팡팡', '팡팡'],\n",
       " ['팡팡', '팡팡', 'F', 'M', 'M', 'T'],\n",
       " ['A', 'A', 'F', 'M', 'R', 'T'],\n",
       " ['A', 'M', 'N', 'T', '팡팡', '팡팡'],\n",
       " ['A', 'F', 'J', 'T', '팡팡', '팡팡']]"
      ]
     },
     "execution_count": 159,
     "metadata": {},
     "output_type": "execute_result"
    }
   ],
   "source": [
    "board"
   ]
  },
  {
   "cell_type": "code",
   "execution_count": 157,
   "id": "0a898166",
   "metadata": {},
   "outputs": [
    {
     "ename": "TypeError",
     "evalue": "sorted expected 1 argument, got 0",
     "output_type": "error",
     "traceback": [
      "\u001b[1;31m---------------------------------------------------------------------------\u001b[0m",
      "\u001b[1;31mTypeError\u001b[0m                                 Traceback (most recent call last)",
      "\u001b[1;32m<ipython-input-157-6c9027e3d352>\u001b[0m in \u001b[0;36m<module>\u001b[1;34m\u001b[0m\n\u001b[1;32m----> 1\u001b[1;33m \u001b[0mboard\u001b[0m\u001b[1;33m=\u001b[0m\u001b[0mlist\u001b[0m\u001b[1;33m(\u001b[0m\u001b[0mmap\u001b[0m\u001b[1;33m(\u001b[0m\u001b[0msorted\u001b[0m\u001b[1;33m(\u001b[0m\u001b[0mkey\u001b[0m\u001b[1;33m=\u001b[0m\u001b[1;32mlambda\u001b[0m \u001b[0mx\u001b[0m\u001b[1;33m:\u001b[0m\u001b[1;33m-\u001b[0m\u001b[0mlen\u001b[0m\u001b[1;33m(\u001b[0m\u001b[0mx\u001b[0m\u001b[1;33m)\u001b[0m\u001b[1;33m)\u001b[0m\u001b[1;33m,\u001b[0m \u001b[0mboard\u001b[0m\u001b[1;33m)\u001b[0m\u001b[1;33m)\u001b[0m\u001b[1;33m\u001b[0m\u001b[1;33m\u001b[0m\u001b[0m\n\u001b[0m\u001b[0;32m      2\u001b[0m \u001b[0mboard\u001b[0m\u001b[1;33m\u001b[0m\u001b[1;33m\u001b[0m\u001b[0m\n",
      "\u001b[1;31mTypeError\u001b[0m: sorted expected 1 argument, got 0"
     ]
    }
   ],
   "source": [
    "board=list(map(sorted(key=lambda x:-len(x)), board))\n",
    "board"
   ]
  },
  {
   "cell_type": "code",
   "execution_count": 151,
   "id": "bd338a61",
   "metadata": {},
   "outputs": [
    {
     "data": {
      "text/plain": [
       "[['T', '팡팡', '팡팡', 'T', 'T', 'T'],\n",
       " ['T', '팡팡', '팡팡', '팡팡', 'T', 'M'],\n",
       " ['T', 'F', '팡팡', '팡팡', 'M', 'M'],\n",
       " ['A', 'A', 'F', 'R', 'M', 'T'],\n",
       " ['N', '팡팡', '팡팡', 'A', 'M', 'T'],\n",
       " ['T', '팡팡', '팡팡', 'A', 'F', 'J']]"
      ]
     },
     "execution_count": 151,
     "metadata": {},
     "output_type": "execute_result"
    }
   ],
   "source": [
    "for i in board:\n",
    "    i=sorted(i,key=lambda x:-len(x))\n",
    "board"
   ]
  },
  {
   "cell_type": "code",
   "execution_count": 128,
   "id": "98815336",
   "metadata": {},
   "outputs": [
    {
     "data": {
      "text/plain": [
       "[['팡', '팡', '팡', 'T', '팡', '팡'],\n",
       " ['팡', '팡', '팡', 'R', '팡', '팡'],\n",
       " ['T', '팡', 'T', 'M', 'T', 'T'],\n",
       " ['T', 'T', 'M', 'F', 'N', 'J'],\n",
       " ['T', 'T', 'M', 'A', 'M', 'F'],\n",
       " ['T', 'M', 'F', 'A', 'A', 'A']]"
      ]
     },
     "execution_count": 128,
     "metadata": {},
     "output_type": "execute_result"
    }
   ],
   "source": [
    "board=list(map(list,zip(*board)))\n",
    "board"
   ]
  },
  {
   "cell_type": "code",
   "execution_count": null,
   "id": "ddfe4595",
   "metadata": {},
   "outputs": [],
   "source": []
  },
  {
   "cell_type": "code",
   "execution_count": null,
   "id": "3b55f600",
   "metadata": {},
   "outputs": [],
   "source": []
  },
  {
   "cell_type": "code",
   "execution_count": 118,
   "id": "6baffdfb",
   "metadata": {},
   "outputs": [
    {
     "data": {
      "text/plain": [
       "[['T', 'T', 'T', 'T', 'N', 'A'],\n",
       " ['팡', '팡', '팡', '팡', 'F', 'A'],\n",
       " ['팡', '팡', '팡', '팡', '팡', 'F'],\n",
       " ['팡', '팡', 'T', 'R', 'A', 'A'],\n",
       " ['T', 'T', 'M', 'M', 'M', 'F'],\n",
       " ['T', 'T', 'T', 'M', 'M', 'J']]"
      ]
     },
     "execution_count": 118,
     "metadata": {},
     "output_type": "execute_result"
    }
   ],
   "source": [
    "for i in board:\n",
    "    i.sort(reverse=True)\n",
    "board"
   ]
  },
  {
   "cell_type": "code",
   "execution_count": 119,
   "id": "62957462",
   "metadata": {},
   "outputs": [
    {
     "data": {
      "text/plain": [
       "[['T', '팡', '팡', '팡', 'T', 'T'],\n",
       " ['T', '팡', '팡', '팡', 'T', 'T'],\n",
       " ['T', '팡', '팡', 'T', 'M', 'T'],\n",
       " ['T', '팡', '팡', 'R', 'M', 'M'],\n",
       " ['N', 'F', '팡', 'A', 'M', 'M'],\n",
       " ['A', 'A', 'F', 'A', 'F', 'J']]"
      ]
     },
     "execution_count": 119,
     "metadata": {},
     "output_type": "execute_result"
    }
   ],
   "source": [
    "board=list(map(list,zip(*board)))\n",
    "board"
   ]
  },
  {
   "cell_type": "code",
   "execution_count": 91,
   "id": "7b74d1d7",
   "metadata": {},
   "outputs": [],
   "source": [
    "tmp=[]\n",
    "for i in range(m-1):\n",
    "    for j in range(n-1):\n",
    "        if board[i][j]!=board[i][j+1] and board[i][j]!='팡':\n",
    "            continue\n",
    "        else:\n",
    "            if board[i+1][j]==board[i][j] and board[i+1][j+1]==board[i][j]:\n",
    "                tmp.append([i,j])"
   ]
  },
  {
   "cell_type": "code",
   "execution_count": 92,
   "id": "fe93a3cb",
   "metadata": {},
   "outputs": [
    {
     "data": {
      "text/plain": [
       "[['T', '팡', '팡', 'T', '팡', '팡'],\n",
       " ['M', '팡', '팡', '팡', '팡', '팡'],\n",
       " ['F', 'M', 'M', 'T', '팡', '팡'],\n",
       " ['A', 'A', 'F', 'M', 'R', 'T'],\n",
       " ['A', 'M', 'N', 'T', '팡', '팡'],\n",
       " ['A', 'F', 'J', 'T', '팡', '팡']]"
      ]
     },
     "execution_count": 92,
     "metadata": {},
     "output_type": "execute_result"
    }
   ],
   "source": [
    "for i in tmp:\n",
    "    a=i[0]\n",
    "    b=i[1]\n",
    "    board[a][b]='팡'\n",
    "    board[a+1][b]='팡'\n",
    "    board[a][b+1]='팡'\n",
    "    board[a+1][b+1]='팡'\n",
    "board"
   ]
  },
  {
   "cell_type": "code",
   "execution_count": 93,
   "id": "c641e52f",
   "metadata": {},
   "outputs": [
    {
     "data": {
      "text/plain": [
       "[('T', 'M', 'F', 'A', 'A', 'A'),\n",
       " ('팡', '팡', 'M', 'A', 'M', 'F'),\n",
       " ('팡', '팡', 'M', 'F', 'N', 'J'),\n",
       " ('T', '팡', 'T', 'M', 'T', 'T'),\n",
       " ('팡', '팡', '팡', 'R', '팡', '팡'),\n",
       " ('팡', '팡', '팡', 'T', '팡', '팡')]"
      ]
     },
     "execution_count": 93,
     "metadata": {},
     "output_type": "execute_result"
    }
   ],
   "source": [
    "board=list(zip(*board))\n",
    "board"
   ]
  },
  {
   "cell_type": "code",
   "execution_count": null,
   "id": "9badda1e",
   "metadata": {},
   "outputs": [],
   "source": []
  }
 ],
 "metadata": {
  "kernelspec": {
   "display_name": "Python 3",
   "language": "python",
   "name": "python3"
  },
  "language_info": {
   "codemirror_mode": {
    "name": "ipython",
    "version": 3
   },
   "file_extension": ".py",
   "mimetype": "text/x-python",
   "name": "python",
   "nbconvert_exporter": "python",
   "pygments_lexer": "ipython3",
   "version": "3.8.8"
  }
 },
 "nbformat": 4,
 "nbformat_minor": 5
}
