{
 "cells": [
  {
   "cell_type": "markdown",
   "id": "3b1e07f8",
   "metadata": {},
   "source": [
    "- 2021년 11월 20일\n",
    "- 프로그래머스 가운데 글자 가져오기\n",
    "- https://programmers.co.kr/learn/courses/30/lessons/12903"
   ]
  },
  {
   "cell_type": "code",
   "execution_count": 1,
   "id": "49fa2b40",
   "metadata": {},
   "outputs": [],
   "source": [
    "s=\"qwer\""
   ]
  },
  {
   "cell_type": "code",
   "execution_count": 2,
   "id": "bcbe42cf",
   "metadata": {},
   "outputs": [],
   "source": [
    "def solution(s):\n",
    "    if len(s)%2 ==0:\n",
    "        return s[int(len(s)/2)-1:int(len(s)/2)+1]\n",
    "    else:\n",
    "        return s[len(s)//2]"
   ]
  },
  {
   "cell_type": "code",
   "execution_count": 3,
   "id": "2f6893fe",
   "metadata": {},
   "outputs": [
    {
     "data": {
      "text/plain": [
       "'we'"
      ]
     },
     "execution_count": 3,
     "metadata": {},
     "output_type": "execute_result"
    }
   ],
   "source": [
    "solution(s)"
   ]
  },
  {
   "cell_type": "markdown",
   "id": "f2247402",
   "metadata": {},
   "source": [
    "- 다른 사람풀이\n",
    "- // 했을 때 정수만 추출하는 아이디어"
   ]
  },
  {
   "cell_type": "code",
   "execution_count": 4,
   "id": "d3d4361f",
   "metadata": {},
   "outputs": [],
   "source": [
    "def string_middle(str):\n",
    "    return str[(len(str)-1)//2:len(str)//2+1]"
   ]
  }
 ],
 "metadata": {
  "kernelspec": {
   "display_name": "Python 3",
   "language": "python",
   "name": "python3"
  },
  "language_info": {
   "codemirror_mode": {
    "name": "ipython",
    "version": 3
   },
   "file_extension": ".py",
   "mimetype": "text/x-python",
   "name": "python",
   "nbconvert_exporter": "python",
   "pygments_lexer": "ipython3",
   "version": "3.8.8"
  }
 },
 "nbformat": 4,
 "nbformat_minor": 5
}
