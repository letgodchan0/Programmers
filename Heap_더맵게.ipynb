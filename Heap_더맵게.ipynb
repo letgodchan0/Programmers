{
 "cells": [
  {
   "cell_type": "markdown",
   "id": "04cacfdd",
   "metadata": {},
   "source": [
    "- 2021년 10월 21일\n",
    "- 프로그래머스 더 맵게\n",
    "- https://programmers.co.kr/learn/courses/30/lessons/42626"
   ]
  },
  {
   "cell_type": "code",
   "execution_count": 22,
   "id": "5f10463b",
   "metadata": {},
   "outputs": [],
   "source": [
    "scoville=[1, 3, 2, 9, 10, 12]\n",
    "K=7"
   ]
  },
  {
   "cell_type": "code",
   "execution_count": 23,
   "id": "bfa437c7",
   "metadata": {},
   "outputs": [],
   "source": [
    "def solution(scoville, K):\n",
    "    import heapq\n",
    "    heapq.heapify(scoville)\n",
    "    answer = 0\n",
    "    while scoville[0] < K:\n",
    "        min1=heapq.heappop(scoville)\n",
    "        min2=heapq.heappop(scoville)\n",
    "        heapq.heappush(scoville, min1+2*min2)\n",
    "        if len(scoville)==1 and scoville[0]<K:\n",
    "            return -1\n",
    "        answer+=1\n",
    "    \n",
    "    return answer"
   ]
  },
  {
   "cell_type": "code",
   "execution_count": 24,
   "id": "b870d606",
   "metadata": {},
   "outputs": [
    {
     "data": {
      "text/plain": [
       "2"
      ]
     },
     "execution_count": 24,
     "metadata": {},
     "output_type": "execute_result"
    }
   ],
   "source": [
    "solution(scoville, K)"
   ]
  },
  {
   "cell_type": "code",
   "execution_count": 9,
   "id": "0700e023",
   "metadata": {},
   "outputs": [],
   "source": [
    "import heapq\n"
   ]
  },
  {
   "cell_type": "code",
   "execution_count": 13,
   "id": "c5e2926d",
   "metadata": {},
   "outputs": [
    {
     "data": {
      "text/plain": [
       "[3, 9, 12, 10]"
      ]
     },
     "execution_count": 13,
     "metadata": {},
     "output_type": "execute_result"
    }
   ],
   "source": [
    "scoville"
   ]
  },
  {
   "cell_type": "code",
   "execution_count": 14,
   "id": "d2727820",
   "metadata": {},
   "outputs": [
    {
     "data": {
      "text/plain": [
       "3"
      ]
     },
     "execution_count": 14,
     "metadata": {},
     "output_type": "execute_result"
    }
   ],
   "source": [
    "heapq.heappop(scoville)"
   ]
  },
  {
   "cell_type": "code",
   "execution_count": 11,
   "id": "e8980e93",
   "metadata": {},
   "outputs": [
    {
     "data": {
      "text/plain": [
       "1"
      ]
     },
     "execution_count": 11,
     "metadata": {},
     "output_type": "execute_result"
    }
   ],
   "source": [
    "heapq.heappop(scoville)"
   ]
  },
  {
   "cell_type": "code",
   "execution_count": 12,
   "id": "f51f924e",
   "metadata": {},
   "outputs": [
    {
     "data": {
      "text/plain": [
       "2"
      ]
     },
     "execution_count": 12,
     "metadata": {},
     "output_type": "execute_result"
    }
   ],
   "source": [
    "heapq.heappop(scoville)"
   ]
  },
  {
   "cell_type": "code",
   "execution_count": null,
   "id": "e0a69bb7",
   "metadata": {},
   "outputs": [],
   "source": []
  }
 ],
 "metadata": {
  "kernelspec": {
   "display_name": "Python 3",
   "language": "python",
   "name": "python3"
  },
  "language_info": {
   "codemirror_mode": {
    "name": "ipython",
    "version": 3
   },
   "file_extension": ".py",
   "mimetype": "text/x-python",
   "name": "python",
   "nbconvert_exporter": "python",
   "pygments_lexer": "ipython3",
   "version": "3.8.8"
  }
 },
 "nbformat": 4,
 "nbformat_minor": 5
}
