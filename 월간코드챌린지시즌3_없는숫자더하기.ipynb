{
 "cells": [
  {
   "cell_type": "markdown",
   "id": "fb3ac0f3",
   "metadata": {},
   "source": [
    "- 날짜: 2021년 10월 5일\n",
    "- 프로그래머스 없는 숫자 더하기\n",
    "- https://programmers.co.kr/learn/courses/30/lessons/86051"
   ]
  },
  {
   "cell_type": "code",
   "execution_count": 1,
   "id": "40685394",
   "metadata": {},
   "outputs": [],
   "source": [
    "numbers = [1,2,3,4,6,7,8,0]"
   ]
  },
  {
   "cell_type": "code",
   "execution_count": 2,
   "id": "61e59b3f",
   "metadata": {},
   "outputs": [],
   "source": [
    "def solution(numbers):\n",
    "    num = [1,2,3,4,5,6,7,8,9]\n",
    "    answer = list(set(num)-set(numbers))\n",
    "    return sum(answer)"
   ]
  },
  {
   "cell_type": "code",
   "execution_count": null,
   "id": "1e6a3bb9",
   "metadata": {},
   "outputs": [],
   "source": []
  }
 ],
 "metadata": {
  "kernelspec": {
   "display_name": "Python 3",
   "language": "python",
   "name": "python3"
  },
  "language_info": {
   "codemirror_mode": {
    "name": "ipython",
    "version": 3
   },
   "file_extension": ".py",
   "mimetype": "text/x-python",
   "name": "python",
   "nbconvert_exporter": "python",
   "pygments_lexer": "ipython3",
   "version": "3.8.8"
  },
  "toc": {
   "base_numbering": 1,
   "nav_menu": {},
   "number_sections": true,
   "sideBar": true,
   "skip_h1_title": false,
   "title_cell": "Table of Contents",
   "title_sidebar": "Contents",
   "toc_cell": false,
   "toc_position": {},
   "toc_section_display": true,
   "toc_window_display": false
  }
 },
 "nbformat": 4,
 "nbformat_minor": 5
}
