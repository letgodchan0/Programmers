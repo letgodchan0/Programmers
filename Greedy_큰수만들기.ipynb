{
 "cells": [
  {
   "cell_type": "markdown",
   "id": "bb920297",
   "metadata": {},
   "source": [
    "- 2021년 12월 16일\n",
    "- 프로그래머스 큰 수 만들기\n",
    "- https://programmers.co.kr/learn/courses/30/lessons/42883"
   ]
  },
  {
   "cell_type": "code",
   "execution_count": 39,
   "id": "b354b14d",
   "metadata": {},
   "outputs": [],
   "source": [
    "number=\"4177252841\"\n",
    "k=4"
   ]
  },
  {
   "cell_type": "code",
   "execution_count": 51,
   "id": "e10041e2",
   "metadata": {},
   "outputs": [],
   "source": [
    "def solution(number, k):\n",
    "    answer=[]\n",
    "    for i in number:\n",
    "        while k>0 and len(answer)!=0 and answer[-1]<i:\n",
    "            answer.pop()\n",
    "            k-=1\n",
    "        answer.append(i)\n",
    "    answer=answer[:-k] if k >0 else answer\n",
    "    return ''.join(answer)"
   ]
  },
  {
   "cell_type": "code",
   "execution_count": 52,
   "id": "8bd3edfc",
   "metadata": {},
   "outputs": [
    {
     "data": {
      "text/plain": [
       "'100'"
      ]
     },
     "execution_count": 52,
     "metadata": {},
     "output_type": "execute_result"
    }
   ],
   "source": [
    "solution('1000', 1)"
   ]
  },
  {
   "cell_type": "code",
   "execution_count": null,
   "id": "cff1ddd0",
   "metadata": {},
   "outputs": [],
   "source": []
  }
 ],
 "metadata": {
  "kernelspec": {
   "display_name": "Python 3",
   "language": "python",
   "name": "python3"
  },
  "language_info": {
   "codemirror_mode": {
    "name": "ipython",
    "version": 3
   },
   "file_extension": ".py",
   "mimetype": "text/x-python",
   "name": "python",
   "nbconvert_exporter": "python",
   "pygments_lexer": "ipython3",
   "version": "3.8.8"
  }
 },
 "nbformat": 4,
 "nbformat_minor": 5
}
