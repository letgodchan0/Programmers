{
 "cells": [
  {
   "cell_type": "markdown",
   "id": "3596da80",
   "metadata": {},
   "source": [
    "- 2021년 11월 21일\n",
    "- 프로그래머스 3진법 뒤집기\n",
    "- https://programmers.co.kr/learn/courses/30/lessons/68935"
   ]
  },
  {
   "cell_type": "code",
   "execution_count": 35,
   "id": "3a42a5b0",
   "metadata": {},
   "outputs": [],
   "source": [
    "n=1"
   ]
  },
  {
   "cell_type": "code",
   "execution_count": 36,
   "id": "6ac732b1",
   "metadata": {},
   "outputs": [],
   "source": [
    "def solution(n):\n",
    "    result=[]\n",
    "    if n==1:\n",
    "        return 1\n",
    "    while True:\n",
    "        result.append(n%3)\n",
    "        n=n//3\n",
    "        if n <3:\n",
    "            result.append(n)\n",
    "            break\n",
    "    answer=0\n",
    "    for i, j in enumerate(result[::-1]):\n",
    "        if i==0:\n",
    "            answer+=j\n",
    "        else:\n",
    "            answer= answer+j*(3**i)\n",
    "    \n",
    "    return answer"
   ]
  },
  {
   "cell_type": "code",
   "execution_count": 37,
   "id": "990a9524",
   "metadata": {},
   "outputs": [
    {
     "name": "stdout",
     "output_type": "stream",
     "text": [
      "[1, 0]\n"
     ]
    },
    {
     "data": {
      "text/plain": [
       "3"
      ]
     },
     "execution_count": 37,
     "metadata": {},
     "output_type": "execute_result"
    }
   ],
   "source": [
    "solution(n)"
   ]
  },
  {
   "cell_type": "code",
   "execution_count": null,
   "id": "c766025e",
   "metadata": {},
   "outputs": [],
   "source": [
    "- e"
   ]
  }
 ],
 "metadata": {
  "kernelspec": {
   "display_name": "Python 3",
   "language": "python",
   "name": "python3"
  },
  "language_info": {
   "codemirror_mode": {
    "name": "ipython",
    "version": 3
   },
   "file_extension": ".py",
   "mimetype": "text/x-python",
   "name": "python",
   "nbconvert_exporter": "python",
   "pygments_lexer": "ipython3",
   "version": "3.8.8"
  }
 },
 "nbformat": 4,
 "nbformat_minor": 5
}
