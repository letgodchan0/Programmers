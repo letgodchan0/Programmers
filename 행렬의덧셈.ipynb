{
 "cells": [
  {
   "cell_type": "markdown",
   "id": "fe3a8dfd",
   "metadata": {},
   "source": [
    "- 2021년 11월 12일\n",
    "- 프로그래머스 행렬의 덧셈\n",
    "- https://programmers.co.kr/learn/courses/30/lessons/12950"
   ]
  },
  {
   "cell_type": "code",
   "execution_count": 2,
   "id": "9e807a7c",
   "metadata": {},
   "outputs": [],
   "source": [
    "arr1=[[1,2],[2,3]]\n",
    "arr2=[[3,4],[5,6]]"
   ]
  },
  {
   "cell_type": "code",
   "execution_count": 19,
   "id": "2a313ce8",
   "metadata": {},
   "outputs": [
    {
     "data": {
      "text/plain": [
       "[[3, 4], [5, 6], 1, 2, 2, 3]"
      ]
     },
     "execution_count": 19,
     "metadata": {},
     "output_type": "execute_result"
    }
   ],
   "source": [
    "sum()"
   ]
  },
  {
   "cell_type": "code",
   "execution_count": 23,
   "id": "beb57870",
   "metadata": {},
   "outputs": [
    {
     "name": "stdout",
     "output_type": "stream",
     "text": [
      "[4, 6]\n",
      "[7, 9]\n"
     ]
    }
   ],
   "source": [
    "result=[]\n",
    "for i in range(len(arr1)):\n",
    "    answer=[]\n",
    "    for j in range(len(arr1[i])):\n",
    "        answer.append(arr1[i][j]+arr2[i][j])\n",
    "    print(answer)\n",
    "    result.extend(answer)"
   ]
  },
  {
   "cell_type": "code",
   "execution_count": 21,
   "id": "5ceaa518",
   "metadata": {},
   "outputs": [
    {
     "data": {
      "text/plain": [
       "[4, 6, 7, 9]"
      ]
     },
     "execution_count": 21,
     "metadata": {},
     "output_type": "execute_result"
    }
   ],
   "source": [
    "result"
   ]
  },
  {
   "cell_type": "code",
   "execution_count": null,
   "id": "26d45878",
   "metadata": {},
   "outputs": [],
   "source": [
    "def solution(arr1, arr2):\n",
    "    answer = [[]]\n",
    "    for i in range(len(arr1)):\n",
    "        \n",
    "        \n",
    "    \n",
    "    return answer"
   ]
  }
 ],
 "metadata": {
  "kernelspec": {
   "display_name": "Python 3",
   "language": "python",
   "name": "python3"
  },
  "language_info": {
   "codemirror_mode": {
    "name": "ipython",
    "version": 3
   },
   "file_extension": ".py",
   "mimetype": "text/x-python",
   "name": "python",
   "nbconvert_exporter": "python",
   "pygments_lexer": "ipython3",
   "version": "3.8.8"
  }
 },
 "nbformat": 4,
 "nbformat_minor": 5
}
