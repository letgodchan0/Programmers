{
 "cells": [
  {
   "cell_type": "markdown",
   "id": "6f01cab0",
   "metadata": {},
   "source": [
    "- 날짜: 2021년 9월 28일\n",
    "- 프로그래머스 최소 직사각형\n",
    "- https://programmers.co.kr/learn/courses/30/lessons/86491"
   ]
  },
  {
   "cell_type": "code",
   "execution_count": 1,
   "id": "5688ddb5",
   "metadata": {},
   "outputs": [],
   "source": [
    "sizes = [[60, 50], [30, 70], [60, 30], [80, 40]]"
   ]
  },
  {
   "cell_type": "code",
   "execution_count": 13,
   "id": "22da8f90",
   "metadata": {},
   "outputs": [],
   "source": [
    "def solution(sizes):\n",
    "    big=[]\n",
    "    small=[]\n",
    "    for i in sizes:\n",
    "        if i[0]>i[1]:\n",
    "            big.append(i[0])\n",
    "            small.append(i[1])\n",
    "        else:\n",
    "            big.append(i[1])\n",
    "            small.append(i[0])\n",
    "            \n",
    "    return max(big)*max(small)"
   ]
  },
  {
   "cell_type": "code",
   "execution_count": 14,
   "id": "b512942d",
   "metadata": {},
   "outputs": [
    {
     "data": {
      "text/plain": [
       "4000"
      ]
     },
     "execution_count": 14,
     "metadata": {},
     "output_type": "execute_result"
    }
   ],
   "source": [
    "solution(sizes)"
   ]
  },
  {
   "cell_type": "code",
   "execution_count": 16,
   "id": "a9c8e5ec",
   "metadata": {},
   "outputs": [],
   "source": [
    "def solution(sizes):\n",
    "    return max(max(i) for i in sizes) * max(min(i) for i in sizes)"
   ]
  },
  {
   "cell_type": "code",
   "execution_count": null,
   "id": "7c86b852",
   "metadata": {},
   "outputs": [],
   "source": []
  }
 ],
 "metadata": {
  "kernelspec": {
   "display_name": "Python 3",
   "language": "python",
   "name": "python3"
  },
  "language_info": {
   "codemirror_mode": {
    "name": "ipython",
    "version": 3
   },
   "file_extension": ".py",
   "mimetype": "text/x-python",
   "name": "python",
   "nbconvert_exporter": "python",
   "pygments_lexer": "ipython3",
   "version": "3.8.8"
  },
  "toc": {
   "base_numbering": 1,
   "nav_menu": {},
   "number_sections": true,
   "sideBar": true,
   "skip_h1_title": false,
   "title_cell": "Table of Contents",
   "title_sidebar": "Contents",
   "toc_cell": false,
   "toc_position": {},
   "toc_section_display": true,
   "toc_window_display": false
  }
 },
 "nbformat": 4,
 "nbformat_minor": 5
}
