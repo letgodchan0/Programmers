{
 "cells": [
  {
   "cell_type": "markdown",
   "id": "7158abba",
   "metadata": {},
   "source": [
    "- 2021년 12월 4일\n",
    "- 프로그래머스 피보나치 수\n",
    "- https://programmers.co.kr/learn/courses/30/lessons/12945"
   ]
  },
  {
   "cell_type": "code",
   "execution_count": 10,
   "id": "67703f0f",
   "metadata": {},
   "outputs": [],
   "source": [
    "def solution(n):\n",
    "    answer=[0,1]\n",
    "    for i in range(2,n+1):\n",
    "        if i==n:\n",
    "            return (answer[i-2]+answer[i-1])%1234567\n",
    "        answer.append(answer[i-2]+answer[i-1])"
   ]
  },
  {
   "cell_type": "code",
   "execution_count": 12,
   "id": "e805fec6",
   "metadata": {},
   "outputs": [
    {
     "data": {
      "text/plain": [
       "2"
      ]
     },
     "execution_count": 12,
     "metadata": {},
     "output_type": "execute_result"
    }
   ],
   "source": [
    "solution(3)"
   ]
  },
  {
   "cell_type": "code",
   "execution_count": 4,
   "id": "a56f72ef",
   "metadata": {},
   "outputs": [
    {
     "name": "stdout",
     "output_type": "stream",
     "text": [
      "2\n",
      "3\n",
      "4\n",
      "5\n",
      "6\n",
      "7\n",
      "8\n",
      "9\n"
     ]
    },
    {
     "data": {
      "text/plain": [
       "[0, 1, 1, 2, 3, 5, 8, 13, 21, 34]"
      ]
     },
     "execution_count": 4,
     "metadata": {},
     "output_type": "execute_result"
    }
   ],
   "source": [
    "answer=[0,1]\n",
    "for i in range(2,10):\n",
    "    answer.append(answer[i-2]+answer[i-1])\n",
    "answer"
   ]
  },
  {
   "cell_type": "code",
   "execution_count": null,
   "id": "8e54b80a",
   "metadata": {},
   "outputs": [],
   "source": []
  }
 ],
 "metadata": {
  "kernelspec": {
   "display_name": "Python 3",
   "language": "python",
   "name": "python3"
  },
  "language_info": {
   "codemirror_mode": {
    "name": "ipython",
    "version": 3
   },
   "file_extension": ".py",
   "mimetype": "text/x-python",
   "name": "python",
   "nbconvert_exporter": "python",
   "pygments_lexer": "ipython3",
   "version": "3.8.8"
  }
 },
 "nbformat": 4,
 "nbformat_minor": 5
}
