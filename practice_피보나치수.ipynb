{
 "cells": [
  {
   "cell_type": "markdown",
   "id": "616ec3ac",
   "metadata": {},
   "source": [
    "- 2021년 12월 4일\n",
    "- 프로그래머스 피보나치 수\n",
    "- https://programmers.co.kr/learn/courses/30/lessons/12945"
   ]
  },
  {
   "cell_type": "code",
   "execution_count": 1,
   "id": "dd420877",
   "metadata": {},
   "outputs": [],
   "source": [
    "def solution(n):\n",
    "    answer=[0,1]\n",
    "    for i in range(2,n+1):\n",
    "        if i==n:\n",
    "            return (answer[i-2]+answer[i-1])%1234567\n",
    "        answer.append(answer[i-2]+answer[i-1])"
   ]
  },
  {
   "cell_type": "code",
   "execution_count": 2,
   "id": "8674f9a7",
   "metadata": {},
   "outputs": [
    {
     "data": {
      "text/plain": [
       "2"
      ]
     },
     "execution_count": 2,
     "metadata": {},
     "output_type": "execute_result"
    }
   ],
   "source": [
    "solution(3)"
   ]
  },
  {
   "cell_type": "code",
   "execution_count": null,
   "id": "de47fa6a",
   "metadata": {},
   "outputs": [],
   "source": []
  }
 ],
 "metadata": {
  "kernelspec": {
   "display_name": "Python 3",
   "language": "python",
   "name": "python3"
  },
  "language_info": {
   "codemirror_mode": {
    "name": "ipython",
    "version": 3
   },
   "file_extension": ".py",
   "mimetype": "text/x-python",
   "name": "python",
   "nbconvert_exporter": "python",
   "pygments_lexer": "ipython3",
   "version": "3.8.8"
  }
 },
 "nbformat": 4,
 "nbformat_minor": 5
}
