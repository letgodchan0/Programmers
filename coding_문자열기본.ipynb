{
 "cells": [
  {
   "cell_type": "markdown",
   "id": "ea5353d0",
   "metadata": {},
   "source": [
    "- 2021년 11월 18일 \n",
    "- 프로그래머스 문자열 내림차순\n",
    "- https://programmers.co.kr/learn/courses/30/lessons/12917"
   ]
  },
  {
   "cell_type": "code",
   "execution_count": 1,
   "id": "bc470c1f",
   "metadata": {},
   "outputs": [],
   "source": [
    "s=\"Zbcdefg\"\n",
    "result=[i for i in s]\n",
    "result.sort(reverse=True)"
   ]
  },
  {
   "cell_type": "code",
   "execution_count": 2,
   "id": "16dff0e6",
   "metadata": {},
   "outputs": [],
   "source": [
    "def solution(s):\n",
    "    result=[i for i in s]\n",
    "    result.sort(reverse=True)\n",
    "    return \"\".join(result)"
   ]
  },
  {
   "cell_type": "code",
   "execution_count": 3,
   "id": "3c17eb61",
   "metadata": {},
   "outputs": [
    {
     "data": {
      "text/plain": [
       "'gfedcbZ'"
      ]
     },
     "execution_count": 3,
     "metadata": {},
     "output_type": "execute_result"
    }
   ],
   "source": [
    "solution(s)"
   ]
  },
  {
   "cell_type": "code",
   "execution_count": null,
   "id": "9cf4e329",
   "metadata": {},
   "outputs": [],
   "source": []
  },
  {
   "cell_type": "markdown",
   "id": "1b3a182a",
   "metadata": {},
   "source": [
    "- 2021년 11월 18일\n",
    "- 프로그래머스 문자열 내마음대로 정렬\n",
    "- https://programmers.co.kr/learn/courses/30/lessons/12915"
   ]
  },
  {
   "cell_type": "code",
   "execution_count": 4,
   "id": "f2eb69cf",
   "metadata": {},
   "outputs": [],
   "source": [
    "strings = [\"abce\", \"abcd\", \"cdx\"]\n",
    "n=2"
   ]
  },
  {
   "cell_type": "code",
   "execution_count": 5,
   "id": "ad5af1ed",
   "metadata": {},
   "outputs": [],
   "source": [
    "def solution(strings, n):\n",
    "    return sorted(strings, key = lambda x: (x[n],x))"
   ]
  },
  {
   "cell_type": "code",
   "execution_count": 6,
   "id": "a58aaa71",
   "metadata": {},
   "outputs": [
    {
     "data": {
      "text/plain": [
       "['abcd', 'abce', 'cdx']"
      ]
     },
     "execution_count": 6,
     "metadata": {},
     "output_type": "execute_result"
    }
   ],
   "source": [
    "solution(strings,n)"
   ]
  },
  {
   "cell_type": "code",
   "execution_count": null,
   "id": "e5d53450",
   "metadata": {},
   "outputs": [],
   "source": []
  },
  {
   "cell_type": "markdown",
   "id": "85b32b74",
   "metadata": {},
   "source": [
    "- 2021년 11월 18일\n",
    "- 프로그래머스 문자열 다루기 기분\n",
    "- https://programmers.co.kr/learn/courses/30/lessons/12918"
   ]
  },
  {
   "cell_type": "code",
   "execution_count": 7,
   "id": "7bbe5ce6",
   "metadata": {},
   "outputs": [],
   "source": [
    "s = \"a234\""
   ]
  },
  {
   "cell_type": "code",
   "execution_count": 8,
   "id": "21186d41",
   "metadata": {},
   "outputs": [],
   "source": [
    "def solution(s):\n",
    "    if len(s) != 4 and len(s) !=6:\n",
    "        return 2<1\n",
    "    numbers=['0','1','2','3','4','5','6','7','8','9']\n",
    "    for i in s:\n",
    "        if i not in numbers:\n",
    "            return 2<1\n",
    "    return 2>1"
   ]
  },
  {
   "cell_type": "code",
   "execution_count": 9,
   "id": "e8abe699",
   "metadata": {},
   "outputs": [
    {
     "data": {
      "text/plain": [
       "False"
      ]
     },
     "execution_count": 9,
     "metadata": {},
     "output_type": "execute_result"
    }
   ],
   "source": [
    "solution(s)"
   ]
  },
  {
   "cell_type": "code",
   "execution_count": null,
   "id": "d5aa9f33",
   "metadata": {},
   "outputs": [],
   "source": []
  }
 ],
 "metadata": {
  "kernelspec": {
   "display_name": "Python 3",
   "language": "python",
   "name": "python3"
  },
  "language_info": {
   "codemirror_mode": {
    "name": "ipython",
    "version": 3
   },
   "file_extension": ".py",
   "mimetype": "text/x-python",
   "name": "python",
   "nbconvert_exporter": "python",
   "pygments_lexer": "ipython3",
   "version": "3.8.8"
  }
 },
 "nbformat": 4,
 "nbformat_minor": 5
}
