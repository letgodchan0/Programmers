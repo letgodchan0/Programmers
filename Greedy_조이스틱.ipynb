{
 "cells": [
  {
   "cell_type": "markdown",
   "id": "962525b8",
   "metadata": {},
   "source": [
    "- 2021년 12월 17일\n",
    "- 프로그래머스 조이스틱\n",
    "- https://programmers.co.kr/learn/courses/30/lessons/42860"
   ]
  },
  {
   "cell_type": "code",
   "execution_count": 1,
   "id": "d9cf31a4",
   "metadata": {},
   "outputs": [],
   "source": [
    "name=\"BBBBAAAAB\""
   ]
  },
  {
   "cell_type": "code",
   "execution_count": 2,
   "id": "d0266f67",
   "metadata": {},
   "outputs": [],
   "source": [
    "import re\n",
    "def solution(name):\n",
    "    score={'A':0, 'B':1,'C':2,'D':3,'E':4,'F':5,'G':6,'H':7,'I':8,'J':9,'K':10,'L':11,'M':12,'N':13,'O':12,'P':11,'Q':10,'R':9,'S':8,'T':7,'U':6,'V':5,'W':4,'X':3,'Y':2,'Z':1}\n",
    "    change=0\n",
    "    for i in name:\n",
    "        change+=score[i]\n",
    "    # A가 연속된 부분이 있어 -> 방향으로 쭉 가거나 -> <- <- 이 방향으로 갈지 정해줘야 함\n",
    "    startA = re.compile('[A]+')\n",
    "    check = re.findall(startA, name[1:])  # 연속된 A를 담아줌\n",
    "    cnt1=0\n",
    "    if check:\n",
    "        tmp = name[1:].split(max(check))\n",
    "        if '' in tmp:\n",
    "            cnt1=len(max(check))\n",
    "        else:\n",
    "            cnt2 = 2*len(tmp[0])+len(tmp[-1])\n",
    "            cnt1=min(len(name)-1, cnt2)\n",
    "            return change + cnt1\n",
    "    \n",
    "    # 알파벳 바꾸는데 키 + 오른쪽으로 쭉 가는 경우 - A가 연속되어 있다면 그냥 건너뛰는 경우\n",
    "    return change+len(name)-1-cnt1"
   ]
  },
  {
   "cell_type": "code",
   "execution_count": 3,
   "id": "5ef0f1cd",
   "metadata": {},
   "outputs": [
    {
     "data": {
      "text/plain": [
       "12"
      ]
     },
     "execution_count": 3,
     "metadata": {},
     "output_type": "execute_result"
    }
   ],
   "source": [
    "solution(name)"
   ]
  },
  {
   "cell_type": "code",
   "execution_count": null,
   "id": "3f9f66ee",
   "metadata": {},
   "outputs": [],
   "source": []
  }
 ],
 "metadata": {
  "kernelspec": {
   "display_name": "Python 3",
   "language": "python",
   "name": "python3"
  },
  "language_info": {
   "codemirror_mode": {
    "name": "ipython",
    "version": 3
   },
   "file_extension": ".py",
   "mimetype": "text/x-python",
   "name": "python",
   "nbconvert_exporter": "python",
   "pygments_lexer": "ipython3",
   "version": "3.8.8"
  }
 },
 "nbformat": 4,
 "nbformat_minor": 5
}
