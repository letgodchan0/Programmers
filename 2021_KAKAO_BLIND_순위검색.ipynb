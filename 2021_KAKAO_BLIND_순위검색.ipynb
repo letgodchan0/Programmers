{
 "cells": [
  {
   "cell_type": "markdown",
   "id": "bb2ded44",
   "metadata": {},
   "source": [
    "- 2022년 1월 3일\n",
    "- 프로그래머스 순위 검색\n",
    "- https://programmers.co.kr/learn/courses/30/lessons/72412"
   ]
  },
  {
   "cell_type": "markdown",
   "id": "b990ab59",
   "metadata": {},
   "source": [
    "- 효율성 통과 못한 코드"
   ]
  },
  {
   "cell_type": "code",
   "execution_count": 1,
   "id": "04b329cd",
   "metadata": {},
   "outputs": [],
   "source": [
    "def solution(info, query):\n",
    "    query=list(map(lambda x:x.split(' and '), query))\n",
    "    query=list(map(lambda x: ' '.join(x), query))\n",
    "    query=list(map(lambda x: x.split(' ')[::-1], query))\n",
    "    info=list(map(lambda x: x.split(' ')[::-1], info))\n",
    "    \n",
    "    answer=[]\n",
    "    # 쿼리에서 기준인 애들 하나씩 뽑아서\n",
    "    for i in query:\n",
    "        check=0\n",
    "        # 기준애 맞는 애들을 찾기 위해 info에서 하나씩 가져와서 비교\n",
    "        for j in info:\n",
    "            # 먼저 코딩점수가 쿼리가 원하는 기준 이상인 애들 중에서\n",
    "            if int(j[0])>= int(i[0]):\n",
    "                # 나머지 문자열이 같거나 쿼리 조건이 - 인 애들\n",
    "                if all (j[k]==i[k] or i[k]=='-' for k in range(1, len(j))):\n",
    "                    check+=1\n",
    "        answer.append(check)   \n",
    "    return answer"
   ]
  },
  {
   "cell_type": "code",
   "execution_count": 2,
   "id": "bd86547e",
   "metadata": {},
   "outputs": [],
   "source": [
    "query=[\"java and backend and junior and pizza 100\",\"python and frontend and senior and chicken 200\",\"cpp and - and senior and pizza 250\",\"- and backend and senior and - 150\",\"- and - and - and chicken 100\",\"- and - and - and - 150\"]"
   ]
  },
  {
   "cell_type": "code",
   "execution_count": 3,
   "id": "63b8582b",
   "metadata": {},
   "outputs": [
    {
     "ename": "NameError",
     "evalue": "name 'info' is not defined",
     "output_type": "error",
     "traceback": [
      "\u001b[1;31m---------------------------------------------------------------------------\u001b[0m",
      "\u001b[1;31mNameError\u001b[0m                                 Traceback (most recent call last)",
      "\u001b[1;32m<ipython-input-3-304549e2a432>\u001b[0m in \u001b[0;36m<module>\u001b[1;34m\u001b[0m\n\u001b[1;32m----> 1\u001b[1;33m \u001b[0msolution\u001b[0m\u001b[1;33m(\u001b[0m\u001b[0minfo\u001b[0m\u001b[1;33m,\u001b[0m \u001b[0mquery\u001b[0m\u001b[1;33m)\u001b[0m\u001b[1;33m\u001b[0m\u001b[1;33m\u001b[0m\u001b[0m\n\u001b[0m",
      "\u001b[1;31mNameError\u001b[0m: name 'info' is not defined"
     ]
    }
   ],
   "source": [
    "solution(info, query)"
   ]
  },
  {
   "cell_type": "code",
   "execution_count": null,
   "id": "12d72154",
   "metadata": {},
   "outputs": [],
   "source": []
  },
  {
   "cell_type": "markdown",
   "id": "649dd7ed",
   "metadata": {},
   "source": [
    "- 보완 코드"
   ]
  },
  {
   "cell_type": "code",
   "execution_count": null,
   "id": "fc88f8a0",
   "metadata": {},
   "outputs": [],
   "source": [
    "from itertools import combinations\n",
    "from bisect import bisect_left\n",
    "def solution(info, query):\n",
    "    answer=[]\n",
    "    db={}\n",
    "    for i in info:\n",
    "        tmp=i.split()\n",
    "        career=tmp[:-1]\n",
    "        score=tmp[-1]\n",
    "        for k in range(5):\n",
    "            for j in combinations(career,k):\n",
    "                tmp1=''.join(j)\n",
    "                if tmp1 in db:\n",
    "                    db[tmp1].append(int(score))\n",
    "                else:\n",
    "                    db[tmp1]=[int(score)]\n",
    "    for d in db:\n",
    "        db[d].sort()\n",
    "\n",
    "    for i in query:\n",
    "        tmp=i.split(' ')\n",
    "        career=tmp[:-1]\n",
    "        score=tmp[-1]\n",
    "        while 'and'in career:\n",
    "            career.remove('and')\n",
    "        while '-' in career:\n",
    "            career.remove('-')\n",
    "        career=''.join(career)\n",
    "\n",
    "        if career in db:\n",
    "            scores= db[career]\n",
    "            if scores:\n",
    "                check=bisect_left(scores,  int(score))\n",
    "                answer.append(len(scores)-check)\n",
    "        else:\n",
    "            answer.append(0)\n",
    "    return answer"
   ]
  },
  {
   "cell_type": "code",
   "execution_count": null,
   "id": "187ab462",
   "metadata": {},
   "outputs": [],
   "source": [
    "query=[\"java and backend and junior and pizza 100\",\"python and frontend and senior and chicken 200\",\"cpp and - and senior and pizza 250\",\"- and backend and senior and - 150\",\"- and - and - and chicken 100\",\"- and - and - and - 150\"]\n",
    "info=[\"java backend junior pizza 150\",\"python frontend senior chicken 210\",\"python frontend senior chicken 150\",\"cpp backend senior pizza 260\",\"java backend junior chicken 80\",\"python backend senior chicken 50\"]"
   ]
  },
  {
   "cell_type": "code",
   "execution_count": null,
   "id": "0ebf077f",
   "metadata": {},
   "outputs": [],
   "source": [
    "solution(info, query)"
   ]
  },
  {
   "cell_type": "code",
   "execution_count": null,
   "id": "1fe8eea9",
   "metadata": {},
   "outputs": [],
   "source": []
  }
 ],
 "metadata": {
  "kernelspec": {
   "display_name": "Python 3",
   "language": "python",
   "name": "python3"
  },
  "language_info": {
   "codemirror_mode": {
    "name": "ipython",
    "version": 3
   },
   "file_extension": ".py",
   "mimetype": "text/x-python",
   "name": "python",
   "nbconvert_exporter": "python",
   "pygments_lexer": "ipython3",
   "version": "3.6.13"
  }
 },
 "nbformat": 4,
 "nbformat_minor": 5
}
