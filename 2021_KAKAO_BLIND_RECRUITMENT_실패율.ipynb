{
 "cells": [
  {
   "cell_type": "markdown",
   "id": "4a277e01",
   "metadata": {},
   "source": [
    "- 2021년 10월 25일\n",
    "- 프로그래머스 실패율\n",
    "- https://programmers.co.kr/learn/courses/30/lessons/42889"
   ]
  },
  {
   "cell_type": "code",
   "execution_count": 1,
   "id": "d2186d43",
   "metadata": {},
   "outputs": [],
   "source": [
    "stages=[2, 1, 2, 6, 2, 4, 3, 3]"
   ]
  },
  {
   "cell_type": "code",
   "execution_count": null,
   "id": "24e8f902",
   "metadata": {},
   "outputs": [],
   "source": [
    "def solution(N, stages):\n",
    "    exp=list(set(stages))\n",
    "    if N+1 in exp\n",
    "    pep=[]\n",
    "    cnt=0\n",
    "    for i in exp:\n",
    "        cnt+=stages.count(i-1)\n",
    "        pep.append(len(stages)-cnt)\n",
    "    \n",
    "    answer = []\n",
    "    result= []\n",
    "    for i,v in enumerate(exp):\n",
    "        answer.append(stages.count(v)/pep[i])\n",
    "    answer=sorted(answer, key=lambda : x)\n",
    "    return answer"
   ]
  },
  {
   "cell_type": "code",
   "execution_count": 9,
   "id": "c0815bf6",
   "metadata": {},
   "outputs": [
    {
     "data": {
      "text/plain": [
       "[1, 2, 3, 4, 6]"
      ]
     },
     "execution_count": 9,
     "metadata": {},
     "output_type": "execute_result"
    }
   ],
   "source": [
    "exp=list(set(stages))\n",
    "exp"
   ]
  },
  {
   "cell_type": "code",
   "execution_count": 10,
   "id": "977d0543",
   "metadata": {},
   "outputs": [],
   "source": [
    "pep=[]\n",
    "cnt=0\n",
    "for i in a:\n",
    "    cnt+=stages.count(i-1)\n",
    "    pep.append(len(stages)-cnt)"
   ]
  },
  {
   "cell_type": "code",
   "execution_count": 11,
   "id": "ddbb99d5",
   "metadata": {},
   "outputs": [
    {
     "data": {
      "text/plain": [
       "[8, 7, 4, 2, 2]"
      ]
     },
     "execution_count": 11,
     "metadata": {},
     "output_type": "execute_result"
    }
   ],
   "source": [
    "pep"
   ]
  },
  {
   "cell_type": "code",
   "execution_count": 14,
   "id": "c23116f3",
   "metadata": {},
   "outputs": [
    {
     "data": {
      "text/plain": [
       "[0.125, 0.42857142857142855, 0.5, 0.5, 0.5]"
      ]
     },
     "execution_count": 14,
     "metadata": {},
     "output_type": "execute_result"
    }
   ],
   "source": [
    "answer = []\n",
    "for i,v in enumerate(exp):\n",
    "    answer.append(stages.count(v)/pep[i])\n",
    "answer = sorted(answer, key = lambda x :)"
   ]
  },
  {
   "cell_type": "code",
   "execution_count": 15,
   "id": "6b8ac904",
   "metadata": {},
   "outputs": [
    {
     "data": {
      "text/plain": [
       "[0.125, 0.42857142857142855, 0.5, 0.5, 0.5]"
      ]
     },
     "execution_count": 15,
     "metadata": {},
     "output_type": "execute_result"
    }
   ],
   "source": [
    "answer.sort()\n",
    "answer"
   ]
  },
  {
   "cell_type": "code",
   "execution_count": null,
   "id": "a54711b7",
   "metadata": {},
   "outputs": [],
   "source": []
  }
 ],
 "metadata": {
  "kernelspec": {
   "display_name": "Python 3",
   "language": "python",
   "name": "python3"
  },
  "language_info": {
   "codemirror_mode": {
    "name": "ipython",
    "version": 3
   },
   "file_extension": ".py",
   "mimetype": "text/x-python",
   "name": "python",
   "nbconvert_exporter": "python",
   "pygments_lexer": "ipython3",
   "version": "3.8.8"
  }
 },
 "nbformat": 4,
 "nbformat_minor": 5
}
