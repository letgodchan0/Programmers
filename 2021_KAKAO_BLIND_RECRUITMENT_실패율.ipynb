{
 "cells": [
  {
   "cell_type": "markdown",
   "id": "6a8bc0ec",
   "metadata": {},
   "source": [
    "- 2021년 10월 25일\n",
    "- 프로그래머스 실패율\n",
    "- https://programmers.co.kr/learn/courses/30/lessons/42889"
   ]
  },
  {
   "cell_type": "code",
   "execution_count": 1,
   "id": "7f88f1f8",
   "metadata": {},
   "outputs": [],
   "source": [
    "stages=\t[2, 1, 2, 6, 2, 4, 3, 3]\n",
    "N=5"
   ]
  },
  {
   "cell_type": "code",
   "execution_count": 2,
   "id": "c617fc99",
   "metadata": {},
   "outputs": [],
   "source": [
    "def solution(N, stages):\n",
    "    cnt=[] # 각 스테이지에 머물러 있는 사람의 수\n",
    "    pas=0   \n",
    "    answer = []\n",
    "    for i in range(1,N+1):\n",
    "        pas+=stages.count(i-1)\n",
    "        if len(stages)==pas:\n",
    "            if stages.count(i)==0:\n",
    "                answer.append(0)\n",
    "            else:\n",
    "                answer.append(1)\n",
    "        else:\n",
    "            answer.append(stages.count(i)/(len(stages)-pas))\n",
    "    answer=sorted(list(zip(answer, range(1,len(answer)+1))), key= lambda x : (-x[0], x[1]))\n",
    "    answer1, answer2 = zip(*answer)\n",
    "    answer2=list(answer2)\n",
    "    return answer2"
   ]
  },
  {
   "cell_type": "code",
   "execution_count": 3,
   "id": "5f0f5a11",
   "metadata": {},
   "outputs": [
    {
     "data": {
      "text/plain": [
       "[3, 4, 2, 1, 5]"
      ]
     },
     "execution_count": 3,
     "metadata": {},
     "output_type": "execute_result"
    }
   ],
   "source": [
    "solution(N,stages)"
   ]
  },
  {
   "cell_type": "code",
   "execution_count": null,
   "id": "d74d9be3",
   "metadata": {},
   "outputs": [],
   "source": []
  }
 ],
 "metadata": {
  "kernelspec": {
   "display_name": "Python 3",
   "language": "python",
   "name": "python3"
  },
  "language_info": {
   "codemirror_mode": {
    "name": "ipython",
    "version": 3
   },
   "file_extension": ".py",
   "mimetype": "text/x-python",
   "name": "python",
   "nbconvert_exporter": "python",
   "pygments_lexer": "ipython3",
   "version": "3.8.8"
  }
 },
 "nbformat": 4,
 "nbformat_minor": 5
}
