{
 "cells": [
  {
   "cell_type": "markdown",
   "id": "f191921f",
   "metadata": {},
   "source": [
    "- 2021년 10월 25일\n",
    "- 프로그래머스 실패율\n",
    "- https://programmers.co.kr/learn/courses/30/lessons/42889"
   ]
  },
  {
   "cell_type": "code",
   "execution_count": 67,
   "id": "29209363",
   "metadata": {},
   "outputs": [],
   "source": [
    "stages=[2, 1, 2, 6, 2, 4, 3, 3]\n",
    "N=5"
   ]
  },
  {
   "cell_type": "code",
   "execution_count": 68,
   "id": "95068cdb",
   "metadata": {},
   "outputs": [],
   "source": [
    "def solution(N, stages):\n",
    "    cnt=[] # 각 스테이지에 머물러 있는 사람의 수\n",
    "    pas=0   \n",
    "    exp=[]  # 스테이지에 도달한 사람의 수\n",
    "    answer = []\n",
    "    for i in range(1,N+1):\n",
    "        pas+=stages.count(i)\n",
    "        if len(stages)==pas:\n",
    "            answer.append(1)\n",
    "        else:\n",
    "            answer.append(stages.count(i)/(len(stages)-pas))\n",
    "    answer = list(zip(answer, range(1,len(answer)+1)))\n",
    "    answer=sorted(answer, key= lambda x : (-x[0], x[1]))\n",
    "    answer1, answer2 = zip(*answer)\n",
    "    answer2=list(answer2)\n",
    "    return answer2"
   ]
  },
  {
   "cell_type": "code",
   "execution_count": 69,
   "id": "4b3cb21f",
   "metadata": {},
   "outputs": [
    {
     "data": {
      "text/plain": [
       "[3, 4, 2, 1, 5]"
      ]
     },
     "execution_count": 69,
     "metadata": {},
     "output_type": "execute_result"
    }
   ],
   "source": [
    "solution(N,stages)"
   ]
  },
  {
   "cell_type": "code",
   "execution_count": null,
   "id": "1cb20881",
   "metadata": {},
   "outputs": [],
   "source": []
  }
 ],
 "metadata": {
  "kernelspec": {
   "display_name": "Python 3",
   "language": "python",
   "name": "python3"
  },
  "language_info": {
   "codemirror_mode": {
    "name": "ipython",
    "version": 3
   },
   "file_extension": ".py",
   "mimetype": "text/x-python",
   "name": "python",
   "nbconvert_exporter": "python",
   "pygments_lexer": "ipython3",
   "version": "3.8.8"
  }
 },
 "nbformat": 4,
 "nbformat_minor": 5
}
