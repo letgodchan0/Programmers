{
 "cells": [
  {
   "cell_type": "markdown",
   "id": "5a255beb",
   "metadata": {},
   "source": [
    "- 날짜: 2021년 10월 7일\n",
    "- 프로그래머스 베스트 앨범\n",
    "- https://programmers.co.kr/learn/courses/30/lessons/42579?language=python3"
   ]
  },
  {
   "cell_type": "code",
   "execution_count": 135,
   "id": "b92f7945",
   "metadata": {},
   "outputs": [],
   "source": [
    "def solution(genres, plays):\n",
    "    unique={key: 0 for key in dict.fromkeys(set(genres)).keys()}  \n",
    "    res = list(zip(genres,plays))\n",
    "    idx=list(range(0,len(res)+1))\n",
    "    for i in res:\n",
    "        # 장르별로 재생횟수 더하기\n",
    "        unique[i[0]]+=i[1]      \n",
    "    \n",
    "    # 많이 재생된 순서대로 장르를 정렬\n",
    "    result= sorted(unique.items(), reverse=True, key=lambda item: item[1])\n",
    "    answer = []    \n",
    "    for i in result:\n",
    "        pre=[]\n",
    "        for val in list(zip(idx,res)):\n",
    "            if val[1][0]==i[0]:\n",
    "                pre.append(val)\n",
    "        sort = sorted(pre, reverse=True, key=lambda x: (x[1],-x[0]))\n",
    "        answer.append(sort[0][0])\n",
    "        try:\n",
    "            answer.append(sort[1][0])\n",
    "        except:\n",
    "            pass\n",
    "    \n",
    "    return answer"
   ]
  },
  {
   "cell_type": "code",
   "execution_count": 136,
   "id": "ae69f428",
   "metadata": {},
   "outputs": [],
   "source": [
    "genres=[\"classic\", \"pop\", \"classic\", \"classic\", \"pop\"]\n",
    "plays=[500, 600, 150, 800, 2500]"
   ]
  },
  {
   "cell_type": "code",
   "execution_count": 137,
   "id": "4b86e6e8",
   "metadata": {},
   "outputs": [
    {
     "data": {
      "text/plain": [
       "[4, 1, 3, 0]"
      ]
     },
     "execution_count": 137,
     "metadata": {},
     "output_type": "execute_result"
    }
   ],
   "source": [
    "solution(genres,plays)"
   ]
  }
 ],
 "metadata": {
  "kernelspec": {
   "display_name": "Python 3",
   "language": "python",
   "name": "python3"
  },
  "language_info": {
   "codemirror_mode": {
    "name": "ipython",
    "version": 3
   },
   "file_extension": ".py",
   "mimetype": "text/x-python",
   "name": "python",
   "nbconvert_exporter": "python",
   "pygments_lexer": "ipython3",
   "version": "3.8.8"
  }
 },
 "nbformat": 4,
 "nbformat_minor": 5
}
