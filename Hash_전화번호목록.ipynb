{
 "cells": [
  {
   "cell_type": "markdown",
   "id": "c7ae490f",
   "metadata": {},
   "source": [
    "- 2021년 12월 31일\n",
    "- 프로그래머스 전화번호 목록\n",
    "- https://programmers.co.kr/learn/courses/30/lessons/42577"
   ]
  },
  {
   "cell_type": "code",
   "execution_count": 1,
   "id": "e5e9c771",
   "metadata": {},
   "outputs": [
    {
     "data": {
      "text/plain": [
       "True"
      ]
     },
     "execution_count": 1,
     "metadata": {},
     "output_type": "execute_result"
    }
   ],
   "source": [
    "'12' in '123'"
   ]
  },
  {
   "cell_type": "code",
   "execution_count": null,
   "id": "f195ad6b",
   "metadata": {},
   "outputs": [],
   "source": [
    "phone_book=[\"12\",\"123\",\"1235\",\"567\",\"88\"]"
   ]
  },
  {
   "cell_type": "code",
   "execution_count": null,
   "id": "0652998d",
   "metadata": {},
   "outputs": [],
   "source": [
    "def solution(phone_book):\n",
    "    for i in phone_book:\n",
    "        for j in phone_book:\n",
    "            if i!=j and (i.startswith(j) or j.startswith(i)):\n",
    "                return False\n",
    "    return True"
   ]
  },
  {
   "cell_type": "code",
   "execution_count": 2,
   "id": "db0217de",
   "metadata": {},
   "outputs": [
    {
     "data": {
      "text/plain": [
       "True"
      ]
     },
     "execution_count": 2,
     "metadata": {},
     "output_type": "execute_result"
    }
   ],
   "source": [
    "a='12'\n",
    "'123'.startswith(a)"
   ]
  },
  {
   "cell_type": "code",
   "execution_count": null,
   "id": "fcd979c1",
   "metadata": {},
   "outputs": [],
   "source": [
    "for i in phone_book for j in phone_book"
   ]
  }
 ],
 "metadata": {
  "kernelspec": {
   "display_name": "Python 3",
   "language": "python",
   "name": "python3"
  },
  "language_info": {
   "codemirror_mode": {
    "name": "ipython",
    "version": 3
   },
   "file_extension": ".py",
   "mimetype": "text/x-python",
   "name": "python",
   "nbconvert_exporter": "python",
   "pygments_lexer": "ipython3",
   "version": "3.6.13"
  }
 },
 "nbformat": 4,
 "nbformat_minor": 5
}
