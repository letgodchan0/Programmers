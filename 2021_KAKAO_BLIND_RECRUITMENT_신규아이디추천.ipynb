{
 "cells": [
  {
   "cell_type": "markdown",
   "id": "43306706",
   "metadata": {},
   "source": [
    "- 날짜: 2021년 9월 16일\n",
    "- 프로그래머스 신규아이디 추천\n",
    "- https://programmers.co.kr/learn/courses/30/lessons/72410"
   ]
  },
  {
   "cell_type": "code",
   "execution_count": 77,
   "id": "a642f0a6",
   "metadata": {},
   "outputs": [],
   "source": [
    "import re\n",
    "def solution(new_id):\n",
    "    # 1단계\n",
    "    new_id = new_id.lower()\n",
    "\n",
    "    # 2단계\n",
    "    new_id = re.sub(r\"[^a-z0-9_.-]\",\"\",new_id)\n",
    "\n",
    "    # 3단계\n",
    "    while '..' in new_id:\n",
    "        new_id = new_id.replace('..', '.')\n",
    "\n",
    "    # 4단계\n",
    "    new_id = new_id.strip('.')\n",
    "\n",
    "    # 5단계\n",
    "    if new_id == '':\n",
    "        new_id += 'a'\n",
    "\n",
    "    # 6단계\n",
    "    if len(new_id) >= 16:\n",
    "        new_id = new_id[:15]\n",
    "    if new_id[-1] =='.':\n",
    "        new_id = new_id.rstrip('.')\n",
    "\n",
    "    # 7단계\n",
    "    if len(new_id) == 1:\n",
    "        new_id+=new_id\n",
    "    if len(new_id) == 2:\n",
    "        new_id+=new_id[-1]\n",
    "\n",
    "    return new_id"
   ]
  }
 ],
 "metadata": {
  "kernelspec": {
   "display_name": "Python 3",
   "language": "python",
   "name": "python3"
  },
  "language_info": {
   "codemirror_mode": {
    "name": "ipython",
    "version": 3
   },
   "file_extension": ".py",
   "mimetype": "text/x-python",
   "name": "python",
   "nbconvert_exporter": "python",
   "pygments_lexer": "ipython3",
   "version": "3.8.8"
  },
  "toc": {
   "base_numbering": 1,
   "nav_menu": {},
   "number_sections": true,
   "sideBar": true,
   "skip_h1_title": false,
   "title_cell": "Table of Contents",
   "title_sidebar": "Contents",
   "toc_cell": false,
   "toc_position": {},
   "toc_section_display": true,
   "toc_window_display": false
  }
 },
 "nbformat": 4,
 "nbformat_minor": 5
}
