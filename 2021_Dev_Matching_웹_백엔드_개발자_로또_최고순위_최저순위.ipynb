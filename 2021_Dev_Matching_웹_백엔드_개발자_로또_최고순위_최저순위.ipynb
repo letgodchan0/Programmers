{
 "cells": [
  {
   "cell_type": "markdown",
   "id": "abf9f065",
   "metadata": {},
   "source": [
    "- 날짜: 2021년 9월 14일 화요일\n",
    "- 링크: https://programmers.co.kr/learn/challenges\n",
    "- 프로그래머스, 로또의 최고 순위와 최저 순위"
   ]
  },
  {
   "cell_type": "code",
   "execution_count": 2,
   "id": "393c3de3",
   "metadata": {},
   "outputs": [],
   "source": [
    "def solution(lottos, win_nums):\n",
    "    answer = []\n",
    "    if 0 not in lottos:\n",
    "        answer1=[]\n",
    "        for i in lottos:\n",
    "            for j in win_nums:\n",
    "                if i==j:\n",
    "                    answer1.append(i)\n",
    "        answer=[len(answer1), len(answer1)]\n",
    "        return answer\n",
    "    cnt=0\n",
    "    ex=[]\n",
    "    zero = lottos.count(0)\n",
    "    for i in lottos:\n",
    "        if i !=0:\n",
    "            for j in win_nums:\n",
    "                    if i==j:\n",
    "                        cnt += 1\n",
    "                    else:\n",
    "                        ex.append(j)\n",
    "        mx = cnt + zero\n",
    "        mn = cnt\n",
    "        answer=[mx, mn]\n",
    "    return answer"
   ]
  },
  {
   "cell_type": "code",
   "execution_count": 3,
   "id": "b4b42c3b",
   "metadata": {},
   "outputs": [
    {
     "data": {
      "text/plain": [
       "2"
      ]
     },
     "execution_count": 3,
     "metadata": {},
     "output_type": "execute_result"
    }
   ],
   "source": [
    "lottos = [44, 1, 0, 0, 31, 25]\n",
    "zero = lottos.count(0)\n",
    "zero"
   ]
  },
  {
   "cell_type": "code",
   "execution_count": 4,
   "id": "7e18642c",
   "metadata": {},
   "outputs": [],
   "source": [
    "answer=[]\n",
    "cnt=3\n"
   ]
  },
  {
   "cell_type": "code",
   "execution_count": 5,
   "id": "5e6617dc",
   "metadata": {},
   "outputs": [
    {
     "data": {
      "text/plain": [
       "[3, 3]"
      ]
     },
     "execution_count": 5,
     "metadata": {},
     "output_type": "execute_result"
    }
   ],
   "source": [
    "answer=[cnt, cnt]\n",
    "answer"
   ]
  },
  {
   "cell_type": "markdown",
   "id": "cc9a75ea",
   "metadata": {},
   "source": [
    "# 정답 제출 파일"
   ]
  },
  {
   "cell_type": "code",
   "execution_count": 67,
   "id": "a7c87d81",
   "metadata": {},
   "outputs": [],
   "source": [
    "def solution(lottos, win_nums):\n",
    "    answer=[]\n",
    "    cnt=0\n",
    "    zero = lottos.count(0)\n",
    "    rank = {6:1,5:2,4:3,3:4,2:5,1:6,0:6}\n",
    "    mx = 0\n",
    "    mn = 0\n",
    "    if zero ==0:\n",
    "        for i in lottos:\n",
    "            for j in win_nums:\n",
    "                if i==j:\n",
    "                    cnt+=1\n",
    "        answer = [rank[cnt], rank[cnt]]\n",
    "        return answer\n",
    "    else:\n",
    "        for i in lottos:\n",
    "            for j in win_nums:\n",
    "                if i==j:\n",
    "                    cnt+=1\n",
    "    \n",
    "        mn = cnt\n",
    "        mx = cnt+zero\n",
    "        answer = [rank[mx], rank[mn]]\n",
    "        return answer"
   ]
  },
  {
   "cell_type": "code",
   "execution_count": 68,
   "id": "bbe47a77",
   "metadata": {},
   "outputs": [],
   "source": [
    "lottos = [45, 4, 35, 20, 3, 9]\n",
    "win_nums = [20, 9, 3, 45, 4, 35]"
   ]
  },
  {
   "cell_type": "code",
   "execution_count": 69,
   "id": "7108f786",
   "metadata": {},
   "outputs": [
    {
     "data": {
      "text/plain": [
       "[1, 1]"
      ]
     },
     "execution_count": 69,
     "metadata": {},
     "output_type": "execute_result"
    }
   ],
   "source": [
    "solution(lottos,win_nums)"
   ]
  },
  {
   "cell_type": "code",
   "execution_count": 37,
   "id": "8cd94742",
   "metadata": {},
   "outputs": [
    {
     "name": "stdout",
     "output_type": "stream",
     "text": [
      "0 1\n",
      "1 2\n",
      "2 3\n",
      "3 4\n",
      "4 5\n",
      "5 6\n"
     ]
    }
   ],
   "source": [
    "rank = [1,2,3,4,5,6]\n",
    "for i,j in enumerate(rank):\n",
    "    print (i,j)"
   ]
  },
  {
   "cell_type": "code",
   "execution_count": 49,
   "id": "88278d08",
   "metadata": {},
   "outputs": [
    {
     "data": {
      "text/plain": [
       "2"
      ]
     },
     "execution_count": 49,
     "metadata": {},
     "output_type": "execute_result"
    }
   ],
   "source": [
    "rank = {6:1,5:2,4:3,3:4,2:5,1:6}\n",
    "mx=5\n",
    "rank[mx]"
   ]
  },
  {
   "cell_type": "code",
   "execution_count": 56,
   "id": "2bebfbaa",
   "metadata": {},
   "outputs": [],
   "source": [
    "answer=[]\n",
    "mn=2\n",
    "answer=[rank[mx], rank[mn]]"
   ]
  },
  {
   "cell_type": "code",
   "execution_count": 54,
   "id": "484b5650",
   "metadata": {},
   "outputs": [
    {
     "data": {
      "text/plain": [
       "2"
      ]
     },
     "execution_count": 54,
     "metadata": {},
     "output_type": "execute_result"
    }
   ],
   "source": [
    "rank[mx]"
   ]
  },
  {
   "cell_type": "code",
   "execution_count": 57,
   "id": "b131f30b",
   "metadata": {},
   "outputs": [
    {
     "data": {
      "text/plain": [
       "[2, 5]"
      ]
     },
     "execution_count": 57,
     "metadata": {},
     "output_type": "execute_result"
    }
   ],
   "source": [
    "answer"
   ]
  },
  {
   "cell_type": "markdown",
   "id": "c87fcc77",
   "metadata": {},
   "source": [
    "# 다른 사람 풀이"
   ]
  },
  {
   "cell_type": "code",
   "execution_count": 70,
   "id": "1c287b32",
   "metadata": {},
   "outputs": [],
   "source": [
    "def solution(lottos, win_nums):\n",
    "\n",
    "    rank=[6,6,5,4,3,2,1]\n",
    "\n",
    "    cnt_0 = lottos.count(0)\n",
    "    ans = 0\n",
    "    for x in win_nums:\n",
    "        if x in lottos:\n",
    "            ans += 1\n",
    "    return rank[cnt_0 + ans],rank[ans]"
   ]
  },
  {
   "cell_type": "code",
   "execution_count": 71,
   "id": "baeb73f0",
   "metadata": {},
   "outputs": [],
   "source": []
  },
  {
   "cell_type": "code",
   "execution_count": null,
   "id": "f812fb22",
   "metadata": {},
   "outputs": [],
   "source": []
  }
 ],
 "metadata": {
  "kernelspec": {
   "display_name": "Python 3",
   "language": "python",
   "name": "python3"
  },
  "language_info": {
   "codemirror_mode": {
    "name": "ipython",
    "version": 3
   },
   "file_extension": ".py",
   "mimetype": "text/x-python",
   "name": "python",
   "nbconvert_exporter": "python",
   "pygments_lexer": "ipython3",
   "version": "3.8.8"
  },
  "toc": {
   "base_numbering": 1,
   "nav_menu": {},
   "number_sections": true,
   "sideBar": true,
   "skip_h1_title": false,
   "title_cell": "Table of Contents",
   "title_sidebar": "Contents",
   "toc_cell": false,
   "toc_position": {},
   "toc_section_display": true,
   "toc_window_display": false
  }
 },
 "nbformat": 4,
 "nbformat_minor": 5
}
