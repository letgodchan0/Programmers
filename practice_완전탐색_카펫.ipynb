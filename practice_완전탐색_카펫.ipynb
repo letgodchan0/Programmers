{
 "cells": [
  {
   "cell_type": "markdown",
   "id": "25d3e0db",
   "metadata": {},
   "source": [
    "- 2021년 12월 19일\n",
    "- 프로그래머스 카펫\n",
    "- https://programmers.co.kr/learn/courses/30/lessons/42842"
   ]
  },
  {
   "cell_type": "code",
   "execution_count": 1,
   "id": "f919d9f6",
   "metadata": {},
   "outputs": [],
   "source": [
    "def solution(brown, yellow):\n",
    "    tmp=[]\n",
    "    # 곱해서 yellow를 만족하는 약수를 짝지어 tmp 에 넣어준다.\n",
    "    for i in range(1,yellow+1):\n",
    "        if yellow%i==0:\n",
    "            divisor=sorted([yellow//i,i])\n",
    "            if divisor in tmp:\n",
    "                break\n",
    "            tmp.append(divisor)\n",
    "    # 약수의 합이 brown을 만족하는 애를 answer에 넣어준다.\n",
    "    answer=[]\n",
    "    for i in tmp:\n",
    "        if sum(i)==(brown-4)//2:\n",
    "            answer.extend(i)\n",
    "   \n",
    "    # 규칙을 기반해서 가로, 세로를 넣어준다.\n",
    "    result=[]\n",
    "    result.append(answer[1]+2)\n",
    "    result.append((brown+yellow)//result[0])\n",
    "    return result"
   ]
  },
  {
   "cell_type": "code",
   "execution_count": 2,
   "id": "d8af541f",
   "metadata": {},
   "outputs": [],
   "source": [
    "brown=24\n",
    "yellow=24"
   ]
  },
  {
   "cell_type": "code",
   "execution_count": 3,
   "id": "44c9556b",
   "metadata": {},
   "outputs": [
    {
     "data": {
      "text/plain": [
       "[8, 6]"
      ]
     },
     "execution_count": 3,
     "metadata": {},
     "output_type": "execute_result"
    }
   ],
   "source": [
    "solution(brown,yellow)"
   ]
  },
  {
   "cell_type": "markdown",
   "id": "7a461604",
   "metadata": {},
   "source": [
    "- 다른 풀이 (둘레를 이용함)\n",
    "- 가로 * 세로 = 격자의 합, 둘레의 합(가로*2 + 세로*2 - 겹치는 부분(4))"
   ]
  },
  {
   "cell_type": "code",
   "execution_count": 4,
   "id": "ec3b7cc1",
   "metadata": {},
   "outputs": [],
   "source": [
    "def solution(brown, red):\n",
    "    for i in range(1, int(red**(1/2))+1):\n",
    "        if red % i == 0:\n",
    "            if 2*(i + red//i) == brown-4:\n",
    "                return [red//i+2, i+2]"
   ]
  },
  {
   "cell_type": "code",
   "execution_count": null,
   "id": "2ea0a470",
   "metadata": {},
   "outputs": [],
   "source": []
  }
 ],
 "metadata": {
  "kernelspec": {
   "display_name": "Python 3",
   "language": "python",
   "name": "python3"
  },
  "language_info": {
   "codemirror_mode": {
    "name": "ipython",
    "version": 3
   },
   "file_extension": ".py",
   "mimetype": "text/x-python",
   "name": "python",
   "nbconvert_exporter": "python",
   "pygments_lexer": "ipython3",
   "version": "3.8.8"
  }
 },
 "nbformat": 4,
 "nbformat_minor": 5
}
