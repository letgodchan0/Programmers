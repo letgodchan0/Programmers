{
 "cells": [
  {
   "cell_type": "markdown",
   "id": "fe945576",
   "metadata": {},
   "source": [
    "- 2021년 12월 19일\n",
    "- 프로그래머스 카펫\n",
    "- https://programmers.co.kr/learn/courses/30/lessons/42842"
   ]
  },
  {
   "cell_type": "code",
   "execution_count": 17,
   "id": "144c3fd1",
   "metadata": {},
   "outputs": [],
   "source": [
    "def solution(brown, yellow):\n",
    "    tmp=[]\n",
    "    # yellow의 약수의 곱읍 구해서 tmp에 담아준다.\n",
    "    for i in range(1,yellow+1):\n",
    "        if yellow%i==0:\n",
    "            divisor=sorted([yellow//i,i])\n",
    "            if divisor in tmp:\n",
    "                break\n",
    "            tmp.append(divisor)\n",
    "    answer=[]\n",
    "    for i in tmp:\n",
    "        if sum(i)==(brown-4)//2:\n",
    "            answer.append(i)\n",
    "    return answer"
   ]
  },
  {
   "cell_type": "code",
   "execution_count": 22,
   "id": "c3100b62",
   "metadata": {},
   "outputs": [],
   "source": [
    "brown=24\n",
    "yellow=24"
   ]
  },
  {
   "cell_type": "code",
   "execution_count": 21,
   "id": "ec562214",
   "metadata": {},
   "outputs": [
    {
     "data": {
      "text/plain": [
       "[[1, 2]]"
      ]
     },
     "execution_count": 21,
     "metadata": {},
     "output_type": "execute_result"
    }
   ],
   "source": [
    "solution(brown,yellow)"
   ]
  },
  {
   "cell_type": "code",
   "execution_count": 15,
   "id": "04dec17b",
   "metadata": {},
   "outputs": [
    {
     "data": {
      "text/plain": [
       "2"
      ]
     },
     "execution_count": 15,
     "metadata": {},
     "output_type": "execute_result"
    }
   ],
   "source": [
    "(brown-4)//2"
   ]
  },
  {
   "cell_type": "code",
   "execution_count": 23,
   "id": "d333c66c",
   "metadata": {},
   "outputs": [
    {
     "data": {
      "text/plain": [
       "[[1, 24], [2, 12], [3, 8], [4, 6]]"
      ]
     },
     "execution_count": 23,
     "metadata": {},
     "output_type": "execute_result"
    }
   ],
   "source": [
    "tmp=[]\n",
    "for i in range(1,yellow+1):\n",
    "    if yellow%i==0:\n",
    "        divisor=sorted([yellow//i,i])\n",
    "        if divisor in tmp:\n",
    "            break\n",
    "        tmp.append(divisor)\n",
    "tmp"
   ]
  },
  {
   "cell_type": "code",
   "execution_count": null,
   "id": "f950d1ca",
   "metadata": {},
   "outputs": [],
   "source": [
    "1 2 3 4 5 6 8 12 24 "
   ]
  }
 ],
 "metadata": {
  "kernelspec": {
   "display_name": "Python 3",
   "language": "python",
   "name": "python3"
  },
  "language_info": {
   "codemirror_mode": {
    "name": "ipython",
    "version": 3
   },
   "file_extension": ".py",
   "mimetype": "text/x-python",
   "name": "python",
   "nbconvert_exporter": "python",
   "pygments_lexer": "ipython3",
   "version": "3.8.8"
  }
 },
 "nbformat": 4,
 "nbformat_minor": 5
}
