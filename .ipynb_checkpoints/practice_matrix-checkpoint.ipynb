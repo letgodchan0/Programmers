{
 "cells": [
  {
   "cell_type": "markdown",
   "id": "2b944277",
   "metadata": {},
   "source": [
    "- 2021년 12월 15일\n",
    "- 프로그래머스 행렬의 곱셈\n",
    "- https://programmers.co.kr/learn/courses/30/lessons/12949"
   ]
  },
  {
   "cell_type": "code",
   "execution_count": 1,
   "id": "399f133a",
   "metadata": {},
   "outputs": [],
   "source": [
    "arr1=[[2, 3, 2], [4, 2, 4], [3, 1, 4]]\n",
    "arr2= [[5, 4, 3], [2, 4, 1], [3, 1, 1]]"
   ]
  },
  {
   "cell_type": "code",
   "execution_count": 2,
   "id": "317f347b",
   "metadata": {},
   "outputs": [],
   "source": [
    "def mul (list1, list2):\n",
    "    list3=[]\n",
    "    for i in range(len(list1)):\n",
    "        list3.append(list1[i]*list2[i])\n",
    "    return list3\n",
    "\n",
    "def solution(arr1, arr2):\n",
    "    arr2=[list(i) for i in zip(*arr2)]\n",
    "    answer = []\n",
    "    for i in range(len(arr1)):\n",
    "        tmp=[]\n",
    "        for j in range(len(arr2)):\n",
    "            tmp.append(sum(mul(arr1[i],arr2[j])))\n",
    "        answer.append(tmp)\n",
    "    return answer"
   ]
  },
  {
   "cell_type": "code",
   "execution_count": 3,
   "id": "94a0084b",
   "metadata": {},
   "outputs": [
    {
     "data": {
      "text/plain": [
       "[[22, 22, 11], [36, 28, 18], [29, 20, 14]]"
      ]
     },
     "execution_count": 3,
     "metadata": {},
     "output_type": "execute_result"
    }
   ],
   "source": [
    "solution(arr1, arr2)"
   ]
  },
  {
   "cell_type": "markdown",
   "id": "32ed1d3f",
   "metadata": {},
   "source": [
    "- 다른 풀이"
   ]
  },
  {
   "cell_type": "code",
   "execution_count": 4,
   "id": "27f746d1",
   "metadata": {},
   "outputs": [],
   "source": [
    "def productMatrix(A, B):\n",
    "    answer = []\n",
    "    for y1 in range(len(A)):\n",
    "        a=[]\n",
    "        for x2 in range(len(B[0])):\n",
    "            n = 0\n",
    "            for x1 in range(len(A[0])):\n",
    "                n += A[y1][x1] * B[x1][x2]\n",
    "            a.append(n)\n",
    "        answer.append(a)\n",
    "    return answer"
   ]
  },
  {
   "cell_type": "code",
   "execution_count": null,
   "id": "528396ae",
   "metadata": {},
   "outputs": [],
   "source": []
  }
 ],
 "metadata": {
  "kernelspec": {
   "display_name": "Python 3",
   "language": "python",
   "name": "python3"
  },
  "language_info": {
   "codemirror_mode": {
    "name": "ipython",
    "version": 3
   },
   "file_extension": ".py",
   "mimetype": "text/x-python",
   "name": "python",
   "nbconvert_exporter": "python",
   "pygments_lexer": "ipython3",
   "version": "3.8.8"
  }
 },
 "nbformat": 4,
 "nbformat_minor": 5
}
