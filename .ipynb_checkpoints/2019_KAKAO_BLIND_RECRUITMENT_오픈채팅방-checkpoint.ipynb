{
 "cells": [
  {
   "cell_type": "markdown",
   "id": "2c8b1dbb",
   "metadata": {},
   "source": [
    "- 2021년 10월 17일\n",
    "- 프로그래머스 오픈채팅방\n",
    "- https://programmers.co.kr/learn/courses/30/lessons/42888"
   ]
  },
  {
   "cell_type": "code",
   "execution_count": 1,
   "id": "8946125e",
   "metadata": {},
   "outputs": [],
   "source": [
    "record=[\"Enter uid1234 Muzi\", \"Enter uid4567 Prodo\",\"Leave uid1234\",\"Enter uid1234 Prodo\",\"Change uid4567 Ryan\"]"
   ]
  },
  {
   "cell_type": "code",
   "execution_count": 2,
   "id": "1d22b1ee",
   "metadata": {},
   "outputs": [],
   "source": [
    "def solution(record):\n",
    "    name=[]\n",
    "    action=[]\n",
    "    answer = []\n",
    "    key = {}\n",
    "    result=[]\n",
    "    \n",
    "    for i in record:\n",
    "        if i.split()[0]=='Enter':\n",
    "            name.append(i.split()[1])\n",
    "            action.append('님이 들어왔습니다.')\n",
    "            key[i.split()[1]]=i.split()[2]\n",
    "        if i.split()[0]=='Leave':\n",
    "            name.append(i.split()[1])\n",
    "            action.append('님이 나갔습니다.')\n",
    "        if i.split()[0]=='Change':\n",
    "            key[i.split()[1]]=i.split()[2]\n",
    "    \n",
    "    for i in name:\n",
    "        i=key[i]\n",
    "        answer.append(i)\n",
    "    \n",
    "    for i in range(len(answer)):\n",
    "        result.append(answer[i]+action[i])\n",
    "        \n",
    "   \n",
    "    return result,name,key"
   ]
  },
  {
   "cell_type": "code",
   "execution_count": 3,
   "id": "cc46a29a",
   "metadata": {},
   "outputs": [
    {
     "data": {
      "text/plain": [
       "(['Prodo님이 들어왔습니다.', 'Ryan님이 들어왔습니다.', 'Prodo님이 나갔습니다.', 'Prodo님이 들어왔습니다.'],\n",
       " ['uid1234', 'uid4567', 'uid1234', 'uid1234'],\n",
       " {'uid1234': 'Prodo', 'uid4567': 'Ryan'})"
      ]
     },
     "execution_count": 3,
     "metadata": {},
     "output_type": "execute_result"
    }
   ],
   "source": [
    "solution(record)"
   ]
  }
 ],
 "metadata": {
  "kernelspec": {
   "display_name": "Python 3",
   "language": "python",
   "name": "python3"
  },
  "language_info": {
   "codemirror_mode": {
    "name": "ipython",
    "version": 3
   },
   "file_extension": ".py",
   "mimetype": "text/x-python",
   "name": "python",
   "nbconvert_exporter": "python",
   "pygments_lexer": "ipython3",
   "version": "3.8.8"
  }
 },
 "nbformat": 4,
 "nbformat_minor": 5
}
