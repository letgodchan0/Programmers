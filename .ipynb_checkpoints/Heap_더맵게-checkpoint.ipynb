{
 "cells": [
  {
   "cell_type": "markdown",
   "id": "5f302591",
   "metadata": {},
   "source": [
    "- 2021년 10월 21일\n",
    "- 프로그래머스 더 맵게\n",
    "- https://programmers.co.kr/learn/courses/30/lessons/42626"
   ]
  },
  {
   "cell_type": "code",
   "execution_count": 1,
   "id": "0a70c6d5",
   "metadata": {},
   "outputs": [],
   "source": [
    "scoville=[1, 3, 2, 9, 10, 12]\n",
    "K=7"
   ]
  },
  {
   "cell_type": "code",
   "execution_count": 2,
   "id": "d5eb6efd",
   "metadata": {},
   "outputs": [],
   "source": [
    "def solution(scoville, K):\n",
    "    import heapq\n",
    "    heapq.heapify(scoville)\n",
    "    answer = 0\n",
    "    while scoville[0] < K:\n",
    "        min1=heapq.heappop(scoville)\n",
    "        min2=heapq.heappop(scoville)\n",
    "        heapq.heappush(scoville, min1+2*min2)\n",
    "        if len(scoville)==1 and scoville[0]<K:\n",
    "            return -1\n",
    "        answer+=1\n",
    "    \n",
    "    return answer"
   ]
  },
  {
   "cell_type": "code",
   "execution_count": 3,
   "id": "1abdac52",
   "metadata": {},
   "outputs": [
    {
     "data": {
      "text/plain": [
       "2"
      ]
     },
     "execution_count": 3,
     "metadata": {},
     "output_type": "execute_result"
    }
   ],
   "source": [
    "solution(scoville, K)"
   ]
  },
  {
   "cell_type": "code",
   "execution_count": null,
   "id": "e4f62798",
   "metadata": {},
   "outputs": [],
   "source": []
  }
 ],
 "metadata": {
  "kernelspec": {
   "display_name": "Python 3",
   "language": "python",
   "name": "python3"
  },
  "language_info": {
   "codemirror_mode": {
    "name": "ipython",
    "version": 3
   },
   "file_extension": ".py",
   "mimetype": "text/x-python",
   "name": "python",
   "nbconvert_exporter": "python",
   "pygments_lexer": "ipython3",
   "version": "3.8.8"
  }
 },
 "nbformat": 4,
 "nbformat_minor": 5
}
