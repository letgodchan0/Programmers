{
 "cells": [
  {
   "cell_type": "markdown",
   "id": "c24fca20",
   "metadata": {},
   "source": [
    "- 2021년 11월 21일\n",
    "- 프로그래머스 3진법 뒤집기\n",
    "- https://programmers.co.kr/learn/courses/30/lessons/68935"
   ]
  },
  {
   "cell_type": "code",
   "execution_count": 1,
   "id": "ecb7a1fe",
   "metadata": {},
   "outputs": [],
   "source": [
    "n=1"
   ]
  },
  {
   "cell_type": "code",
   "execution_count": 2,
   "id": "275c2a0d",
   "metadata": {},
   "outputs": [],
   "source": [
    "def solution(n):\n",
    "    result=[]\n",
    "    if n==1:\n",
    "        return 1\n",
    "    while True:\n",
    "        result.append(n%3)\n",
    "        n=n//3\n",
    "        if n <3:\n",
    "            result.append(n)\n",
    "            break\n",
    "    answer=0\n",
    "    for i, j in enumerate(result[::-1]):\n",
    "        if i==0:\n",
    "            answer+=j\n",
    "        else:\n",
    "            answer= answer+j*(3**i)\n",
    "    \n",
    "    return answer"
   ]
  },
  {
   "cell_type": "code",
   "execution_count": 3,
   "id": "ade0d91d",
   "metadata": {},
   "outputs": [
    {
     "data": {
      "text/plain": [
       "1"
      ]
     },
     "execution_count": 3,
     "metadata": {},
     "output_type": "execute_result"
    }
   ],
   "source": [
    "solution(n)"
   ]
  },
  {
   "cell_type": "markdown",
   "id": "1ce9f3dd",
   "metadata": {},
   "source": [
    "- 다른 사람풀이\n",
    "- int 함수를 저렇게 쓰면 십진법으로 바꿔준다"
   ]
  },
  {
   "cell_type": "code",
   "execution_count": 4,
   "id": "65c978ba",
   "metadata": {},
   "outputs": [],
   "source": [
    "def solution(n):\n",
    "    tmp = ''\n",
    "    while n:\n",
    "        tmp += str(n % 3)\n",
    "        n = n // 3\n",
    "\n",
    "    answer = int(tmp, 3)\n",
    "    return answer"
   ]
  },
  {
   "cell_type": "code",
   "execution_count": null,
   "id": "61af9a1c",
   "metadata": {},
   "outputs": [],
   "source": []
  }
 ],
 "metadata": {
  "kernelspec": {
   "display_name": "Python 3",
   "language": "python",
   "name": "python3"
  },
  "language_info": {
   "codemirror_mode": {
    "name": "ipython",
    "version": 3
   },
   "file_extension": ".py",
   "mimetype": "text/x-python",
   "name": "python",
   "nbconvert_exporter": "python",
   "pygments_lexer": "ipython3",
   "version": "3.8.8"
  }
 },
 "nbformat": 4,
 "nbformat_minor": 5
}
