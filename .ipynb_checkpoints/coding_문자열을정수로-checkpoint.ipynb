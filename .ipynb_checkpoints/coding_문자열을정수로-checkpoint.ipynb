{
 "cells": [
  {
   "cell_type": "markdown",
   "id": "fd84b37e",
   "metadata": {},
   "source": [
    "- 2021년 11월 20일\n",
    "- 프로그래머스 문자열을 정수로 바꾸기\n",
    "- https://programmers.co.kr/learn/courses/30/lessons/12925"
   ]
  },
  {
   "cell_type": "code",
   "execution_count": 1,
   "id": "08b184a6",
   "metadata": {},
   "outputs": [],
   "source": [
    "def solution(s):\n",
    "    try:\n",
    "        return int(s)\n",
    "    except:\n",
    "        return s[0],int(s[1:])"
   ]
  },
  {
   "cell_type": "code",
   "execution_count": 2,
   "id": "ae817c8e",
   "metadata": {},
   "outputs": [
    {
     "data": {
      "text/plain": [
       "-1234"
      ]
     },
     "execution_count": 2,
     "metadata": {},
     "output_type": "execute_result"
    }
   ],
   "source": [
    "s=\"-1234\"\n",
    "solution(s)"
   ]
  },
  {
   "cell_type": "code",
   "execution_count": null,
   "id": "509ebd03",
   "metadata": {},
   "outputs": [],
   "source": []
  }
 ],
 "metadata": {
  "kernelspec": {
   "display_name": "Python 3",
   "language": "python",
   "name": "python3"
  },
  "language_info": {
   "codemirror_mode": {
    "name": "ipython",
    "version": 3
   },
   "file_extension": ".py",
   "mimetype": "text/x-python",
   "name": "python",
   "nbconvert_exporter": "python",
   "pygments_lexer": "ipython3",
   "version": "3.8.8"
  }
 },
 "nbformat": 4,
 "nbformat_minor": 5
}
