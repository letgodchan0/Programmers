{
 "cells": [
  {
   "cell_type": "markdown",
   "id": "cc313435",
   "metadata": {},
   "source": [
    "- 2021년 10월 24일\n",
    "- 프로그래머스 모의고사\n",
    "- https://programmers.co.kr/learn/courses/30/lessons/42840"
   ]
  },
  {
   "cell_type": "code",
   "execution_count": 15,
   "id": "d32648e7",
   "metadata": {},
   "outputs": [],
   "source": [
    "def solution(answers):\n",
    "    first=[1,2,3,4,5,1,2,3,4,5]\n",
    "    second=[2,1,2,3,2,4,2,5,2,1]\n",
    "    third=[3,3,1,1,2,2,4,4,5,5]\n",
    "    if len(answers)<=10:\n",
    "        first=first[:len(answers)+1]\n",
    "        second=second[:len(answers)+1]\n",
    "        third=third[:len(answers)+1]\n",
    "    else:\n",
    "        mok=len(answers)//10 +1\n",
    "        na=len(answers)%10\n",
    "        \n",
    "        first=mok*first+first[:na+1]\n",
    "        second=mok*second+second[:na+1]\n",
    "        third=mok*third+third[:na+1]        \n",
    "    cnt1=0\n",
    "    cnt2=0\n",
    "    cnt3=0\n",
    "    for i in range(len(answers)):\n",
    "        if answers[i] == first[i]:\n",
    "            cnt1+=1\n",
    "        if answers[i] == second[i]:\n",
    "            cnt2+=1\n",
    "        if answers[i] == third[i]:\n",
    "            cnt3+=1\n",
    "    answer=[]\n",
    "    if cnt1>=cnt2 and cnt1>=cnt3:\n",
    "        answer.append(1)\n",
    "    if cnt2>=cnt1 and cnt2>=cnt3:\n",
    "        answer.append(2)\n",
    "    if cnt3>=cnt1 and cnt3>=cnt2:\n",
    "        answer.append(3)\n",
    "    return answer"
   ]
  },
  {
   "cell_type": "code",
   "execution_count": 16,
   "id": "14a92c1a",
   "metadata": {},
   "outputs": [],
   "source": [
    "answers=[1,2,3,4,5]"
   ]
  },
  {
   "cell_type": "code",
   "execution_count": 17,
   "id": "68eaa5a5",
   "metadata": {},
   "outputs": [
    {
     "data": {
      "text/plain": [
       "[1]"
      ]
     },
     "execution_count": 17,
     "metadata": {},
     "output_type": "execute_result"
    }
   ],
   "source": [
    "solution(answers)"
   ]
  },
  {
   "cell_type": "code",
   "execution_count": 9,
   "id": "e735a0bc",
   "metadata": {},
   "outputs": [
    {
     "data": {
      "text/plain": [
       "[1, 2, 3, 4, 5, 6]"
      ]
     },
     "execution_count": 9,
     "metadata": {},
     "output_type": "execute_result"
    }
   ],
   "source": [
    "[1,2,3,4]+[5,6]"
   ]
  },
  {
   "cell_type": "code",
   "execution_count": 10,
   "id": "16ebfc90",
   "metadata": {},
   "outputs": [
    {
     "data": {
      "text/plain": [
       "13"
      ]
     },
     "execution_count": 10,
     "metadata": {},
     "output_type": "execute_result"
    }
   ],
   "source": [
    "a=[13,13,4]\n",
    "max(a)"
   ]
  },
  {
   "cell_type": "code",
   "execution_count": 11,
   "id": "183c9f1e",
   "metadata": {},
   "outputs": [
    {
     "data": {
      "text/plain": [
       "0"
      ]
     },
     "execution_count": 11,
     "metadata": {},
     "output_type": "execute_result"
    }
   ],
   "source": [
    "a.index(max(a))"
   ]
  },
  {
   "cell_type": "code",
   "execution_count": null,
   "id": "b042110f",
   "metadata": {},
   "outputs": [],
   "source": []
  }
 ],
 "metadata": {
  "kernelspec": {
   "display_name": "Python 3",
   "language": "python",
   "name": "python3"
  },
  "language_info": {
   "codemirror_mode": {
    "name": "ipython",
    "version": 3
   },
   "file_extension": ".py",
   "mimetype": "text/x-python",
   "name": "python",
   "nbconvert_exporter": "python",
   "pygments_lexer": "ipython3",
   "version": "3.8.8"
  }
 },
 "nbformat": 4,
 "nbformat_minor": 5
}
