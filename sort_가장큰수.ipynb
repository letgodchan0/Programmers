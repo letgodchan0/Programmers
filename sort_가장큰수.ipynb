{
 "cells": [
  {
   "cell_type": "markdown",
   "id": "32662cc6",
   "metadata": {},
   "source": [
    "- 2021년 11월 15일\n",
    "- 프로그래머스 가장 큰 수\n",
    "- https://programmers.co.kr/learn/courses/30/lessons/42746"
   ]
  },
  {
   "cell_type": "code",
   "execution_count": 65,
   "id": "2da7987b",
   "metadata": {},
   "outputs": [],
   "source": [
    "numbers=[3, 30, 34, 5, 9]"
   ]
  },
  {
   "cell_type": "code",
   "execution_count": 53,
   "id": "29044456",
   "metadata": {},
   "outputs": [],
   "source": [
    "numbers=[6, 10, 2]"
   ]
  },
  {
   "cell_type": "code",
   "execution_count": 90,
   "id": "18e82aa4",
   "metadata": {},
   "outputs": [],
   "source": [
    "str_numbers=[str(i) for i in numbers]"
   ]
  },
  {
   "cell_type": "code",
   "execution_count": 91,
   "id": "74a091f3",
   "metadata": {},
   "outputs": [
    {
     "data": {
      "text/plain": [
       "['3', '30', '34', '5', '9']"
      ]
     },
     "execution_count": 91,
     "metadata": {},
     "output_type": "execute_result"
    }
   ],
   "source": [
    "str_numbers"
   ]
  },
  {
   "cell_type": "code",
   "execution_count": 92,
   "id": "16a07f5b",
   "metadata": {},
   "outputs": [],
   "source": [
    "str_numbers = sorted(str_numbers, key = lambda x: (-int(x[0])))"
   ]
  },
  {
   "cell_type": "code",
   "execution_count": 93,
   "id": "22a59cc2",
   "metadata": {},
   "outputs": [
    {
     "data": {
      "text/plain": [
       "['9', '5', '3', '30', '34']"
      ]
     },
     "execution_count": 93,
     "metadata": {},
     "output_type": "execute_result"
    }
   ],
   "source": [
    "str_numbers"
   ]
  },
  {
   "cell_type": "code",
   "execution_count": 78,
   "id": "df50d96e",
   "metadata": {},
   "outputs": [],
   "source": [
    "def solution(numbers):\n",
    "    str_numbers=[str(i) for i in numbers]\n",
    "    str_numbers = sorted(str_numbers, key = lambda x: (-int(x[0]),-int(x)))\n",
    "    answer=''\n",
    "    for i in str_numbers:\n",
    "        answer+=i\n",
    "    return answer"
   ]
  },
  {
   "cell_type": "code",
   "execution_count": 79,
   "id": "27a6ddf8",
   "metadata": {},
   "outputs": [
    {
     "data": {
      "text/plain": [
       "'9534303'"
      ]
     },
     "execution_count": 79,
     "metadata": {},
     "output_type": "execute_result"
    }
   ],
   "source": [
    "solution(numbers)"
   ]
  },
  {
   "cell_type": "code",
   "execution_count": 1,
   "id": "a77c0c8f",
   "metadata": {},
   "outputs": [
    {
     "ename": "NameError",
     "evalue": "name 'solution' is not defined",
     "output_type": "error",
     "traceback": [
      "\u001b[1;31m---------------------------------------------------------------------------\u001b[0m",
      "\u001b[1;31mNameError\u001b[0m                                 Traceback (most recent call last)",
      "\u001b[1;32m<ipython-input-1-1dd91174eb64>\u001b[0m in \u001b[0;36m<module>\u001b[1;34m\u001b[0m\n\u001b[1;32m----> 1\u001b[1;33m \u001b[0msolution\u001b[0m\u001b[1;33m(\u001b[0m\u001b[0mnumbers\u001b[0m\u001b[1;33m)\u001b[0m\u001b[1;33m\u001b[0m\u001b[1;33m\u001b[0m\u001b[0m\n\u001b[0m",
      "\u001b[1;31mNameError\u001b[0m: name 'solution' is not defined"
     ]
    }
   ],
   "source": [
    "solution(numbers)"
   ]
  },
  {
   "cell_type": "code",
   "execution_count": null,
   "id": "64a08139",
   "metadata": {},
   "outputs": [],
   "source": []
  }
 ],
 "metadata": {
  "kernelspec": {
   "display_name": "Python 3",
   "language": "python",
   "name": "python3"
  },
  "language_info": {
   "codemirror_mode": {
    "name": "ipython",
    "version": 3
   },
   "file_extension": ".py",
   "mimetype": "text/x-python",
   "name": "python",
   "nbconvert_exporter": "python",
   "pygments_lexer": "ipython3",
   "version": "3.8.8"
  }
 },
 "nbformat": 4,
 "nbformat_minor": 5
}
