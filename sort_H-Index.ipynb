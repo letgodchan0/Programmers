{
 "cells": [
  {
   "cell_type": "markdown",
   "id": "18adcd23",
   "metadata": {},
   "source": [
    "- 2021년 11월 30일\n",
    "- 프로그래머스 H-Index\n",
    "- https://programmers.co.kr/learn/courses/30/lessons/42747"
   ]
  },
  {
   "cell_type": "code",
   "execution_count": 1,
   "id": "f82eddb3",
   "metadata": {},
   "outputs": [],
   "source": [
    "citations=[3, 1, 6, 2, 5]"
   ]
  },
  {
   "cell_type": "code",
   "execution_count": 2,
   "id": "24c0c4ee",
   "metadata": {},
   "outputs": [],
   "source": [
    "def solution(citations):\n",
    "    answer=0\n",
    "    for i in range(max(citations)):\n",
    "        big=0\n",
    "        small=0\n",
    "        for j in citations:\n",
    "            if j>i:\n",
    "                big+=1\n",
    "            else:\n",
    "                small+=1\n",
    "        if big==i:\n",
    "            answer+=i\n",
    "    return answer"
   ]
  },
  {
   "cell_type": "code",
   "execution_count": 3,
   "id": "e2cf4809",
   "metadata": {},
   "outputs": [
    {
     "data": {
      "text/plain": [
       "0"
      ]
     },
     "execution_count": 3,
     "metadata": {},
     "output_type": "execute_result"
    }
   ],
   "source": [
    "solution(citations)"
   ]
  },
  {
   "cell_type": "markdown",
   "id": "35645fdf",
   "metadata": {},
   "source": [
    "- 다른 풀이"
   ]
  },
  {
   "cell_type": "code",
   "execution_count": null,
   "id": "ef9dbd25",
   "metadata": {},
   "outputs": [],
   "source": [
    "def solution(citations):\n",
    "    citations = sorted(citations)\n",
    "    l = len(citations)\n",
    "    for i in range(l):\n",
    "        if citations[i] >= l-i:\n",
    "            return l-i\n",
    "    return 0"
   ]
  },
  {
   "cell_type": "code",
   "execution_count": 5,
   "id": "3c39b4f8",
   "metadata": {},
   "outputs": [],
   "source": [
    "citations.sort(reverse=True)"
   ]
  },
  {
   "cell_type": "code",
   "execution_count": 7,
   "id": "5cc586c9",
   "metadata": {},
   "outputs": [
    {
     "data": {
      "text/plain": [
       "[6, 5, 3, 2, 1]"
      ]
     },
     "execution_count": 7,
     "metadata": {},
     "output_type": "execute_result"
    }
   ],
   "source": [
    "citations"
   ]
  },
  {
   "cell_type": "code",
   "execution_count": 8,
   "id": "4e3140e9",
   "metadata": {},
   "outputs": [
    {
     "data": {
      "text/plain": [
       "[1, 2, 3, 2, 1]"
      ]
     },
     "execution_count": 8,
     "metadata": {},
     "output_type": "execute_result"
    }
   ],
   "source": [
    "list(map(min, enumerate(citations, start=1)))"
   ]
  },
  {
   "cell_type": "code",
   "execution_count": null,
   "id": "fa97699b",
   "metadata": {},
   "outputs": [],
   "source": []
  }
 ],
 "metadata": {
  "kernelspec": {
   "display_name": "Python 3",
   "language": "python",
   "name": "python3"
  },
  "language_info": {
   "codemirror_mode": {
    "name": "ipython",
    "version": 3
   },
   "file_extension": ".py",
   "mimetype": "text/x-python",
   "name": "python",
   "nbconvert_exporter": "python",
   "pygments_lexer": "ipython3",
   "version": "3.8.8"
  }
 },
 "nbformat": 4,
 "nbformat_minor": 5
}
